{
 "cells": [
  {
   "cell_type": "markdown",
   "id": "3b215b1d-d402-4d06-9644-d6e4ab25c17c",
   "metadata": {
    "scrolled": true
   },
   "source": [
    "# Homework 3\n"
   ]
  },
  {
   "cell_type": "markdown",
   "id": "59574490-d2ee-47d4-be03-2a4e6b047a3c",
   "metadata": {},
   "source": [
    "The format for this homework will be a little different from the previous assignments. The goal here is to get you thinking about how you'll construct a data set for your final analysis, so you should approach this problem with an eye towards making your life easier later on: that means writing clear, useful, code that you understand and can re-use or extend later, and thinking about how you would construct a data set that would allow you to do interesting analyses. You don't have to use the results from this project for your final project, but it may provide a useful jumping off point.\n",
    "\n",
    "\n",
    "<div class=\"warning warning-block warning-info\">\n",
    "⚠️ NOTE: If you use an API or website that we've previously used in an a classwork or homework example, you'll need to avoid just replicating what we did in class. If you're unsure whether your submission meets this expectation, send me an email to ask.\n",
    "</div>\n",
    "\n",
    "\n",
    "----\n"
   ]
  },
  {
   "cell_type": "markdown",
   "id": "5de6579f-1b0f-4b86-85ab-4c7a08de487e",
   "metadata": {},
   "source": [
    "**Choose one** of the options below and use your results to create a dataset. Save your results in a `.csv` file and submit this alongside your homework. Your data set should have the following:\n",
    "\n",
    "* Each cell should contain a single observation. Numbers should be converted to numeric types, and none of the cells should contain nested data.\n",
    "* Each row should represent a single entity, such as an article, a film, a piece of legislation, a person etc.\n",
    "\n",
    "Beyond sharing the code you used to extract your data, include the following in your submission:\n",
    "* a brief explanation of what your code is doing (with sufficient detail that someone else could replicate or extend your work)\n",
    "* a simple demonstration of how someone might use your data OR an explanation of what additional steps you would need to take in order to make your data useful for analysis. "
   ]
  },
  {
   "cell_type": "markdown",
   "id": "3274a4f2-38db-4ce8-bd29-1a0ea7c82190",
   "metadata": {},
   "source": [
    "<h2 style=\"color:red;font-weight: bold;\" bold>Option 1</h2>\n",
    "\n",
    "\n",
    "\n",
    "Visit and extract data from at least 100 unique URLs from a site. Process your results into a .csv file\n",
    "\n",
    "\n",
    "Your dataset should contain at least three columns with useful information from each page you've scraped. For instance, you might gather data from npr.com and include a column for the author, the full text of the article, and the date of publication. Or, you might go through the list of the top [250 films in IMDB](https://www.imdb.com/chart/top/) and get the director, rating and top billed cast members from each one.\n",
    "\n"
   ]
  },
  {
   "cell_type": "code",
   "execution_count": null,
   "id": "e6e05e5e-3fe4-40f5-8895-d24eaff8de48",
   "metadata": {},
   "outputs": [],
   "source": [
    "\n",
    "\n",
    "\n"
   ]
  },
  {
   "cell_type": "markdown",
   "id": "fb1db80b-0e68-4998-bbc2-3c27d9c6af9d",
   "metadata": {},
   "source": [
    "<h2 style=\"color:red;font-weight: bold;\" bold>Option 2</h2>\n"
   ]
  },
  {
   "cell_type": "markdown",
   "id": "66a19b42-67c5-4b69-9177-5a20ff27f091",
   "metadata": {},
   "source": [
    "Write code send send at least 50 API queries and process your results into a .csv file. Your dataset should contain at least three columns with useful information from each page. For instance, you might gather data on members of Congress from [the congress.gov API](https://api.congress.gov/) and include a column for the members age, state, and first year in office, use the [FBI API](https://www.fbi.gov/wanted/api) to get the crime, nationality, and reward offered for their most wanted fugitives since the 1960s, or try out the [ACLED API](https://apidocs.acleddata.com/) to get characteristics of conflicts around the world\n",
    "\n",
    "\n"
   ]
  },
  {
   "cell_type": "code",
   "execution_count": null,
   "id": "cc21eba7-42a3-462f-8d94-56f3bba81d17",
   "metadata": {},
   "outputs": [],
   "source": [
    "\n",
    "\n",
    "\n"
   ]
  }
 ],
 "metadata": {
  "kernelspec": {
   "display_name": "Python 3 (ipykernel)",
   "language": "python",
   "name": "python3"
  },
  "language_info": {
   "codemirror_mode": {
    "name": "ipython",
    "version": 3
   },
   "file_extension": ".py",
   "mimetype": "text/x-python",
   "name": "python",
   "nbconvert_exporter": "python",
   "pygments_lexer": "ipython3",
   "version": "3.12.2"
  }
 },
 "nbformat": 4,
 "nbformat_minor": 5
}
