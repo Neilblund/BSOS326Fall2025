{
 "cells": [
  {
   "cell_type": "markdown",
   "id": "3442aec9-4ee3-4c9d-ad6d-123bd7458b1f",
   "metadata": {},
   "source": [
    "# Assignment 2: APIs and Working with Data\n",
    "\n",
    "This assignment covers **Chapters 5-8** from the [textbook](https://wesmckinney.com/book/) as well as lecture material from Weeks 1-3. Please complete this assignment by providing answers in cells after the question. Use **Code** cells to write and run any code you need to answer the question and **Markdown** cells to write out answers in words. After you are finished with the assignment, remember to download it as an **HTML file** and submit it in **ELMS**."
   ]
  },
  {
   "cell_type": "code",
   "execution_count": null,
   "id": "8da486d1-efc6-4cc1-976f-425fa8a65c86",
   "metadata": {
    "tags": []
   },
   "outputs": [],
   "source": [
    "from requests import get\n",
    "import numpy as np\n",
    "import pandas as pd\n",
    "import time"
   ]
  },
  {
   "cell_type": "markdown",
   "id": "d171ba85-9604-4ce9-9a42-34e181c5570d",
   "metadata": {},
   "source": [
    "# API pagination\n",
    "\n",
    "The code below uses the [Project Gutenberg API](https://gutendex.com/) to get a list of available books written by authors who were alive before the year 425 B.C. There are 109 books available, but each query will only up to 32 titles, so we'll need to send multiple requests to retrieve all the data\n",
    "\n"
   ]
  },
  {
   "cell_type": "code",
   "execution_count": null,
   "id": "edb20a96-bf7e-4769-a008-2db117895819",
   "metadata": {},
   "outputs": [],
   "source": [
    "gutenberg_url = 'https://gutendex.com/books/'\n",
    "guten_params = {'languages':'en', \n",
    "                'author_year_end':-425,  \n",
    "                'page':5              # this is the pagination parameter, so you need to increment it to get the next page of data\n",
    "               }\n",
    "books = get(gutenberg_url, params = guten_params)  # this command would retrieve the first page of results\n",
    "\n"
   ]
  },
  {
   "cell_type": "code",
   "execution_count": null,
   "id": "fe42b17d",
   "metadata": {},
   "outputs": [],
   "source": [
    "if books.json().get(\"results\") is not None: print(\"hllo\")"
   ]
  },
  {
   "cell_type": "markdown",
   "id": "d67448e3-29b5-4363-bca1-8560d3c3537f",
   "metadata": {},
   "source": [
    "<div class=\"alert alert-block alert-success\"> \n",
    "TIP: it might help to look at the results in a browser window to get a sense of how each response is structured. You can look at some example data here: \n",
    "\n",
    " - [first page of data](https://gutendex.com/books/?author_year_end=-450&languages=en&page=1)\n",
    "\n",
    "</div>"
   ]
  },
  {
   "cell_type": "markdown",
   "id": "4f98ddb0-5f97-40c1-9af4-4d40751a2c80",
   "metadata": {},
   "source": [
    "## A1\n",
    "<b style=\"color:red;\"> A1) Write a `while` loop that will retrieve a list of all 109 books and then create a Pandas Data Frame object with the title and summary of each book.</a>"
   ]
  },
  {
   "cell_type": "markdown",
   "id": "5bbc47c9-d271-4659-9754-7fcd98a307d4",
   "metadata": {},
   "source": [
    "(Be sure to include a small rest between each query by adding `time.sleep(.3)` inside your loop.)"
   ]
  },
  {
   "cell_type": "code",
   "execution_count": null,
   "id": "c9fac84d-c6b7-4b07-8db2-e20b3541a487",
   "metadata": {},
   "outputs": [],
   "source": [
    "gutenberg_url = 'https://gutendex.com/books/'\n",
    "page  = 1\n",
    "all_results = []\n",
    "morepages = True\n",
    "\n",
    "while morepages:\n",
    "    print(page, end=', ')\n",
    "\n",
    "    guten_params = {\n",
    "        'languages': 'en',\n",
    "        'author_year_end': -425,\n",
    "        'page': page  # Incremented dynamically\n",
    "    }\n",
    "    # Fetch the current page of results\n",
    "    response = get(gutenberg_url, params=guten_params)\n",
    "    # Convert response to JSON\n",
    "    json_books = response.json()\n",
    "    if json_books.get(\"results\") is None:\n",
    "        break\n",
    "    # Or try: \n",
    "    # morepages = json_books.get(\"next\") is not None\n",
    "    all_results.append(json_books)  # could also add an if morepages == True: condition here to ensure you leave out pages with no data\n",
    "    # increment page counter by 1 \n",
    "    page+=1\n",
    "    time.sleep(.3)\n",
    "    "
   ]
  },
  {
   "cell_type": "code",
   "execution_count": null,
   "id": "aebb0672",
   "metadata": {},
   "outputs": [],
   "source": []
  },
  {
   "cell_type": "code",
   "execution_count": null,
   "id": "9d62e298",
   "metadata": {},
   "outputs": [],
   "source": []
  },
  {
   "cell_type": "markdown",
   "id": "ace0b980-0605-40d3-9279-b4b97af8908d",
   "metadata": {},
   "source": [
    "### Method 1\n",
    "\n",
    "You can use a list comprehension to convert every page into a data frame and then use `pd.concat` to combine all the data frames into one.\n",
    "\n",
    "(note that I'm using `get()` here to index the dictionary because it will avoid throwing an error message when the \"results\" key is missing)"
   ]
  },
  {
   "cell_type": "code",
   "execution_count": null,
   "id": "a220f5b6-84af-4e6a-a22d-fb4830cf96f3",
   "metadata": {},
   "outputs": [],
   "source": [
    "df = pd.concat([pd.DataFrame(i.get('results')) for i in all_results], ignore_index=True)\n",
    "df.head()"
   ]
  },
  {
   "cell_type": "markdown",
   "id": "7588989b-63bd-4ac9-97ab-ff8f882a1563",
   "metadata": {},
   "source": [
    "### Method 2\n",
    "\n",
    "You can use a loop or a nested comprehension to extract each element you want to use and put it into a list of data frames:"
   ]
  },
  {
   "cell_type": "code",
   "execution_count": null,
   "id": "3567fb0b-bdd3-4df7-adb5-27b0114c44f4",
   "metadata": {},
   "outputs": [],
   "source": [
    "processed_results = []\n",
    "for page in all_results:\n",
    "    for i in page.get('results', []):\n",
    "        book = {'title' :i.get('title'), 'summaries' : i.get('summaries')}\n",
    "        processed_results.append(book)\n",
    "title_and_summary = pd.DataFrame(processed_results)\n"
   ]
  },
  {
   "cell_type": "markdown",
   "id": "6fc96777-598e-4bdd-aa74-96c91f45891f",
   "metadata": {},
   "source": [
    "You might want to unnest the nested \"summaries\" column so that it just contains strings rather than a list. One way to do this is using `DataFrame.explode()`, which will expand nested cells and create a long format data frame:"
   ]
  },
  {
   "cell_type": "code",
   "execution_count": null,
   "id": "a7cf3660-6990-4671-893d-8c36c4932bd8",
   "metadata": {},
   "outputs": [],
   "source": [
    "title_and_summary.explode('summaries').head()"
   ]
  },
  {
   "cell_type": "markdown",
   "id": "10067345-8baa-4d18-9668-11ecf5f6d3d0",
   "metadata": {},
   "source": [
    "## A2\n",
    "<b style=\"color:red;\"> A2) Bonus (not a required question!) what was the median age of death of the author(s) of each book in your results?</a>\n"
   ]
  },
  {
   "cell_type": "markdown",
   "id": "0ec8ce93-417c-46b1-92c7-3fe365604117",
   "metadata": {},
   "source": [
    "### Method 1\n",
    "\n",
    "You can retrieve this using a nested loop or list comprehension over values of `all_results`. We need the nested looping here because some books have more than one author. We also need a check to see if both `death_year` and `birth_year` are present in the result, since this information appears to be missing for some books. Once you have everything in a list of dictionaries, you can convert to a `DataFrame` and then use `describe` to get the median.\n",
    "\n"
   ]
  },
  {
   "cell_type": "code",
   "execution_count": null,
   "id": "e945b36c",
   "metadata": {},
   "outputs": [],
   "source": [
    "author_dates = []\n",
    "# loop through all pages of results\n",
    "for i in all_results:\n",
    "    result_i = i.get('results')\n",
    "    # loop through each book\n",
    "    for j in result_i:\n",
    "        authors = j.get('authors')\n",
    "        # loop through each author\n",
    "        for a in authors:\n",
    "            death = a.get('death_year')\n",
    "            birth = a.get('birth_year')\n",
    "            name = a.get('name')\n",
    "            # check to make sure there's a death and a birth year before calculating the age\n",
    "            if death is not None and birth is not None:\n",
    "                age = death - birth\n",
    "            else:\n",
    "                age = None\n",
    "            # append the results to the list\n",
    "            author_dates.append(\n",
    "                {'name' : name ,\n",
    "                'death_year': death,\n",
    "                'birth_year': birth,\n",
    "                'age' : age\n",
    "\n",
    "            } )\n",
    "\n",
    "# make a data frame and then use describe to get the median:\n",
    "pd.DataFrame(author_dates).describe()"
   ]
  },
  {
   "cell_type": "markdown",
   "id": "9c0ee633-3502-44d8-ae77-ba07e5a719cb",
   "metadata": {},
   "source": [
    "### Method 2\n",
    "\n",
    "You could also do this using mostly functions from Pandas. `explode` will unnest a list-column into multiple rows, and `json_normalize` will turn dictionary columns into separate columns for each key-value pair. Then you'll just need to use `describe` on the result:"
   ]
  },
  {
   "cell_type": "code",
   "execution_count": null,
   "id": "6fe5a4bb",
   "metadata": {},
   "outputs": [],
   "source": [
    "\n",
    "df = pd.concat([pd.DataFrame(i.get('results')) for i in all_results], ignore_index=True)\n",
    "df= df.explode(\"authors\")\n",
    "author_info = pd.json_normalize(df['authors'])\n",
    "\n",
    "author_info['difference'] = author_info['death_year'] - author_info['birth_year']\n",
    "author_info.describe()\n"
   ]
  },
  {
   "cell_type": "markdown",
   "id": "797a245a-14b5-47ce-bd29-d048d942e5c9",
   "metadata": {
    "tags": []
   },
   "source": [
    "# Census API\n",
    "\n",
    "From the Census API, get the mean family income for each county in the US, as well as the percent of people within those counties that identify as only White, only Black or African American, only Asian, only American Indian and Alaska Native, and Hispanic or Latino. These variables are:\n",
    "\n",
    "- `NAME`: Name of the county\n",
    "- `DP03_0087E`: Mean income\n",
    "- `DP05_0037PE`: Percent of people who identify only as White\n",
    "- `DP05_0038PE`: Percent of people who identify only as Black or African American\n",
    "- `DP05_0039PE`: Percent of people who identify only as American Indian or Alaska Native\n",
    "- `DP05_0044PE`: Percent of people who identify only as Asian\n",
    "- `DP05_0072PE`: Percent of people who identify as Hispanic or Latino\n",
    "\n",
    "Make a Data Frame that contains all of this information, with each row representing a county and each column representing the above variables as well as the state and county codes (the API should provide these for you without needing to ask for it). Name the columns something more descriptive (for example, `mean_income` instead of `DP03_0087E`). Make sure that the values are numeric rather than strings (the Census API should return them as strings). Remove any rows that contain values below 0 for any variable.\n",
    "\n",
    "Using this dataset, answer the following questions. \n",
    "1) Describe the mean income variable. What is the county with the highest mean income? The lowest?\n",
    "2) Does there seem to be a relationship between the mean income of a county and the percentage of people who identify as White? Look at a scatterplot to answer this question. Repeat this comparison with mean income for each of the other Race/Ethnicity variables. \n",
    "    > To make a scatterplot, you can use the `plot.scatter` method and put the names of the two columns you want to graph as the arguments. For example, you would use df.plot.scatter('x','y') if 'x' and 'y' are the column names of what you want to graph in df.\n",
    "3) Maryland is state code 24. For the counties in Maryland, is the relationship the same as or different from counties in the US as a whole?\n",
    "\n",
    "\n"
   ]
  },
  {
   "cell_type": "code",
   "execution_count": null,
   "id": "bc3b9da8-56b9-4070-9c7e-27da57675aea",
   "metadata": {
    "scrolled": true
   },
   "outputs": [],
   "source": [
    "census_base_url = 'https://api.census.gov/data/2020/acs/acs5/profile'\n",
    "\n",
    "\n",
    "census_params = {'get':'NAME,DP03_0087E,DP05_0037PE,DP05_0038PE,DP05_0039PE,DP05_0044PE,DP05_0072PE',\n",
    "                 'for':'county:*'}\n",
    "\n",
    "r = get(census_base_url, params = census_params)\n",
    "r.status_code\n"
   ]
  },
  {
   "cell_type": "code",
   "execution_count": null,
   "id": "4bf006f1-0574-43e3-a381-9fb68e4892be",
   "metadata": {},
   "outputs": [],
   "source": [
    "colnames = ['county', 'mean_income', 'pct_white', 'pct_black','pct_amerind','pct_asian','pct_hisp','state_code', 'county_code']\n",
    "census_data = pd.DataFrame(r.json()[1:], columns=colnames)\n",
    "\n",
    "# converting to numeric: \n",
    "census_data[colnames[1:]] = census_data[colnames[1:]].apply(func=lambda x: pd.to_numeric(x))\n",
    "\n"
   ]
  },
  {
   "cell_type": "code",
   "execution_count": null,
   "id": "26b7e711-cdc7-4cab-a877-8b70e3c7cc28",
   "metadata": {
    "scrolled": true
   },
   "outputs": [],
   "source": [
    "# checking numeric descriptions\n",
    "census_data.describe()"
   ]
  },
  {
   "cell_type": "markdown",
   "id": "f3c338a5-2ce7-49ef-bf84-42fbe40a3290",
   "metadata": {},
   "source": [
    "## B1\n",
    "<b style=\"color:red;\"> B1) Describe the mean income variable. What is the county with the highest mean income? The lowest? </b>\n",
    "\n",
    "The highest income county is Marin County, CA. The lowest is Maricao Municipio, Puerto Rico. \n"
   ]
  },
  {
   "cell_type": "markdown",
   "id": "70f75d50-c195-47ed-86db-998322c9d242",
   "metadata": {},
   "source": [
    "### Method 1\n",
    "\n",
    "Use `idxmax()`, and `idxmin()` to get the index of the lowest and highest values, then pass those to `.iloc` \n"
   ]
  },
  {
   "cell_type": "code",
   "execution_count": null,
   "id": "a6bb6818-703b-4a6b-81cf-6ab340522299",
   "metadata": {
    "scrolled": true
   },
   "outputs": [],
   "source": [
    "# method 1 \n",
    "highest_county = census_data.mean_income.idxmax()\n",
    "\n",
    "lowest_county = census_data.mean_income.idxmin()\n",
    "\n",
    "census_data.iloc[[lowest_county, highest_county]]"
   ]
  },
  {
   "cell_type": "markdown",
   "id": "d420725c-7310-4509-bce7-0ff275a62669",
   "metadata": {},
   "source": [
    "### Method 2 \n",
    "\n",
    "Sort by `mean_income` and then use `iloc` with negative indexing to get  the first and last row:"
   ]
  },
  {
   "cell_type": "code",
   "execution_count": null,
   "id": "aab878c5-3ed1-49df-b073-42e18b22e724",
   "metadata": {},
   "outputs": [],
   "source": [
    " \n",
    "census_data.sort_values(\"mean_income\").iloc[[0,-1]]"
   ]
  },
  {
   "cell_type": "markdown",
   "id": "dacaf01f-2206-4010-b97b-a488facdb3d2",
   "metadata": {},
   "source": [
    "## B2\n",
    "<b style=\"color:red;\">B2) Does there seem to be a relationship between the mean income of a county and the percentage of people who identify as White? Look at a scatterplot to answer this question. Repeat this comparison with mean income for each of the other Race/Ethnicity variables. </b>\n",
    "\n",
    "> To make a scatterplot, you can use the `plot.scatter` method and put the names of the two columns you want to graph as the arguments. For example, you would use df.plot.scatter('x','y') if 'x' and 'y' are the column names of what you want to graph in df."
   ]
  },
  {
   "cell_type": "markdown",
   "id": "f7d15f62-9191-4d56-b75e-c4f143d9f10e",
   "metadata": {},
   "source": [
    "### Method 1\n",
    "We can use `plot.scatter` and just write a separate line of code for each group. \n",
    "\n"
   ]
  },
  {
   "cell_type": "code",
   "execution_count": null,
   "id": "3e29c8da-8bab-480f-bcad-e5f1754d7947",
   "metadata": {},
   "outputs": [],
   "source": [
    "\n",
    "census_data.plot.scatter(x='pct_white', y='mean_income', figsize=(5,5)) \n",
    "census_data.plot.scatter(x='pct_hisp', y='mean_income', figsize=(5,5))\n",
    "# and so on ..."
   ]
  },
  {
   "cell_type": "markdown",
   "id": "817f3950-6be8-430b-8f11-f83a7d8edf9c",
   "metadata": {},
   "source": [
    "### Method 2\n",
    "\n",
    "This is really the same basic idea, but using a loop and `matplotlib` to control the placement of the plots\n",
    "\n"
   ]
  },
  {
   "cell_type": "code",
   "execution_count": null,
   "id": "528d8f1a-f9b9-4f6a-a169-b87af1ddf7f0",
   "metadata": {},
   "outputs": [],
   "source": [
    "import matplotlib.pyplot as plt\n",
    "cols = ['pct_white', 'pct_black', 'pct_amerind', 'pct_asian', 'pct_hisp']\n",
    "ncols = 3\n",
    "nrows = 2\n",
    "index = 0 \n",
    "fig, axes = plt.subplots(nrows=nrows, ncols=ncols)\n",
    "axes[-1, -1].axis('off')\n",
    "for i in cols:\n",
    "    census_data.columns.get_loc(i)\n",
    "    row    = int(index / ncols)\n",
    "    column = index % ncols\n",
    "    census_data.plot.scatter(x=i, y='mean_income', figsize=(20,7), ax=axes[row,column]) \n",
    "    index = index + 1\n",
    "\n",
    "    \n",
    "    \n",
    "    "
   ]
  },
  {
   "cell_type": "markdown",
   "id": "1208e33d-1e9f-445c-97c2-36d95ccee6ae",
   "metadata": {},
   "source": [
    "### Method 3\n",
    "\n",
    "If we first use `melt` on our data to get it into long format, we can create a faceted plot using the seaborn package."
   ]
  },
  {
   "cell_type": "code",
   "execution_count": null,
   "id": "f84062f5-cce3-4150-83e1-f0b67520614d",
   "metadata": {},
   "outputs": [],
   "source": [
    "import seaborn as sns\n",
    "\n",
    "# melting the data. Everything except the id_vars goes to long format: \n",
    "census_longer = census_data.melt(id_vars = ['county','state_code', 'county_code', 'mean_income'])\n",
    "# sort by county name so you can see how this has changed: \n",
    "census_longer.sort_values('county').head(n=5)\n"
   ]
  },
  {
   "cell_type": "code",
   "execution_count": null,
   "id": "0579d389-2f0f-465a-9c38-1673813acf2f",
   "metadata": {},
   "outputs": [],
   "source": [
    "g = sns.relplot(kind='scatter', data=census_longer, x='value', y='mean_income', col='variable')\n"
   ]
  },
  {
   "cell_type": "markdown",
   "id": "bf2db6f4-577f-4ca3-b1c1-b290cf62458c",
   "metadata": {},
   "source": [
    "## B3\n",
    "\n",
    "<b style=\"color:red;\">B3) Maryland is state code 24. For the counties in Maryland, is the relationship the same as or different from counties in the US as a whole? Support your argument with summary statistics or a visualization</b>\n",
    "\n",
    "\n"
   ]
  },
  {
   "cell_type": "markdown",
   "id": "532d99ff-8811-40d7-8e70-5c6441188857",
   "metadata": {},
   "source": [
    "Answer: The relationship is less apparent (or maybe even reversed) when we subset the data to include Maryland only.\n",
    "\n",
    "### Method 1"
   ]
  },
  {
   "cell_type": "code",
   "execution_count": null,
   "id": "4377913f-646c-4253-8376-e84adbeda898",
   "metadata": {},
   "outputs": [],
   "source": [
    "md_data = census_data.loc[census_data['state_code'] == 24]\n",
    "md_data.plot.scatter(x='pct_white', y='mean_income', figsize=(3,3)) "
   ]
  },
  {
   "cell_type": "code",
   "execution_count": null,
   "id": "09617ef6-5ef6-464a-9ccd-8cf8e65ef79d",
   "metadata": {},
   "outputs": [],
   "source": [
    "md_longer = census_longer.loc[census_longer['state_code'] == 24]\n",
    "\n",
    "sns.relplot(kind='scatter', data=md_longer, x='value', y='mean_income', col='variable', \n",
    "            facet_kws={'sharey': True, 'sharex': False} # turn off x axis sharing so each plot has its own range\n",
    "           )\n"
   ]
  },
  {
   "cell_type": "markdown",
   "id": "7e49d2b6-743e-4dae-8ef4-1e5ec03c509a",
   "metadata": {},
   "source": [
    "\n",
    "### Method 2\n",
    "\n",
    "\n",
    "If the relationship is unclear, you can look at correlations between matrix items instead and then compare/contrast. A correlation coefficient ranges between -1 to +1. Negative values indicate negative relationships, positive values indicate positive relationships, and values closer to 0 indicate no relationship. "
   ]
  },
  {
   "cell_type": "code",
   "execution_count": null,
   "id": "5d92ab0b-cbd6-412c-91de-81b0f7419e47",
   "metadata": {},
   "outputs": [],
   "source": [
    "number_cols = ['mean_income', 'pct_white', 'pct_black','pct_asian','pct_hisp','pct_amerind' ]\n",
    "\n",
    "census_data[number_cols].corr()['mean_income']\n"
   ]
  },
  {
   "cell_type": "code",
   "execution_count": null,
   "id": "efbd0288-26d0-4606-b8c4-435161a799d8",
   "metadata": {},
   "outputs": [],
   "source": [
    "md_data[number_cols].corr()['mean_income']"
   ]
  },
  {
   "cell_type": "code",
   "execution_count": null,
   "id": "74ba7cd3",
   "metadata": {},
   "outputs": [],
   "source": []
  }
 ],
 "metadata": {
  "kernelspec": {
   "display_name": ".venv",
   "language": "python",
   "name": "python3"
  },
  "language_info": {
   "codemirror_mode": {
    "name": "ipython",
    "version": 3
   },
   "file_extension": ".py",
   "mimetype": "text/x-python",
   "name": "python",
   "nbconvert_exporter": "python",
   "pygments_lexer": "ipython3",
   "version": "3.13.3"
  }
 },
 "nbformat": 4,
 "nbformat_minor": 5
}
