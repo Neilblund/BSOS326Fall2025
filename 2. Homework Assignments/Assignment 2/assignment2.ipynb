{
 "cells": [
  {
   "cell_type": "markdown",
   "id": "3442aec9-4ee3-4c9d-ad6d-123bd7458b1f",
   "metadata": {},
   "source": [
    "# Assignment 2: APIs and Working with Data\n",
    "\n",
    "This assignment covers **Chapters 5-8** from the [textbook](https://wesmckinney.com/book/) as well as lecture material from Weeks 1-3. Please complete this assignment by providing answers in cells after the question. Use **Code** cells to write and run any code you need to answer the question and **Markdown** cells to write out answers in words. After you are finished with the assignment, remember to download it as an **HTML file** and submit it in **ELMS**."
   ]
  },
  {
   "cell_type": "code",
   "execution_count": 2,
   "id": "8da486d1-efc6-4cc1-976f-425fa8a65c86",
   "metadata": {
    "tags": []
   },
   "outputs": [],
   "source": [
    "from requests import get\n",
    "import yaml\n",
    "import numpy as np\n",
    "import pandas as pd\n",
    "import datetime\n",
    "import time"
   ]
  },
  {
   "cell_type": "markdown",
   "id": "804ab106-3deb-418b-85d7-4390d52dd3be",
   "metadata": {},
   "source": [
    "## API pagination\n",
    "\n",
    "The code below uses the [Project Gutenberg API](https://gutendex.com/) to get a list of available books written by authors who were alive before the year 425 B.C. There are 109 books available, but each query will only up to 32 titles, so we'll need to send multiple requests to retrieve all the data\n",
    "\n"
   ]
  },
  {
   "cell_type": "code",
   "execution_count": 70,
   "id": "99a9b0d2-f229-4603-8d19-39c2062325de",
   "metadata": {},
   "outputs": [],
   "source": [
    "gutenberg_url = 'https://gutendex.com/books/'\n",
    "guten_params = {'languages':'en', \n",
    "                'author_year_end':-425,  \n",
    "                'page':1                 # this is the pagination parameter, so you need to increment it to get the next page of data\n",
    "               }\n",
    "# books = get(gutenberg_url, params = guten_params)  # this command would retrieve the first page of results\n",
    "\n"
   ]
  },
  {
   "cell_type": "markdown",
   "id": "5e6e17a1-db2d-4137-8a3e-894adc3f9b2c",
   "metadata": {},
   "source": [
    "<div class=\"alert alert-block alert-success\"> \n",
    "TIP: it might help to look at the results in a browser window to get a sense of how each response is structured. You can look at some example data here: \n",
    "\n",
    " - [first page of data](https://gutendex.com/books/?author_year_end=-450&languages=en&page=1)\n",
    "\n",
    "</div>"
   ]
  },
  {
   "cell_type": "markdown",
   "id": "5954303c-ebcd-448f-a85b-ab424bc6c1b7",
   "metadata": {},
   "source": [
    "<b style=\"color:red;\"> A1) Write a `while` loop that will retrieve a list of all 109 books and then create a Pandas Data Frame object with the title and summary of each book.</a>"
   ]
  },
  {
   "cell_type": "markdown",
   "id": "269bdee2-3a5f-4bae-aa72-e2693d407678",
   "metadata": {},
   "source": [
    "(Be sure to include a small rest between each query by adding `time.sleep(.3)` inside your loop.)"
   ]
  },
  {
   "cell_type": "code",
   "execution_count": null,
   "id": "56a42f88-df75-4c05-b6d5-2bbb6619cff7",
   "metadata": {},
   "outputs": [],
   "source": []
  },
  {
   "cell_type": "markdown",
   "id": "91b1feb0-22eb-4101-bbfe-ea85417ee7f9",
   "metadata": {},
   "source": [
    "<b style=\"color:red;\"> A2) Bonus (not a required question!) what was the median age of death of the author of each book in your results?</a>\n"
   ]
  },
  {
   "cell_type": "code",
   "execution_count": null,
   "id": "c58897d8-a765-45fb-a1e5-28fcafe0892a",
   "metadata": {},
   "outputs": [],
   "source": []
  },
  {
   "cell_type": "markdown",
   "id": "797a245a-14b5-47ce-bd29-d048d942e5c9",
   "metadata": {
    "tags": []
   },
   "source": [
    "### Census API\n",
    "\n",
    "\n",
    "\n",
    "From the Census API, get the mean family income for each county in the US, as well as the percent of people within those counties that identify as only White, only Black or African American, only Asian, only American Indian and Alaska Native, and Hispanic or Latino for from the 2020 ACS. These variables are:\n",
    "\n",
    "- `NAME`: Name of the county\n",
    "- `DP03_0087E`: Mean income\n",
    "- `DP05_0037PE`: Percent of people who identify only as White\n",
    "- `DP05_0038PE`: Percent of people who identify only as Black or African American\n",
    "- `DP05_0039PE`: Percent of people who identify only as American Indian or Alaska Native\n",
    "- `DP05_0044PE`: Percent of people who identify only as Asian\n",
    "- `DP05_0072PE`: Percent of people who identify as Hispanic or Latino\n",
    "\n",
    "Make a Data Frame that contains all of this information, with each row representing a county and each column representing the above variables as well as the state and county codes (the API should provide these for you without needing to ask for it). Name the columns something more descriptive (for example, `mean_income` instead of `DP03_0087E`). Make sure that the values are numeric rather than strings (the Census API should return them as strings). Remove any rows that contain values below 0 for any variable.\n",
    "\n",
    "\n",
    "\n",
    "\n",
    "\n",
    "\n",
    "\n"
   ]
  },
  {
   "cell_type": "markdown",
   "id": "45482284-02c3-46f1-85fc-1426a005d3a0",
   "metadata": {},
   "source": [
    "Here's the base URL you can use for the 2020 data. You'll need to set the additional query parameters yourself, if you're not sure how to do this, refer to the code from classwork 3-02"
   ]
  },
  {
   "cell_type": "code",
   "execution_count": 68,
   "id": "83977ec6-0fa2-4a0a-bff2-7afee5bbb537",
   "metadata": {},
   "outputs": [],
   "source": [
    "census_base_url = 'https://api.census.gov/data/2020/acs/acs5/profile'"
   ]
  },
  {
   "cell_type": "markdown",
   "id": "9e84ade6-4ac6-47c6-841f-c8774daf2a7f",
   "metadata": {},
   "source": [
    "Using this dataset, answer the following questions: \n"
   ]
  },
  {
   "cell_type": "markdown",
   "id": "b4db36d6-0eb9-4b75-bec0-399d4615fdc6",
   "metadata": {},
   "source": [
    "<b style=\"color:red;\"> B1) Describe the mean income variable. What is the county with the highest mean income? The lowest? </b>\n"
   ]
  },
  {
   "cell_type": "code",
   "execution_count": 65,
   "id": "07bc41f7-2663-4f35-8cef-ff74fcb81f71",
   "metadata": {},
   "outputs": [],
   "source": []
  },
  {
   "cell_type": "markdown",
   "id": "c5163efb-efa7-455d-8376-e18fae7f4b5c",
   "metadata": {},
   "source": [
    "<b style=\"color:red;\">B2) Does there seem to be a relationship between the mean income of a county and the percentage of people who identify as White? Look at a scatterplot to answer this question. Repeat this comparison with mean income for each of the other Race/Ethnicity variables. </b>\n",
    "\n",
    "> To make a scatterplot, you can use the `plot.scatter` method and put the names of the two columns you want to graph as the arguments. For example, you would use df.plot.scatter('x','y') if 'x' and 'y' are the column names of what you want to graph in df.\n"
   ]
  },
  {
   "cell_type": "code",
   "execution_count": null,
   "id": "119f8220-d8ba-4190-a30a-7b0c992c66c3",
   "metadata": {},
   "outputs": [],
   "source": []
  },
  {
   "cell_type": "markdown",
   "id": "4e8a76c0-ef16-471e-bf6c-2b9e5137064b",
   "metadata": {},
   "source": [
    "<b style=\"color:red;\">B3) Maryland is state code 24. For the counties in Maryland, is the relationship the same as or different from counties in the US as a whole? Support your argument with summary statistics or a visualization</b>"
   ]
  },
  {
   "cell_type": "code",
   "execution_count": null,
   "id": "d0dde3d4-609d-445e-92bc-0dc1e62c888a",
   "metadata": {},
   "outputs": [],
   "source": []
  }
 ],
 "metadata": {
  "kernelspec": {
   "display_name": "Python 3 (ipykernel)",
   "language": "python",
   "name": "python3"
  },
  "language_info": {
   "codemirror_mode": {
    "name": "ipython",
    "version": 3
   },
   "file_extension": ".py",
   "mimetype": "text/x-python",
   "name": "python",
   "nbconvert_exporter": "python",
   "pygments_lexer": "ipython3",
   "version": "3.12.2"
  }
 },
 "nbformat": 4,
 "nbformat_minor": 5
}
