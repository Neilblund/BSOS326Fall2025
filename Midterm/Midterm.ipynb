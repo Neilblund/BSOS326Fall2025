{
 "cells": [
  {
   "cell_type": "markdown",
   "id": "122ff041-dbaf-49b0-9b40-7fa2a8ad1fbb",
   "metadata": {},
   "source": [
    "## Instructions"
   ]
  },
  {
   "cell_type": "markdown",
   "id": "58a52256-2df4-4120-891d-bad5a7ec0943",
   "metadata": {},
   "source": [
    "Answer the questions below in the space provided. When you are finished, export your file to html and submit it on ELMS.\n",
    "\n",
    "**Be sure to include appopriate code AND a written response or interpretation where necessary.**"
   ]
  },
  {
   "cell_type": "code",
   "execution_count": 1,
   "id": "9094dd14-4bb1-4cd2-ae3f-576f2ac44c30",
   "metadata": {},
   "outputs": [],
   "source": [
    "from requests import get\n",
    "import numpy as np\n",
    "import pandas as pd"
   ]
  },
  {
   "cell_type": "markdown",
   "id": "dd8757c7-bb1a-4a95-bde6-379a0b723a9b",
   "metadata": {},
   "source": [
    "# Section I"
   ]
  },
  {
   "cell_type": "markdown",
   "id": "db862297-80c3-4e85-9739-733475c1bdb5",
   "metadata": {},
   "source": [
    "## Question 1 (2pts)\n",
    "\n",
    "Running the code below would give me an error message. What's wrong with it? Is there any way to fix it?"
   ]
  },
  {
   "cell_type": "markdown",
   "id": "83cd3630",
   "metadata": {},
   "source": [
    "\n",
    "``` python\n",
    "    x = (1,2,3,4)\n",
    "    x[2] = 10\n",
    "```"
   ]
  },
  {
   "cell_type": "markdown",
   "id": "6513c69a",
   "metadata": {},
   "source": [
    "### Answer\n",
    "\n"
   ]
  },
  {
   "cell_type": "code",
   "execution_count": null,
   "id": "1acd39cc",
   "metadata": {},
   "outputs": [],
   "source": []
  },
  {
   "attachments": {},
   "cell_type": "markdown",
   "id": "3e63b8ff-8953-41fa-9724-83cb88d8e72f",
   "metadata": {},
   "source": [
    "## Question 2 (4pts)\n",
    "The Cook Political Report measures the \"Partisan Voting Index\" (PVI) of U.S. Congressional districts and states. A figure like \"R+10\" indicates that a district is about 10 percentage points more Republican than the national average. And a figure like \"D+10\" means that a district leans 10 points more towards the Democratic party.\n",
    "\n",
    "Write a **loop or list comprehension** that converts the `PVI` variable in the data below to numeric values. **Districts that lean Republican should have a positive numeric value, and districts that lean more Democratic should have a negative value.** So \"R+15\" should become \"15\", and \"D+15\" becomes \"-15\". Create a new column in `cook_pvi` called `pvi_numeric` that holds the numeric values you created\n",
    "\n"
   ]
  },
  {
   "cell_type": "code",
   "execution_count": 2,
   "id": "65cbf4f2-904b-4a66-b2c1-2db09babfbb3",
   "metadata": {},
   "outputs": [
    {
     "data": {
      "text/html": [
       "<div>\n",
       "<style scoped>\n",
       "    .dataframe tbody tr th:only-of-type {\n",
       "        vertical-align: middle;\n",
       "    }\n",
       "\n",
       "    .dataframe tbody tr th {\n",
       "        vertical-align: top;\n",
       "    }\n",
       "\n",
       "    .dataframe thead th {\n",
       "        text-align: right;\n",
       "    }\n",
       "</style>\n",
       "<table border=\"1\" class=\"dataframe\">\n",
       "  <thead>\n",
       "    <tr style=\"text-align: right;\">\n",
       "      <th></th>\n",
       "      <th>State</th>\n",
       "      <th>State Abbreviation</th>\n",
       "      <th>PVI</th>\n",
       "    </tr>\n",
       "  </thead>\n",
       "  <tbody>\n",
       "    <tr>\n",
       "      <th>0</th>\n",
       "      <td>Alabama</td>\n",
       "      <td>AL</td>\n",
       "      <td>R+15</td>\n",
       "    </tr>\n",
       "    <tr>\n",
       "      <th>1</th>\n",
       "      <td>Alaska</td>\n",
       "      <td>AK</td>\n",
       "      <td>R+6</td>\n",
       "    </tr>\n",
       "    <tr>\n",
       "      <th>2</th>\n",
       "      <td>Arizona</td>\n",
       "      <td>AZ</td>\n",
       "      <td>R+2</td>\n",
       "    </tr>\n",
       "    <tr>\n",
       "      <th>3</th>\n",
       "      <td>Arkansas</td>\n",
       "      <td>AR</td>\n",
       "      <td>R+15</td>\n",
       "    </tr>\n",
       "    <tr>\n",
       "      <th>4</th>\n",
       "      <td>California</td>\n",
       "      <td>CA</td>\n",
       "      <td>D+12</td>\n",
       "    </tr>\n",
       "  </tbody>\n",
       "</table>\n",
       "</div>"
      ],
      "text/plain": [
       "        State State Abbreviation   PVI\n",
       "0     Alabama                 AL  R+15\n",
       "1      Alaska                 AK   R+6\n",
       "2     Arizona                 AZ   R+2\n",
       "3    Arkansas                 AR  R+15\n",
       "4  California                 CA  D+12"
      ]
     },
     "execution_count": 2,
     "metadata": {},
     "output_type": "execute_result"
    }
   ],
   "source": [
    "cook_pvi = pd.read_csv('cook.csv')\n",
    "cook_pvi.head()"
   ]
  },
  {
   "cell_type": "markdown",
   "id": "c7494723",
   "metadata": {},
   "source": [
    "## Question 3 (4pts)\n",
    "\n",
    "The `pres_2024.csv` data set contains the % vote share for Donald Trump (the Republican candidate) in the 2024 presidential election for each state. Use a `merge` to combine `pres_2024.csv` with the `cook_pvi` data set you manipulated for question 2. Create a scatter plot to show the relationship between `pvi_numeric` and `percent_trump2024` in each state. Briefly describe your results."
   ]
  },
  {
   "cell_type": "code",
   "execution_count": 3,
   "id": "8f0c1af8",
   "metadata": {},
   "outputs": [
    {
     "data": {
      "text/html": [
       "<div>\n",
       "<style scoped>\n",
       "    .dataframe tbody tr th:only-of-type {\n",
       "        vertical-align: middle;\n",
       "    }\n",
       "\n",
       "    .dataframe tbody tr th {\n",
       "        vertical-align: top;\n",
       "    }\n",
       "\n",
       "    .dataframe thead th {\n",
       "        text-align: right;\n",
       "    }\n",
       "</style>\n",
       "<table border=\"1\" class=\"dataframe\">\n",
       "  <thead>\n",
       "    <tr style=\"text-align: right;\">\n",
       "      <th></th>\n",
       "      <th>state_abb</th>\n",
       "      <th>percent_trump2024</th>\n",
       "    </tr>\n",
       "  </thead>\n",
       "  <tbody>\n",
       "    <tr>\n",
       "      <th>0</th>\n",
       "      <td>AL</td>\n",
       "      <td>64.572092</td>\n",
       "    </tr>\n",
       "    <tr>\n",
       "      <th>1</th>\n",
       "      <td>AK</td>\n",
       "      <td>54.544809</td>\n",
       "    </tr>\n",
       "    <tr>\n",
       "      <th>2</th>\n",
       "      <td>AZ</td>\n",
       "      <td>52.217048</td>\n",
       "    </tr>\n",
       "    <tr>\n",
       "      <th>3</th>\n",
       "      <td>AR</td>\n",
       "      <td>64.196872</td>\n",
       "    </tr>\n",
       "    <tr>\n",
       "      <th>4</th>\n",
       "      <td>CA</td>\n",
       "      <td>38.332902</td>\n",
       "    </tr>\n",
       "  </tbody>\n",
       "</table>\n",
       "</div>"
      ],
      "text/plain": [
       "  state_abb  percent_trump2024\n",
       "0        AL          64.572092\n",
       "1        AK          54.544809\n",
       "2        AZ          52.217048\n",
       "3        AR          64.196872\n",
       "4        CA          38.332902"
      ]
     },
     "execution_count": 3,
     "metadata": {},
     "output_type": "execute_result"
    }
   ],
   "source": [
    "pres_2024 = pd.read_csv('pres_2024.csv')\n",
    "pres_2024.head()\n"
   ]
  },
  {
   "cell_type": "markdown",
   "id": "6e17752b",
   "metadata": {},
   "source": [
    "### Answer\n",
    "\n"
   ]
  },
  {
   "cell_type": "code",
   "execution_count": null,
   "id": "0ff6a0ec",
   "metadata": {},
   "outputs": [],
   "source": [
    "\n",
    "\n"
   ]
  },
  {
   "cell_type": "markdown",
   "id": "8dd1c362-7060-499d-91a3-64eec84d6cbf",
   "metadata": {},
   "source": [
    "## Question 4 (4pts)\n",
    "\n",
    "The code below grabs some data about the 2025 Nobel Peace Prize. Take a minute to examine the response. How would I access the english language description of the `motivation`?"
   ]
  },
  {
   "cell_type": "code",
   "execution_count": 4,
   "id": "340d4d89",
   "metadata": {},
   "outputs": [
    {
     "data": {
      "text/plain": [
       "[{'awardYear': '2025',\n",
       "  'category': {'en': 'Peace', 'no': 'Fred', 'se': 'Fred'},\n",
       "  'categoryFullName': {'en': 'The Nobel Peace Prize',\n",
       "   'no': 'Nobels fredspris',\n",
       "   'se': 'Nobels fredspris'},\n",
       "  'dateAwarded': '2025-10-10',\n",
       "  'prizeAmount': 11000000,\n",
       "  'prizeAmountAdjusted': 11000000,\n",
       "  'links': {'rel': 'nobelPrize',\n",
       "   'href': 'https://api.nobelprize.org/2/nobelPrize/pea/2025',\n",
       "   'action': 'Get',\n",
       "   'types': 'application/json'},\n",
       "  'laureates': [{'id': '1057',\n",
       "    'knownName': {'en': 'Maria Corina Machado'},\n",
       "    'fullName': {'en': 'Maria Corina Machado'},\n",
       "    'portion': '1',\n",
       "    'sortOrder': '1',\n",
       "    'motivation': {'en': 'for her tireless work promoting democratic rights for the people of Venezuela and for her struggle to achieve a just and peaceful transition from dictatorship to democracy',\n",
       "     'no': 'for sitt utrettelige arbeid for å sikre demokratiske rettigheter for folket i Venezuela, og for sin kamp for en rettferdig og fredelig overgang fra diktatur til folkestyre'},\n",
       "    'links': {'rel': 'laureate',\n",
       "     'href': 'https://api.nobelprize.org/2/laureate/1057',\n",
       "     'action': 'Get',\n",
       "     'types': 'application/json'}}],\n",
       "  'meta': {'terms': 'https://www.nobelprize.org/about/terms-of-use-for-api-nobelprize-org-and-data-nobelprize-org/',\n",
       "   'license': 'https://www.nobelprize.org/about/terms-of-use-for-api-nobelprize-org-and-data-nobelprize-org/#licence',\n",
       "   'disclaimer': 'https://www.nobelprize.org/about/terms-of-use-for-api-nobelprize-org-and-data-nobelprize-org/#disclaimer'}}]"
      ]
     },
     "execution_count": 4,
     "metadata": {},
     "output_type": "execute_result"
    }
   ],
   "source": [
    "prize_data = get('https://raw.githubusercontent.com/Neilblund/APAN/refs/heads/main/prize.json').json()\n",
    "\n",
    "prize_data"
   ]
  },
  {
   "cell_type": "markdown",
   "id": "6138ec37",
   "metadata": {},
   "source": [
    "### Answer\n",
    "\n"
   ]
  },
  {
   "cell_type": "code",
   "execution_count": null,
   "id": "2e80f6ba",
   "metadata": {},
   "outputs": [],
   "source": []
  },
  {
   "cell_type": "markdown",
   "id": "a42600bb-69cf-4e08-82e7-5bcf9452a692",
   "metadata": {},
   "source": [
    "# Section II"
   ]
  },
  {
   "cell_type": "markdown",
   "id": "776f94b1-0559-4284-876b-507f1ec2138a",
   "metadata": {},
   "source": [
    "\n",
    "Use the code below to import `emissions_df`, which contains data from the world bank on per-capita carbon emissions in 3 countries. Use the data frame to answer the questions in this section"
   ]
  },
  {
   "cell_type": "code",
   "execution_count": 5,
   "id": "1c937238",
   "metadata": {},
   "outputs": [
    {
     "data": {
      "text/html": [
       "<div>\n",
       "<style scoped>\n",
       "    .dataframe tbody tr th:only-of-type {\n",
       "        vertical-align: middle;\n",
       "    }\n",
       "\n",
       "    .dataframe tbody tr th {\n",
       "        vertical-align: top;\n",
       "    }\n",
       "\n",
       "    .dataframe thead th {\n",
       "        text-align: right;\n",
       "    }\n",
       "</style>\n",
       "<table border=\"1\" class=\"dataframe\">\n",
       "  <thead>\n",
       "    <tr style=\"text-align: right;\">\n",
       "      <th></th>\n",
       "      <th>country</th>\n",
       "      <th>year</th>\n",
       "      <th>percap_emissions</th>\n",
       "    </tr>\n",
       "  </thead>\n",
       "  <tbody>\n",
       "    <tr>\n",
       "      <th>53</th>\n",
       "      <td>CHN</td>\n",
       "      <td>1970</td>\n",
       "      <td>1.112012</td>\n",
       "    </tr>\n",
       "    <tr>\n",
       "      <th>107</th>\n",
       "      <td>RUS</td>\n",
       "      <td>1970</td>\n",
       "      <td>10.030304</td>\n",
       "    </tr>\n",
       "    <tr>\n",
       "      <th>161</th>\n",
       "      <td>USA</td>\n",
       "      <td>1970</td>\n",
       "      <td>22.409257</td>\n",
       "    </tr>\n",
       "    <tr>\n",
       "      <th>106</th>\n",
       "      <td>RUS</td>\n",
       "      <td>1971</td>\n",
       "      <td>9.980364</td>\n",
       "    </tr>\n",
       "    <tr>\n",
       "      <th>160</th>\n",
       "      <td>USA</td>\n",
       "      <td>1971</td>\n",
       "      <td>21.476922</td>\n",
       "    </tr>\n",
       "  </tbody>\n",
       "</table>\n",
       "</div>"
      ],
      "text/plain": [
       "    country  year  percap_emissions\n",
       "53      CHN  1970          1.112012\n",
       "107     RUS  1970         10.030304\n",
       "161     USA  1970         22.409257\n",
       "106     RUS  1971          9.980364\n",
       "160     USA  1971         21.476922"
      ]
     },
     "execution_count": 5,
     "metadata": {},
     "output_type": "execute_result"
    }
   ],
   "source": [
    "# importing emissions_df\n",
    "emissions_df = pd.read_json('emissions_df.json')\n",
    "emissions_df.head()\n"
   ]
  },
  {
   "cell_type": "markdown",
   "id": "f9f5e36e",
   "metadata": {},
   "source": [
    "Description of variables in `emissions_df`:\n",
    "\n",
    "| column           | description                                          |\n",
    "|------------------|------------------------------------------------------|\n",
    "| country          | Country name (China, Russia, or US)                  |\n",
    "| year             | Year for this observation (1970-2023)                |\n",
    "| percap_emissions | Per capita CO2 emissions (tons) for this observation |"
   ]
  },
  {
   "cell_type": "markdown",
   "id": "919e53fc-0edf-4030-af5c-d3366071c9a0",
   "metadata": {},
   "source": [
    "## Question 5 (2pts)\n",
    "What is the **unit of analysis** for `emissions_df`? (Choose the best answer)\n",
    "\n",
    "- A. Carbon emissions\n",
    "- B. Country-Year\n",
    "- C. World Bank Data\n",
    "- D. None of these\n",
    "\n"
   ]
  },
  {
   "cell_type": "markdown",
   "id": "c41eaca0-a334-44e4-9d83-a8430023376f",
   "metadata": {},
   "source": [
    "### Answer\n",
    "\n"
   ]
  },
  {
   "cell_type": "code",
   "execution_count": null,
   "id": "d9691138",
   "metadata": {},
   "outputs": [],
   "source": []
  },
  {
   "cell_type": "markdown",
   "id": "eb226e2a-4701-4d62-a70c-bdc99fb30fee",
   "metadata": {},
   "source": [
    "## Question 6 (4pts)\n",
    "\n",
    "Create a plot to visualize the yearly trend in carbon emissions for these three countries. Briefly describe your results."
   ]
  },
  {
   "cell_type": "markdown",
   "id": "1ed5cc3e-ae43-4e15-9642-dedfcd69b339",
   "metadata": {},
   "source": [
    "### Answer\n",
    "\n"
   ]
  },
  {
   "cell_type": "code",
   "execution_count": null,
   "id": "932e2648",
   "metadata": {},
   "outputs": [],
   "source": []
  },
  {
   "cell_type": "markdown",
   "id": "000c59cf-882d-4931-b7dd-3cbb25ada42b",
   "metadata": {},
   "source": [
    "## Question 7 (4pts)\n",
    "\n",
    "When did each country have the greatest single-year decrease in carbon emissions? Create a new column in `emissions_df` called `change_in_emissions` that contains the difference between a country's emissions in each year compared to their emissions in the prior year, then create a data frame that only contains the rows with the greatest decrease for each country.\n",
    "\n",
    "\n",
    "(You can use the Pandas `shift` function (<a href=https://pandas.pydata.org/docs/reference/api/pandas.DataFrame.shift.html>documentation</a>) with `groupby` to get the prior-year values of `percap_emissions`)\n"
   ]
  },
  {
   "cell_type": "markdown",
   "id": "7a5b502e-5a26-4ce7-8311-cf4acaed6c98",
   "metadata": {},
   "source": [
    "### Answer\n",
    "\n"
   ]
  },
  {
   "cell_type": "code",
   "execution_count": null,
   "id": "8f9863a3",
   "metadata": {},
   "outputs": [],
   "source": []
  },
  {
   "cell_type": "markdown",
   "id": "3550040a-4096-42c0-b000-45b5f6f85145",
   "metadata": {},
   "source": [
    "# Section III\n",
    "The `gtd` data set below contains the following variables:\n",
    "\n",
    "| Variable          | Description                                                                                                                                                  |\n",
    "|-------------------|--------------------------------------------------------------------------------------------------------------------------------------------------------------|\n",
    "| country           | Country name                                                                                                                                                 |\n",
    "| democracy_score   | 2020 liberal democracy score from the V-DEM project. Higher values indicate a higher level of democracy. Lower values mean less democratic.                  |\n",
    "| oil               | =\"oil production\" if a country was an oil producer in 2020, = \"no oil\" if a country was not an oil producer in 2020                                          |\n",
    "| terrorist_attacks | =\"terrorist attack\" if a country experienced a terrorist attack in 2020,  =\"no terrorist attacks\" if a country did not experience a terrorist attack in 2020 |\n"
   ]
  },
  {
   "cell_type": "code",
   "execution_count": 6,
   "id": "1caae367-e241-4faf-8efb-fe366c3cf49a",
   "metadata": {},
   "outputs": [],
   "source": [
    "gtd = pd.read_csv(\"https://raw.githubusercontent.com/Neilblund/APAN/refs/heads/main/gtd_sample.csv\")\n"
   ]
  },
  {
   "cell_type": "markdown",
   "id": "c2b80408-2eeb-4871-830a-a6170e40613e",
   "metadata": {},
   "source": [
    "## Question 8 (4pts)\n",
    "\n",
    "Some economists and political scientists argue that oil production makes countries less stable and thus more likely to experience terrorist attacks. Using the `gtd` data, produce a table or plot that shows the proportion/percent of oil-producing countries that had terrorist attacks in 2020 compared to the proportion/percent of non-oil producing countries that had terrorist attacks. Do the results appear to support this claim?\n"
   ]
  },
  {
   "cell_type": "markdown",
   "id": "7b5ff136-0bad-497a-b19b-542ec6eb57f7",
   "metadata": {},
   "source": [
    "### Answer\n"
   ]
  },
  {
   "cell_type": "code",
   "execution_count": null,
   "id": "b96baf5c",
   "metadata": {},
   "outputs": [],
   "source": []
  },
  {
   "cell_type": "markdown",
   "id": "78859692-a757-4187-a996-c80b9e409963",
   "metadata": {},
   "source": [
    "## Question 9 (4pts)\n",
    "\n",
    "In addition to making countries less stable, many social scientists argue that oil production makes countries less democratic. Produce a table or plot that shows the relationship between oil production and the level of democracy in a country. Briefly discuss your results and whether they appear consistent with this expectation.\n"
   ]
  },
  {
   "cell_type": "markdown",
   "id": "0db5c4b1-7d99-4324-b4d2-bf37c3771223",
   "metadata": {},
   "source": [
    "### Answer\n",
    "\n"
   ]
  },
  {
   "cell_type": "code",
   "execution_count": null,
   "id": "d548a668",
   "metadata": {},
   "outputs": [],
   "source": []
  }
 ],
 "metadata": {
  "kernelspec": {
   "display_name": ".venv",
   "language": "python",
   "name": "python3"
  },
  "language_info": {
   "codemirror_mode": {
    "name": "ipython",
    "version": 3
   },
   "file_extension": ".py",
   "mimetype": "text/x-python",
   "name": "python",
   "nbconvert_exporter": "python",
   "pygments_lexer": "ipython3",
   "version": "3.13.3"
  }
 },
 "nbformat": 4,
 "nbformat_minor": 5
}
