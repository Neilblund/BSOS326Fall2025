{
 "cells": [
  {
   "cell_type": "markdown",
   "id": "122ff041-dbaf-49b0-9b40-7fa2a8ad1fbb",
   "metadata": {},
   "source": [
    "## Instructions"
   ]
  },
  {
   "cell_type": "markdown",
   "id": "58a52256-2df4-4120-891d-bad5a7ec0943",
   "metadata": {},
   "source": [
    "Answer the questions below in the space provided. When you are finished, export your file to html and submit it on ELMS.\n",
    "\n",
    "Be sure to include appopriate code AND a written response where necessary. "
   ]
  },
  {
   "cell_type": "code",
   "execution_count": 3,
   "id": "9094dd14-4bb1-4cd2-ae3f-576f2ac44c30",
   "metadata": {},
   "outputs": [],
   "source": [
    "from requests import get\n",
    "import numpy as np\n",
    "import pandas as pd"
   ]
  },
  {
   "cell_type": "markdown",
   "id": "dd8757c7-bb1a-4a95-bde6-379a0b723a9b",
   "metadata": {
    "tags": []
   },
   "source": [
    "# Section I"
   ]
  },
  {
   "cell_type": "markdown",
   "id": "db862297-80c3-4e85-9739-733475c1bdb5",
   "metadata": {},
   "source": [
    "## Question 1 (2pts)\n",
    "\n",
    "The code below gives me an error message. What's wrong with it? Is there any way to fix it?"
   ]
  },
  {
   "cell_type": "code",
   "execution_count": 4,
   "id": "6f788b11-b9b2-4f8b-bf94-ee942aa60f2f",
   "metadata": {},
   "outputs": [
    {
     "ename": "TypeError",
     "evalue": "'tuple' object does not support item assignment",
     "output_type": "error",
     "traceback": [
      "\u001b[0;31m---------------------------------------------------------------------------\u001b[0m",
      "\u001b[0;31mTypeError\u001b[0m                                 Traceback (most recent call last)",
      "Cell \u001b[0;32mIn[4], line 2\u001b[0m\n\u001b[1;32m      1\u001b[0m x \u001b[38;5;241m=\u001b[39m (\u001b[38;5;241m1\u001b[39m,\u001b[38;5;241m2\u001b[39m,\u001b[38;5;241m3\u001b[39m,\u001b[38;5;241m4\u001b[39m)\n\u001b[0;32m----> 2\u001b[0m \u001b[43mx\u001b[49m\u001b[43m[\u001b[49m\u001b[38;5;241;43m2\u001b[39;49m\u001b[43m]\u001b[49m \u001b[38;5;241m=\u001b[39m \u001b[38;5;241m10\u001b[39m\n",
      "\u001b[0;31mTypeError\u001b[0m: 'tuple' object does not support item assignment"
     ]
    }
   ],
   "source": [
    "x = (1,2,3,4)\n",
    "x[2] = 10"
   ]
  },
  {
   "cell_type": "markdown",
   "id": "752e897c-a36b-45d2-b1e9-5fe59eefbdd1",
   "metadata": {
    "tags": []
   },
   "source": [
    "### <div style = 'background-color:skyblue'> <center> Question 1 Answer </div>"
   ]
  },
  {
   "cell_type": "markdown",
   "id": "0045bab1-9dfe-407d-87ec-574b10b92a16",
   "metadata": {},
   "source": [
    "Your answer:\n",
    "\n",
    "x is a tuple, and tuples are immutable in Python. We can convert x to a list and re-assign the value, then convert it back to a tuple."
   ]
  },
  {
   "cell_type": "code",
   "execution_count": 5,
   "id": "06ee465e-fbea-436b-bf95-6384a39da1ff",
   "metadata": {},
   "outputs": [
    {
     "data": {
      "text/plain": [
       "(1, 2, 10, 4)"
      ]
     },
     "execution_count": 5,
     "metadata": {},
     "output_type": "execute_result"
    }
   ],
   "source": [
    "# Your code:\n",
    "x = list(x)\n",
    "x[2] = 10\n",
    "x = tuple(x)\n",
    "x\n"
   ]
  },
  {
   "cell_type": "markdown",
   "id": "e6cd650e-a6c6-43ed-af13-628b8fa4509f",
   "metadata": {},
   "source": [
    "---"
   ]
  },
  {
   "cell_type": "markdown",
   "id": "3e63b8ff-8953-41fa-9724-83cb88d8e72f",
   "metadata": {},
   "source": [
    "## Question 2 (4pts)\n",
    "The Cook Political Report measures the \"partisan lean\" of U.S. Congressional districts. A figure like \"R+10\" indicates that a district is about 10 percentage points more Republican than the national average. And a figure like \"D+10\" means that a district is 10 points more Democratic. \n",
    "\n",
    "Write a **loop or list comprehension** that converts the values in the list below to numeric. **Districts that lean Republican should have a positive numeric value, and districts that lean more Democratic should have a negative value.** So \"R+15\" should become \"15\", and \"D+15\" becomes \"-15\"\n",
    "\n"
   ]
  },
  {
   "cell_type": "code",
   "execution_count": 6,
   "id": "65cbf4f2-904b-4a66-b2c1-2db09babfbb3",
   "metadata": {},
   "outputs": [],
   "source": [
    "cook_pvi = ['R+16', 'R+17','R+19','D+14','R+6','D+24','D+2','D+11']"
   ]
  },
  {
   "cell_type": "markdown",
   "id": "31524576-3917-4b91-a7ad-2f7b4b222b6a",
   "metadata": {
    "tags": []
   },
   "source": [
    "### <div style = 'background-color:lightgreen'> <center> Question 2 Answer </div>"
   ]
  },
  {
   "cell_type": "markdown",
   "id": "cb32299e-5e54-4b40-8220-1b208abbaeee",
   "metadata": {},
   "source": [
    "\n",
    "Answer: Multiple ways to do this. Here's a version that uses the `replace` method and wraps the result in `int` to convert the output to numeric:"
   ]
  },
  {
   "cell_type": "code",
   "execution_count": 7,
   "id": "def86f56-4955-4f41-83e8-2d9daa129730",
   "metadata": {},
   "outputs": [
    {
     "data": {
      "text/plain": [
       "[16, 17, 19, -14, 6, -24, -2, -11]"
      ]
     },
     "execution_count": 7,
     "metadata": {},
     "output_type": "execute_result"
    }
   ],
   "source": [
    "# Your code:\n",
    "[int(i.replace(\"D+\", \"-\").replace(\"R+\", \"\")) for i in  cook_pvi ]\n"
   ]
  },
  {
   "cell_type": "code",
   "execution_count": 8,
   "id": "5d8ab4f5-a7c8-4d19-b5f7-f4d4ddfce5bc",
   "metadata": {},
   "outputs": [
    {
     "data": {
      "text/plain": [
       "[16, 17, 19, -14, 6, -24, -2, -11]"
      ]
     },
     "execution_count": 8,
     "metadata": {},
     "output_type": "execute_result"
    }
   ],
   "source": [
    "# or as a loop\n",
    "outputs = []\n",
    "for i in cook_pvi:\n",
    "    numeric_lean = int(i.replace(\"D+\", \"-\").replace(\"R+\", \"\"))\n",
    "    outputs.append(numeric_lean)\n",
    "\n",
    "\n",
    "outputs\n"
   ]
  },
  {
   "cell_type": "markdown",
   "id": "63111bfa-1edb-4d26-a85f-1bbf7135296a",
   "metadata": {},
   "source": [
    "---"
   ]
  },
  {
   "cell_type": "markdown",
   "id": "8dd1c362-7060-499d-91a3-64eec84d6cbf",
   "metadata": {},
   "source": [
    "## Question 3 (4pts)\n",
    "\n",
    "The code below grabs some data about the 2024 Nobel Peace Prize from the Nobel Prize API. Take a minute to examine the response. How would I access the english language description of the `motivation` part of the `prize` data?"
   ]
  },
  {
   "cell_type": "code",
   "execution_count": 9,
   "id": "5e307755-2131-4a70-a453-56ed73226ea1",
   "metadata": {},
   "outputs": [],
   "source": [
    "prize_data = get('https://api.nobelprize.org/2.0/nobelPrize/pea/2024')\n",
    "prize = prize_data.json()\n"
   ]
  },
  {
   "cell_type": "markdown",
   "id": "fc9bea17-5250-4bb0-87ff-0fed82f39b71",
   "metadata": {
    "tags": []
   },
   "source": [
    "### <div style = 'background-color:pink'> <center> Question 3 Answer </div>"
   ]
  },
  {
   "cell_type": "markdown",
   "id": "0ae82292-9176-41d5-b630-186f725a2c98",
   "metadata": {},
   "source": [
    "Your answer: The square brackets indicate that the result is inside a list (even though its a list of length 1), so we've got to go through 5 levels of nesting here to get to the right result:\n",
    "\n"
   ]
  },
  {
   "cell_type": "code",
   "execution_count": 11,
   "id": "86fdc299-e584-4b6d-8a28-4d9153f7c746",
   "metadata": {},
   "outputs": [
    {
     "data": {
      "text/plain": [
       "'for its efforts to achieve a world free of nuclear weapons and for demonstrating through witness testimony that nuclear weapons must never be used again'"
      ]
     },
     "execution_count": 11,
     "metadata": {},
     "output_type": "execute_result"
    }
   ],
   "source": [
    "# Your code:\n",
    "prize[0][\"laureates\"][0][\"motivation\"]['en']"
   ]
  },
  {
   "cell_type": "markdown",
   "id": "d2803344-d6e7-4a22-927c-29ccab2a95e8",
   "metadata": {},
   "source": [
    "---"
   ]
  },
  {
   "cell_type": "markdown",
   "id": "a42600bb-69cf-4e08-82e7-5bcf9452a692",
   "metadata": {},
   "source": [
    "# Section II\n",
    "\n",
    "The code below will get data from the World Bank API on the total green house gas emissions for the US, China, and India since 1970. Here is a description of the variables included:"
   ]
  },
  {
   "cell_type": "markdown",
   "id": "d45c480c-2b94-431f-8816-8002c4547da0",
   "metadata": {},
   "source": [
    "| Variable         | Description                                                                             |\n",
    "|------------------|-----------------------------------------------------------------------------------------|\n",
    "| country          | World Bank three letter country code. USA = The United States, CHN = China, IND = India |\n",
    "| date             | The year for this observation. Ranges from 1970 to 2023                                 |\n",
    "| carbon_emissions | Carbon dioxide emissions for this country in this year                                  |"
   ]
  },
  {
   "cell_type": "code",
   "execution_count": 12,
   "id": "aece7926-dd8c-4181-8645-3d042b6437f8",
   "metadata": {},
   "outputs": [],
   "source": [
    "# Extracting and formatting\n",
    "url = 'https://api.worldbank.org/v2/country/US;CHN;IND/indicator/EN.GHG.CO2.MT.CE.AR5?format=json&per_page=200&date=1970:2024'\n",
    "result= get(url)\n",
    "result_dict = [{\n",
    "        'country':i['countryiso3code'],\n",
    "        'date': int(i['date']),\n",
    "        'carbon_emissions': np.float64(i['value'])} for i in result.json()[1]]\n",
    "emissions_df = pd.DataFrame(result_dict).sort_values(by='date').set_index('date', drop=False)\n"
   ]
  },
  {
   "cell_type": "code",
   "execution_count": 13,
   "id": "06ffdd27-7223-4c6c-abbd-98c6e33a35e5",
   "metadata": {},
   "outputs": [
    {
     "data": {
      "text/html": [
       "<div>\n",
       "<style scoped>\n",
       "    .dataframe tbody tr th:only-of-type {\n",
       "        vertical-align: middle;\n",
       "    }\n",
       "\n",
       "    .dataframe tbody tr th {\n",
       "        vertical-align: top;\n",
       "    }\n",
       "\n",
       "    .dataframe thead th {\n",
       "        text-align: right;\n",
       "    }\n",
       "</style>\n",
       "<table border=\"1\" class=\"dataframe\">\n",
       "  <thead>\n",
       "    <tr style=\"text-align: right;\">\n",
       "      <th></th>\n",
       "      <th>country</th>\n",
       "      <th>date</th>\n",
       "      <th>carbon_emissions</th>\n",
       "    </tr>\n",
       "    <tr>\n",
       "      <th>date</th>\n",
       "      <th></th>\n",
       "      <th></th>\n",
       "      <th></th>\n",
       "    </tr>\n",
       "  </thead>\n",
       "  <tbody>\n",
       "    <tr>\n",
       "      <th>1970</th>\n",
       "      <td>USA</td>\n",
       "      <td>1970</td>\n",
       "      <td>4595.0629</td>\n",
       "    </tr>\n",
       "    <tr>\n",
       "      <th>1970</th>\n",
       "      <td>CHN</td>\n",
       "      <td>1970</td>\n",
       "      <td>909.9762</td>\n",
       "    </tr>\n",
       "    <tr>\n",
       "      <th>1970</th>\n",
       "      <td>IND</td>\n",
       "      <td>1970</td>\n",
       "      <td>213.9344</td>\n",
       "    </tr>\n",
       "    <tr>\n",
       "      <th>1971</th>\n",
       "      <td>CHN</td>\n",
       "      <td>1971</td>\n",
       "      <td>913.4194</td>\n",
       "    </tr>\n",
       "    <tr>\n",
       "      <th>1971</th>\n",
       "      <td>IND</td>\n",
       "      <td>1971</td>\n",
       "      <td>214.4281</td>\n",
       "    </tr>\n",
       "  </tbody>\n",
       "</table>\n",
       "</div>"
      ],
      "text/plain": [
       "     country  date  carbon_emissions\n",
       "date                                \n",
       "1970     USA  1970         4595.0629\n",
       "1970     CHN  1970          909.9762\n",
       "1970     IND  1970          213.9344\n",
       "1971     CHN  1971          913.4194\n",
       "1971     IND  1971          214.4281"
      ]
     },
     "execution_count": 13,
     "metadata": {},
     "output_type": "execute_result"
    }
   ],
   "source": [
    "# viewing the first few rows\n",
    "emissions_df.head()"
   ]
  },
  {
   "cell_type": "markdown",
   "id": "919e53fc-0edf-4030-af5c-d3366071c9a0",
   "metadata": {},
   "source": [
    "## Question 4 (2pts)\n",
    "What is the **unit of analysis** for `emissions_df`? (Choose the best answer)\n",
    "\n",
    "- A. Carbon emissions\n",
    "- B. Country-Year\n",
    "- C. World Bank Data\n",
    "- D. None of these\n",
    "\n"
   ]
  },
  {
   "cell_type": "markdown",
   "id": "0c7f4354-cce0-4fb2-942b-5e961fbc4796",
   "metadata": {
    "tags": []
   },
   "source": [
    "### <div style = 'background-color:orange'> <center> Question 4 Answer </div>"
   ]
  },
  {
   "cell_type": "markdown",
   "id": "60489a28-53c7-4499-be5b-76277fbc2725",
   "metadata": {},
   "source": [
    "Your answer: the unit of analysis is the country-year\n",
    "\n"
   ]
  },
  {
   "cell_type": "code",
   "execution_count": 2,
   "id": "6692b502-86b8-4f9a-b4b5-c7653bfd5f38",
   "metadata": {},
   "outputs": [],
   "source": [
    "# No code needed for this question"
   ]
  },
  {
   "cell_type": "markdown",
   "id": "a7b973b8-ff0e-4f82-bfdd-30b0c43a765f",
   "metadata": {},
   "source": [
    "---"
   ]
  },
  {
   "cell_type": "markdown",
   "id": "eb226e2a-4701-4d62-a70c-bdc99fb30fee",
   "metadata": {
    "tags": []
   },
   "source": [
    "## Question 5 (4pts)\n",
    "\n",
    "Which of these three countries has had the highest **total** carbon dioxide emissions since 1970? (in other words, you want to to find the sum `carbon_emissions` for China, the U.S. and India separately)"
   ]
  },
  {
   "cell_type": "markdown",
   "id": "bb069160-378d-4b94-917f-0713b1e72bba",
   "metadata": {
    "tags": []
   },
   "source": [
    "### <div style = 'background-color:yellow'> <center> Question 5 Answer </div>"
   ]
  },
  {
   "cell_type": "markdown",
   "id": "4c7d98e3-c40f-436d-a786-f4a4241c0bb9",
   "metadata": {},
   "source": [
    "Your answer: China is just barely ahead of the U.S. here. (although note that if we adjust for population size, the U.S. is still far ahead of China!)\n",
    "\n"
   ]
  },
  {
   "cell_type": "code",
   "execution_count": 14,
   "id": "69646712-6637-4a1f-8938-af7a42c40e43",
   "metadata": {},
   "outputs": [
    {
     "data": {
      "text/plain": [
       "country\n",
       "CHN    277924.5070\n",
       "IND     59485.1039\n",
       "USA    276168.3197\n",
       "Name: carbon_emissions, dtype: float64"
      ]
     },
     "execution_count": 14,
     "metadata": {},
     "output_type": "execute_result"
    }
   ],
   "source": [
    "# Your code:\n",
    "\n",
    "emissions_df.groupby('country')['carbon_emissions'].sum()"
   ]
  },
  {
   "cell_type": "markdown",
   "id": "11bc2b68-7e1b-4ba5-a4c5-602029d19a58",
   "metadata": {},
   "source": [
    "---"
   ]
  },
  {
   "cell_type": "markdown",
   "id": "03904e9a-3edd-4d35-bb5d-a7240eacc045",
   "metadata": {
    "tags": []
   },
   "source": [
    "## Question 6 (4pts)\n",
    "Based on these data, have China's carbon dioxide emissions generally **increased** or **decreased** over time? How does China's trend compare with the overall trend for U.S. emissions? Provide one or more charts or tables to support your argument."
   ]
  },
  {
   "cell_type": "markdown",
   "id": "847330cb-e2b9-4acd-870e-f71e7ea8ca75",
   "metadata": {
    "tags": []
   },
   "source": [
    "### <div style = 'background-color:lightgray'> <center> Question 6 Answer </div>"
   ]
  },
  {
   "cell_type": "markdown",
   "id": "baa6d045-cbcb-4c6a-a664-bcf21471b814",
   "metadata": {},
   "source": [
    "Your answer:\n",
    "\n",
    "Emissions for India and China have both increased over time, with China's especially taking off in the 2000s. U.S. emissions are mostly flat, but they have decreased a small amount since their peak in the 2000s."
   ]
  },
  {
   "cell_type": "code",
   "execution_count": 19,
   "id": "e8b23515-d7f7-4fca-8b6d-a122adce640f",
   "metadata": {},
   "outputs": [
    {
     "data": {
      "text/plain": [
       "<AxesSubplot: xlabel='date'>"
      ]
     },
     "execution_count": 19,
     "metadata": {},
     "output_type": "execute_result"
    },
    {
     "data": {
      "image/png": "[encoded data removed]",
      "text/plain": [
       "<Figure size 640x480 with 1 Axes>"
      ]
     },
     "metadata": {},
     "output_type": "display_data"
    }
   ],
   "source": [
    "# Your code:\n",
    "# Use a pivot to put the data in wide format, then plot lines\n",
    "emissions_df.pivot(index='date', columns='country', values='carbon_emissions').plot.line()"
   ]
  },
  {
   "cell_type": "markdown",
   "id": "214d30c3-7c54-4ee7-a882-892bad761064",
   "metadata": {},
   "source": [
    "---"
   ]
  },
  {
   "cell_type": "markdown",
   "id": "000c59cf-882d-4931-b7dd-3cbb25ada42b",
   "metadata": {
    "tags": []
   },
   "source": [
    "## Question 7 (4pts)\n",
    "\n",
    "**In the United States**, what year saw the greatest single-year drop in carbon emissions compared to the previous year?\n",
    "\n",
    "(You can use the Pandas `shift` function (<a href=https://pandas.pydata.org/docs/reference/api/pandas.DataFrame.shift.html>documentation</a>) to get the prior-year values of `carbon_emissions`)\n"
   ]
  },
  {
   "cell_type": "markdown",
   "id": "c7b1104c-d113-4267-bda1-da08588f74b2",
   "metadata": {
    "tags": []
   },
   "source": [
    "### <div style = 'background-color:bisque'> <center> Question 7 Answer </div>"
   ]
  },
  {
   "cell_type": "markdown",
   "id": "a87dd7f5-44d9-480b-87a5-799e3195a7ce",
   "metadata": {},
   "source": [
    "Your answer:\n",
    "\n"
   ]
  },
  {
   "cell_type": "code",
   "execution_count": 39,
   "id": "73e7177a-2810-4480-b813-da655208106f",
   "metadata": {},
   "outputs": [
    {
     "data": {
      "text/html": [
       "<div>\n",
       "<style scoped>\n",
       "    .dataframe tbody tr th:only-of-type {\n",
       "        vertical-align: middle;\n",
       "    }\n",
       "\n",
       "    .dataframe tbody tr th {\n",
       "        vertical-align: top;\n",
       "    }\n",
       "\n",
       "    .dataframe thead th {\n",
       "        text-align: right;\n",
       "    }\n",
       "</style>\n",
       "<table border=\"1\" class=\"dataframe\">\n",
       "  <thead>\n",
       "    <tr style=\"text-align: right;\">\n",
       "      <th></th>\n",
       "      <th>country</th>\n",
       "      <th>date</th>\n",
       "      <th>carbon_emissions</th>\n",
       "      <th>change_in_emissions</th>\n",
       "    </tr>\n",
       "    <tr>\n",
       "      <th>date</th>\n",
       "      <th></th>\n",
       "      <th></th>\n",
       "      <th></th>\n",
       "      <th></th>\n",
       "    </tr>\n",
       "  </thead>\n",
       "  <tbody>\n",
       "    <tr>\n",
       "      <th>2020</th>\n",
       "      <td>USA</td>\n",
       "      <td>2020</td>\n",
       "      <td>4466.0428</td>\n",
       "      <td>-500.9082</td>\n",
       "    </tr>\n",
       "    <tr>\n",
       "      <th>2009</th>\n",
       "      <td>USA</td>\n",
       "      <td>2009</td>\n",
       "      <td>5273.3172</td>\n",
       "      <td>-416.2054</td>\n",
       "    </tr>\n",
       "    <tr>\n",
       "      <th>1982</th>\n",
       "      <td>USA</td>\n",
       "      <td>1982</td>\n",
       "      <td>4465.0384</td>\n",
       "      <td>-244.1960</td>\n",
       "    </tr>\n",
       "    <tr>\n",
       "      <th>1980</th>\n",
       "      <td>USA</td>\n",
       "      <td>1980</td>\n",
       "      <td>4780.4280</td>\n",
       "      <td>-226.4835</td>\n",
       "    </tr>\n",
       "    <tr>\n",
       "      <th>2012</th>\n",
       "      <td>USA</td>\n",
       "      <td>2012</td>\n",
       "      <td>5088.0151</td>\n",
       "      <td>-219.8996</td>\n",
       "    </tr>\n",
       "  </tbody>\n",
       "</table>\n",
       "</div>"
      ],
      "text/plain": [
       "     country  date  carbon_emissions  change_in_emissions\n",
       "date                                                     \n",
       "2020     USA  2020         4466.0428            -500.9082\n",
       "2009     USA  2009         5273.3172            -416.2054\n",
       "1982     USA  1982         4465.0384            -244.1960\n",
       "1980     USA  1980         4780.4280            -226.4835\n",
       "2012     USA  2012         5088.0151            -219.8996"
      ]
     },
     "execution_count": 39,
     "metadata": {},
     "output_type": "execute_result"
    }
   ],
   "source": [
    "# Your code:\n",
    "emissions_us = emissions_df[emissions_df['country']==\"USA\"].copy()\n",
    "emissions_us.loc[:, 'change_in_emissions']  =  emissions_us.carbon_emissions - emissions_us.carbon_emissions.shift(1)\n",
    "emissions_us.sort_values(by='change_in_emissions').head()"
   ]
  },
  {
   "cell_type": "markdown",
   "id": "ffb4b4c1-c6eb-4bbf-b807-9b657bf6e92c",
   "metadata": {},
   "source": [
    "You could also do this for all three countries using groupby:"
   ]
  },
  {
   "cell_type": "code",
   "execution_count": 46,
   "id": "910b35de-445f-487b-bfaf-cac6b29ae348",
   "metadata": {},
   "outputs": [
    {
     "data": {
      "text/html": [
       "<div>\n",
       "<style scoped>\n",
       "    .dataframe tbody tr th:only-of-type {\n",
       "        vertical-align: middle;\n",
       "    }\n",
       "\n",
       "    .dataframe tbody tr th {\n",
       "        vertical-align: top;\n",
       "    }\n",
       "\n",
       "    .dataframe thead th {\n",
       "        text-align: right;\n",
       "    }\n",
       "</style>\n",
       "<table border=\"1\" class=\"dataframe\">\n",
       "  <thead>\n",
       "    <tr style=\"text-align: right;\">\n",
       "      <th></th>\n",
       "      <th>country</th>\n",
       "      <th>date</th>\n",
       "      <th>carbon_emissions</th>\n",
       "      <th>change_in_emissions</th>\n",
       "    </tr>\n",
       "    <tr>\n",
       "      <th>date</th>\n",
       "      <th></th>\n",
       "      <th></th>\n",
       "      <th></th>\n",
       "      <th></th>\n",
       "    </tr>\n",
       "  </thead>\n",
       "  <tbody>\n",
       "    <tr>\n",
       "      <th>2020</th>\n",
       "      <td>USA</td>\n",
       "      <td>2020</td>\n",
       "      <td>4466.0428</td>\n",
       "      <td>-500.9082</td>\n",
       "    </tr>\n",
       "    <tr>\n",
       "      <th>2009</th>\n",
       "      <td>USA</td>\n",
       "      <td>2009</td>\n",
       "      <td>5273.3172</td>\n",
       "      <td>-416.2054</td>\n",
       "    </tr>\n",
       "    <tr>\n",
       "      <th>1982</th>\n",
       "      <td>USA</td>\n",
       "      <td>1982</td>\n",
       "      <td>4465.0384</td>\n",
       "      <td>-244.1960</td>\n",
       "    </tr>\n",
       "    <tr>\n",
       "      <th>1980</th>\n",
       "      <td>USA</td>\n",
       "      <td>1980</td>\n",
       "      <td>4780.4280</td>\n",
       "      <td>-226.4835</td>\n",
       "    </tr>\n",
       "    <tr>\n",
       "      <th>2020</th>\n",
       "      <td>IND</td>\n",
       "      <td>2020</td>\n",
       "      <td>2318.9477</td>\n",
       "      <td>-223.0874</td>\n",
       "    </tr>\n",
       "    <tr>\n",
       "      <th>2012</th>\n",
       "      <td>USA</td>\n",
       "      <td>2012</td>\n",
       "      <td>5088.0151</td>\n",
       "      <td>-219.8996</td>\n",
       "    </tr>\n",
       "    <tr>\n",
       "      <th>2011</th>\n",
       "      <td>USA</td>\n",
       "      <td>2011</td>\n",
       "      <td>5307.9147</td>\n",
       "      <td>-213.8541</td>\n",
       "    </tr>\n",
       "    <tr>\n",
       "      <th>1975</th>\n",
       "      <td>USA</td>\n",
       "      <td>1975</td>\n",
       "      <td>4515.6160</td>\n",
       "      <td>-212.0652</td>\n",
       "    </tr>\n",
       "    <tr>\n",
       "      <th>2008</th>\n",
       "      <td>USA</td>\n",
       "      <td>2008</td>\n",
       "      <td>5689.5226</td>\n",
       "      <td>-183.4287</td>\n",
       "    </tr>\n",
       "    <tr>\n",
       "      <th>1974</th>\n",
       "      <td>USA</td>\n",
       "      <td>1974</td>\n",
       "      <td>4727.6812</td>\n",
       "      <td>-169.1643</td>\n",
       "    </tr>\n",
       "  </tbody>\n",
       "</table>\n",
       "</div>"
      ],
      "text/plain": [
       "     country  date  carbon_emissions  change_in_emissions\n",
       "date                                                     \n",
       "2020     USA  2020         4466.0428            -500.9082\n",
       "2009     USA  2009         5273.3172            -416.2054\n",
       "1982     USA  1982         4465.0384            -244.1960\n",
       "1980     USA  1980         4780.4280            -226.4835\n",
       "2020     IND  2020         2318.9477            -223.0874\n",
       "2012     USA  2012         5088.0151            -219.8996\n",
       "2011     USA  2011         5307.9147            -213.8541\n",
       "1975     USA  1975         4515.6160            -212.0652\n",
       "2008     USA  2008         5689.5226            -183.4287\n",
       "1974     USA  1974         4727.6812            -169.1643"
      ]
     },
     "execution_count": 46,
     "metadata": {},
     "output_type": "execute_result"
    }
   ],
   "source": [
    "emissions_df['change_in_emissions'] = emissions_df.groupby('country')['carbon_emissions'].shift(1)\n",
    "emissions_df.loc[:, 'change_in_emissions']  =  emissions_df['carbon_emissions'] - emissions_df['change_in_emissions']\n",
    "emissions_df.sort_values(by='change_in_emissions').head(10)"
   ]
  },
  {
   "cell_type": "markdown",
   "id": "881b9dd6-4234-45a9-a033-31669712f07e",
   "metadata": {},
   "source": [
    "---"
   ]
  },
  {
   "cell_type": "markdown",
   "id": "3550040a-4096-42c0-b000-45b5f6f85145",
   "metadata": {},
   "source": [
    "# Section III\n",
    "The command below will load some selected data from the global terrorism database. The `gtd` data set below contains the following variables:\n",
    "\n",
    "| Variable          | Description                                                                                                                                                  |\n",
    "|-------------------|--------------------------------------------------------------------------------------------------------------------------------------------------------------|\n",
    "| country           | Country name                                                                                                                                                 |\n",
    "| democracy_score   | 2020 liberal democracy score from the V-DEM project. Higher values indicate a higher level of democracy. Lower values mean less democratic.                  |\n",
    "| oil               | =\"oil production\" if a country was an oil producer in 2020, = \"no oil\" if a country was not an oil producer in 2020                                          |\n",
    "| terrorist_attacks | =\"terrorist attack\" if a country experienced a terrorist attack in 2020,  =\"no terrorist attacks\" if a country did not experience a terrorist attack in 2020 |\n"
   ]
  },
  {
   "cell_type": "code",
   "execution_count": 48,
   "id": "1caae367-e241-4faf-8efb-fe366c3cf49a",
   "metadata": {},
   "outputs": [],
   "source": [
    "gtd = pd.read_csv(\"https://raw.githubusercontent.com/Neilblund/APAN/refs/heads/main/gtd_sample.csv\")\n"
   ]
  },
  {
   "cell_type": "markdown",
   "id": "c2b80408-2eeb-4871-830a-a6170e40613e",
   "metadata": {
    "tags": []
   },
   "source": [
    "## Question 8 (4pts)\n",
    "\n",
    "Some social scientists argue that oil production makes countries less stable and more likely to experience terrorist attacks. \n",
    "\n",
    "Using the `gtd` data, produce a table or plot that shows the proportion/percent of oil producing countries that had terrorist attacks in 2020 compared to the proportion/percent of non-oil producing countries that had terrorist attacks in 2020. Do the results appear to support this claim?\n"
   ]
  },
  {
   "cell_type": "markdown",
   "id": "dcd6e94c-1a8e-4b6a-a55a-07a5edd2f029",
   "metadata": {
    "tags": []
   },
   "source": [
    "### <div style = 'background-color:tomato'> <center> Question 8 Answer </div>"
   ]
  },
  {
   "cell_type": "markdown",
   "id": "3c8260ca-dbaf-415c-bcb7-1218e10dfdd9",
   "metadata": {},
   "source": [
    "Your answer:\n",
    "Probably the easiest way to see this is with a cross tab. But you want to make sure to normalize by the number of oil producing vs non-oil producing countries. So if `oil` is in the rows, we want to normalize on `index` and if `oil` is in the columns, we want to normalize on the columns. (remember: get percentages along whatever dimension includes your independent variable)\n",
    "\n",
    "The results here suggest that oil producers are more likely to experience terrorist attacks: 34% vs. 66%\n",
    "\n"
   ]
  },
  {
   "cell_type": "code",
   "execution_count": 49,
   "id": "0f2e856c-0426-4a5c-b2c9-7dee27b0a0c3",
   "metadata": {},
   "outputs": [
    {
     "data": {
      "text/html": [
       "<div>\n",
       "<style scoped>\n",
       "    .dataframe tbody tr th:only-of-type {\n",
       "        vertical-align: middle;\n",
       "    }\n",
       "\n",
       "    .dataframe tbody tr th {\n",
       "        vertical-align: top;\n",
       "    }\n",
       "\n",
       "    .dataframe thead th {\n",
       "        text-align: right;\n",
       "    }\n",
       "</style>\n",
       "<table border=\"1\" class=\"dataframe\">\n",
       "  <thead>\n",
       "    <tr style=\"text-align: right;\">\n",
       "      <th>terrorist_attacks</th>\n",
       "      <th>no terrorist attacks</th>\n",
       "      <th>terrorist attacks</th>\n",
       "    </tr>\n",
       "    <tr>\n",
       "      <th>oil</th>\n",
       "      <th></th>\n",
       "      <th></th>\n",
       "    </tr>\n",
       "  </thead>\n",
       "  <tbody>\n",
       "    <tr>\n",
       "      <th>no oil</th>\n",
       "      <td>0.653846</td>\n",
       "      <td>0.346154</td>\n",
       "    </tr>\n",
       "    <tr>\n",
       "      <th>oil production</th>\n",
       "      <td>0.344828</td>\n",
       "      <td>0.655172</td>\n",
       "    </tr>\n",
       "  </tbody>\n",
       "</table>\n",
       "</div>"
      ],
      "text/plain": [
       "terrorist_attacks  no terrorist attacks  terrorist attacks\n",
       "oil                                                       \n",
       "no oil                         0.653846           0.346154\n",
       "oil production                 0.344828           0.655172"
      ]
     },
     "execution_count": 49,
     "metadata": {},
     "output_type": "execute_result"
    }
   ],
   "source": [
    "# Your code:\n",
    "pd.crosstab(gtd['oil'], gtd['terrorist_attacks'], normalize='index')\n"
   ]
  },
  {
   "cell_type": "markdown",
   "id": "259237ee-8739-438d-a405-bfd62acd1a59",
   "metadata": {},
   "source": [
    "---"
   ]
  },
  {
   "cell_type": "markdown",
   "id": "78859692-a757-4187-a996-c80b9e409963",
   "metadata": {},
   "source": [
    "## Question 9 (4pts)\n",
    "\n",
    "In addition to making countries less stable, many social scientists argue that oil production makes countries less democratic. Produce output, or a table or plot that shows the relationship between oil production and the level of democracy in a country. Briefly discuss your results\n"
   ]
  },
  {
   "cell_type": "markdown",
   "id": "27b53196-9a7c-47ed-b844-88ddaf364cba",
   "metadata": {
    "tags": []
   },
   "source": [
    "### <div style = 'background-color:violet'> <center> Question 9 Answer </div>"
   ]
  },
  {
   "cell_type": "markdown",
   "id": "9e1a548c-750d-4e6d-8b9e-db4f39072a80",
   "metadata": {},
   "source": [
    "Your answer: You can use a `pivot_table` to aggregate `democracy_score` for oil vs. non-oil countries. Notably, the expected relationship here is reversed, although its also not very large in absolute terms. (the relationship here actually does show up if you use a continuous measure of oil production, but you didn't have that option here)\n",
    "\n"
   ]
  },
  {
   "cell_type": "code",
   "execution_count": 50,
   "id": "4e740a25-43ff-48e2-af95-523b9d6bf1ad",
   "metadata": {},
   "outputs": [
    {
     "data": {
      "text/html": [
       "<div>\n",
       "<style scoped>\n",
       "    .dataframe tbody tr th:only-of-type {\n",
       "        vertical-align: middle;\n",
       "    }\n",
       "\n",
       "    .dataframe tbody tr th {\n",
       "        vertical-align: top;\n",
       "    }\n",
       "\n",
       "    .dataframe thead th {\n",
       "        text-align: right;\n",
       "    }\n",
       "</style>\n",
       "<table border=\"1\" class=\"dataframe\">\n",
       "  <thead>\n",
       "    <tr style=\"text-align: right;\">\n",
       "      <th></th>\n",
       "      <th>democracy_score</th>\n",
       "    </tr>\n",
       "    <tr>\n",
       "      <th>oil</th>\n",
       "      <th></th>\n",
       "    </tr>\n",
       "  </thead>\n",
       "  <tbody>\n",
       "    <tr>\n",
       "      <th>no oil</th>\n",
       "      <td>0.371712</td>\n",
       "    </tr>\n",
       "    <tr>\n",
       "      <th>oil production</th>\n",
       "      <td>0.428509</td>\n",
       "    </tr>\n",
       "  </tbody>\n",
       "</table>\n",
       "</div>"
      ],
      "text/plain": [
       "                democracy_score\n",
       "oil                            \n",
       "no oil                 0.371712\n",
       "oil production         0.428509"
      ]
     },
     "execution_count": 50,
     "metadata": {},
     "output_type": "execute_result"
    }
   ],
   "source": [
    "# Your code:\n",
    "gtd.pivot_table(values = 'democracy_score',index ='oil', aggfunc='mean')\n"
   ]
  },
  {
   "cell_type": "markdown",
   "id": "2be57814-e0c9-444c-a37c-56d59a974646",
   "metadata": {},
   "source": [
    "---"
   ]
  },
  {
   "cell_type": "markdown",
   "id": "6c7a986a-1279-4908-b24e-923aa35952ec",
   "metadata": {},
   "source": [
    "You could also use a boxplot:"
   ]
  },
  {
   "cell_type": "code",
   "execution_count": 53,
   "id": "a08aea36-b8b7-44dd-825f-343209c3752a",
   "metadata": {},
   "outputs": [
    {
     "data": {
      "text/plain": [
       "democracy_score    AxesSubplot(0.125,0.11;0.775x0.77)\n",
       "dtype: object"
      ]
     },
     "execution_count": 53,
     "metadata": {},
     "output_type": "execute_result"
    },
    {
     "data": {
      "image/png": "[encoded data removed]",
      "text/plain": [
       "<Figure size 640x480 with 1 Axes>"
      ]
     },
     "metadata": {},
     "output_type": "display_data"
    }
   ],
   "source": [
    "gtd.plot.box(column='democracy_score', by='oil')"
   ]
  },
  {
   "cell_type": "markdown",
   "id": "8224ec05-f8f4-4b49-b9f6-e064fbf8fbed",
   "metadata": {},
   "source": [
    "Or `groupby()` with describe"
   ]
  },
  {
   "cell_type": "code",
   "execution_count": 54,
   "id": "3d903582-fe97-4049-8361-1fdee9ea0e8f",
   "metadata": {},
   "outputs": [
    {
     "data": {
      "text/html": [
       "<div>\n",
       "<style scoped>\n",
       "    .dataframe tbody tr th:only-of-type {\n",
       "        vertical-align: middle;\n",
       "    }\n",
       "\n",
       "    .dataframe tbody tr th {\n",
       "        vertical-align: top;\n",
       "    }\n",
       "\n",
       "    .dataframe thead tr th {\n",
       "        text-align: left;\n",
       "    }\n",
       "\n",
       "    .dataframe thead tr:last-of-type th {\n",
       "        text-align: right;\n",
       "    }\n",
       "</style>\n",
       "<table border=\"1\" class=\"dataframe\">\n",
       "  <thead>\n",
       "    <tr>\n",
       "      <th></th>\n",
       "      <th colspan=\"8\" halign=\"left\">democracy_score</th>\n",
       "    </tr>\n",
       "    <tr>\n",
       "      <th></th>\n",
       "      <th>count</th>\n",
       "      <th>mean</th>\n",
       "      <th>std</th>\n",
       "      <th>min</th>\n",
       "      <th>25%</th>\n",
       "      <th>50%</th>\n",
       "      <th>75%</th>\n",
       "      <th>max</th>\n",
       "    </tr>\n",
       "    <tr>\n",
       "      <th>oil</th>\n",
       "      <th></th>\n",
       "      <th></th>\n",
       "      <th></th>\n",
       "      <th></th>\n",
       "      <th></th>\n",
       "      <th></th>\n",
       "      <th></th>\n",
       "      <th></th>\n",
       "    </tr>\n",
       "  </thead>\n",
       "  <tbody>\n",
       "    <tr>\n",
       "      <th>no oil</th>\n",
       "      <td>52.0</td>\n",
       "      <td>0.371712</td>\n",
       "      <td>0.195474</td>\n",
       "      <td>0.047</td>\n",
       "      <td>0.21625</td>\n",
       "      <td>0.3795</td>\n",
       "      <td>0.49525</td>\n",
       "      <td>0.794</td>\n",
       "    </tr>\n",
       "    <tr>\n",
       "      <th>oil production</th>\n",
       "      <td>116.0</td>\n",
       "      <td>0.428509</td>\n",
       "      <td>0.280798</td>\n",
       "      <td>0.034</td>\n",
       "      <td>0.16875</td>\n",
       "      <td>0.3900</td>\n",
       "      <td>0.71125</td>\n",
       "      <td>0.882</td>\n",
       "    </tr>\n",
       "  </tbody>\n",
       "</table>\n",
       "</div>"
      ],
      "text/plain": [
       "               democracy_score                                              \\\n",
       "                         count      mean       std    min      25%     50%   \n",
       "oil                                                                          \n",
       "no oil                    52.0  0.371712  0.195474  0.047  0.21625  0.3795   \n",
       "oil production           116.0  0.428509  0.280798  0.034  0.16875  0.3900   \n",
       "\n",
       "                                \n",
       "                    75%    max  \n",
       "oil                             \n",
       "no oil          0.49525  0.794  \n",
       "oil production  0.71125  0.882  "
      ]
     },
     "execution_count": 54,
     "metadata": {},
     "output_type": "execute_result"
    }
   ],
   "source": [
    "gtd.groupby('oil').describe()"
   ]
  },
  {
   "cell_type": "code",
   "execution_count": null,
   "id": "3a3740ea-a336-418c-a67a-7f7726690580",
   "metadata": {},
   "outputs": [],
   "source": []
  }
 ],
 "metadata": {
  "kernelspec": {
   "display_name": "Python 3 (ipykernel)",
   "language": "python",
   "name": "python3"
  },
  "language_info": {
   "codemirror_mode": {
    "name": "ipython",
    "version": 3
   },
   "file_extension": ".py",
   "mimetype": "text/x-python",
   "name": "python",
   "nbconvert_exporter": "python",
   "pygments_lexer": "ipython3",
   "version": "3.8.10"
  },
  "toc-autonumbering": true,
  "toc-showcode": true
 },
 "nbformat": 4,
 "nbformat_minor": 5
}
