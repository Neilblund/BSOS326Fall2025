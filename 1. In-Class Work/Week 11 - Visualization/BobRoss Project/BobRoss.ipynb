{
 "cells": [
  {
   "cell_type": "markdown",
   "id": "64960237-0c61-4590-ae81-6db3411685f7",
   "metadata": {},
   "source": [
    "# Using Bokeh to analyze the paintings of Bob Ross"
   ]
  },
  {
   "cell_type": "markdown",
   "id": "e6243a16-3092-4e85-8a31-aaa4954b9cf9",
   "metadata": {},
   "source": [
    "This notebook uses data scraped from https://www.twoinchbrush.com/, a Bob Ross fan site. I'm taking inspiration (or wholesale borrowing) from two other articles that use similar data:\n",
    "\n",
    "- Walt Hickey's [A Statistical Analysis of the Work of Bob Ross ](https://fivethirtyeight.com/features/a-statistical-analysis-of-the-work-of-bob-ross/) written for FiveThirtyEight.com ([github repo](https://github.com/fivethirtyeight/data/tree/master/bob-ross))\n",
    "- Connor Rothschild's [Bob Ross Virtual Art Gallery](https://connorrothschild.github.io/bob-ross-art-gallery/)  ([github repo](https://github.com/connorrothschild/bob-ross-art-gallery))\n",
    "\n",
    "Both of these are great examples of data analysis, and the FiveThirtyEight article includes both code and replication data on the site's Github. Worth checking out if you're interested in seeing more."
   ]
  },
  {
   "cell_type": "markdown",
   "id": "3f68280c-93c1-4a5b-b61e-0867988dcc1e",
   "metadata": {},
   "source": [
    "<img src=\"https://encrypted-tbn1.gstatic.com/images?q=tbn:ANd9GcRoHDdcekKSGl-5gzbOJNeVbtgpqdwhljlrkYDIw9I58UA2r81dnE_Pof4_E5IQhzLpM5PMKsKP5OIR4aAZwz8zpg\" alt=\"drawing\" style=\"width:200px;display:block;margin-left: auto;margin-right: auto;\"/> Groovy"
   ]
  },
  {
   "cell_type": "code",
   "execution_count": null,
   "id": "f45fb8fa-892d-482f-8d85-d65859609cc5",
   "metadata": {},
   "outputs": [],
   "source": [
    "import pandas as pd\n",
    "\n",
    "from bokeh.io import output_notebook\n",
    "from bokeh.plotting import figure, show,  output_file, save\n",
    "from bokeh.models import  ColorBar, LinearColorMapper, CrosshairTool, Span, BasicTicker\n",
    "from bokeh.transform import transform\n",
    "import bokeh.palettes\n",
    "\n",
    "# Configure Bokeh to show plots inline in the notebook\n"
   ]
  },
  {
   "cell_type": "markdown",
   "id": "ef15e2af-aaf4-47e9-8184-060057823064",
   "metadata": {},
   "source": [
    "Important! This line will configure Bokeh to allow plots to show up inside your Jupyter notebook instead of opening in a new browser window:"
   ]
  },
  {
   "cell_type": "code",
   "execution_count": null,
   "id": "865a2022-a23a-43e4-92fd-5dc235b06cfc",
   "metadata": {},
   "outputs": [],
   "source": [
    "output_notebook()"
   ]
  },
  {
   "cell_type": "markdown",
   "id": "ea1cf313-ac3e-457b-a472-3f7976611109",
   "metadata": {},
   "source": [
    "# Importing the data and making some plots"
   ]
  },
  {
   "cell_type": "markdown",
   "id": "487a8e63-bbcf-40d0-b868-4713c96cdd3c",
   "metadata": {},
   "source": [
    "Start by reading in the Bob Ross data. These results are stored in a JSON file instead of a .csv because we have some nested data in the columns for each painting. The data was collected using the code in the `bobross_scraper.py` file (we also talked about it in week 9)\n"
   ]
  },
  {
   "cell_type": "code",
   "execution_count": null,
   "id": "e25bfd59-d1e7-4129-b4bf-350a1fdc76c0",
   "metadata": {},
   "outputs": [],
   "source": [
    "paintings_df = pd.read_json('bobross_data.json')\n",
    "\n",
    "paintings_df.head()"
   ]
  },
  {
   "cell_type": "markdown",
   "id": "7e9f6011-b1d3-4f09-b050-4e76634a8e83",
   "metadata": {},
   "source": [
    "The episodes are labeled according to season and episode number, but I want to be able to sort them more easily later, so I'm going to create numeric episode and season indicators. To do this, I'll use a regular expression to extract just the numeric part of the episode name column:"
   ]
  },
  {
   "cell_type": "code",
   "execution_count": null,
   "id": "fff86cfd-821b-40f7-9ae4-ae9cef98358a",
   "metadata": {},
   "outputs": [],
   "source": [
    "paintings_df['episode'][:5]"
   ]
  },
  {
   "cell_type": "code",
   "execution_count": null,
   "id": "893163ca-9fc8-445c-a19f-cb6e5010a06e",
   "metadata": {},
   "outputs": [],
   "source": [
    "paintings_df['season_number'] = pd.to_numeric(paintings_df['episode'].str.extract(r'S([0-9]+)', expand=False))\n",
    "paintings_df['episode_number'] = pd.to_numeric(paintings_df['episode'].str.extract(r'E([0-9]+)', expand=False))\n",
    "# you could also do this one with one line like: \n",
    "# epnumbers = paintings_df['episode'].str.extract(r'S(?P<season_number>[0-9]+)E(?P<episode_number>[0-9]+)').apply(pd.to_numeric)"
   ]
  },
  {
   "cell_type": "markdown",
   "id": "a0439571-ad1d-4114-89b9-4651d5e5b0f8",
   "metadata": {},
   "source": [
    "Then I'll sort the data frame by season and episode and reset the index so I have a data frame that is ordered from the first episode to the last:"
   ]
  },
  {
   "cell_type": "code",
   "execution_count": null,
   "id": "57a892b0-7718-4f2b-89d8-3875748eb6f2",
   "metadata": {},
   "outputs": [],
   "source": [
    "paintings_df = paintings_df.sort_values(['season_number', 'episode_number']).reset_index(drop=True).reset_index(names='episode_sequence')"
   ]
  },
  {
   "cell_type": "markdown",
   "id": "4bf1aad9-78da-4d17-953a-71d6996edaec",
   "metadata": {},
   "source": [
    "Next, I'm going to make a dictionary object that matches each `color_names` value to its respective `hexcolors` value. Hexcodes are a way of identifying a color across platforms, so having the hexcodes here will allow us to use plotting palettes that match the colors used in each painting"
   ]
  },
  {
   "cell_type": "code",
   "execution_count": null,
   "id": "fb5896c4-74cd-4b79-8301-9109b8348d80",
   "metadata": {},
   "outputs": [],
   "source": [
    "\n",
    "colors = paintings_df.explode('color_names')['color_names']\n",
    "hexcodes = paintings_df.explode('hexcolors')['hexcolors']\n",
    "color_dict = dict(zip(colors, hexcodes))\n",
    "color_dict"
   ]
  },
  {
   "cell_type": "markdown",
   "id": "43a9bd1a-9b0d-4472-9c90-50f07581cd43",
   "metadata": {},
   "source": [
    "Finally, I'm going to \"explode\" two of the nested columns to get a data frame with one row for each color used per episode. "
   ]
  },
  {
   "cell_type": "code",
   "execution_count": null,
   "id": "123bc53b-4d70-4e96-876a-f4e4ddf79236",
   "metadata": {},
   "outputs": [],
   "source": [
    "pl=  paintings_df.explode(['hexcolors', 'color_names'])\n",
    "\n",
    "pl.head(n=10) # notice how episode 1 now has 8 rows - one for each color used in that painting"
   ]
  },
  {
   "cell_type": "markdown",
   "id": "a3b01129-e073-4f23-be46-4ec230ed44ca",
   "metadata": {},
   "source": [
    "I'll start by re-creating a couple of the plots from the Bob Ross virtual art gallery. Those graphics were primarily made in D3, which can do a lot of stuff but requires a pretty good working understand of Javascript to use. The plot below shows the distribution of colors across each episode over the entire run of the show. You can hover over any of the rectangles to read some basic information about each episode/color"
   ]
  },
  {
   "cell_type": "markdown",
   "id": "2d6f2020-8f7b-45da-833c-0c0d6128d65c",
   "metadata": {},
   "source": [
    "# Colors by episode\n",
    "\n",
    "The plot below shows the distribution of colors across each episode over the entire run of the show. You can hover over any of the rectangles to read some basic information about each episode/color. Most of the syntax here has a close resemblance to matplotlib, but the `tooltips` option is new: that part controls what shows up when you hover your mouse over part of the graph. So, this graph will display the episode, title, and the name of each color when you hover over a rectangle inside the plot."
   ]
  },
  {
   "cell_type": "code",
   "execution_count": null,
   "id": "0f606a64-025f-4d54-ba91-d5c827bbfd97",
   "metadata": {},
   "outputs": [],
   "source": [
    "# getting the last episode of each season so I can have a line on the x-axis indicating the seasons of the shwo\n",
    "seasons = paintings_df.groupby('season_number').max('episode_sequence').reset_index()\n",
    "\n",
    "\n",
    "p = figure(title=\"Bob Ross colors by episode\",\n",
    "           x_range=(min(pl.episode_sequence), max(pl.episode_sequence)), # x range goes from first to last episodes\n",
    "           y_range=list(pl.color_names.value_counts().index),            # y axis will have each color\n",
    "           width=1920, height=700,            \n",
    "           toolbar_location='above',\n",
    "           tooltips=[('episode', '@episode'), ('episode title', '@title'), ('color', '@color_names')]) # tooltips will display when you hover over each rectangle\n",
    "\n",
    "p.xaxis.ticker = list(seasons['episode_sequence'])                                                     # changing out x-axis ticks to show seasons\n",
    "p.xaxis.major_label_overrides = dict(zip(seasons['episode_sequence'], seasons['season_number'].astype('str') )) \n",
    "p.xgrid.grid_line_color = 'lightgrey'    \n",
    "p.ygrid.visible=False\n",
    "p.axis.axis_line_color = None\n",
    "p.axis.major_label_text_font_size = \"16px\"\n",
    "p.background_fill_color = \"beige\"                                                                   # beige background color to make the whites visible\n",
    "r = p.rect(y=\"color_names\", x=\"episode_sequence\", width=1, height=1, source=pl,                     # this part adds the rectangles for each episode\n",
    "           fill_color='hexcolors',\n",
    "           hover_line_color=\"black\",\n",
    "           line_color=None)\n",
    "\n",
    "show(p)"
   ]
  },
  {
   "cell_type": "markdown",
   "id": "11d9cae2-d894-41e9-9ff3-ecf9c4fe1f15",
   "metadata": {},
   "source": [
    "# Color bar plots\n",
    "\n",
    "I can also make a bar plot for the overall frequency of each color. (this doesn't have much interactivity, so Bokeh is kind of pointless, but its nice to have a consistent aesthetic)"
   ]
  },
  {
   "cell_type": "code",
   "execution_count": null,
   "id": "aaeda7eb-8dfe-4c15-b8f0-3ed780247097",
   "metadata": {},
   "outputs": [],
   "source": [
    "colors_dict = dict(zip(pl.color_names, pl.hexcolors))\n",
    "pl_counts = pl.value_counts('color_names').reset_index(name='count')\n",
    "pl_counts['hexcodes'] = [colors_dict.get(i) for i in pl_counts['color_names']]\n",
    "p = figure(x_range = pl_counts['color_names'], height=450, width=1600, title ='Frequency of each color', toolbar_location = \"above\")\n",
    "p.vbar(x='color_names', top='count', source=pl_counts, width=0.9, color='hexcodes')\n",
    "p.background_fill_color = \"beige\"\n",
    "\n",
    "show(p)"
   ]
  },
  {
   "cell_type": "markdown",
   "id": "c533c0f4-5849-4b6d-afb9-07ae141ad496",
   "metadata": {},
   "source": [
    "# Paintings by subject\n",
    "\n",
    "Now, I want to know a little more about subjects of each painting. There's a nested column here called \"tags\" that contains information on what is included in each painting: "
   ]
  },
  {
   "cell_type": "code",
   "execution_count": null,
   "id": "567b21ea-cfff-4ee4-aa2a-8fcdca29d2d6",
   "metadata": {},
   "outputs": [],
   "source": [
    "paintings_df['tags'][:5]"
   ]
  },
  {
   "cell_type": "markdown",
   "id": "d274ef36-72f4-4c67-84a3-f1451cde22fa",
   "metadata": {},
   "source": [
    "I'm going to need to do some data manipulation here to make this work, but the end result is a data frame that has a correlation for every tag compared to every other tag. \n",
    "To  start, I'll use `explode` to make my nested list of tags into a long list, then I'll use `pd.crosstab` to create a big matrix of 1s and 0s for each episode. If a painting includes a waterfall - for instance - that column will have a 1, and if it doesn't contain one, it will have a zero. "
   ]
  },
  {
   "cell_type": "code",
   "execution_count": null,
   "id": "8b7e8424-5b2a-4b0d-bb21-a87895163ab3",
   "metadata": {},
   "outputs": [],
   "source": [
    "pdf = paintings_df.explode('tags')\n",
    "tag_counts = pd.crosstab(index = pdf.episode_sequence, columns = pdf['tags'])\n",
    "tag_counts = tag_counts.loc[:, tag_counts.sum(axis=0)>10]\n",
    "tag_counts.head()"
   ]
  },
  {
   "cell_type": "markdown",
   "id": "af2580a4-dea9-480a-96d1-e1e8463a5179",
   "metadata": {},
   "source": [
    "Now I'll take this matrix and calculate the correlations between every tag across every episode. In essence, this correlation matrix reflects how often different things occur together in a Bob Ross painting. "
   ]
  },
  {
   "cell_type": "code",
   "execution_count": null,
   "id": "6782f901-42ff-429f-9c01-8c65f44a066f",
   "metadata": {},
   "outputs": [],
   "source": [
    "corr_matrix = tag_counts.corr()\n",
    "corr_matrix.head()"
   ]
  },
  {
   "cell_type": "markdown",
   "id": "1809a25d-1573-4b71-930f-5cd5440c620e",
   "metadata": {},
   "source": [
    "To make our correlation matrix a little more visually appealing, I'll also use a function from [this post](https://wil.yegelwel.com/cluster-correlation-matrix/) by Wil Yegelwel that helps to sort big correlation matrices so they look less chaotic."
   ]
  },
  {
   "cell_type": "code",
   "execution_count": null,
   "id": "3194cbc0-5d84-4750-9d1a-081183a4b917",
   "metadata": {},
   "outputs": [],
   "source": [
    "from cluster_correlation_matrix import cluster_corr\n",
    "corr_matrix = cluster_corr(corr_matrix)\n"
   ]
  },
  {
   "cell_type": "markdown",
   "id": "a1d9c89e-8c53-4912-9d44-f91365bb67a6",
   "metadata": {},
   "source": [
    "Finally, I'll use `stack` to convert this wide format matrix back into a long-format data frame. In `corr_long` when `value` has a positive value, it means that `tag_x` and `tag_y` tend to occur together, if `value` is negative, it means that `tag_x` is less likely when `tag_y` is present (and vice-versa)\n"
   ]
  },
  {
   "cell_type": "code",
   "execution_count": null,
   "id": "ce6784a3-dc1b-4134-bdc1-19df06d1a1c9",
   "metadata": {},
   "outputs": [],
   "source": [
    "corr_long = corr_matrix.stack().rename_axis(['tags_x', 'tags_y']).rename('value').reset_index()"
   ]
  },
  {
   "cell_type": "markdown",
   "id": "81a1873d-9016-465b-bd6a-35d2ebf8ea6a",
   "metadata": {},
   "source": [
    "We'll use a heatmap to visualize this long list of correlations. The heatmap here shows the associations between different subjects. And its color coded so that blue indicates negative associations and red indicates positive associations. So, for instance, we can see that \"winter\" and \"autunm\" paintings are negatively associated (makes sense, because how is he going to paint winter and autunm at the same time?)"
   ]
  },
  {
   "cell_type": "code",
   "execution_count": null,
   "id": "c50fd3ce-81b8-41f5-b006-eb0171a9faa4",
   "metadata": {},
   "outputs": [],
   "source": [
    "\n",
    "\n",
    "# You can use your own palette here\n",
    "colors = ['#d7191c', '#fdae61', '#ffffbf', '#a6d96a', '#1a9641']\n",
    "\n",
    "custom_tooltip= \"\"\" \n",
    "        <span style=\"font-size: 17px;\"><strong>@tags_x, @tags_y:</strong>@value{0.00}  </span>'\n",
    "        \"\"\"\n",
    "\n",
    "# Had a specific mapper to map color with value\n",
    "mapper = LinearColorMapper(\n",
    "    palette= bokeh.palettes.tol['BuRd'][6], low=-.75, high=.75)\n",
    "# Define a figure\n",
    "p = figure(\n",
    "    width=1920,\n",
    "    height=1080,\n",
    "    title=\"Correlation of features in Bob Ross paintings\",\n",
    "    x_range=list(corr_long.tags_x.unique()),\n",
    "    y_range=list(corr_long.tags_y.unique()),\n",
    "   # toolbar_location=None,\n",
    "   # tools=\"\",\n",
    "    tooltips = custom_tooltip,\n",
    "    x_axis_location=\"above\")\n",
    "\n",
    "\n",
    "# Create rectangle for heatmap\n",
    "p.rect(\n",
    "    x=\"tags_x\",\n",
    "    y=\"tags_y\",\n",
    "    width=1,\n",
    "    height=1,\n",
    "    source=corr_long,\n",
    "    line_color='lightgrey',\n",
    "    fill_color=transform('value', mapper))\n",
    "# Add legend\n",
    "color_bar = ColorBar(\n",
    "    color_mapper=mapper,\n",
    "    location=(0, 0),\n",
    "    ticker=BasicTicker(desired_num_ticks=len(colors)))\n",
    "\n",
    "p.xaxis.major_label_orientation = .45\n",
    "p.axis.major_label_text_font_size = \"16px\"\n",
    "\n",
    "\n",
    "p.add_layout(color_bar, 'right')\n",
    "width = Span(dimension=\"width\", line_dash=\"dashed\", line_width=2)\n",
    "height = Span(dimension=\"height\", line_dash=\"dotted\", line_width=2)\n",
    "\n",
    "p.add_tools(CrosshairTool(overlay=[width, height]))\n",
    "\n",
    "show(p)"
   ]
  },
  {
   "cell_type": "markdown",
   "id": "15a17102-9d0d-4598-b00b-43504a1c248d",
   "metadata": {},
   "source": [
    "# Clustering and Principal Components\n",
    "\n",
    "\n",
    "We can go a step further here by using some tools from the world of machine learning. Based on the associations I'm seeing, I think we could categorize the paintings into a small set of recurring themes. For instance, if you explore the correlation heatmap above, you might notice that things like \"cabin\" and \"winter\" and \"mountains\" are all positively correlated, so I suspect there are a lot of paintings here that are of things like \"snow-covered cabins in the mountains\"\n",
    "\n",
    "To identify this smaller number of general themes, I can use K-means clustering. K-Means is a simple clustering algorithm that identifies \"K\" clusters from some input data. The number of clusters is determined by the researcher (this is often more of an art than a science) and we expect observations in the same cluster to have broadly similar values.\n",
    "\n",
    "I also want to be able to visualize the results of my cluster analysis. Ideally, I'd like to visualize something like this in a scatter plot, but I have a large number of dimensions in my data set instead of just an \"X\" and a \"Y\". So I'm going to use Principal Components Analysis to create a low-dimensional representation of my data that captures most of the variation in a smaller number of variables."
   ]
  },
  {
   "cell_type": "code",
   "execution_count": null,
   "id": "49c672e8-af2c-48f2-af9a-22402b2df561",
   "metadata": {},
   "outputs": [],
   "source": [
    "from sklearn.decomposition import PCA\n",
    "from sklearn.cluster import KMeans\n",
    "from sklearn.preprocessing import StandardScaler\n"
   ]
  },
  {
   "cell_type": "markdown",
   "id": "be5ad146-419a-44b6-9156-8a64a741d85a",
   "metadata": {},
   "source": [
    "I'll scale my data to prepare it for K-means clustering (scaling makes it so that all of the variables have the same mean and standard deviation), and I'll use the `Kmeans()` function to perform the clustering. I'm going to set `k=7` to get 7 clusters, and I also want to be sure to set the `random_state` variable to ensure that my results are replicable (the K-means algorithm is non-deterministic, so the only way to ensure we get the same results every time is to control how the random number generation gets intialized)\n",
    "\n"
   ]
  },
  {
   "cell_type": "code",
   "execution_count": null,
   "id": "dc7c3971-6b7d-46cf-8a7a-b6a35eb475d0",
   "metadata": {},
   "outputs": [],
   "source": [
    "# scale the data for k means clustering\n",
    "scaler = StandardScaler()\n",
    "scaler.fit(tag_counts)\n",
    "kmeans = KMeans(n_clusters = 7, random_state = 999, n_init='auto')\n",
    "kmeans.fit(tag_counts)\n",
    "\n"
   ]
  },
  {
   "cell_type": "code",
   "execution_count": null,
   "id": "dff46aea-124a-4223-a213-b109ed97cc53",
   "metadata": {},
   "outputs": [],
   "source": [
    "tag_counts.shape"
   ]
  },
  {
   "cell_type": "markdown",
   "id": "32caea75-c888-4f2a-882a-8a570f20055b",
   "metadata": {},
   "source": [
    "Now that I have my clusters, I'll get the cluster labels and add them as a new column on to `paintings_df`"
   ]
  },
  {
   "cell_type": "code",
   "execution_count": null,
   "id": "ccb14a70-85ef-4e74-b97f-d769c3a2a374",
   "metadata": {},
   "outputs": [],
   "source": [
    "paintings_df['cluster'] = kmeans.labels_\n"
   ]
  },
  {
   "cell_type": "markdown",
   "id": "ea9daf08-6d28-4195-8299-1ba155a65352",
   "metadata": {},
   "source": [
    "Finally, I'll run the principal components analysis to reduce the number of dimensions from around 40 to just two, and I'll add these two principal components to my data frame as well.  "
   ]
  },
  {
   "cell_type": "code",
   "execution_count": null,
   "id": "a25e1dc8-8b3f-4975-996f-d78e2f014d29",
   "metadata": {},
   "outputs": [],
   "source": [
    "pca = PCA(n_components=2)\n",
    "principalComponents = pca.fit_transform(tag_counts)\n",
    "pca_data = pd.DataFrame(data = principalComponents\n",
    "             , columns = ['pc1', 'pc2'])\n",
    "paintings_df = pd.concat([pca_data, paintings_df], axis=1)"
   ]
  },
  {
   "cell_type": "markdown",
   "id": "01650091-e712-41d1-b962-d588ab2f5cdf",
   "metadata": {},
   "source": [
    "And I'll add some color-coding and shapes into my data frame so that our plot has different colors and shapes for each cluster."
   ]
  },
  {
   "cell_type": "code",
   "execution_count": null,
   "id": "194041eb-a07b-4a2d-8974-a7a1e10314df",
   "metadata": {},
   "outputs": [],
   "source": [
    "cluster_colors = ['Alizarin Crimson', 'Van Dyke Brown', 'Cadmium Yellow', 'Yellow Ochre', 'Phthalo Blue', 'Bright Red', 'Sap Green']\n",
    "cluster_markers = ['hex', 'circle', 'triangle', 'diamond', 'plus','star', 'square','square_pin', 'triangle_pin' ]\n",
    "paintings_df['cluster_color'] = [color_dict.get(cluster_colors[i]) for i in paintings_df.cluster]\n",
    "\n"
   ]
  },
  {
   "cell_type": "code",
   "execution_count": null,
   "id": "dc3eea9d-74ff-4fd4-8716-fd8f77c35b51",
   "metadata": {},
   "outputs": [],
   "source": [
    "paintings_df.head()"
   ]
  },
  {
   "cell_type": "markdown",
   "id": "d8a46887-aa46-4fcb-bc17-54d5a905d21c",
   "metadata": {},
   "source": [
    "## Bob Ross cluster analysis\n",
    "Now, we'll lay out a scatter plot to display the results of the cluster analysis, and we'll use the first two principle components to set the location of each point. We'll color-code each marker based on its cluster membership, and we'll add a customized tooltip that will display the image of the painting along some some additional information like the colors used, tags, and episode.\n",
    "\n",
    "Clicking one of the legend markers will hide the points for that cluster. And hovering over a point will show additional data on each painting. See if you can identify some common themes associated with the different clusters."
   ]
  },
  {
   "cell_type": "code",
   "execution_count": null,
   "id": "71c1714f-d7a7-4f18-90f6-d993a2cce66c",
   "metadata": {},
   "outputs": [],
   "source": [
    "\n",
    "# Customized HTML tooltip. The parts with an @colname will be filled in with data from my data frame.\n",
    "TOOLTIPS = \"\"\"\n",
    "    <div style=\"width:400px;\">\n",
    "        <div>\n",
    "            <img\n",
    "                src=\"@image_url\" height=\"25%\"  width=\"75%\"\n",
    "                style=\"float: above;   display: block; margin-left: auto; margin-right: auto;\n",
    "                border=\"2\"\n",
    "            ></img>\n",
    "        </div>\n",
    "        <div>\n",
    "            <span style=\"font-size: 17px; font-weight: bold;\">@title</span>\n",
    "                <div>\n",
    "                    <span>Season @season_number - Episode @episode_number</span>\n",
    "                </div>\n",
    "            <br>\n",
    "        </div>\n",
    "        \n",
    "        <div>\n",
    "            <span style=\"font-size: 12px; color: #966;\"><strong>Colors:</strong> @color_names</span>\n",
    "        </div>\n",
    "        <div>\n",
    "            <span style=\"font-size: 12px\"><strong>Tags:</strong> @tags</span>\n",
    "        </div>\n",
    "        <div>\n",
    "            <span style=\"font-size: 15px;\">Location</span>\n",
    "            <span style=\"font-size: 10px; color: #696;\">($x, $y)</span>\n",
    "        </div>\n",
    "    </div>\n",
    "\"\"\"\n",
    "\n",
    "#\n",
    "p = figure(title=\"Bob Ross Painting Clusters Analysis\",\n",
    "           tooltips=TOOLTIPS,\n",
    "           x_range=(min(paintings_df.pc1)-1, max(paintings_df.pc1)+1),\n",
    "           y_range=(min(paintings_df.pc2)-1, max(paintings_df.pc2)+1),            \n",
    "           width=800, height=800,   \n",
    "           x_axis_label=\"PC 1\",\n",
    "           y_axis_label=\"PC 2\",\n",
    "           toolbar_location='above') \n",
    "                                                        \n",
    "\n",
    "# loop through each unique cluster in order. Doing this allows us to have an interactive legend on the plot\n",
    "for i in paintings_df.cluster.sort_values().unique():\n",
    "    data = paintings_df[paintings_df['cluster'] == i]\n",
    "    p.scatter(x='pc1', y='pc2',  \n",
    "             source=data,   \n",
    "             legend_label = 'cluster: ' + str(i),\n",
    "             fill_color = 'cluster_color',\n",
    "             marker = cluster_markers[i],\n",
    "             color = color_dict[cluster_colors[i]],\n",
    "             line_color = 'black',\n",
    "             alpha =.8,\n",
    "             size=15)\n",
    "\n",
    "p.background_fill_color = \"beige\"\n",
    "p.legend.label_text_font_size = '20pt'\n",
    "\n",
    "p.legend.click_policy=\"hide\"\n",
    "p.legend.location = \"top_right\"\n",
    "show(p)"
   ]
  },
  {
   "cell_type": "code",
   "execution_count": null,
   "id": "5edbb094-fd6e-40f2-af4c-931c258b90c9",
   "metadata": {},
   "outputs": [],
   "source": []
  }
 ],
 "metadata": {
  "kernelspec": {
   "display_name": "Python 3 (ipykernel)",
   "language": "python",
   "name": "python3"
  },
  "language_info": {
   "codemirror_mode": {
    "name": "ipython",
    "version": 3
   },
   "file_extension": ".py",
   "mimetype": "text/x-python",
   "name": "python",
   "nbconvert_exporter": "python",
   "pygments_lexer": "ipython3",
   "version": "3.12.2"
  }
 },
 "nbformat": 4,
 "nbformat_minor": 5
}
