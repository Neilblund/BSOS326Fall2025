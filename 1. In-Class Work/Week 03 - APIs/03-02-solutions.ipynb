{
 "cells": [
  {
   "cell_type": "markdown",
   "id": "e252fe33-814d-4e00-a0d7-a0f11160aff2",
   "metadata": {},
   "source": [
    "# APIs with Keys"
   ]
  },
  {
   "cell_type": "markdown",
   "id": "17a0c5c7-d31a-4040-886d-c3310d45e61d",
   "metadata": {},
   "source": [
    " <div class=\"alert alert-warning\">\n",
    "    <b>Note:</b> Run the code below first so you can install a needed package. Then restart the kernel.\n",
    " </div>"
   ]
  },
  {
   "cell_type": "code",
   "execution_count": 1,
   "id": "297a9953-0b8d-44dd-bd70-c305dca5c49a",
   "metadata": {},
   "outputs": [
    {
     "name": "stdout",
     "output_type": "stream",
     "text": [
      "Requirement already satisfied: pyyaml in /usr/local/lib/python3.8/dist-packages (6.0)\n",
      "Note: you may need to restart the kernel to use updated packages.\n"
     ]
    }
   ],
   "source": [
    "%pip install pyyaml"
   ]
  },
  {
   "cell_type": "code",
   "execution_count": 1,
   "id": "435cfba7-7378-4c71-8ff4-280657f87d10",
   "metadata": {},
   "outputs": [],
   "source": [
    "from requests import get \n",
    "import pandas as pd \n",
    "import numpy as np\n",
    "import yaml"
   ]
  },
  {
   "cell_type": "markdown",
   "id": "124cc9ce-df32-4c76-b01f-770bed146836",
   "metadata": {},
   "source": [
    "# Quick Review"
   ]
  },
  {
   "cell_type": "markdown",
   "id": "39460b35-cd28-495d-99a4-3a14162ab3f8",
   "metadata": {},
   "source": [
    "REST APIs allow us to send `get` requests to retrieve data from a website. For instance, the catfacts API will return a random cat-related fact when we send a request:"
   ]
  },
  {
   "cell_type": "code",
   "execution_count": 2,
   "id": "daedc00e-0baf-4070-9aa7-828a0a006e07",
   "metadata": {},
   "outputs": [],
   "source": [
    "catfact = get('https://catfact.ninja/fact')"
   ]
  },
  {
   "cell_type": "code",
   "execution_count": 3,
   "id": "5d07deb4-6a8f-4958-8236-38c24fa4c663",
   "metadata": {},
   "outputs": [
    {
     "data": {
      "text/plain": [
       "b'{\"fact\":\"Blue-eyed, pure white cats are frequently deaf.\",\"length\":47}'"
      ]
     },
     "execution_count": 3,
     "metadata": {},
     "output_type": "execute_result"
    }
   ],
   "source": [
    "catfact.content"
   ]
  },
  {
   "cell_type": "markdown",
   "id": "ec1a1fbb-9f67-47ad-9b4b-23202c43633b",
   "metadata": {},
   "source": [
    "In most cases, API data will be returned in .json format, this is a format with a very similar structure to python dictionaries, and we can turn it into a python dictionary with the `.json` method:"
   ]
  },
  {
   "cell_type": "code",
   "execution_count": 4,
   "id": "720aaf91-51aa-4517-8660-b54a8c344d6e",
   "metadata": {},
   "outputs": [],
   "source": [
    "catfact_dict = catfact.json()"
   ]
  },
  {
   "cell_type": "code",
   "execution_count": 5,
   "id": "d88be78b-6998-4b26-9834-ae9db2febdb0",
   "metadata": {},
   "outputs": [
    {
     "data": {
      "text/plain": [
       "{'fact': 'Blue-eyed, pure white cats are frequently deaf.', 'length': 47}"
      ]
     },
     "execution_count": 5,
     "metadata": {},
     "output_type": "execute_result"
    }
   ],
   "source": [
    "catfact_dict"
   ]
  },
  {
   "cell_type": "markdown",
   "id": "0f7fdab3-6512-4003-bb47-fd94e1ffb70c",
   "metadata": {},
   "source": [
    "And then we can handle them more-or-less like dictionary objects"
   ]
  },
  {
   "cell_type": "code",
   "execution_count": 6,
   "id": "7921f110-4504-439e-b24d-92351eb8f053",
   "metadata": {},
   "outputs": [
    {
     "data": {
      "text/plain": [
       "'Blue-eyed, pure white cats are frequently deaf.'"
      ]
     },
     "execution_count": 6,
     "metadata": {},
     "output_type": "execute_result"
    }
   ],
   "source": [
    "catfact_dict['fact']"
   ]
  },
  {
   "cell_type": "markdown",
   "id": "61d07b5f-c7b4-48b5-873d-3e0d7ce54960",
   "metadata": {},
   "source": [
    "In many cases, results will be more complex and may contain multiple layers of nesting. "
   ]
  },
  {
   "cell_type": "code",
   "execution_count": 7,
   "id": "3c8ec36a-8b98-4a06-9a49-8de35a7ce954",
   "metadata": {},
   "outputs": [],
   "source": [
    "breeds = get('https://catfact.ninja/breeds')\n",
    "breed_data = breeds.json()"
   ]
  },
  {
   "cell_type": "markdown",
   "id": "bb5d80e2-0436-485b-bbf9-49796d744ca8",
   "metadata": {},
   "source": [
    "Here, we've got several different keys. The `data` key contains a list which, in turn, contains a series of dictioanaries, with each one describing a different breed of cat:"
   ]
  },
  {
   "cell_type": "code",
   "execution_count": 8,
   "id": "69a7b4d2-d960-4b9d-a9b0-7b2dfcbdb6d2",
   "metadata": {},
   "outputs": [
    {
     "data": {
      "text/plain": [
       "dict_keys(['current_page', 'data', 'first_page_url', 'from', 'last_page', 'last_page_url', 'links', 'next_page_url', 'path', 'per_page', 'prev_page_url', 'to', 'total'])"
      ]
     },
     "execution_count": 8,
     "metadata": {},
     "output_type": "execute_result"
    }
   ],
   "source": [
    "breed_data.keys()"
   ]
  },
  {
   "cell_type": "code",
   "execution_count": 9,
   "id": "40af452a-d385-4fa9-8f9f-2cf1155256c0",
   "metadata": {},
   "outputs": [
    {
     "data": {
      "text/plain": [
       "[{'breed': 'Abyssinian',\n",
       "  'country': 'Ethiopia',\n",
       "  'origin': 'Natural/Standard',\n",
       "  'coat': 'Short',\n",
       "  'pattern': 'Ticked'},\n",
       " {'breed': 'Aegean',\n",
       "  'country': 'Greece',\n",
       "  'origin': 'Natural/Standard',\n",
       "  'coat': 'Semi-long',\n",
       "  'pattern': 'Bi- or tri-colored'}]"
      ]
     },
     "execution_count": 9,
     "metadata": {},
     "output_type": "execute_result"
    }
   ],
   "source": [
    "# Viewing the first two breeds\n",
    "breed_data['data'][:2]"
   ]
  },
  {
   "cell_type": "markdown",
   "id": "2e2d75f2-8e7b-40c5-a931-1be4f25ffe9e",
   "metadata": {},
   "source": [
    "So making this into something useful will for analysis generally require us to do a little clean-up"
   ]
  },
  {
   "cell_type": "code",
   "execution_count": 10,
   "id": "04a122e2-486a-485a-bd43-ea5c9c60ec18",
   "metadata": {},
   "outputs": [
    {
     "name": "stdout",
     "output_type": "stream",
     "text": [
      "['Abyssinian', 'Aegean', 'American Curl', 'American Bobtail', 'American Shorthair', 'American Wirehair', 'Arabian Mau', 'Australian Mist', 'Asian', 'Asian Semi-longhair', 'Balinese', 'Bambino', 'Bengal', 'Birman', 'Bombay', 'Brazilian Shorthair', 'British Semi-longhair', 'British Shorthair', 'British Longhair', 'Burmese', 'Burmilla', 'California Spangled', 'Chantilly-Tiffany', 'Chartreux', 'Chausie']\n"
     ]
    }
   ],
   "source": [
    "breedlist = [i['breed'] for i in breed_data['data']]\n",
    "print(breedlist)"
   ]
  },
  {
   "cell_type": "markdown",
   "id": "dc85e409-8f68-4006-a014-f64b72ba0bf7",
   "metadata": {},
   "source": [
    "In most cases, we'll try to reformat things as a Pandas Dataframe, but this can be more complicated depending on the structure of our result. "
   ]
  },
  {
   "cell_type": "code",
   "execution_count": 11,
   "id": "b68a7d59-fa8a-4b8d-8c5b-69dc51d0afcb",
   "metadata": {},
   "outputs": [
    {
     "data": {
      "text/html": [
       "<div>\n",
       "<style scoped>\n",
       "    .dataframe tbody tr th:only-of-type {\n",
       "        vertical-align: middle;\n",
       "    }\n",
       "\n",
       "    .dataframe tbody tr th {\n",
       "        vertical-align: top;\n",
       "    }\n",
       "\n",
       "    .dataframe thead th {\n",
       "        text-align: right;\n",
       "    }\n",
       "</style>\n",
       "<table border=\"1\" class=\"dataframe\">\n",
       "  <thead>\n",
       "    <tr style=\"text-align: right;\">\n",
       "      <th></th>\n",
       "      <th>breed</th>\n",
       "      <th>country</th>\n",
       "      <th>origin</th>\n",
       "      <th>coat</th>\n",
       "      <th>pattern</th>\n",
       "    </tr>\n",
       "  </thead>\n",
       "  <tbody>\n",
       "    <tr>\n",
       "      <th>0</th>\n",
       "      <td>Abyssinian</td>\n",
       "      <td>Ethiopia</td>\n",
       "      <td>Natural/Standard</td>\n",
       "      <td>Short</td>\n",
       "      <td>Ticked</td>\n",
       "    </tr>\n",
       "    <tr>\n",
       "      <th>1</th>\n",
       "      <td>Aegean</td>\n",
       "      <td>Greece</td>\n",
       "      <td>Natural/Standard</td>\n",
       "      <td>Semi-long</td>\n",
       "      <td>Bi- or tri-colored</td>\n",
       "    </tr>\n",
       "    <tr>\n",
       "      <th>2</th>\n",
       "      <td>American Curl</td>\n",
       "      <td>United States</td>\n",
       "      <td>Mutation</td>\n",
       "      <td>Short/Long</td>\n",
       "      <td>All</td>\n",
       "    </tr>\n",
       "    <tr>\n",
       "      <th>3</th>\n",
       "      <td>American Bobtail</td>\n",
       "      <td>United States</td>\n",
       "      <td>Mutation</td>\n",
       "      <td>Short/Long</td>\n",
       "      <td>All</td>\n",
       "    </tr>\n",
       "    <tr>\n",
       "      <th>4</th>\n",
       "      <td>American Shorthair</td>\n",
       "      <td>United States</td>\n",
       "      <td>Natural</td>\n",
       "      <td>Short</td>\n",
       "      <td>All but colorpoint</td>\n",
       "    </tr>\n",
       "  </tbody>\n",
       "</table>\n",
       "</div>"
      ],
      "text/plain": [
       "                breed        country            origin        coat  \\\n",
       "0          Abyssinian       Ethiopia  Natural/Standard       Short   \n",
       "1              Aegean         Greece  Natural/Standard   Semi-long   \n",
       "2       American Curl  United States          Mutation  Short/Long   \n",
       "3    American Bobtail  United States          Mutation  Short/Long   \n",
       "4  American Shorthair  United States           Natural       Short   \n",
       "\n",
       "              pattern  \n",
       "0              Ticked  \n",
       "1  Bi- or tri-colored  \n",
       "2                 All  \n",
       "3                 All  \n",
       "4  All but colorpoint  "
      ]
     },
     "execution_count": 11,
     "metadata": {},
     "output_type": "execute_result"
    }
   ],
   "source": [
    "breed_df = pd.DataFrame(breed_data['data'])\n",
    "breed_df.head()"
   ]
  },
  {
   "cell_type": "markdown",
   "id": "e215e007-bbea-45cf-8170-8f2b40b75ef3",
   "metadata": {},
   "source": [
    "## Query Parameters"
   ]
  },
  {
   "cell_type": "markdown",
   "id": "ce2d4361-9396-4773-9c53-54f4634ade10",
   "metadata": {},
   "source": [
    "Simple APIs like catfacts may only require a single query to get data. But often we'll need to add additional parameters in order to filter our results.\n",
    "\n",
    "For instance, the [Nobel Prize API](https://www.nobelprize.org/organization/developer-zone-2/) allows us to set multiple parameters to get specific results for years or subjects.\n",
    "\n",
    "The base URL for the Prizes data is:\n",
    "http://api.nobelprize.org/2.1/nobelPrizes\n"
   ]
  },
  {
   "cell_type": "markdown",
   "id": "73107132-7968-4fcc-9ea9-69a54630ff1f",
   "metadata": {},
   "source": [
    "But we could modify this URL to get only the data for the year 1901 for the economics category. (The parameters are the `key=value` pairs that come after a `?`)"
   ]
  },
  {
   "cell_type": "code",
   "execution_count": 12,
   "id": "d67aa7d2-1719-4f80-9b96-11b5e8797a62",
   "metadata": {},
   "outputs": [],
   "source": [
    "nobel = get('http://api.nobelprize.org/2.1/nobelPrizes?nobelPrizeYear=2024&yearTo=2024&nobelPrizeCategory=eco')"
   ]
  },
  {
   "cell_type": "code",
   "execution_count": 13,
   "id": "ce9940c3-8f05-4b46-a8b7-afd0bf536cf4",
   "metadata": {},
   "outputs": [
    {
     "name": "stdout",
     "output_type": "stream",
     "text": [
      "{'nobelPrizes': [{'awardYear': '2024', 'category': {'en': 'Economic Sciences', 'no': 'Økonomi', 'se': 'Ekonomi'}, 'categoryFullName': {'en': 'The Sveriges Riksbank Prize in Economic Sciences in Memory of Alfred Nobel', 'no': 'Sveriges Riksbanks pris i økonomisk vitenskap til minne om Alfred Nobel', 'se': 'Sveriges Riksbanks pris i ekonomisk vetenskap till Alfred Nobels minne'}, 'dateAwarded': '2024-10-14', 'prizeAmount': 11000000, 'prizeAmountAdjusted': 11000000, 'links': [{'rel': 'nobelPrize', 'href': 'https://api.nobelprize.org/2/nobelPrize/eco/2024', 'action': 'GET', 'types': 'application/json'}], 'laureates': [{'id': '1044', 'knownName': {'en': 'Daron Acemoglu'}, 'fullName': {'en': 'Daron Acemoglu'}, 'portion': '1/3', 'sortOrder': '1', 'motivation': {'en': 'for studies of how institutions are formed and affect prosperity', 'se': 'för studier av hur institutioner formas och påverkar välstånd'}, 'links': [{'rel': 'laureate', 'href': 'https://api.nobelprize.org/2/laureate/1044', 'action': 'GET', 'types': 'application/json'}]}, {'id': '1045', 'knownName': {'en': 'Simon Johnson'}, 'fullName': {'en': 'Simon Henry Roberts Johnson'}, 'portion': '1/3', 'sortOrder': '2', 'motivation': {'en': 'for studies of how institutions are formed and affect prosperity', 'se': 'för studier av hur institutioner formas och påverkar välstånd'}, 'links': [{'rel': 'laureate', 'href': 'https://api.nobelprize.org/2/laureate/1045', 'action': 'GET', 'types': 'application/json'}]}, {'id': '1046', 'knownName': {'en': 'James A. Robinson'}, 'fullName': {'en': 'James A. Robinson'}, 'portion': '1/3', 'sortOrder': '3', 'motivation': {'en': 'for studies of how institutions are formed and affect prosperity', 'se': 'för studier av hur institutioner formas och påverkar välstånd'}, 'links': [{'rel': 'laureate', 'href': 'https://api.nobelprize.org/2/laureate/1046', 'action': 'GET', 'types': 'application/json'}]}]}], 'meta': {'offset': 0, 'limit': 25, 'nobelPrizeYear': 2024, 'yearTo': 2024, 'nobelPrizeCategory': 'eco', 'count': 1, 'terms': 'https://www.nobelprize.org/about/terms-of-use-for-api-nobelprize-org-and-data-nobelprize-org/', 'license': 'https://www.nobelprize.org/about/terms-of-use-for-api-nobelprize-org-and-data-nobelprize-org/#licence', 'disclaimer': 'https://www.nobelprize.org/about/terms-of-use-for-api-nobelprize-org-and-data-nobelprize-org/#disclaimer'}}\n"
     ]
    }
   ],
   "source": [
    "print(nobel.json())"
   ]
  },
  {
   "cell_type": "markdown",
   "id": "5ffd1c0e-6bf6-4a39-9e25-42a6f31ff4f4",
   "metadata": {},
   "source": [
    "Instead of manually typing out query parameters, we'll typically specify them using a python dictionary. So here's how I would adjust the query to retrieve the winner of the 1901 prize for Chemistry. Note that, when we access the `url` attribute from the response, we can see the URL is structured very similarly to the one above:"
   ]
  },
  {
   "cell_type": "code",
   "execution_count": 14,
   "id": "0809418d-b098-45ff-be8f-d3f69a51f4ec",
   "metadata": {},
   "outputs": [
    {
     "data": {
      "text/plain": [
       "'https://api.nobelprize.org/2.1/nobelPrizes?nobelPrizeYear=1901&yearTo=1901&nobelPrizeCategory=che'"
      ]
     },
     "execution_count": 14,
     "metadata": {},
     "output_type": "execute_result"
    }
   ],
   "source": [
    "base_url = 'http://api.nobelprize.org/2.1/nobelPrizes'\n",
    "parameters = {\"nobelPrizeYear\":1901, \n",
    "              \"yearTo\":1901, \n",
    "              \"nobelPrizeCategory\":\"che\"}\n",
    "\n",
    "nobel = get(base_url, parameters)\n",
    "\n",
    "nobel.url"
   ]
  },
  {
   "cell_type": "markdown",
   "id": "a6487f6d-7d40-45c2-9b2c-e6548af33418",
   "metadata": {},
   "source": [
    "Also note that accessing specific elements of this json data is quite a bit more complex than the previous case because we have several layers of nesting to navigate:"
   ]
  },
  {
   "cell_type": "code",
   "execution_count": 15,
   "id": "f885d866-4667-49bf-ba38-ec26019db4c0",
   "metadata": {},
   "outputs": [
    {
     "data": {
      "text/plain": [
       "'in recognition of the extraordinary services he has rendered by the discovery of the laws of chemical dynamics and osmotic pressure in solutions'"
      ]
     },
     "execution_count": 15,
     "metadata": {},
     "output_type": "execute_result"
    }
   ],
   "source": [
    "nobel_data =nobel.json()\n",
    "#  getting the english motivation for the first prize winner:\n",
    "nobel_data['nobelPrizes'][0]['laureates'][0]['motivation']['en']\n"
   ]
  },
  {
   "cell_type": "markdown",
   "id": "8151fb3c-04f3-4f13-abd7-7d1101721beb",
   "metadata": {},
   "source": [
    "And so converting this to a dataframe also gives a slightly less useable result: some of our cells contain nested data that we would probably need to manipulate further to really use."
   ]
  },
  {
   "cell_type": "code",
   "execution_count": 16,
   "id": "f291c5dd-07e1-4642-8986-20faf0a611f7",
   "metadata": {},
   "outputs": [
    {
     "data": {
      "text/html": [
       "<div>\n",
       "<style scoped>\n",
       "    .dataframe tbody tr th:only-of-type {\n",
       "        vertical-align: middle;\n",
       "    }\n",
       "\n",
       "    .dataframe tbody tr th {\n",
       "        vertical-align: top;\n",
       "    }\n",
       "\n",
       "    .dataframe thead th {\n",
       "        text-align: right;\n",
       "    }\n",
       "</style>\n",
       "<table border=\"1\" class=\"dataframe\">\n",
       "  <thead>\n",
       "    <tr style=\"text-align: right;\">\n",
       "      <th></th>\n",
       "      <th>awardYear</th>\n",
       "      <th>category</th>\n",
       "      <th>categoryFullName</th>\n",
       "      <th>dateAwarded</th>\n",
       "      <th>prizeAmount</th>\n",
       "      <th>prizeAmountAdjusted</th>\n",
       "      <th>links</th>\n",
       "      <th>laureates</th>\n",
       "    </tr>\n",
       "  </thead>\n",
       "  <tbody>\n",
       "    <tr>\n",
       "      <th>0</th>\n",
       "      <td>1901</td>\n",
       "      <td>{'en': 'Chemistry', 'no': 'Kjemi', 'se': 'Kemi'}</td>\n",
       "      <td>{'en': 'The Nobel Prize in Chemistry', 'no': '...</td>\n",
       "      <td>1901-11-12</td>\n",
       "      <td>150782</td>\n",
       "      <td>9704878</td>\n",
       "      <td>[{'rel': 'nobelPrize', 'href': 'https://api.no...</td>\n",
       "      <td>[{'id': '160', 'knownName': {'en': 'Jacobus H....</td>\n",
       "    </tr>\n",
       "  </tbody>\n",
       "</table>\n",
       "</div>"
      ],
      "text/plain": [
       "  awardYear                                          category  \\\n",
       "0      1901  {'en': 'Chemistry', 'no': 'Kjemi', 'se': 'Kemi'}   \n",
       "\n",
       "                                    categoryFullName dateAwarded  prizeAmount  \\\n",
       "0  {'en': 'The Nobel Prize in Chemistry', 'no': '...  1901-11-12       150782   \n",
       "\n",
       "   prizeAmountAdjusted                                              links  \\\n",
       "0              9704878  [{'rel': 'nobelPrize', 'href': 'https://api.no...   \n",
       "\n",
       "                                           laureates  \n",
       "0  [{'id': '160', 'knownName': {'en': 'Jacobus H....  "
      ]
     },
     "execution_count": 16,
     "metadata": {},
     "output_type": "execute_result"
    }
   ],
   "source": [
    "pd.DataFrame(nobel_data['nobelPrizes'])"
   ]
  },
  {
   "cell_type": "markdown",
   "id": "67e8e012-3c56-445f-899b-b737a1631a74",
   "metadata": {},
   "source": [
    "Here's a bit more documentation on the Nobel Prize API:\n",
    "[API documentation](https://app.swaggerhub.com/apis/NobelMedia/NobelMasterData/2.1#/info)"
   ]
  },
  {
   "cell_type": "code",
   "execution_count": 17,
   "id": "3a1e264b-3f33-4cdb-918f-85cf8117cbfe",
   "metadata": {},
   "outputs": [
    {
     "data": {
      "text/plain": [
       "'Blue-eyed, pure white cats are frequently deaf.'"
      ]
     },
     "execution_count": 17,
     "metadata": {},
     "output_type": "execute_result"
    }
   ],
   "source": [
    "catfact_dict['fact']"
   ]
  },
  {
   "cell_type": "markdown",
   "id": "88f2fad1-9ad5-4657-8976-487eeadee40f",
   "metadata": {
    "jp-MarkdownHeadingCollapsed": true
   },
   "source": [
    "# API Keys\n",
    "Many times, data providers don't want to provide access to their APIs to just anybody. In order to make sure that they control access and track usage of the API, they might require the use of an API key. An API key is basically like a password that is uniquely associated with your account that you use every time you want to use that API."
   ]
  },
  {
   "cell_type": "markdown",
   "id": "38e196b2-8089-4384-99c1-e66766002799",
   "metadata": {},
   "source": [
    "# New York Times API\n",
    "One example of an API that requires a key is the New York Times API. We'll show an example of using the New York Times API to make the API call. We start by navigating the NYT API site so that we can look up instructions on how to access their API.\n",
    "\n",
    "We need to get an API key from the New York Times first before we can access the API. We can go to their Dev Portal to sign up and get access: https://developer.nytimes.com/apis. You'll need to make an account, then log in. After you have an account, you can access your Apps by clicking on your username at the top right and create an app. Enable the APIs that you want to have access to, and get the key.\n",
    "\n",
    "After you get the key, create a new text file (I called mine nyt-key.txt) and paste the key into that text file. <b>We want to avoid writing out the key in any documents we share with others</b>, so we're going to keep the key separate and simply read in the key into Python and use it to call the API.\n",
    "\n"
   ]
  },
  {
   "cell_type": "markdown",
   "id": "442eabe5-fe97-4b32-ace2-86c6cbe3f9a3",
   "metadata": {},
   "source": [
    "<b style=\"color:red;\"> Question 1: Do the steps described above and write your api key in the `keys.yml` file in the appropriate spot in the project directory</b>"
   ]
  },
  {
   "cell_type": "code",
   "execution_count": 18,
   "id": "39f7a31d-ab49-4476-8512-400141759a53",
   "metadata": {},
   "outputs": [],
   "source": [
    "with open('../../keys.yml', 'r') as file:\n",
    "    keys = yaml.safe_load(file)\n"
   ]
  },
  {
   "cell_type": "code",
   "execution_count": 19,
   "id": "e6ee4272-e88d-4b21-8660-fbda0812c722",
   "metadata": {},
   "outputs": [],
   "source": [
    "nyt_key = keys['nyt_api_key']"
   ]
  },
  {
   "cell_type": "markdown",
   "id": "d0113e43-9c10-4496-b527-606489e123dd",
   "metadata": {},
   "source": [
    "# NYT Archives\n",
    "After you do this, you can poke around on the API site a bit to get an idea of what data is available and how you might access that data. We'll start with the Archives API, for which the documentation can be found here: https://developer.nytimes.com/docs/archive-product/1/overview. The Archives API can be used to access article metadata (such as headline, byline, article URL, and so on) for a given month. Let's try getting the content for January 2019.\n",
    "\n",
    "Following the instructions given on their site, we start with the base URL."
   ]
  },
  {
   "cell_type": "code",
   "execution_count": 20,
   "id": "c4cf9526-c47a-4e63-8ded-72542481cb1f",
   "metadata": {},
   "outputs": [],
   "source": [
    "base_url = \"https://api.nytimes.com/svc/archive/v1/2019/1.json\""
   ]
  },
  {
   "cell_type": "code",
   "execution_count": 21,
   "id": "12bfb5b3-2dd6-469c-907c-3b5a591642e2",
   "metadata": {},
   "outputs": [],
   "source": [
    "r = get(base_url, params= {'api-key':nyt_key})"
   ]
  },
  {
   "cell_type": "markdown",
   "id": "eed3f095-c16a-4b86-8f10-266d971eeec2",
   "metadata": {},
   "source": [
    "Now we can check the status code. Remember that code 200 means everything is fine. When we're sending authentication information, a code of 401 will indicate that our request is not authorized. "
   ]
  },
  {
   "cell_type": "code",
   "execution_count": 22,
   "id": "3fbfa29e-a295-4ed5-841a-2b43245da461",
   "metadata": {},
   "outputs": [
    {
     "data": {
      "text/plain": [
       "200"
      ]
     },
     "execution_count": 22,
     "metadata": {},
     "output_type": "execute_result"
    }
   ],
   "source": [
    "r.status_code"
   ]
  },
  {
   "cell_type": "markdown",
   "id": "12fade6d-3661-4c44-8883-57104819e46e",
   "metadata": {},
   "source": [
    "We are good to go. Now let's get the content."
   ]
  },
  {
   "cell_type": "code",
   "execution_count": 23,
   "id": "89896794-beba-4003-bb4e-d37df8ea587b",
   "metadata": {},
   "outputs": [],
   "source": [
    "response = r.json()  # Convert response to JSON format"
   ]
  },
  {
   "cell_type": "markdown",
   "id": "b0ce814b-77a4-4752-92f5-c0a98cce2cc3",
   "metadata": {},
   "source": [
    "<b style=\"color:red;\">Question 2: How many NYT articles were there in January 2019?</b>\n",
    "\n"
   ]
  },
  {
   "cell_type": "code",
   "execution_count": 24,
   "id": "2f564cbf-6733-4faa-bc8b-d21e36480dfd",
   "metadata": {},
   "outputs": [
    {
     "data": {
      "text/plain": [
       "4482"
      ]
     },
     "execution_count": 24,
     "metadata": {},
     "output_type": "execute_result"
    }
   ],
   "source": [
    "\n",
    "response = r.json()  # Convert response to JSON format\n",
    "len(response['response']['docs'])\n"
   ]
  },
  {
   "cell_type": "code",
   "execution_count": 25,
   "id": "050ea26f-239c-4572-bda8-d188b9f852ca",
   "metadata": {},
   "outputs": [
    {
     "data": {
      "text/plain": [
       "4482"
      ]
     },
     "execution_count": 25,
     "metadata": {},
     "output_type": "execute_result"
    }
   ],
   "source": [
    "# OR:\n",
    "response['response']['meta']['hits']\n"
   ]
  },
  {
   "cell_type": "markdown",
   "id": "babdb256-2126-4424-aa44-adf2c38ac36a",
   "metadata": {},
   "source": [
    "<b style=\"color:red;\">Question 3: What are the types of metadata that are available in the data from this API? Show the keys from one article to answer this question.</b>"
   ]
  },
  {
   "cell_type": "code",
   "execution_count": 26,
   "id": "51be320b-855d-4d3c-8c37-661306b66639",
   "metadata": {},
   "outputs": [
    {
     "data": {
      "text/plain": [
       "dict_keys(['abstract', 'web_url', 'snippet', 'lead_paragraph', 'source', 'multimedia', 'headline', 'keywords', 'pub_date', 'document_type', 'news_desk', 'section_name', 'byline', 'type_of_material', '_id', 'word_count', 'uri'])"
      ]
     },
     "execution_count": 26,
     "metadata": {},
     "output_type": "execute_result"
    }
   ],
   "source": [
    "response['response']['docs'][0].keys()"
   ]
  },
  {
   "cell_type": "markdown",
   "id": "70af91e6-c7dc-4894-8342-c8d44276150e",
   "metadata": {},
   "source": [
    "<b style=\"color:red;\">Question 4: Create a list called `abstracts` that contains the article abstract for each article in `json`.\n",
    "\n",
    "</b>"
   ]
  },
  {
   "cell_type": "code",
   "execution_count": 27,
   "id": "274db2e6-3e60-471c-9ac0-43bc8b8e1aea",
   "metadata": {},
   "outputs": [
    {
     "data": {
      "text/plain": [
       "['Imagine what we could do with our money, and hours, if we set our phones aside for a year.',\n",
       " 'Wells was a deep threat for the vaunted Oakland offenses of the late 1960s, but his playing days ended after he served a seasonlong prison sentence.',\n",
       " 'Can the Constitution withstand the partisans?',\n",
       " 'The Christian right doesn’t like the president only for his judges. They like his style.']"
      ]
     },
     "execution_count": 27,
     "metadata": {},
     "output_type": "execute_result"
    }
   ],
   "source": [
    "abstracts = [i['abstract'] for i in response['response']['docs']]\n",
    "\n",
    "abstracts[1:5]"
   ]
  },
  {
   "cell_type": "markdown",
   "id": "3477b659-1923-4629-be17-808d4c891442",
   "metadata": {},
   "source": [
    "## Editing strings\n",
    "\n",
    "If we wanted to get all of the metadata of articles published in a certain year, or over an extended time period, we would actually need to change the base URL that we were using. That's because the URL as we've defined it contains the year and month hard-coded into it. This might get tedious, so we can instead edit the strings to do this automatically. This way, we are able to, for example, loop through years and months and get the data we want.\n",
    "\n"
   ]
  },
  {
   "cell_type": "code",
   "execution_count": 28,
   "id": "1d681b34-1f1a-4392-a526-abc246152ca8",
   "metadata": {},
   "outputs": [],
   "source": [
    "month = 10\n",
    "year = 2020\n",
    "\n",
    "url = f\"https://api.nytimes.com/svc/archive/v1/{year}/{month}.json\"\n",
    "\n",
    "data = get(url, params= {'api-key':nyt_key})"
   ]
  },
  {
   "cell_type": "code",
   "execution_count": 29,
   "id": "5bc6c050-44d4-4a91-ac5d-6644f2824e40",
   "metadata": {},
   "outputs": [
    {
     "data": {
      "text/plain": [
       "'https://api.nytimes.com/svc/archive/v1/2020/10.json?api-key=EkyJv1gfSUT2A5KYvIA5jldmwZF1Zyjv'"
      ]
     },
     "execution_count": 29,
     "metadata": {},
     "output_type": "execute_result"
    }
   ],
   "source": [
    "data.url"
   ]
  },
  {
   "cell_type": "code",
   "execution_count": 30,
   "id": "8c56f213-0584-4ba7-afe7-5e39bc51f1af",
   "metadata": {},
   "outputs": [
    {
     "data": {
      "text/plain": [
       "'https://api.nytimes.com/svc/archive/v1/2020/11.json'"
      ]
     },
     "execution_count": 30,
     "metadata": {},
     "output_type": "execute_result"
    }
   ],
   "source": [
    "month = 11\n",
    "year = 2020\n",
    "\n",
    "url = f\"https://api.nytimes.com/svc/archive/v1/{year}/{month}.json\"\n",
    "\n",
    "url"
   ]
  },
  {
   "cell_type": "markdown",
   "id": "e1be8495-3ee4-40a0-b22f-fd2787f5fadb",
   "metadata": {},
   "source": [
    "The `f` in front of the string indicates that it is an f-string, and the pieces that we want to replace within the string are included with curly braces. We use the names of the objects we want to put into those places, and the values are then interpolated into the string."
   ]
  },
  {
   "cell_type": "markdown",
   "id": "b5748599-9452-4d06-b605-45b5ec3451d6",
   "metadata": {},
   "source": [
    "<b style=\"color:red;\">Question 5: Write a function called nyt_api that has two arguments, month and year, and outputs the response from pulling from the NYT Archive API for that month and year.</b>"
   ]
  },
  {
   "cell_type": "code",
   "execution_count": 31,
   "id": "a664321a-5ec1-48c4-83ad-7311b7e0a4bb",
   "metadata": {},
   "outputs": [],
   "source": [
    "def nyt_api(month, year):\n",
    "    url = f\"https://api.nytimes.com/svc/archive/v1/{year}/{month}.json\"\n",
    "    return get(url, params= {'api-key':nyt_key})\n",
    "res = nyt_api(1, 2020)"
   ]
  },
  {
   "cell_type": "markdown",
   "id": "2582c226-e5dc-4d76-88df-ab88da6704bf",
   "metadata": {},
   "source": [
    "<b style=\"color:red;\">Question 6: Write a function called nyt_headlines that has two arguments, month and year, and outputs a list of headlines from pulling from the NYT Archive API for that month and year.</b>"
   ]
  },
  {
   "cell_type": "code",
   "execution_count": 32,
   "id": "a3cadd29-87e4-42e2-b988-6acf5c82c442",
   "metadata": {},
   "outputs": [],
   "source": [
    "def nyt_headlines(month, year):\n",
    "    res = nyt_api(month, year)\n",
    "    out=res.json()\n",
    "    headlines = [i['headline']['main'] for i in out['response']['docs'] ]\n",
    "    return(headlines)\n",
    "\n",
    "headlines = nyt_headlines(12, 2024)\n"
   ]
  },
  {
   "cell_type": "code",
   "execution_count": 33,
   "id": "417e8545-7d44-4610-875b-bd8064ee6bc3",
   "metadata": {},
   "outputs": [
    {
     "data": {
      "text/plain": [
       "['Trump Says He Will Nominate Kash Patel to Run F.B.I.',\n",
       " 'A College Volleyball Team’s Season in the Spotlight Comes to an End',\n",
       " 'No Corrections: Dec. 1, 2024',\n",
       " 'Trump Picks a Florida Sheriff as D.E.A. Administrator',\n",
       " 'Five Things to Know About Kash Patel, Trump’s Pick to Lead the F.B.I.',\n",
       " 'Lou Carnesecca, St. John’s Basketball Coach With 526 Wins, Is Dead at 99',\n",
       " 'From Pong to Pokémon: A History of Holiday ‘It’ Toys',\n",
       " '80 Years After Killings, Senegal Wants the Facts From France',\n",
       " 'Mexican Cartels Lure Chemistry Students to Make Fentanyl',\n",
       " 'Quote of the Day: Bittersweet Homecoming for Displaced Lebanese']"
      ]
     },
     "execution_count": 33,
     "metadata": {},
     "output_type": "execute_result"
    }
   ],
   "source": [
    "\n",
    "headlines[:10]"
   ]
  },
  {
   "cell_type": "markdown",
   "id": "983d166b-4423-4b5f-94df-3b42891eb109",
   "metadata": {},
   "source": [
    "## JSON to Pandas DataFrame\n",
    "\n",
    "If we have nicely formatted JSON data we can often convert it into a more useable pandas data frame with minimal effort by using `pd.DataFrame()`, but keep in mind you may have to do a little indexing first in order to get to the accessible part of the data:"
   ]
  },
  {
   "cell_type": "code",
   "execution_count": null,
   "id": "0d6f8008-c670-434d-9950-1074beb7f11c",
   "metadata": {},
   "outputs": [],
   "source": []
  },
  {
   "cell_type": "code",
   "execution_count": 34,
   "id": "ba71adb0-f18f-49cb-abfa-addd27e9359d",
   "metadata": {},
   "outputs": [
    {
     "data": {
      "text/html": [
       "<div>\n",
       "<style scoped>\n",
       "    .dataframe tbody tr th:only-of-type {\n",
       "        vertical-align: middle;\n",
       "    }\n",
       "\n",
       "    .dataframe tbody tr th {\n",
       "        vertical-align: top;\n",
       "    }\n",
       "\n",
       "    .dataframe thead th {\n",
       "        text-align: right;\n",
       "    }\n",
       "</style>\n",
       "<table border=\"1\" class=\"dataframe\">\n",
       "  <thead>\n",
       "    <tr style=\"text-align: right;\">\n",
       "      <th></th>\n",
       "      <th>abstract</th>\n",
       "      <th>web_url</th>\n",
       "      <th>snippet</th>\n",
       "      <th>lead_paragraph</th>\n",
       "      <th>print_section</th>\n",
       "      <th>print_page</th>\n",
       "      <th>source</th>\n",
       "      <th>multimedia</th>\n",
       "      <th>headline</th>\n",
       "      <th>keywords</th>\n",
       "      <th>pub_date</th>\n",
       "      <th>document_type</th>\n",
       "      <th>news_desk</th>\n",
       "      <th>section_name</th>\n",
       "      <th>byline</th>\n",
       "      <th>type_of_material</th>\n",
       "      <th>_id</th>\n",
       "      <th>word_count</th>\n",
       "      <th>uri</th>\n",
       "      <th>subsection_name</th>\n",
       "    </tr>\n",
       "  </thead>\n",
       "  <tbody>\n",
       "    <tr>\n",
       "      <th>0</th>\n",
       "      <td>The gunman who shot two parishioners at the We...</td>\n",
       "      <td>https://www.nytimes.com/2019/12/31/us/texas-ch...</td>\n",
       "      <td>The gunman who shot two parishioners at the We...</td>\n",
       "      <td>WHITE SETTLEMENT, Texas — Given West Freeway C...</td>\n",
       "      <td>A</td>\n",
       "      <td>16</td>\n",
       "      <td>The New York Times</td>\n",
       "      <td>[{'rank': 0, 'subtype': 'xlarge', 'caption': N...</td>\n",
       "      <td>{'main': '‘Battling a Demon’: Drifter Sought H...</td>\n",
       "      <td>[{'name': 'subject', 'value': 'Churches (Build...</td>\n",
       "      <td>2020-01-01T00:14:41+0000</td>\n",
       "      <td>article</td>\n",
       "      <td>National</td>\n",
       "      <td>U.S.</td>\n",
       "      <td>{'original': 'By Dave Montgomery, Anemona Hart...</td>\n",
       "      <td>News</td>\n",
       "      <td>nyt://article/22fc94cd-2e4a-5af1-89f8-7260bf27...</td>\n",
       "      <td>1295</td>\n",
       "      <td>nyt://article/22fc94cd-2e4a-5af1-89f8-7260bf27...</td>\n",
       "      <td>NaN</td>\n",
       "    </tr>\n",
       "    <tr>\n",
       "      <th>1</th>\n",
       "      <td>Congress could do much more to protect America...</td>\n",
       "      <td>https://www.nytimes.com/2019/12/31/opinion/for...</td>\n",
       "      <td>Congress could do much more to protect America...</td>\n",
       "      <td>Congress invited predatory for-profit colleges...</td>\n",
       "      <td>A</td>\n",
       "      <td>18</td>\n",
       "      <td>The New York Times</td>\n",
       "      <td>[{'rank': 0, 'subtype': 'xlarge', 'caption': N...</td>\n",
       "      <td>{'main': 'Protect Veterans From Fraud', 'kicke...</td>\n",
       "      <td>[{'name': 'subject', 'value': 'Veterans', 'ran...</td>\n",
       "      <td>2020-01-01T00:18:54+0000</td>\n",
       "      <td>article</td>\n",
       "      <td>Editorial</td>\n",
       "      <td>Opinion</td>\n",
       "      <td>{'original': 'By The Editorial Board', 'person...</td>\n",
       "      <td>Editorial</td>\n",
       "      <td>nyt://article/69a7090b-9f36-569e-b5ab-b0ba5bb3...</td>\n",
       "      <td>680</td>\n",
       "      <td>nyt://article/69a7090b-9f36-569e-b5ab-b0ba5bb3...</td>\n",
       "      <td>NaN</td>\n",
       "    </tr>\n",
       "    <tr>\n",
       "      <th>2</th>\n",
       "      <td>The tobacco and vaping industries and conserva...</td>\n",
       "      <td>https://www.nytimes.com/2019/12/31/health/e-ci...</td>\n",
       "      <td>The tobacco and vaping industries and conserva...</td>\n",
       "      <td>The Trump administration is expected to announ...</td>\n",
       "      <td>A</td>\n",
       "      <td>1</td>\n",
       "      <td>The New York Times</td>\n",
       "      <td>[{'rank': 0, 'subtype': 'xlarge', 'caption': N...</td>\n",
       "      <td>{'main': 'F.D.A. Plans to Ban Most E-Cigarette...</td>\n",
       "      <td>[{'name': 'subject', 'value': 'E-Cigarettes', ...</td>\n",
       "      <td>2020-01-01T01:22:27+0000</td>\n",
       "      <td>article</td>\n",
       "      <td>Science</td>\n",
       "      <td>Health</td>\n",
       "      <td>{'original': 'By Sheila Kaplan and Maggie Habe...</td>\n",
       "      <td>News</td>\n",
       "      <td>nyt://article/42d25485-0e48-50bf-8d16-948833b2...</td>\n",
       "      <td>1236</td>\n",
       "      <td>nyt://article/42d25485-0e48-50bf-8d16-948833b2...</td>\n",
       "      <td>NaN</td>\n",
       "    </tr>\n",
       "    <tr>\n",
       "      <th>3</th>\n",
       "      <td>Christina Iverson and Jeff Chen ring in the Ne...</td>\n",
       "      <td>https://www.nytimes.com/2019/12/31/crosswords/...</td>\n",
       "      <td>Christina Iverson and Jeff Chen ring in the Ne...</td>\n",
       "      <td>WEDNESDAY PUZZLE — The weekend columnist Caitl...</td>\n",
       "      <td>NaN</td>\n",
       "      <td>NaN</td>\n",
       "      <td>The New York Times</td>\n",
       "      <td>[{'rank': 0, 'subtype': 'xlarge', 'caption': N...</td>\n",
       "      <td>{'main': '‘It’s Green and Slimy’', 'kicker': '...</td>\n",
       "      <td>[{'name': 'subject', 'value': 'Crossword Puzzl...</td>\n",
       "      <td>2020-01-01T03:00:10+0000</td>\n",
       "      <td>article</td>\n",
       "      <td>Games</td>\n",
       "      <td>Crosswords &amp; Games</td>\n",
       "      <td>{'original': 'By Deb Amlen', 'person': [{'firs...</td>\n",
       "      <td>News</td>\n",
       "      <td>nyt://article/9edddb54-0aa3-5835-a833-d311a76f...</td>\n",
       "      <td>931</td>\n",
       "      <td>nyt://article/9edddb54-0aa3-5835-a833-d311a76f...</td>\n",
       "      <td>NaN</td>\n",
       "    </tr>\n",
       "    <tr>\n",
       "      <th>4</th>\n",
       "      <td>Corrections that appeared in print on Wednesda...</td>\n",
       "      <td>https://www.nytimes.com/2019/12/31/pageoneplus...</td>\n",
       "      <td>Corrections that appeared in print on Wednesda...</td>\n",
       "      <td>An “On This Day in History” item on Tuesday ab...</td>\n",
       "      <td>A</td>\n",
       "      <td>20</td>\n",
       "      <td>The New York Times</td>\n",
       "      <td>[]</td>\n",
       "      <td>{'main': 'Corrections: Jan. 1, 2020', 'kicker'...</td>\n",
       "      <td>[]</td>\n",
       "      <td>2020-01-01T03:28:45+0000</td>\n",
       "      <td>article</td>\n",
       "      <td>Corrections</td>\n",
       "      <td>Corrections</td>\n",
       "      <td>{'original': '', 'person': [], 'organization':...</td>\n",
       "      <td>Correction</td>\n",
       "      <td>nyt://article/16ebc00a-01f2-5f35-905f-15d299e5...</td>\n",
       "      <td>299</td>\n",
       "      <td>nyt://article/16ebc00a-01f2-5f35-905f-15d299e5...</td>\n",
       "      <td>NaN</td>\n",
       "    </tr>\n",
       "  </tbody>\n",
       "</table>\n",
       "</div>"
      ],
      "text/plain": [
       "                                            abstract  \\\n",
       "0  The gunman who shot two parishioners at the We...   \n",
       "1  Congress could do much more to protect America...   \n",
       "2  The tobacco and vaping industries and conserva...   \n",
       "3  Christina Iverson and Jeff Chen ring in the Ne...   \n",
       "4  Corrections that appeared in print on Wednesda...   \n",
       "\n",
       "                                             web_url  \\\n",
       "0  https://www.nytimes.com/2019/12/31/us/texas-ch...   \n",
       "1  https://www.nytimes.com/2019/12/31/opinion/for...   \n",
       "2  https://www.nytimes.com/2019/12/31/health/e-ci...   \n",
       "3  https://www.nytimes.com/2019/12/31/crosswords/...   \n",
       "4  https://www.nytimes.com/2019/12/31/pageoneplus...   \n",
       "\n",
       "                                             snippet  \\\n",
       "0  The gunman who shot two parishioners at the We...   \n",
       "1  Congress could do much more to protect America...   \n",
       "2  The tobacco and vaping industries and conserva...   \n",
       "3  Christina Iverson and Jeff Chen ring in the Ne...   \n",
       "4  Corrections that appeared in print on Wednesda...   \n",
       "\n",
       "                                      lead_paragraph print_section print_page  \\\n",
       "0  WHITE SETTLEMENT, Texas — Given West Freeway C...             A         16   \n",
       "1  Congress invited predatory for-profit colleges...             A         18   \n",
       "2  The Trump administration is expected to announ...             A          1   \n",
       "3  WEDNESDAY PUZZLE — The weekend columnist Caitl...           NaN        NaN   \n",
       "4  An “On This Day in History” item on Tuesday ab...             A         20   \n",
       "\n",
       "               source                                         multimedia  \\\n",
       "0  The New York Times  [{'rank': 0, 'subtype': 'xlarge', 'caption': N...   \n",
       "1  The New York Times  [{'rank': 0, 'subtype': 'xlarge', 'caption': N...   \n",
       "2  The New York Times  [{'rank': 0, 'subtype': 'xlarge', 'caption': N...   \n",
       "3  The New York Times  [{'rank': 0, 'subtype': 'xlarge', 'caption': N...   \n",
       "4  The New York Times                                                 []   \n",
       "\n",
       "                                            headline  \\\n",
       "0  {'main': '‘Battling a Demon’: Drifter Sought H...   \n",
       "1  {'main': 'Protect Veterans From Fraud', 'kicke...   \n",
       "2  {'main': 'F.D.A. Plans to Ban Most E-Cigarette...   \n",
       "3  {'main': '‘It’s Green and Slimy’', 'kicker': '...   \n",
       "4  {'main': 'Corrections: Jan. 1, 2020', 'kicker'...   \n",
       "\n",
       "                                            keywords  \\\n",
       "0  [{'name': 'subject', 'value': 'Churches (Build...   \n",
       "1  [{'name': 'subject', 'value': 'Veterans', 'ran...   \n",
       "2  [{'name': 'subject', 'value': 'E-Cigarettes', ...   \n",
       "3  [{'name': 'subject', 'value': 'Crossword Puzzl...   \n",
       "4                                                 []   \n",
       "\n",
       "                   pub_date document_type    news_desk        section_name  \\\n",
       "0  2020-01-01T00:14:41+0000       article     National                U.S.   \n",
       "1  2020-01-01T00:18:54+0000       article    Editorial             Opinion   \n",
       "2  2020-01-01T01:22:27+0000       article      Science              Health   \n",
       "3  2020-01-01T03:00:10+0000       article        Games  Crosswords & Games   \n",
       "4  2020-01-01T03:28:45+0000       article  Corrections         Corrections   \n",
       "\n",
       "                                              byline type_of_material  \\\n",
       "0  {'original': 'By Dave Montgomery, Anemona Hart...             News   \n",
       "1  {'original': 'By The Editorial Board', 'person...        Editorial   \n",
       "2  {'original': 'By Sheila Kaplan and Maggie Habe...             News   \n",
       "3  {'original': 'By Deb Amlen', 'person': [{'firs...             News   \n",
       "4  {'original': '', 'person': [], 'organization':...       Correction   \n",
       "\n",
       "                                                 _id  word_count  \\\n",
       "0  nyt://article/22fc94cd-2e4a-5af1-89f8-7260bf27...        1295   \n",
       "1  nyt://article/69a7090b-9f36-569e-b5ab-b0ba5bb3...         680   \n",
       "2  nyt://article/42d25485-0e48-50bf-8d16-948833b2...        1236   \n",
       "3  nyt://article/9edddb54-0aa3-5835-a833-d311a76f...         931   \n",
       "4  nyt://article/16ebc00a-01f2-5f35-905f-15d299e5...         299   \n",
       "\n",
       "                                                 uri subsection_name  \n",
       "0  nyt://article/22fc94cd-2e4a-5af1-89f8-7260bf27...             NaN  \n",
       "1  nyt://article/69a7090b-9f36-569e-b5ab-b0ba5bb3...             NaN  \n",
       "2  nyt://article/42d25485-0e48-50bf-8d16-948833b2...             NaN  \n",
       "3  nyt://article/9edddb54-0aa3-5835-a833-d311a76f...             NaN  \n",
       "4  nyt://article/16ebc00a-01f2-5f35-905f-15d299e5...             NaN  "
      ]
     },
     "execution_count": 34,
     "metadata": {},
     "output_type": "execute_result"
    }
   ],
   "source": [
    "out = pd.DataFrame(res.json()['response']['docs']).head()\n",
    "out.head()"
   ]
  },
  {
   "cell_type": "markdown",
   "id": "bb597b21-1978-453a-a766-c67c19326c66",
   "metadata": {},
   "source": [
    "### Article Search\n",
    "\n",
    "If you are looking into the New York Times archives, most of the time, you are trying to find articles about a certain topic. That is, you usually don't want to try to sift through all of the articles that the NYT has published. But, you might be interested in how they are covering the election, for example. In that case, you might not want to grab every single article published. Instead, you'd want to do a search on some keywords. To do this, you can use the Article Search API instead.\n",
    "\n",
    "You can look at the documentation at https://developer.nytimes.com/docs/articlesearch-product/1/overview for more information on how this might work. It is very similar to the Archive API, except we use a slightly different base URL, as well as different parameters. "
   ]
  },
  {
   "cell_type": "code",
   "execution_count": 35,
   "id": "b8780477-dc31-43ba-b9d6-53e675da9e61",
   "metadata": {},
   "outputs": [],
   "source": [
    "article_base = 'https://api.nytimes.com/svc/search/v2/articlesearch.json'"
   ]
  },
  {
   "cell_type": "markdown",
   "id": "081bda8d-1756-47b1-8b67-9a51fa05966f",
   "metadata": {},
   "source": [
    "We can specify the keywords using `q` in our parameters. Let's look for articles with the keyword \"election\"."
   ]
  },
  {
   "cell_type": "code",
   "execution_count": 36,
   "id": "2ae6a691-69de-4621-8607-f4b43ca2ccad",
   "metadata": {},
   "outputs": [],
   "source": [
    "r = get(article_base, params= {'q':'election','api-key':nyt_key}) "
   ]
  },
  {
   "cell_type": "code",
   "execution_count": 37,
   "id": "dc2665bd-d261-45ce-a3a8-865019b20fc3",
   "metadata": {},
   "outputs": [
    {
     "data": {
      "text/plain": [
       "dict_keys(['status', 'copyright', 'response'])"
      ]
     },
     "execution_count": 37,
     "metadata": {},
     "output_type": "execute_result"
    }
   ],
   "source": [
    "response_dict =  r.json()\n",
    "response_dict.keys()"
   ]
  },
  {
   "cell_type": "code",
   "execution_count": 38,
   "id": "0646f614-42d4-4286-bb7a-3df4346da949",
   "metadata": {},
   "outputs": [
    {
     "data": {
      "text/plain": [
       "10"
      ]
     },
     "execution_count": 38,
     "metadata": {},
     "output_type": "execute_result"
    }
   ],
   "source": [
    "election_articles = r.json()['response']['docs']\n",
    "len(election_articles)"
   ]
  },
  {
   "cell_type": "markdown",
   "id": "9a563fe8-a28c-4021-ab45-150d025692a9",
   "metadata": {},
   "source": [
    "<b style=\"color:red;\">Question 7: Use the NYT Article Search to look for articles about mental health in January 2024. How many articles were there? How does this compare to January 2014?</b>"
   ]
  },
  {
   "cell_type": "markdown",
   "id": "c3610720-1376-4100-9ff1-0ac2f5bc45ec",
   "metadata": {},
   "source": [
    "Note that the search only returns 10 articles at a time. We can get more using pagination. "
   ]
  },
  {
   "cell_type": "code",
   "execution_count": 39,
   "id": "aeb21a39-346a-49b7-9574-aa85571a5c72",
   "metadata": {},
   "outputs": [],
   "source": [
    "r = get(article_base, params= {'q':'mental health','api-key':nyt_key})\n",
    "mhealth = r.json()"
   ]
  },
  {
   "cell_type": "code",
   "execution_count": 40,
   "id": "35129cdc-a988-455f-922e-9920ddab2ef2",
   "metadata": {},
   "outputs": [
    {
     "data": {
      "text/plain": [
       "['The sensation of being detached from your surroundings may point to a hard-to-diagnose condition.',\n",
       " 'Azara Ballet in Florida is a place where performers can just be themselves.',\n",
       " 'The rapper and designer formerly known as Kanye West revealed the diagnosis during a podcast interview where he also discussed his upcoming album.',\n",
       " 'Two new Canadian studies are the largest to date looking at death rates and psychosis associated with cannabis use disorder.',\n",
       " 'Lori Laird was defending a couple whose son shot 23 people at his school, while engaged in a desperate struggle with her own son’s mental illness. When are parents to blame?',\n",
       " 'The Navy quietly started screening elite fighter pilots for signs of brain injuries caused by flying, a risk it officially denies exists.',\n",
       " 'The fallout from the F.D.A.’s rejection of MDMA-assisted treatment for PTSD worries researchers and experts who fear other psychedelic drugs in the pipeline could be jeopardized.',\n",
       " 'Yoni Barrios, an unauthorized immigrant whose unprovoked attack on eight people in 2022 drew attention from Donald J. Trump, will serve life in prison without the possibility of parole.',\n",
       " 'The psychiatrist and author of “Dopamine Nation” wants us to find balance in a world of temptation and abundance.',\n",
       " 'Some meditations to help you stay chill.']"
      ]
     },
     "execution_count": 40,
     "metadata": {},
     "output_type": "execute_result"
    }
   ],
   "source": [
    "# pulling the abstracts:\n",
    "\n",
    "[i['abstract'] for i in mhealth['response']['docs']]"
   ]
  },
  {
   "cell_type": "markdown",
   "id": "aeb5020d-6986-4271-b140-bdc222b0ebfd",
   "metadata": {},
   "source": [
    "We can also take a look at the meta information to see how many hits we had. Since we are just searching on \"election\" without any other qualifiers, we would expect to be pretty high."
   ]
  },
  {
   "cell_type": "code",
   "execution_count": 41,
   "id": "2c0f4a32-71dc-40e2-8113-9aa1f5ffe19c",
   "metadata": {},
   "outputs": [],
   "source": [
    "r = get(article_base, params= {'q':'election','api-key':nyt_key}) "
   ]
  },
  {
   "cell_type": "markdown",
   "id": "243d07f5-9c55-4e70-8512-9b9d8e70b1e3",
   "metadata": {},
   "source": [
    "To narrow our search, we can add filters. For example, you can adjust the begin and end dates of your search to look at specific time periods. Let's take a look at the month of January in 2020. Note that the dates use \"YYYYMMDD\" formatting. So, January 1, 2020 will be `20200101`. "
   ]
  },
  {
   "cell_type": "code",
   "execution_count": 42,
   "id": "b121f31e-1cab-43cb-a988-2ce165120426",
   "metadata": {},
   "outputs": [
    {
     "data": {
      "text/plain": [
       "'https://www.nytimes.com/2020/01/16/us/politics/fbi-notify-state-elections-breaches.html'"
      ]
     },
     "execution_count": 42,
     "metadata": {},
     "output_type": "execute_result"
    }
   ],
   "source": [
    "election_parameters = {'q':'election',\n",
    "                       'begin_date':'20200101',\n",
    "                       'end_date':'20200201',\n",
    "                       'api-key':nyt_key}\n",
    "\n",
    "response_2020 = get(article_base, params= election_parameters).json()\n",
    "election_articles3 = response_2020['response']['docs']\n",
    "election_articles3[0]['web_url']"
   ]
  },
  {
   "cell_type": "markdown",
   "id": "99fcaf02-ebbf-4882-be93-3c19fe6371b6",
   "metadata": {},
   "source": [
    "<font color = 'red'>**Question 7: Use the NYT Article Search to look for articles about mental health in January 2024. How many articles were there? How does this compare to January 2014?**</font>"
   ]
  },
  {
   "cell_type": "code",
   "execution_count": 43,
   "id": "94a15729-a6a5-457a-841e-f5b6a00c6d5a",
   "metadata": {},
   "outputs": [],
   "source": [
    "params24 = {'q':'mental health',\n",
    "                       'begin_date':'20240101',\n",
    "                       'end_date':'20240201',\n",
    "                       'api-key':nyt_key}\n",
    "\n",
    "params14 = {'q':'mental health',\n",
    "                       'begin_date':'20140101',\n",
    "                       'end_date':'20140201',\n",
    "                       'api-key':nyt_key}\n",
    "\n",
    "response_01_2024 = get(article_base, params= params24).json()\n",
    "\n",
    "\n",
    "\n",
    "response_01_2014 = get(article_base, params= params14).json()\n"
   ]
  },
  {
   "cell_type": "code",
   "execution_count": 44,
   "id": "fa8e8d2b-d4e8-4251-8e5f-9c86c08900c2",
   "metadata": {},
   "outputs": [
    {
     "data": {
      "text/plain": [
       "75"
      ]
     },
     "execution_count": 44,
     "metadata": {},
     "output_type": "execute_result"
    }
   ],
   "source": [
    "response_01_2024['response']['meta']['hits']\n",
    "\n",
    "response_01_2014['response']['meta']['hits']"
   ]
  },
  {
   "cell_type": "markdown",
   "id": "c4a6bcc9-0564-4310-99d5-692c325f02c4",
   "metadata": {
    "editable": true,
    "slideshow": {
     "slide_type": ""
    },
    "tags": []
   },
   "source": [
    "## Census API\n",
    "\n",
    "One extremely useful API in social science research is the **Census API**. This API provides access to a wide variety of data sources on demographics and characteristics of people in the US. It contains data from the Decennial Census, but also from many other sources, such as the American Community Survey (ACS). Information about the Census API can be found at: https://www.census.gov/data/developers/data-sets.html.\n",
    "\n",
    "As with the New York Times API, you will need to request an API key in order to access it. You can request an API key here: https://api.census.gov/data/key_signup.html. You will need to provide your email address and organization (you can just put University of Maryland), and you should get an email with your census key shortly after that. As with the previous case, you'll want to add it in the appropriate location in your `keys.yml` file, then run the code below to assing the census key to a python variable\n",
    "\n"
   ]
  },
  {
   "cell_type": "code",
   "execution_count": 45,
   "id": "a0d5f721-4ea8-4c75-8804-9e75217ac2b8",
   "metadata": {},
   "outputs": [],
   "source": [
    "with open('../../keys.yml', 'r') as file:\n",
    "    keys = yaml.safe_load(file)\n",
    "census_key = keys['census_api_key']"
   ]
  },
  {
   "cell_type": "markdown",
   "id": "81d8c3af-90af-407a-8cf4-c6b1c59e3b37",
   "metadata": {},
   "source": [
    "Even within just one data source like the ACS, there are lots of different variables and groupings that you can pull data about. We'll start with the 1-year ACS estimates. Information about this data can be found by navigating to the American Community Survey 1-Year Data page (https://www.census.gov/data/developers/data-sets/acs-1year.html). \n",
    "\n",
    "The webpage documentation shows how to access their data as well example code and a list of variables. For example, if you scroll down to the Detailed Tables section, you can find a link to the detailed tables variables (https://api.census.gov/data/2022/acs/acs1/variables.html). The Examples and Supported Geographies page (https://api.census.gov/data/2022/acs/acs1.html) can also be helpful in identifying the data that you want.\n",
    "\n",
    "To start, let's find something basic: the total number of people in each state. Looking at the variables table, we can see that this is called `B01001_001E` (not very intuitive, I know). Since we want this for every state, we use `state:*` as our `for` parameter. We include `NAME` as a variable we want to get since we want to know what the state names are for each of the counts. Finally, we make sure to include our key."
   ]
  },
  {
   "cell_type": "code",
   "execution_count": null,
   "id": "3cc0a77d-4b6e-48e6-9fca-adbdd69546c6",
   "metadata": {},
   "outputs": [],
   "source": [
    "census_base_url = 'https://api.census.gov/data/2022/acs/acs1'\n",
    "\n",
    "census_params = {'get':'NAME,B01001_001E', \n",
    "                 'for':'state:*',\n",
    "                 'key':census_key}\n",
    "\n",
    "r = get(census_base_url, params = census_params)\n"
   ]
  },
  {
   "cell_type": "code",
   "execution_count": null,
   "id": "88e83621-5a76-42bd-a8a2-d4b372f298bc",
   "metadata": {},
   "outputs": [],
   "source": [
    "people_by_state = r.json()\n"
   ]
  },
  {
   "cell_type": "markdown",
   "id": "0b764357-b165-44c8-bd3e-d6f078c9e0a7",
   "metadata": {},
   "source": [
    "<font color = 'red'>**Question 8: Which states had more than 10,000,000 people in 2022? Create a list that contains the names of these states.**</font>"
   ]
  },
  {
   "cell_type": "markdown",
   "id": "c33420a1-f880-4734-b4c0-758859deb807",
   "metadata": {
    "tags": []
   },
   "source": [
    "Note: the structure here is not quite the same as what we retrieved from the NYT API. We're getting a list of lists, and the variable names are just stored in the first list:"
   ]
  },
  {
   "cell_type": "code",
   "execution_count": null,
   "id": "6d78ef1e-94a6-460d-876c-31d5f1b8804f",
   "metadata": {},
   "outputs": [],
   "source": [
    "people_by_state[:5]"
   ]
  },
  {
   "cell_type": "markdown",
   "id": "8bdd6b64-8241-408f-ab5f-b13326a8f7dd",
   "metadata": {},
   "source": [
    "Also note that the population variable is being returned as a string object instead of an integer. So we need to convert this to an integer using `int()`. "
   ]
  },
  {
   "cell_type": "code",
   "execution_count": 225,
   "id": "e483a1e7-d479-4599-a89f-a222083fd83c",
   "metadata": {},
   "outputs": [
    {
     "data": {
      "text/plain": [
       "str"
      ]
     },
     "execution_count": 225,
     "metadata": {},
     "output_type": "execute_result"
    }
   ],
   "source": [
    "type(people_by_state[1][1])"
   ]
  },
  {
   "cell_type": "code",
   "execution_count": 227,
   "id": "c1f2fec8-0ae4-41ea-a870-d2418dcfdab9",
   "metadata": {
    "tags": []
   },
   "outputs": [
    {
     "data": {
      "text/plain": [
       "int"
      ]
     },
     "execution_count": 227,
     "metadata": {},
     "output_type": "execute_result"
    }
   ],
   "source": [
    "type(int(people_by_state[1][1]))"
   ]
  },
  {
   "cell_type": "markdown",
   "id": "e3edbc16-73ca-4aef-9a31-423a346d25c7",
   "metadata": {},
   "source": [
    "So, here's one way to retrieve this list of states using a list comprehension:"
   ]
  },
  {
   "cell_type": "code",
   "execution_count": 228,
   "id": "4b548858-e21c-420b-86de-79ec31cc8d90",
   "metadata": {},
   "outputs": [],
   "source": [
    "states_over_10mil = [i[0] for i in people_by_state[1:] if int(i[1])>=10000000]"
   ]
  },
  {
   "cell_type": "code",
   "execution_count": 229,
   "id": "f6d8e083-fe2f-4599-92c4-2ca6c2cdf027",
   "metadata": {},
   "outputs": [
    {
     "data": {
      "text/plain": [
       "['California',\n",
       " 'Florida',\n",
       " 'Georgia',\n",
       " 'Illinois',\n",
       " 'Michigan',\n",
       " 'New York',\n",
       " 'North Carolina',\n",
       " 'Ohio',\n",
       " 'Pennsylvania',\n",
       " 'Texas']"
      ]
     },
     "execution_count": 229,
     "metadata": {},
     "output_type": "execute_result"
    }
   ],
   "source": [
    "states_over_10mil"
   ]
  },
  {
   "cell_type": "markdown",
   "id": "50b6e1e6-b707-426d-835c-f602660fd0d7",
   "metadata": {},
   "source": [
    "Finally, here's how we could make this into a list of dictionaries so we can then easily convert it into a pandas data frame:"
   ]
  },
  {
   "cell_type": "code",
   "execution_count": null,
   "id": "bdbc523c-443b-4be4-926b-acfc34e22225",
   "metadata": {},
   "outputs": [],
   "source": [
    "popdata =[{'state': i[0], \n",
    "           'population':int(i[1]), \n",
    "           'statecode':i[2]} for i in people_by_state[1:]]"
   ]
  },
  {
   "cell_type": "code",
   "execution_count": null,
   "id": "f26790dc-525e-462f-ae2b-7c9d7c27404d",
   "metadata": {},
   "outputs": [],
   "source": [
    "popdata[:5]"
   ]
  },
  {
   "cell_type": "code",
   "execution_count": 244,
   "id": "0f38057e-0ea7-4e9d-a362-d3f2aa3903c2",
   "metadata": {},
   "outputs": [],
   "source": [
    "popdf = pd.DataFrame(popdata)"
   ]
  },
  {
   "cell_type": "code",
   "execution_count": 243,
   "id": "d15e36c2-7112-47ca-b6a5-dc3e9b52739e",
   "metadata": {},
   "outputs": [
    {
     "data": {
      "text/html": [
       "<div>\n",
       "<style scoped>\n",
       "    .dataframe tbody tr th:only-of-type {\n",
       "        vertical-align: middle;\n",
       "    }\n",
       "\n",
       "    .dataframe tbody tr th {\n",
       "        vertical-align: top;\n",
       "    }\n",
       "\n",
       "    .dataframe thead th {\n",
       "        text-align: right;\n",
       "    }\n",
       "</style>\n",
       "<table border=\"1\" class=\"dataframe\">\n",
       "  <thead>\n",
       "    <tr style=\"text-align: right;\">\n",
       "      <th></th>\n",
       "      <th>state</th>\n",
       "      <th>population</th>\n",
       "      <th>statecode</th>\n",
       "    </tr>\n",
       "  </thead>\n",
       "  <tbody>\n",
       "    <tr>\n",
       "      <th>4</th>\n",
       "      <td>California</td>\n",
       "      <td>39029342</td>\n",
       "      <td>06</td>\n",
       "    </tr>\n",
       "    <tr>\n",
       "      <th>43</th>\n",
       "      <td>Texas</td>\n",
       "      <td>30029572</td>\n",
       "      <td>48</td>\n",
       "    </tr>\n",
       "    <tr>\n",
       "      <th>9</th>\n",
       "      <td>Florida</td>\n",
       "      <td>22244823</td>\n",
       "      <td>12</td>\n",
       "    </tr>\n",
       "    <tr>\n",
       "      <th>32</th>\n",
       "      <td>New York</td>\n",
       "      <td>19677151</td>\n",
       "      <td>36</td>\n",
       "    </tr>\n",
       "    <tr>\n",
       "      <th>38</th>\n",
       "      <td>Pennsylvania</td>\n",
       "      <td>12972008</td>\n",
       "      <td>42</td>\n",
       "    </tr>\n",
       "    <tr>\n",
       "      <th>13</th>\n",
       "      <td>Illinois</td>\n",
       "      <td>12582032</td>\n",
       "      <td>17</td>\n",
       "    </tr>\n",
       "    <tr>\n",
       "      <th>35</th>\n",
       "      <td>Ohio</td>\n",
       "      <td>11756058</td>\n",
       "      <td>39</td>\n",
       "    </tr>\n",
       "    <tr>\n",
       "      <th>10</th>\n",
       "      <td>Georgia</td>\n",
       "      <td>10912876</td>\n",
       "      <td>13</td>\n",
       "    </tr>\n",
       "    <tr>\n",
       "      <th>33</th>\n",
       "      <td>North Carolina</td>\n",
       "      <td>10698973</td>\n",
       "      <td>37</td>\n",
       "    </tr>\n",
       "    <tr>\n",
       "      <th>22</th>\n",
       "      <td>Michigan</td>\n",
       "      <td>10034118</td>\n",
       "      <td>26</td>\n",
       "    </tr>\n",
       "  </tbody>\n",
       "</table>\n",
       "</div>"
      ],
      "text/plain": [
       "             state  population statecode\n",
       "4       California    39029342        06\n",
       "43           Texas    30029572        48\n",
       "9          Florida    22244823        12\n",
       "32        New York    19677151        36\n",
       "38    Pennsylvania    12972008        42\n",
       "13        Illinois    12582032        17\n",
       "35            Ohio    11756058        39\n",
       "10         Georgia    10912876        13\n",
       "33  North Carolina    10698973        37\n",
       "22        Michigan    10034118        26"
      ]
     },
     "execution_count": 243,
     "metadata": {},
     "output_type": "execute_result"
    }
   ],
   "source": [
    "# sorting by population and then taking the first 10 rows: \n",
    "popdf.sort_values('population', ascending=False)[:10]"
   ]
  }
 ],
 "metadata": {
  "kernelspec": {
   "display_name": "Python 3 (ipykernel)",
   "language": "python",
   "name": "python3"
  },
  "language_info": {
   "codemirror_mode": {
    "name": "ipython",
    "version": 3
   },
   "file_extension": ".py",
   "mimetype": "text/x-python",
   "name": "python",
   "nbconvert_exporter": "python",
   "pygments_lexer": "ipython3",
   "version": "3.12.2"
  }
 },
 "nbformat": 4,
 "nbformat_minor": 5
}
