{
 "cells": [
  {
   "cell_type": "markdown",
   "id": "db79b11f-5dce-4ecb-8ecf-c6b95586c522",
   "metadata": {},
   "source": [
    "# APIs and HTTP requests\n",
    "\n",
    "APIs (Application Programming Interfaces) are systems that allow computer programs to interact with one another. Many organizations that maintain large databases available on the internet will also provide an API that is designed to allow users to retrieve, post, or modify data by sending queries programmatically. For instance: you can get a list of current members of Congress by directing your web browser to <a href=\"https://www.congress.gov/search?q=%7B%22congress%22%3A%5B%22118%22%5D%2C%22source%22%3A%22members%22%7D\">Congress.gov</a> and using the search bar, but you could also write a Python program that queries <a href=\"https://github.com/LibraryOfCongress/api.congress.gov/blob/main/Documentation/MemberEndpoint.md\">the Congress.gov API</a> and retrieves the same information. Learning how to navigate these systems makes it very easy to collect data and analyze data from the web.\n",
    "\n",
    "We'll use the <a href=\"https://pypi.org/project/requests/\">Requests</a> library to interact with Web-based APIs using HTTP methods."
   ]
  },
  {
   "cell_type": "code",
   "execution_count": null,
   "id": "869d50c3-6575-440f-bab2-a59962a1a561",
   "metadata": {},
   "outputs": [],
   "source": [
    "from requests import get # \"get\" requests can retrieve data from a server\n",
    "import time # for pausing between iterations of a loop\n",
    "# data manipulation\n",
    "import pandas as pd \n",
    "import numpy as np\n"
   ]
  },
  {
   "cell_type": "markdown",
   "id": "8b758cd9-430e-4758-ad27-6f30578e1915",
   "metadata": {},
   "source": [
    "# How does the request package work?\n",
    "We'll start with a simple example of using an API to get information about the International Space Station, such as location and people currently on the ISS. Information about this API can be found here: http://open-notify.org\n",
    "\n",
    "Note: There are Python code examples provided in the documentation as well. We will be using slightly different code, but their code should work too! There are multiple modules you can use to access APIs, and we just use one possibility. Feel free to look at the code that they provide and see if you can figure out what is going on.\n"
   ]
  },
  {
   "cell_type": "markdown",
   "id": "728afcad-c22b-4c89-bba4-18bb76b540c3",
   "metadata": {},
   "source": [
    "# Using the Open Notify ISS API\n",
    "To access the API, we use the request function. In oder to tell Python what to access we need to specify the url of the API endpoint.\n",
    "\n",
    "# Making a Request\n",
    "When you ping a website or portal for information this is called making a request. That is exactly what the requests library has been designed to do.\n",
    "\n",
    "### Step 1. Specify the URL"
   ]
  },
  {
   "cell_type": "code",
   "execution_count": null,
   "id": "acb643a4-767f-43bc-8f3f-97c340ec8480",
   "metadata": {},
   "outputs": [],
   "source": [
    "url = \"http://api.open-notify.org/iss-now.json\""
   ]
  },
  {
   "cell_type": "markdown",
   "id": "cd9a5e5c-e57c-42d0-9532-5fb609c26b58",
   "metadata": {},
   "source": [
    "(you could also plug this url directly into the address bar in your browser and get a response. You're sending simple get requests every time you click a link)"
   ]
  },
  {
   "cell_type": "markdown",
   "id": "352cff2d-71bf-4828-a47c-f52ebf57c8b5",
   "metadata": {},
   "source": [
    "### Step 2. Get the response"
   ]
  },
  {
   "cell_type": "markdown",
   "id": "4662ab05-1238-43b1-8ff9-6fe003770e6d",
   "metadata": {},
   "source": [
    "Now let's get the response using the URL defined above, using the requests library. We'll use the HTTP `get` method to retrieve data. Note that, as soon as we use `get()` we're sending a request to the server and (hopefully) retrieving data.  This will be important to keep in mind since many sources will place limits on the number of requests we can send in a given time period."
   ]
  },
  {
   "cell_type": "code",
   "execution_count": null,
   "id": "5d45bbd5-89b9-4ff5-87b1-48a64da52e4c",
   "metadata": {},
   "outputs": [],
   "source": [
    "# Response from the URL\n",
    "# get is a function from requests\n",
    "\n",
    "r = get(url) \n",
    "\n",
    "r.url"
   ]
  },
  {
   "cell_type": "markdown",
   "id": "fd9fc636-92c1-4366-8045-5e7d46233250",
   "metadata": {},
   "source": [
    "## Step 3. Check the Response Code\n",
    "Before you can do anything with a website or URL in Python, it’s a good idea to check the current status code of said portal.\n",
    "\n",
    "The following are some useful response codes to keep in mind:\n",
    "\n",
    "`200` - the query parameters are all valid; the results will be in the body of the response\n",
    "\n",
    "`400` - the query parameters are not valid, typically either because they are not in valid JSON format, or a specified field or value is not valid; the “status reason” in the header will contain the error message\n",
    "\n",
    "`500` - there is an internal error with the processing of the query; the “status reason” in the header will contain the error message\n",
    "\n",
    "If we get a `200`, we're ready to start checking out the results of our query.\n"
   ]
  },
  {
   "cell_type": "code",
   "execution_count": null,
   "id": "91e384a9-da7e-4f95-b975-ec637fd526ac",
   "metadata": {},
   "outputs": [],
   "source": [
    "r.status_code  # Check the status code\n"
   ]
  },
  {
   "cell_type": "markdown",
   "id": "940972d3-7a74-4b92-8c43-8d0d08c4f804",
   "metadata": {},
   "source": [
    "## Step 4. Get the Content (and maybe parse it)\n",
    "\n",
    "Web browsers will use HTML to display information in an attractive format that's easy for humans to read, but when we're working with an API, all this extra formatting is just wasted space, so we'll usually get data a more computer-friendly format like <a href=\"https://www.json.org/json-en.html\">JSON (Java Script Object Notation)</a>. \n",
    "\n",
    "JSON data will consist of a set of attributes followed by one or more values: "
   ]
  },
  {
   "cell_type": "code",
   "execution_count": null,
   "id": "44577dca-6759-4e50-b5a0-cdf9dcba69db",
   "metadata": {},
   "outputs": [],
   "source": [
    "print(r.content)"
   ]
  },
  {
   "cell_type": "markdown",
   "id": "02266e57-fdbc-4f20-9c1a-861f224c67b1",
   "metadata": {},
   "source": [
    "Despite the name, JSON is platform independent and can easily be converted into Python data by using the `json` method:"
   ]
  },
  {
   "cell_type": "code",
   "execution_count": null,
   "id": "5a57191d-7ec0-4c6f-ad63-c47f8a32c77c",
   "metadata": {},
   "outputs": [],
   "source": [
    "json_result = r.json()"
   ]
  },
  {
   "cell_type": "code",
   "execution_count": null,
   "id": "03988acc-b038-432c-8128-88192f23cb2b",
   "metadata": {},
   "outputs": [],
   "source": [
    "type(json_result) # what kind of data is this? "
   ]
  },
  {
   "cell_type": "code",
   "execution_count": null,
   "id": "2e7ffa09-7bf4-4490-a82a-afd0fd65d34c",
   "metadata": {},
   "outputs": [],
   "source": [
    "json_result # view the data"
   ]
  },
  {
   "cell_type": "markdown",
   "id": "2b8c46ac-24c9-471b-a97b-fd36ace5e000",
   "metadata": {},
   "source": [
    "Here, this API gives us information on the timestamp, the message whether it was a success or not, and the ISS position. This isn't a super sophisticated API, because it really only gives information about the position of the ISS whenever you send a request, but it does give some information."
   ]
  },
  {
   "cell_type": "markdown",
   "id": "d244385c-6727-4863-b76a-f58dbb1a9304",
   "metadata": {},
   "source": [
    "Sometimes, it can be hard to see exactly what is in the response. Since this object is a python dictioanry, we can use the `.keys` method to list the fields available in this response:"
   ]
  },
  {
   "cell_type": "code",
   "execution_count": null,
   "id": "b8473fbf-df96-4d65-b9ba-f1e7e048b5bd",
   "metadata": {},
   "outputs": [],
   "source": [
    "json_result.keys()  # View JSON keys"
   ]
  },
  {
   "cell_type": "markdown",
   "id": "4e6e9873-b77e-4eb8-adf4-53f6f36a581f",
   "metadata": {},
   "source": [
    "Alternatively, to just plug the request url into a browser bar and look at the result"
   ]
  },
  {
   "cell_type": "code",
   "execution_count": null,
   "id": "eea68231-0c58-447a-8976-be2f8af7c9fd",
   "metadata": {},
   "outputs": [],
   "source": [
    "r.url"
   ]
  },
  {
   "cell_type": "markdown",
   "id": "622dea8a-1655-43a4-b59c-db74229f6c43",
   "metadata": {},
   "source": [
    "Note that we have three keys: message, iss_position, and timestamp. The information that we really want is in the iss_position key. We can try taking a look at it."
   ]
  },
  {
   "cell_type": "code",
   "execution_count": null,
   "id": "538464ed-3112-4215-a61c-f7ae896c1351",
   "metadata": {},
   "outputs": [],
   "source": [
    "json_result['iss_position']\n"
   ]
  },
  {
   "cell_type": "markdown",
   "id": "99071da2-22b3-4e38-8a61-09c78eee7b3c",
   "metadata": {},
   "source": [
    "<b style=\"color:red;\">Question 1: use the open-notify API to find the number and names of all of the people currently in space.</b>\n",
    "\n",
    "You'll want to send a `get` request to this URL: http://api.open-notify.org/astros.json"
   ]
  },
  {
   "cell_type": "code",
   "execution_count": null,
   "id": "63d7109b-04ff-44b2-8d60-9f628a3855b2",
   "metadata": {},
   "outputs": [],
   "source": []
  },
  {
   "cell_type": "markdown",
   "id": "f2b911ec-0c24-40d1-9e18-cd75b9cd0c72",
   "metadata": {},
   "source": [
    "# Processing complex API data\n",
    "The ISS API is a very simple example of an API. There is only one thing that we can get from it: the position of the ISS at the point in time that we send the request. Usually, we also have query parameters that we add so that we can specify exactly what data we want to get, and we'll often need to use pagination to navigate through large amounts of data in manageable chunks.\n",
    "\n",
    "We'll use the pokeapi, a suprisingly well-documented API with information about various pokemon, as an example. The PokeApi, like most larger data sources, organizes their data into different sets of resources that users can query. For instance:\n",
    "\n",
    " - [https://pokeapi.co/api/v2/pokemon](https://pokeapi.co/api/v2/pokemon) for pokemon\n",
    "\n",
    " - [https://pokeapi.co/api/v2/move](https://pokeapi.co/api/v2/move) for moves\n",
    "\n",
    " - [https://pokeapi.co/api/v2/item](https://pokeapi.co/api/v2/item) for items\n",
    "\n",
    "\n",
    "You can find a list of those resources [here](https://pokeapi.co/docs/v2#info)\n",
    "\n"
   ]
  },
  {
   "cell_type": "markdown",
   "id": "75a79005-0246-469d-a1a9-6fbab315fbb5",
   "metadata": {},
   "source": [
    "We'll start by accessing the \"pokemon\" resource. For now, you don't need to do anything in python, just enter this url into your browser and take a look at the result:\n",
    "\n",
    "[https://pokeapi.co/api/v2/pokemon](https://pokeapi.co/api/v2/pokemon)\n",
    "\n"
   ]
  },
  {
   "cell_type": "markdown",
   "id": "a0ee05df-2867-484c-88b3-7a6df0991c34",
   "metadata": {},
   "source": [
    "You might notice that the data here are a little more complex that what we got from the ISS API: the `count`, `next`, and `previous` keys all contain just a single value, but the `results` key contains a list with multiple dictionaries nested inside it. This kind of nesting structure is very common when working with data from APIs because its an efficient way to transfer and store data, but its generally not a good format for analysis.\n",
    "\n",
    "Reshaping this kind of data into something that we can put in a table will be one of the key challenges of working with most APIs.\n",
    "\n",
    "Lets pull in a single response and look at it in python:"
   ]
  },
  {
   "cell_type": "code",
   "execution_count": null,
   "id": "7cb61f2d-8d3f-416b-8a03-c0675e33dcd4",
   "metadata": {},
   "outputs": [],
   "source": [
    "base_url  = 'https://pokeapi.co/api/v2/pokemon'\n",
    "r = get(base_url)\n"
   ]
  },
  {
   "cell_type": "code",
   "execution_count": null,
   "id": "58e66e0a-4aa8-4289-a63b-816fb9997676",
   "metadata": {},
   "outputs": [],
   "source": [
    "\n",
    "r.json()"
   ]
  },
  {
   "cell_type": "markdown",
   "id": "59c9f888-8db6-4dc4-9c6c-77e9ebf97891",
   "metadata": {},
   "source": [
    "For now, ignore the `count`, `next`, and `previous` parts and just look at the `results` object. How do we get this into a more useable format?\n",
    "\n",
    "If want to put all the the `url` values into a single list. I could just use a list comprehension to iterate through each results:"
   ]
  },
  {
   "cell_type": "code",
   "execution_count": null,
   "id": "33c5d110-7ff7-479a-a396-a8e7aeac2ae3",
   "metadata": {},
   "outputs": [],
   "source": [
    "one_result = r.json()['results']\n",
    "\n",
    "[i['url'] for i in one_result]"
   ]
  },
  {
   "cell_type": "markdown",
   "id": "a5e2ff24-c569-4bcb-8fc2-1b08c71c353f",
   "metadata": {},
   "source": [
    "However, in most cases, our end-goal is going to be to put this kind of API response into a pandas `DataFrame` object so that we can easily do things like plot results or calculate summary statistics. \n",
    "\n",
    "\n",
    "If our data is already stored in a format where we just have a list of dictionary objects, the `pd.DataFrame` function will automatically restructure the response and make it into a data frame:"
   ]
  },
  {
   "cell_type": "code",
   "execution_count": null,
   "id": "49d01dec-c473-4744-8671-a471d4cf2f03",
   "metadata": {
    "scrolled": true
   },
   "outputs": [],
   "source": [
    "result_df = pd.DataFrame(one_result)\n",
    "\n",
    "# .head  method prints the first few rows\n",
    "result_df.head()"
   ]
  },
  {
   "cell_type": "markdown",
   "id": "fe3e6945-7644-4f7e-ab1b-5dcee6993d15",
   "metadata": {},
   "source": [
    "This won't always work! Sometimes the data will have multiple layers of nesting and we'll need to do some additional refactoring before we can really put anything into a data frame, but we can usually use some list comprehensions/loops to process the data into something that can be easily turned into a pandas `DataFrame`"
   ]
  },
  {
   "cell_type": "markdown",
   "id": "c79443c0-6403-406e-a144-05b1b23b43ca",
   "metadata": {},
   "source": [
    "## Pagination and Request Parameters"
   ]
  },
  {
   "cell_type": "markdown",
   "id": "933b98dc-4104-4586-bf63-25db884bb669",
   "metadata": {},
   "source": [
    "You'll notice that we've only got a about 20 pokemon listed here. There's a lot more than that, but we can't access it right away because the PokeApi uses pagination to limit the number of results per query. To collect a complete list, we'll need to send multiple queries to retrieve each \"page\" of data. \n",
    "\n",
    "We'll do this pagination process by incrementing an **offset parameter** that tells the API what parts of the full data set to send us. If we were doing this manually, we would write out URLS like this:\n",
    "\n",
    "- results 1-20: https://pokeapi.co/api/v2/pokemon/?offset=0 \n",
    "- results 21-40: https://pokeapi.co/api/v2/pokemon/?offset=20\n",
    "- results 41-60: https://pokeapi.co/api/v2/pokemon/?offset=40\n",
    "\n",
    "... and so on.\n",
    "\n",
    "However, since life is short, we can do this programmatically by using the `get` function with the params argument in a loop.\n",
    "\n"
   ]
  },
  {
   "cell_type": "markdown",
   "id": "f21b35c0-516c-4262-a610-5c3f54a3adb1",
   "metadata": {},
   "source": [
    "To send a single parameterized query, we can pass a dictionary where the keys represent the name of each parameter, and the values indicate the value of each parameter. So here's how we would send a single request with the `offset` at 20:"
   ]
  },
  {
   "cell_type": "code",
   "execution_count": null,
   "id": "18c17c75-db08-4f0d-943a-96ace99f4efe",
   "metadata": {},
   "outputs": [],
   "source": [
    "base_url  = 'https://pokeapi.co/api/v2/pokemon'\n",
    "params = {'offset' : 20}\n",
    "\n",
    "r = get(base_url, params = params)"
   ]
  },
  {
   "cell_type": "code",
   "execution_count": null,
   "id": "d5d071a0-ab70-4398-8fe9-a9b5942d603c",
   "metadata": {},
   "outputs": [],
   "source": [
    "# note the url:\n",
    "r.url"
   ]
  },
  {
   "cell_type": "markdown",
   "id": "1522551f-48f3-452b-818d-26ff1772101b",
   "metadata": {},
   "source": [
    "So doing this in a loop should be reasonably straightforward: we just need a loop that increments the offset parameter by 20 after each iteration. Here's a loop that just illustrates that idea:"
   ]
  },
  {
   "cell_type": "code",
   "execution_count": null,
   "id": "ceed8e55-0234-4ff6-b87c-1c1706c6ffb3",
   "metadata": {},
   "outputs": [],
   "source": [
    "# just showing the general idea here\n",
    "for i in range(5):\n",
    "    print(\"offset :\", 20 * i)"
   ]
  },
  {
   "cell_type": "markdown",
   "id": "3188b1ba-2851-4b97-89df-fa80d165348c",
   "metadata": {},
   "source": [
    "Since we don't want to send too many requests at once, we'll put a small pause between each iteration of the loop with `time.sleep()`. I'll also add a `print(i, end =\" \")` line that just prints the current value of `i` after each iteration. This will let us keep track of how the loop is progressing."
   ]
  },
  {
   "cell_type": "code",
   "execution_count": null,
   "id": "f1c7505d-06e9-44a1-aade-a4118bdff0d1",
   "metadata": {},
   "outputs": [],
   "source": [
    "base_url  = 'https://pokeapi.co/api/v2/pokemon'\n",
    "result_list = []\n",
    "for i in range(5):\n",
    "    params = {'offset' : 20 * i}\n",
    "    r = get(base_url, params = params)\n",
    "    result_list.append(r.json())\n",
    "    time.sleep(.3)\n",
    "    print(i, end =\" \")\n",
    "    "
   ]
  },
  {
   "cell_type": "markdown",
   "id": "f1e93a6c-0a8b-427e-9fb8-4f0e1daacd4e",
   "metadata": {},
   "source": [
    "That's it! So now we've got the first five pages"
   ]
  },
  {
   "cell_type": "code",
   "execution_count": null,
   "id": "c0aa406a-b517-464c-91cf-568d80527372",
   "metadata": {},
   "outputs": [],
   "source": [
    "len(result_list)"
   ]
  },
  {
   "cell_type": "markdown",
   "id": "94393625-0470-4d18-95e3-5463c4eb9336",
   "metadata": {},
   "source": [
    "## While Loops"
   ]
  },
  {
   "cell_type": "markdown",
   "id": "7a5ff26a-ec27-445c-a2ca-d46879860357",
   "metadata": {},
   "source": [
    "We've got a method that gives us a certain number of pages, but what if we just want to collect all of the data from this resource? The simplest and most generalizable way to do this is to use a `while` loop, which is a kind of loop that repeats until a logical expression = `False`. For example, here's a loop that increments `i` while it is less than 5 and then breaks:\n"
   ]
  },
  {
   "cell_type": "code",
   "execution_count": null,
   "id": "0cebe831-cb95-4913-a842-c32933514cda",
   "metadata": {
    "editable": true,
    "scrolled": true,
    "slideshow": {
     "slide_type": ""
    },
    "tags": []
   },
   "outputs": [],
   "source": [
    "i = 0\n",
    "while i < 5:\n",
    "    print(i)\n",
    "    i = i +1 "
   ]
  },
  {
   "cell_type": "markdown",
   "id": "e962499e-fd6c-4f3b-b29f-842fa316192f",
   "metadata": {},
   "source": [
    "<div class=\"alert alert-block alert-info\"> \n",
    "<b>NOTE</b> unlike a <code>for</code> loop, I actually need to \"manually\" increase the value of <code>i</code> in each iteration. If I don't do this, the loop just runs forever. If you find things are running for a very long time, you can press the little square button at the top of the page to stop the kernel)\n",
    "</div>\n"
   ]
  },
  {
   "cell_type": "markdown",
   "id": "a727a97c-becd-46a1-8e32-0bdff791c8f1",
   "metadata": {},
   "source": [
    "So <b>I just need a while loop that runs until there are no more results to retrieve.</b>\n",
    "\n",
    "To make it a little easier, here's the URL for the last page of data:\n",
    "https://pokeapi.co/api/v2/pokemon?offset=1304\n",
    "\n",
    "<b style=\"color:red;\">Question 2: see if you can write a logical expression that evaluates to `True` for the `firstpage` response, and `False` for the `lastpage` response</b>\n"
   ]
  },
  {
   "cell_type": "code",
   "execution_count": null,
   "id": "af144cc0-226d-4100-90d5-3b714066e313",
   "metadata": {},
   "outputs": [],
   "source": [
    "firstpage = get('https://pokeapi.co/api/v2/pokemon?offset=0').json()\n",
    "lastpage = get('https://pokeapi.co/api/v2/pokemon?offset=1304').json()"
   ]
  },
  {
   "cell_type": "code",
   "execution_count": null,
   "id": "9a57b743-ff26-4101-b0ed-8f140a291811",
   "metadata": {},
   "outputs": [],
   "source": [
    "#"
   ]
  },
  {
   "cell_type": "markdown",
   "id": "c00f9ca6-afcf-4b52-8a94-9399a1e929b4",
   "metadata": {},
   "source": [
    "<b style=\"color:red;\"> Question 3: Now try to use the expression you set up above to create a while loop that collects all of the data</b>\n",
    "\n",
    "Here's a rough outline of what you should be doing:\n",
    "\n",
    "```\n",
    "all_results = []\n",
    "i = 0\n",
    "morepages = True\n",
    "while morepages == True: \n",
    "    1. send a request\n",
    "    2. append the response to all_results\n",
    "    3. set morepages = [some expression that is False when you have reached the last page]\n",
    "    4. increment i \n",
    "```\n",
    "\n"
   ]
  },
  {
   "cell_type": "code",
   "execution_count": null,
   "id": "3fd51717-5606-4681-85a0-9416bb3a1ba4",
   "metadata": {},
   "outputs": [],
   "source": [
    "#\n"
   ]
  },
  {
   "cell_type": "markdown",
   "id": "b05d09ee-4fa8-4c1f-9b83-50a899e65896",
   "metadata": {},
   "source": [
    "### Possible Solutions\n",
    "You can click the cells below to see some potential solutions. But only do this if you're stuck\n",
    "\n",
    "<details> \n",
    "<summary>Click to see possible answer 1</summary>    \n",
    "\n",
    "## Solution 1\n",
    "\n",
    "\n",
    "Here's one possible version that just runs until `morepages = len(result['results'])> 0`. Once we reach the last page, we get an empty list, so this should evaluate to False, which will break the loop\n",
    "``` python\n",
    "i = 0 \n",
    "morepages = True\n",
    "pokemon_results = []\n",
    "\n",
    "while morepages == True:\n",
    "    params = {'offset' : 20 * i}\n",
    "    r = get(base_url, params = params)\n",
    "    response = r.json()\n",
    "    pokemon_results.append(response)\n",
    "    time.sleep(.3)\n",
    "    morepages = len(response['results'])> 0 \n",
    "    print(i, end =\" \")\n",
    "    i+=1\n",
    "```\n",
    "</details>   "
   ]
  },
  {
   "cell_type": "markdown",
   "id": "259354c3-65c5-4a35-87bd-9a7dd01efc50",
   "metadata": {},
   "source": [
    "<details> \n",
    "<summary>Click to see possible answer 2</summary>    \n",
    "\n",
    "## Solution 2\n",
    "Here's another option that uses some metadata provided by the API. Since it gives us a `next` url with each response, we can actually just use this response to paginate through our results and break the loop when there are no more next urls to retrieve.\n",
    "\n",
    "``` python\n",
    "i = 0 \n",
    "morepages = True\n",
    "pokemon_results = []\n",
    "request_url = 'https://pokeapi.co/api/v2/pokemon'\n",
    "\n",
    "while request_url is not None:\n",
    "    response = get(request_url).json()\n",
    "    pokemon_results.append(response)\n",
    "    request_url = response['next']\n",
    "    time.sleep(.3)\n",
    "    print(request_url, end =\"\\r\")\n",
    "```\n",
    "</details>"
   ]
  },
  {
   "cell_type": "markdown",
   "id": "a85b4b8a-070b-48d4-8a65-58a8ec62eeed",
   "metadata": {},
   "source": [
    "If we want to be a little more efficient: we can use the `limit` parameter to adjust how much data is returned from each request. The default is 20, but we can increase this to a larger value so that we can retrieve the data in a smaller number of requests. The only catch is that we need to also adjust how we increment the offset parameter (it should increase by the value of limit after every iteration)"
   ]
  },
  {
   "cell_type": "code",
   "execution_count": null,
   "id": "2977d618-4933-484a-8505-d7984088d1b1",
   "metadata": {},
   "outputs": [],
   "source": [
    "pagelength = 250\n",
    "i = 0 \n",
    "morepages = True\n",
    "pokemon_results = []\n",
    "\n",
    "while morepages == True:\n",
    "    params = {'offset' : pagelength * i, 'limit': pagelength} # adjusting the offset AND limit parameters\n",
    "    r = get(base_url, params = params)\n",
    "    response = r.json()\n",
    "    pokemon_results.append(response)\n",
    "    time.sleep(.3)\n",
    "    morepages = len(response['results'])> 0 \n",
    "    print(i, end =\" \")\n",
    "    i+=1"
   ]
  },
  {
   "cell_type": "markdown",
   "id": "9d8ae60c-a538-4d54-8fae-789382318b63",
   "metadata": {},
   "source": [
    "## Processing the results"
   ]
  },
  {
   "cell_type": "markdown",
   "id": "0f86a287-d95f-4f15-87bd-85da6cd6b662",
   "metadata": {},
   "source": [
    "Now that we've retrieved our results, we want to do something with the data we've assembled. In many cases we'll want to do some additional restructuring, but in this instance we probably just want to retrieve the `results` part of our `pokemon_results` list and store it as one big data set."
   ]
  },
  {
   "cell_type": "code",
   "execution_count": null,
   "id": "104585cd-1229-48d6-b2e3-6e20df7f73f9",
   "metadata": {},
   "outputs": [],
   "source": [
    "len(pokemon_results) # the number of pages we collected"
   ]
  },
  {
   "cell_type": "code",
   "execution_count": null,
   "id": "caba5075-3c86-43ef-b9c4-455e3cc44341",
   "metadata": {},
   "outputs": [],
   "source": [
    "# accessing the first five values of the \"results\" part of the 1st page of data\n",
    "pokemon_results[0]['results'][:5]"
   ]
  },
  {
   "cell_type": "markdown",
   "id": "799aa94c-09e1-476e-9df4-82ce9ee2ede6",
   "metadata": {},
   "source": [
    "We already know that we can turn the `results` list into a DataFrame with `pd.DataFrame`, but now we need to do that same process to the multiple pages of data we just collected.\n",
    "\n",
    "We'll use a list comprehension to turn each page of data into a separate data frame, and then use `pd.concat` to concatenate all of them into one large data frame object"
   ]
  },
  {
   "cell_type": "code",
   "execution_count": null,
   "id": "f3826c62-b0f2-4330-9ccc-c50c400840f6",
   "metadata": {},
   "outputs": [],
   "source": [
    "datalist = [pd.DataFrame(i['results']) for i in pokemon_results]\n",
    "\n",
    "df = pd.concat(datalist).reset_index() # reset index ensures the row indices are unique\n",
    "df.shape # get the dimensions of the data frame:"
   ]
  },
  {
   "cell_type": "code",
   "execution_count": null,
   "id": "37473eaa-5a49-43d5-8b91-33a872d1002c",
   "metadata": {},
   "outputs": [],
   "source": [
    "# view the first few rows:\n",
    "df.tail()"
   ]
  },
  {
   "cell_type": "markdown",
   "id": "39325b72-a87f-41f3-b034-ea01a1c94c1b",
   "metadata": {},
   "source": [
    "# Querying other resources\n",
    "\n",
    "Okay, so we've assembled a list of all pokemon by name and also a set of urls. Following those urls will take us to *another* resource with data about a specific pokemon. \n",
    "\n",
    "https://pokeapi.co/api/v2/pokemon/1/\n"
   ]
  },
  {
   "cell_type": "markdown",
   "id": "08e7f6ff-8cc1-455b-b779-71e10347f7e6",
   "metadata": {
    "scrolled": true
   },
   "source": [
    "If we send a get request to that URL, we can pull in even more data about the selected pokemon. This response object is a little more complex:"
   ]
  },
  {
   "cell_type": "code",
   "execution_count": null,
   "id": "346a84c5-ff31-4349-8d66-9ed5355f6797",
   "metadata": {},
   "outputs": [],
   "source": [
    "url = df['url'][0]\n",
    "pokemon = get(url)\n",
    "data = pokemon.json()\n",
    "\n",
    "data.keys()\n"
   ]
  },
  {
   "cell_type": "markdown",
   "id": "82acedc3-9137-4fe8-b775-c634b0e26a6d",
   "metadata": {},
   "source": [
    "The response object contains a lot of data that we don't necessarily want, but we can create a dictionary that only contains elements we care about like this. I'm going to extract only the name, weight, height, and a like to an image file of each pokemon:"
   ]
  },
  {
   "cell_type": "markdown",
   "id": "41a6a01e-5c93-470e-af65-dd4699093d0b",
   "metadata": {},
   "source": [
    "<b style=\"color:red;\"> Question 4: write code to create a dictionary with the following: the `name`, `weight`, `height` and the `front_default` element from the `sprites` key.</b>"
   ]
  },
  {
   "cell_type": "code",
   "execution_count": null,
   "id": "a5326bef-7531-4b78-a4f1-a0dbf47dc420",
   "metadata": {},
   "outputs": [],
   "source": [
    "#\n",
    "\n",
    "\n"
   ]
  },
  {
   "cell_type": "markdown",
   "id": "cdced84f-e476-4a15-bde0-004ed617c721",
   "metadata": {},
   "source": [
    "What if I want to do this for the first 20 pokemon? Here again, I can use a loop. In this case, we're going to use our loop to do the following:\n",
    "1. Navigate to urls 1 through 20\n",
    "2. With each response, extract the `name`, `weight`, `height`, and `sprite` objects\n",
    "3. Store these 4 values in a list\n",
    "\n",
    "\n",
    "As with the previous case, I want to use `time.sleep` to put a small pause between each query. In some cases, APIs will have a specific limit on how many requests you can send in a given time frame, but in this case there's no set limit, so we're just going to use a delay of .3 seconds as a courtesy"
   ]
  },
  {
   "cell_type": "markdown",
   "id": "d9267e4d-f8ff-40e1-b13c-b9c3516f60c8",
   "metadata": {},
   "source": [
    "<b style=\"color:red;\"> Question 5: Use a loop and the code you wrote in question three to create a nested list called `pokeinfo` that contains `name`, `weight`, `height` and the `front_default` for the first 20 pokemon</b>"
   ]
  },
  {
   "cell_type": "markdown",
   "id": "f9021ffe-9ce7-455b-8c72-bb599bff6e62",
   "metadata": {},
   "source": [
    "Hint: you can access the first twenty urls like this: `df['url'][:20]`\n",
    "\n",
    "Example:\n"
   ]
  },
  {
   "cell_type": "code",
   "execution_count": null,
   "id": "08dd9e3a-a852-428d-ace4-6f79cedde8f8",
   "metadata": {},
   "outputs": [],
   "source": [
    "for i in df['url'][:20]:\n",
    "    print(i)"
   ]
  },
  {
   "cell_type": "code",
   "execution_count": null,
   "id": "6feaca75-7957-40b7-b291-e481053cbdfa",
   "metadata": {},
   "outputs": [],
   "source": [
    "# Your code    "
   ]
  },
  {
   "cell_type": "markdown",
   "id": "46c0e712-414c-4b0e-849a-2a99e5ae1a1b",
   "metadata": {},
   "source": [
    "Once I've collected my data, I can use the `pd.DataFrame` function again to combine my list of dictionaries into a single data frame:"
   ]
  },
  {
   "cell_type": "code",
   "execution_count": null,
   "id": "589c74c9-8e4a-43f3-b4c3-7e44650d81aa",
   "metadata": {},
   "outputs": [],
   "source": [
    "pokedata = pd.DataFrame(pokeinfo)"
   ]
  },
  {
   "cell_type": "code",
   "execution_count": null,
   "id": "2ba2075e-470b-407e-b16e-aafea4bee677",
   "metadata": {},
   "outputs": [],
   "source": [
    "pokedata.head()"
   ]
  },
  {
   "cell_type": "markdown",
   "id": "7c528d62-2f30-4ddc-aa20-6880940fff29",
   "metadata": {},
   "source": [
    "# Making something"
   ]
  },
  {
   "cell_type": "code",
   "execution_count": null,
   "id": "68a61090-d9bd-4a12-9786-44670f18ff89",
   "metadata": {},
   "outputs": [],
   "source": []
  },
  {
   "cell_type": "markdown",
   "id": "da3d4921-0cbf-4e47-8906-d646d587bd3b",
   "metadata": {},
   "source": [
    "This is skipping ahead quite a bit, but I wanted to illustrate cool stuff you can do with API data. So the code in this section is going to create an interactive scatter plot showing the heights and weights of pokemon, using the imagess of the pokemon themselves in place of the points."
   ]
  },
  {
   "cell_type": "code",
   "execution_count": null,
   "id": "a5099546-312c-4c3f-bf74-23dbb6f6b6b0",
   "metadata": {},
   "outputs": [],
   "source": [
    "pokeinfo = []\n",
    "\n",
    "for i in df['url'][:20]:\n",
    "    pokemon = get(i)\n",
    "    data = pokemon.json()\n",
    "    res = {\n",
    "        'url' : i,\n",
    "        'name' : data['name'],\n",
    "        'weight': data['weight'], \n",
    "        'height': data['height'],\n",
    "        'sprite' : data['sprites']['front_default']\n",
    "        \n",
    "    }\n",
    "    pokeinfo.append(res)\n",
    "    time.sleep(.3)\n",
    "    print(i, end='\\r')\n",
    "\n",
    "\n",
    "pokedata = pd.DataFrame(pokeinfo)\n",
    "pokedata.head()"
   ]
  },
  {
   "cell_type": "markdown",
   "id": "1968bd90-fc7a-427b-a84b-7488d3498eb5",
   "metadata": {},
   "source": [
    "We can use plotly to make an interactive scatter plot from our data. If you hover over a point on this plot, you should be able to see a popover that shows you the name of each Pokemon:"
   ]
  },
  {
   "cell_type": "code",
   "execution_count": null,
   "id": "14867c96-b7ad-47bd-9d7a-77910d986ac7",
   "metadata": {},
   "outputs": [],
   "source": [
    "from PIL import Image\n",
    "import plotly.express as px\n",
    "\n",
    "fig = px.scatter(\n",
    "    pokedata,\n",
    "    x=\"height\",\n",
    "    y=\"weight\",\n",
    "  #  size = pokedata['height'] * pokedata['weight'],\n",
    "    hover_name=\"name\",\n",
    "    template=\"simple_white\",\n",
    "    width=800, height=600\n",
    ")\n",
    "fig.show()"
   ]
  },
  {
   "cell_type": "markdown",
   "id": "5d2c8a43-4951-4fb3-873f-27a1a1f90ae2",
   "metadata": {},
   "source": [
    "We can do something a bit more interesting, though: the `sprite` column has a link to an image file that shows an image of each pokemon. We're going to use another loop to download these images into a folder so that we can use them in our plot"
   ]
  },
  {
   "cell_type": "code",
   "execution_count": null,
   "id": "9152e413-e629-46bd-b1c5-6c7f5edcc0f9",
   "metadata": {},
   "outputs": [],
   "source": [
    "import urllib.request\n",
    "import os\n",
    "os.makedirs('pokemon', exist_ok=True) # creates a directory \n",
    "for i, row in pokedata.iterrows():   # iterates through each row of data\n",
    "    img = 'pokemon/' + row[\"name\"] + '.png'   # the new file name we'll use for each image\n",
    "    if os.path.exists(img):                   # checking to make sure we haven't already downloaded this\n",
    "        next\n",
    "    else:\n",
    "        urllib.request.urlretrieve(row[\"sprite\"], 'pokemon/' + row[\"name\"] + '.png') # downloading the image and storing in a local folder"
   ]
  },
  {
   "cell_type": "markdown",
   "id": "7a448df6-1a19-42ac-aa13-b7c1c0d4dd90",
   "metadata": {},
   "source": [
    "Now we're going to replace the points with images of each Pokemon. We're also going to scale the images so that they roughly correspond to the relative size of each one. "
   ]
  },
  {
   "cell_type": "code",
   "execution_count": null,
   "id": "b6d6da71-d332-4ebc-a9a2-8e7b3d5e157d",
   "metadata": {},
   "outputs": [],
   "source": [
    "fig = px.scatter(\n",
    "    pokedata,\n",
    "    x=\"height\",\n",
    "    y=\"weight\",\n",
    "  #  size = pokedata['height'] * pokedata['weight'],\n",
    "    hover_name=\"name\",\n",
    "    template=\"simple_white\",\n",
    "    width=800, height=600\n",
    ")\n",
    "\n",
    "fig.update_traces(marker_color=\"rgba(0,0,0,0)\") # make the original points white so they don't show up on the graph\n",
    "maxDim = pokedata[[\"height\", \"weight\"]].max().idxmax()  # get some information on the maximum dimensions so we can scale the plots \n",
    "maxi = pokedata[maxDim].max() \n",
    "for i, row in pokedata.iterrows():\n",
    "   # country = row['country'].replace(\" \", \"-\")\n",
    "    img = 'pokemon/' + row[\"name\"] + '.png'\n",
    "    fig.add_layout_image(\n",
    "        dict(\n",
    "            source=Image.open(img),\n",
    "            xref=\"x\",\n",
    "            yref=\"y\",\n",
    "            xanchor=\"center\",\n",
    "            yanchor=\"middle\",\n",
    "            x=row[\"height\"],\n",
    "            y=row[\"weight\"],\n",
    "       #    sizex=np.sqrt(row[\"height\"] / pokedata[\"height\"].max()) * maxi * .5 + maxi * 0.05,\n",
    "         #  sizey=np.sqrt(row[\"weight\"] / pokedata[\"weight\"].max()) * maxi * .5 + maxi * 0.05,\n",
    "            sizex = row['height'],\n",
    "            sizey=row['weight'],\n",
    "            sizing=\"contain\",\n",
    "            opacity=0.8,\n",
    "            layer=\"above\"\n",
    "        )\n",
    "    )\n",
    "\n",
    "# changing the dimensions a bit\n",
    "fig.update_layout(yaxis_range=[0,1400],\n",
    "                  xaxis_range = [0, 30]\n",
    "                 )\n",
    "#fig.write_html(\"pokemon_sizes.html\")\n",
    "\n",
    "fig.show()"
   ]
  }
 ],
 "metadata": {
  "kernelspec": {
   "display_name": "Python 3 (ipykernel)",
   "language": "python",
   "name": "python3"
  },
  "language_info": {
   "codemirror_mode": {
    "name": "ipython",
    "version": 3
   },
   "file_extension": ".py",
   "mimetype": "text/x-python",
   "name": "python",
   "nbconvert_exporter": "python",
   "pygments_lexer": "ipython3",
   "version": "3.12.2"
  }
 },
 "nbformat": 4,
 "nbformat_minor": 5
}
