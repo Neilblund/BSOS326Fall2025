{
 "cells": [
  {
   "cell_type": "markdown",
   "id": "5d694fef-bd3c-4b75-8cbd-9b8b3f92bc38",
   "metadata": {},
   "source": [
    "# API Pagination\n",
    "\n",
    "In this section, we'll finish up the initial discussion of using APIs by looking at how we can use pagination to retrieve larger amounts of data than we're able to get in a single query.\n"
   ]
  },
  {
   "cell_type": "code",
   "execution_count": 67,
   "id": "2312c1a7-4c0f-4d98-b542-1cf0cbe8b091",
   "metadata": {},
   "outputs": [],
   "source": [
    "from requests import get \n",
    "import pandas as pd \n",
    "import numpy as np\n",
    "import yaml\n",
    "import time\n",
    "\n",
    "# reading in our keys\n",
    "with open('../../keys.yml', 'r') as file:\n",
    "    keys = yaml.safe_load(file)\n"
   ]
  },
  {
   "cell_type": "markdown",
   "id": "3cba9a3d-0b5e-4403-9528-1bf9f778c9b0",
   "metadata": {},
   "source": [
    "We'll start by sending a query to the New York Times article search API"
   ]
  },
  {
   "cell_type": "code",
   "execution_count": 54,
   "id": "4cd45663-b8dd-4e09-9bcb-28d2be65d025",
   "metadata": {},
   "outputs": [],
   "source": [
    "nyt_key = keys['nyt_api_key']\n",
    "article_base = 'https://api.nytimes.com/svc/search/v2/articlesearch.json'\n"
   ]
  },
  {
   "cell_type": "code",
   "execution_count": 55,
   "id": "59511c33-2bce-429c-b7af-f505cdb01697",
   "metadata": {},
   "outputs": [],
   "source": [
    "inflation_1_24 = {'q':'inflation',\n",
    "            'begin_date':'20240101',\n",
    "            'end_date':'20240107',\n",
    "            'api-key':nyt_key}\n",
    "\n",
    "\n",
    "\n",
    "response_01_2024 = get(article_base, params= inflation_1_24)\n"
   ]
  },
  {
   "cell_type": "markdown",
   "id": "44420b0e-9363-4a1c-bed0-1f59cb4e38f3",
   "metadata": {},
   "source": [
    "Take a look at the number of of hits and compare it to the number of documents returned, you should notice that we've only retrieved 10 results, but there are a lot more than that available.\n",
    "\n",
    "\n",
    "\n"
   ]
  },
  {
   "cell_type": "code",
   "execution_count": null,
   "id": "5f97fd78-c901-4490-b0f5-fe636361512f",
   "metadata": {},
   "outputs": [],
   "source": [
    "# response_01_2024.json()\n",
    "# Get the number of hits/number returned: \n"
   ]
  },
  {
   "cell_type": "markdown",
   "id": "54f2502a-f772-4b3d-a806-098cf30bec89",
   "metadata": {},
   "source": [
    "This is a pretty common problem: many APIs won't return all of the relevant data on the first query, instead, you'll need to send multiple queries to assemble a full list of relevant results. To retrieve all of the available articles, we'd typically use an **offset** or **page** parameter. If there's 30 results and each query only returns 10 articles, then:\n",
    "\n",
    "- page =  0 would return articles  1-10\n",
    "- page = 10 would return articles 11-20\n",
    "- page = 20 would return articles 21-30\n",
    "\n",
    "Of course, we'd want to write this out using a loop instead of performing the query manually. The process will vary depending on our API, but in general we'll want to set up some kind of a loop that sends a requests, stores the result, and then increments an offset or page counter until there's no more data to retrieve.\n",
    "\n",
    "Since we don't know exactly how many results we need, we can use a `while` loop instead of a `for` loop. Unlike `for` loops, `while` loops just run until some statement evaluates to `FALSE` or until they encounter the `break` statement. Also unlike `for` loops, they don't automatically keep track of the number of iterations run, so we may need to manually increment any relevant counters.\n",
    "\n",
    "Here's an example of a while loop that just runs for 10 iterations and prints a value:"
   ]
  },
  {
   "cell_type": "code",
   "execution_count": 51,
   "id": "6bd98f94-515f-45e1-a31b-5900a16bf1de",
   "metadata": {},
   "outputs": [
    {
     "name": "stdout",
     "output_type": "stream",
     "text": [
      "0 1 2 3 4 5 6 7 8 9 "
     ]
    }
   ],
   "source": [
    "counter = 0 # manually creating a counter\n",
    "while counter < 10:\n",
    "    print(counter, end=' ')\n",
    "    counter += 1\n",
    "    time.sleep(.3)  # waiting a tiny bit\n",
    "    "
   ]
  },
  {
   "cell_type": "markdown",
   "id": "ae3e6c10-50f4-4d94-ae70-c6c7e257447d",
   "metadata": {},
   "source": [
    "An alternative way to set a while loop up is to just use `while True`. This will just creating a loop that runs indefinitely, but we can use a conditional `break` statement to end the loop when a certain condition is reached. Note that this is doing the exact same thing as the previous loop, its just a slightly different way of assembling it:"
   ]
  },
  {
   "cell_type": "code",
   "execution_count": 52,
   "id": "00251148-70bd-4447-a186-11ed85c49ab7",
   "metadata": {},
   "outputs": [
    {
     "name": "stdout",
     "output_type": "stream",
     "text": [
      "0 1 2 3 4 5 6 7 8 9 "
     ]
    }
   ],
   "source": [
    "counter = 0 \n",
    "while True:\n",
    "    print(counter, end=' ')\n",
    "    counter += 1\n",
    "    time.sleep(.3) # waiting a tiny bit\n",
    "    if counter >= 10:\n",
    "        break"
   ]
  },
  {
   "cell_type": "markdown",
   "id": "1513a58f-2ecd-4a20-b527-f5cbba9a0df1",
   "metadata": {},
   "source": [
    "So, for our pagination process we need to create a while loop that does the following:\n",
    "\n",
    "1. send a get request to return page i\n",
    "2. append the result to a list\n",
    "3. check to see if we've reached the last page yet\n",
    "   if no: then increment the counter by 1 and return to step 1.\n",
    "   if yes: then break the while loop (perhaps after a small waiting period to avoid sending too many queries at once)\n",
    "\n",
    "So here's an example of how we could set this up "
   ]
  },
  {
   "cell_type": "code",
   "execution_count": 56,
   "id": "67d5c920-c718-41a6-a158-16b38e983808",
   "metadata": {},
   "outputs": [],
   "source": [
    "# Start with parameters for the basic search and set the page set to 0\n",
    "article_base = 'https://api.nytimes.com/svc/search/v2/articlesearch.json'\n",
    "params = {'q':'inflation',\n",
    "            'begin_date':'20240101',\n",
    "            'end_date':'20240107',\n",
    "            'api-key':nyt_key}\n"
   ]
  },
  {
   "cell_type": "code",
   "execution_count": 202,
   "id": "2ac9cb6c-0bea-4ade-a119-fd078ab1393e",
   "metadata": {},
   "outputs": [
    {
     "name": "stdout",
     "output_type": "stream",
     "text": [
      "current page: 7\r"
     ]
    }
   ],
   "source": [
    "all_articles = []\n",
    "\n",
    "while True:                                               # while loop, runs until expression == false (here, this just runs until the break statement triggers)\n",
    "    print('current page:', params['page'], end='\\r')      # using a print statement to track the progress of the loop\n",
    "    r = get(article_base, params= params).json()          # step 1. send the request\n",
    "    articles = r['response']['docs']                      \n",
    "    all_articles.extend(articles)\n",
    "    if len(all_articles) >= r['response']['meta']['hits']: # step 2. how many articles do we have? If its = or > the total number of hits, then we're at the end and we don't need to send more requests!\n",
    "        break                                             # the break statement stops the loop                                                         # ... Otherwise append the data to the full list of articles\n",
    "    params['page'] +=  1                                  # step 3. Increment the page parameter                                   \n",
    "    time.sleep(12)                                          # Wait 12 seconds (the NYT API asks users to only send 5 queries per minute, so 60/12 = 5 queries per minute) before sending a new query\n",
    "   "
   ]
  },
  {
   "cell_type": "markdown",
   "id": "e912de9f-85aa-4707-ad01-694563237941",
   "metadata": {},
   "source": [
    "Now we've got the full result!"
   ]
  },
  {
   "cell_type": "code",
   "execution_count": 203,
   "id": "7598c0b6-3611-45f1-a374-857edf89efb9",
   "metadata": {},
   "outputs": [
    {
     "data": {
      "text/plain": [
       "75"
      ]
     },
     "execution_count": 203,
     "metadata": {},
     "output_type": "execute_result"
    }
   ],
   "source": [
    "\n",
    "len(all_articles) # \n"
   ]
  },
  {
   "cell_type": "markdown",
   "id": "5b79c72a-71ae-4333-aac2-13064cf000de",
   "metadata": {
    "editable": true,
    "slideshow": {
     "slide_type": ""
    },
    "tags": []
   },
   "source": [
    "## Pagination in the World Bank API\n",
    "\n",
    "\n",
    "This query returns carbon emissions for all countries in 2020:\n",
    "\n"
   ]
  },
  {
   "cell_type": "code",
   "execution_count": 33,
   "id": "28c9bbdc-1c03-4295-8eb8-29924ea31853",
   "metadata": {},
   "outputs": [],
   "source": [
    "wdi_params = {'format':'json',\n",
    "              'per_page':100,\n",
    "              'date':2010\n",
    "             }\n",
    "url = 'https://api.worldbank.org/v2/country/all/indicator/EN.GHG.ALL.MT.CE.AR5'\n",
    "response = get(url, params = wdi_params)\n"
   ]
  },
  {
   "cell_type": "markdown",
   "id": "ca9adea0-8973-48a4-b6f8-8ddd482e7fdc",
   "metadata": {},
   "source": [
    "However, our query only returns the first 100 results, obviously, we would expect to have more data than this. "
   ]
  },
  {
   "cell_type": "code",
   "execution_count": 34,
   "id": "338f1acb-c2c7-4f78-b055-96830fb63d94",
   "metadata": {},
   "outputs": [
    {
     "data": {
      "text/plain": [
       "{'page': 1,\n",
       " 'pages': 3,\n",
       " 'per_page': 100,\n",
       " 'total': 266,\n",
       " 'sourceid': '2',\n",
       " 'lastupdated': '2025-01-28'}"
      ]
     },
     "execution_count": 34,
     "metadata": {},
     "output_type": "execute_result"
    }
   ],
   "source": [
    "response.json()[0]"
   ]
  },
  {
   "cell_type": "markdown",
   "id": "cf84b83d-e8a0-449b-9a8a-ed8ac9e1ba93",
   "metadata": {},
   "source": [
    "[According to the documentation for this API](https://datahelpdesk.worldbank.org/knowledgebase/articles/898581), we can get the next page of results by incrementing the `page` parameter in our request. So the next page of results would just add \"&page=2\" to the URL we just requested. \n",
    "\n",
    "We could just write all three links out separately, but a more generalizable approach would be to write a loop that makes use of the pagination information that the API gives us. The code below uses a `while` loop to continuously send requests until we reach the final page. After running it, we'll have a list of responses that we can then concatenate into a single data frame"
   ]
  },
  {
   "cell_type": "markdown",
   "id": "6f67dcb5-8c94-40a6-bd1b-25f6005f4f55",
   "metadata": {},
   "source": []
  },
  {
   "cell_type": "code",
   "execution_count": 63,
   "id": "827660f9-5a8c-46ad-8242-f4e4b480f639",
   "metadata": {},
   "outputs": [],
   "source": [
    "# start with an empty list\n",
    "results_list = []\n",
    "\n",
    "morepages = True\n",
    "i = 1\n",
    "\n",
    "while morepages == True:\n",
    "    wdi_params = {'format':'json',\n",
    "                  'per_page':100,\n",
    "                  'date':2020, \n",
    "                  'page':i}\n",
    "    url = 'https://api.worldbank.org/v2/country/all/indicator/EN.GHG.ALL.MT.CE.AR5'\n",
    "    response = get(url, params = wdi_params).json()\n",
    "    # append page i to results_list\n",
    "    results_list.append(response)\n",
    "    # check to see if we've reached the final page:\n",
    "    morepages = i < response[0].get('pages')\n",
    "    \n",
    "    time.sleep(1)\n",
    "    i +=1\n",
    "\n",
    "\n",
    "\n",
    "\n"
   ]
  },
  {
   "cell_type": "code",
   "execution_count": null,
   "id": "62dad027-4950-4d40-81ca-b84df659c837",
   "metadata": {},
   "outputs": [],
   "source": []
  },
  {
   "cell_type": "markdown",
   "id": "5db4cbbc-1150-4e2f-98c8-4b0818b7afc8",
   "metadata": {},
   "source": [
    "Now we just need to format and concatenate all the results. To do that, I've written a function that takes a single response from the WDI API and turns it into a data frame. I'll apply it to each list element using a list comprehension, and then use `pd.concat` to create a single data frame"
   ]
  },
  {
   "cell_type": "code",
   "execution_count": 64,
   "id": "4b80181d-54a6-4416-bf21-291c9df2a000",
   "metadata": {},
   "outputs": [],
   "source": [
    "\n",
    "def wdi_parser(resp):\n",
    "    result_dict = [{'country_id':i['countryiso3code'],\n",
    "                    'country_name':i['country']['value'],\n",
    "                    'date': int(i['date']),\n",
    "                    'indicator': i['indicator']['id'],\n",
    "                    'indicator_description' : i['indicator']['value'],\n",
    "                    'indicator_value': np.float64(i['value'])} for i in resp[1]]\n",
    "    return pd.DataFrame(result_dict)\n"
   ]
  },
  {
   "cell_type": "code",
   "execution_count": 65,
   "id": "dec64f7d-e2c7-4974-a7c5-f45bdc807e3f",
   "metadata": {},
   "outputs": [
    {
     "data": {
      "text/plain": [
       "(266, 6)"
      ]
     },
     "execution_count": 65,
     "metadata": {},
     "output_type": "execute_result"
    }
   ],
   "source": [
    "parsed_responses = [wdi_parser(i) for i in results_list]\n",
    "wdi_df = pd.concat(parsed_responses)\n",
    "wdi_df.shape"
   ]
  },
  {
   "cell_type": "markdown",
   "id": "3eee566b-70d9-4998-a107-4e80db4b9ea7",
   "metadata": {},
   "source": [
    "Now, we should have results for all 266 countries:"
   ]
  },
  {
   "cell_type": "code",
   "execution_count": 66,
   "id": "99236cab-9306-46de-8b2a-672740c81502",
   "metadata": {
    "scrolled": true
   },
   "outputs": [
    {
     "data": {
      "text/html": [
       "<div>\n",
       "<style scoped>\n",
       "    .dataframe tbody tr th:only-of-type {\n",
       "        vertical-align: middle;\n",
       "    }\n",
       "\n",
       "    .dataframe tbody tr th {\n",
       "        vertical-align: top;\n",
       "    }\n",
       "\n",
       "    .dataframe thead th {\n",
       "        text-align: right;\n",
       "    }\n",
       "</style>\n",
       "<table border=\"1\" class=\"dataframe\">\n",
       "  <thead>\n",
       "    <tr style=\"text-align: right;\">\n",
       "      <th></th>\n",
       "      <th>country_id</th>\n",
       "      <th>country_name</th>\n",
       "      <th>date</th>\n",
       "      <th>indicator</th>\n",
       "      <th>indicator_description</th>\n",
       "      <th>indicator_value</th>\n",
       "    </tr>\n",
       "  </thead>\n",
       "  <tbody>\n",
       "    <tr>\n",
       "      <th>61</th>\n",
       "      <td>VIR</td>\n",
       "      <td>Virgin Islands (U.S.)</td>\n",
       "      <td>2020</td>\n",
       "      <td>EN.GHG.ALL.MT.CE.AR5</td>\n",
       "      <td>Total greenhouse gas emissions excluding LULUC...</td>\n",
       "      <td>0.0244</td>\n",
       "    </tr>\n",
       "    <tr>\n",
       "      <th>62</th>\n",
       "      <td>PSE</td>\n",
       "      <td>West Bank and Gaza</td>\n",
       "      <td>2020</td>\n",
       "      <td>EN.GHG.ALL.MT.CE.AR5</td>\n",
       "      <td>Total greenhouse gas emissions excluding LULUC...</td>\n",
       "      <td>NaN</td>\n",
       "    </tr>\n",
       "    <tr>\n",
       "      <th>63</th>\n",
       "      <td>YEM</td>\n",
       "      <td>Yemen, Rep.</td>\n",
       "      <td>2020</td>\n",
       "      <td>EN.GHG.ALL.MT.CE.AR5</td>\n",
       "      <td>Total greenhouse gas emissions excluding LULUC...</td>\n",
       "      <td>32.8781</td>\n",
       "    </tr>\n",
       "    <tr>\n",
       "      <th>64</th>\n",
       "      <td>ZMB</td>\n",
       "      <td>Zambia</td>\n",
       "      <td>2020</td>\n",
       "      <td>EN.GHG.ALL.MT.CE.AR5</td>\n",
       "      <td>Total greenhouse gas emissions excluding LULUC...</td>\n",
       "      <td>27.3441</td>\n",
       "    </tr>\n",
       "    <tr>\n",
       "      <th>65</th>\n",
       "      <td>ZWE</td>\n",
       "      <td>Zimbabwe</td>\n",
       "      <td>2020</td>\n",
       "      <td>EN.GHG.ALL.MT.CE.AR5</td>\n",
       "      <td>Total greenhouse gas emissions excluding LULUC...</td>\n",
       "      <td>26.7706</td>\n",
       "    </tr>\n",
       "  </tbody>\n",
       "</table>\n",
       "</div>"
      ],
      "text/plain": [
       "   country_id           country_name  date             indicator  \\\n",
       "61        VIR  Virgin Islands (U.S.)  2020  EN.GHG.ALL.MT.CE.AR5   \n",
       "62        PSE     West Bank and Gaza  2020  EN.GHG.ALL.MT.CE.AR5   \n",
       "63        YEM            Yemen, Rep.  2020  EN.GHG.ALL.MT.CE.AR5   \n",
       "64        ZMB                 Zambia  2020  EN.GHG.ALL.MT.CE.AR5   \n",
       "65        ZWE               Zimbabwe  2020  EN.GHG.ALL.MT.CE.AR5   \n",
       "\n",
       "                                indicator_description  indicator_value  \n",
       "61  Total greenhouse gas emissions excluding LULUC...           0.0244  \n",
       "62  Total greenhouse gas emissions excluding LULUC...              NaN  \n",
       "63  Total greenhouse gas emissions excluding LULUC...          32.8781  \n",
       "64  Total greenhouse gas emissions excluding LULUC...          27.3441  \n",
       "65  Total greenhouse gas emissions excluding LULUC...          26.7706  "
      ]
     },
     "execution_count": 66,
     "metadata": {},
     "output_type": "execute_result"
    }
   ],
   "source": [
    "wdi_df.tail()"
   ]
  },
  {
   "cell_type": "code",
   "execution_count": null,
   "id": "42623581-c8ef-47fe-864e-599de449fe21",
   "metadata": {},
   "outputs": [],
   "source": []
  },
  {
   "cell_type": "markdown",
   "id": "49c16223-3b09-47b7-80bf-2c5f13470b87",
   "metadata": {},
   "source": [
    "### Pagination with offsets\n",
    "Keep in mind that the process of paginating through data will not always be the same across all APIs. For instance: the [Nobel Prize API](https://app.swaggerhub.com/apis/NobelMedia/NobelMasterData/2.1) uses an offset parameter rather than a pagination parameter. So you would write something like `offset=0&limit=100` to get results 1-100, and then you would increment that by 100 (`offset=100&limit=100`) to get 101 through 200 and so on and you would continue until your offset was greater than or equal to the maximum number of responses. \n",
    "\n",
    "However, while the specific parameters might be different, the basic ingredients for pagination are more-or-less the same:\n",
    "1. You need code that takes a response object and then creates a URL to retrieve the next page of data\n",
    "2. You need code that can detect when there are no pages left\n",
    "3. You need code to format all of the pages into a single data frame"
   ]
  },
  {
   "cell_type": "markdown",
   "id": "51db12a4-0f4d-48b6-8afd-4e225eff3c8b",
   "metadata": {},
   "source": [
    "<b style=\"color:red;\">\n",
    "<h3>Question 1A</h3> The request below gets a single page of results from the PokeApi (see <a href ='https://pokeapi.co/docs/v2#pokemon'>documentation</a>) Start by writing code that will retrieve/create a request for the next page of data</b>\n",
    "\n",
    "(Note that you can either use an offset parameter or the \"next\" url to get results here.)"
   ]
  },
  {
   "cell_type": "code",
   "execution_count": null,
   "id": "856aec99-0ec2-46ad-bc9e-9b0ffc0bb742",
   "metadata": {},
   "outputs": [],
   "source": [
    "params = {'offset':0,\n",
    "         'limit':100\n",
    "         }\n",
    "request = get('https://pokeapi.co/api/v2/pokemon', params=params)\n",
    "\n",
    "request.url"
   ]
  },
  {
   "cell_type": "code",
   "execution_count": null,
   "id": "0844c477-14af-43dd-bc46-a1f790408c2d",
   "metadata": {},
   "outputs": [],
   "source": [
    "# code to get the next page of results"
   ]
  },
  {
   "cell_type": "markdown",
   "id": "c806a14f-03d0-4737-9b52-6960ec62cc6e",
   "metadata": {},
   "source": [
    "<b style=\"color:red;\">\n",
    "<h3>Question 1B</h3> The request below shows you what the final page of data would look like. Use this response to write some code that will return `False` if we've reached the final page\n"
   ]
  },
  {
   "cell_type": "code",
   "execution_count": null,
   "id": "57aa39e8-190b-4751-af53-766e980f4e7c",
   "metadata": {},
   "outputs": [],
   "source": [
    "params = {'offset':request.json()['count']-10,\n",
    "         'limit':100\n",
    "         }\n",
    "request = get('https://pokeapi.co/api/v2/pokemon', params=params)\n",
    "request.url\n"
   ]
  },
  {
   "cell_type": "code",
   "execution_count": null,
   "id": "3b4d92e4-3e7e-4360-a97e-50e7328e636a",
   "metadata": {},
   "outputs": [],
   "source": []
  },
  {
   "cell_type": "markdown",
   "id": "cb6e555f-6eb9-4cde-936e-01cecb256d76",
   "metadata": {},
   "source": [
    "<b style=\"color:red;\">\n",
    "<h3>Question 1C</h3>\n",
    "Use the code above to create a while loop that iterates through each page of results and collects the name and url of each Pokemon in a list. Remember to put a short pause between each iteration of the loop. </b>\n",
    "\n",
    "If you find your loop runs for a really long time, you might want to interrupt the kernal by pressing the stop button at the top of your notebook.\n"
   ]
  },
  {
   "cell_type": "code",
   "execution_count": null,
   "id": "26959075-37d2-45ce-91cc-826eca31f78f",
   "metadata": {},
   "outputs": [],
   "source": [
    "# code to create a list with all the responses\n"
   ]
  },
  {
   "cell_type": "markdown",
   "id": "e3844389-4afc-4c41-9017-4e82dce3996e",
   "metadata": {},
   "source": [
    "### A note on gathering complex data\n",
    "\n",
    "Depending on how the data are structured, there may be cases where you need to query one part of the API to get a URL for a separate endpoint that has more detailed data about that subject. The PokeApi is a good example of this: we retrieved a list of names and URLs, but if we navigate to any one of those URLs we'll get even more detailed information about the selected Pokemon. So if we wanted to create a data set with detailed information on each Pokemon, we would need to iterate over all of these URLs and then format all of our results in data frame. The way that data are organized is really up to the person who maintains the data set, so you'll want to spend some time getting to know an API before you can really get a good sense of what you can do with it."
   ]
  },
  {
   "cell_type": "markdown",
   "id": "3d3e0b8d-edbd-4824-a582-205949b7bdcf",
   "metadata": {},
   "source": [
    "# Extra code\n",
    "\n"
   ]
  },
  {
   "cell_type": "markdown",
   "id": "2c31170d-8369-4f12-a3a3-4ff3cf5d5652",
   "metadata": {},
   "source": [
    "Here's an example of using a custom pagination function to automatically retrieve data from the congress.gov API. To make this code work, you'll need to sign up for an data.gov API key: \n",
    "\n",
    "https://api.data.gov/signup/\n",
    "\n",
    "And then add that key to the keys.yml file in the root directory for this BSOS326."
   ]
  },
  {
   "cell_type": "code",
   "execution_count": 68,
   "id": "94afbec6-c19a-4777-af5c-4a61d33a93e8",
   "metadata": {},
   "outputs": [],
   "source": [
    "import requests\n",
    "from requests.models import PreparedRequest\n",
    "import time\n",
    "import pandas as pd\n",
    "def member_parser(response):\n",
    "    \"\"\"A function to parse a response from the members endpoint on Congress.gov\"\"\"\n",
    "    members_json = response.json()['members']\n",
    "    member = [{'bioguideId' : i.get('bioguideId'),\n",
    "              'district' : i.get('district'),\n",
    "              'name' : i.get('name'),\n",
    "              'partyName' : i.get('partyName'),\n",
    "              'state': i.get('state'),\n",
    "              'chamber':i.get('terms').get('item')[-1].get('chamber'),\n",
    "              'startYear':i.get('terms').get('item')[-1].get('startYear'),\n",
    "              'endYear':i.get('terms').get('item')[-1].get('endYear'),\n",
    "              'url' : i.get('url')} for i in members_json]\n",
    "    member_frame = pd.DataFrame(member)\n",
    "    return member_frame\n",
    "\n",
    "def congress_paginate(initial_url, params):\n",
    "    \"\"\"A function that automatically paginates a query to the congress.gov API\"\"\"\n",
    "    # remove the API key from the parameters list \n",
    "    apikey = params.pop('api_key')\n",
    "    req = PreparedRequest()\n",
    "    req.prepare_url(initial_url, params) # create a url\n",
    "    nextpage = req.url \n",
    "    responses_list = []\n",
    "    # iterate over next page URLs\n",
    "    while nextpage!=None:\n",
    "        nextpage_url = nextpage + '&api_key=' + apikey\n",
    "        response = requests.get(nextpage_url)\n",
    "        responses_list.append(response)\n",
    "        nextpage = response.json().get('pagination').get('next')\n",
    "        time.sleep(5000/3600)\n",
    "    return responses_list"
   ]
  },
  {
   "cell_type": "code",
   "execution_count": 72,
   "id": "1dd0ca02-7802-4997-b98f-454e0c46909a",
   "metadata": {},
   "outputs": [],
   "source": [
    "cong = congress_paginate('https://api.congress.gov/v3/member/congress/119', params = {'currentMember':False, 'api_key':keys['data_gov']})"
   ]
  },
  {
   "cell_type": "code",
   "execution_count": null,
   "id": "0f096eab-667c-4c47-9960-f0d6303bb581",
   "metadata": {},
   "outputs": [],
   "source": [
    "members = pd.concat([member_parser(i) for i in cong])"
   ]
  },
  {
   "cell_type": "markdown",
   "id": "95adbb76-0c4f-46a7-8e3d-df78ccfbca60",
   "metadata": {},
   "source": [
    "Now we can do things like look at the longest serving members of the current congress:"
   ]
  },
  {
   "cell_type": "code",
   "execution_count": 83,
   "id": "2fca285b-83c3-45fa-aca2-0c04bfa75af0",
   "metadata": {},
   "outputs": [
    {
     "data": {
      "text/html": [
       "<div>\n",
       "<style scoped>\n",
       "    .dataframe tbody tr th:only-of-type {\n",
       "        vertical-align: middle;\n",
       "    }\n",
       "\n",
       "    .dataframe tbody tr th {\n",
       "        vertical-align: top;\n",
       "    }\n",
       "\n",
       "    .dataframe thead th {\n",
       "        text-align: right;\n",
       "    }\n",
       "</style>\n",
       "<table border=\"1\" class=\"dataframe\">\n",
       "  <thead>\n",
       "    <tr style=\"text-align: right;\">\n",
       "      <th></th>\n",
       "      <th>bioguideId</th>\n",
       "      <th>district</th>\n",
       "      <th>name</th>\n",
       "      <th>partyName</th>\n",
       "      <th>state</th>\n",
       "      <th>chamber</th>\n",
       "      <th>startYear</th>\n",
       "      <th>endYear</th>\n",
       "      <th>url</th>\n",
       "    </tr>\n",
       "  </thead>\n",
       "  <tbody>\n",
       "    <tr>\n",
       "      <th>2</th>\n",
       "      <td>Y000033</td>\n",
       "      <td>0.0</td>\n",
       "      <td>Young, Don</td>\n",
       "      <td>Republican</td>\n",
       "      <td>Alaska</td>\n",
       "      <td>House of Representatives</td>\n",
       "      <td>1973</td>\n",
       "      <td>2022.0</td>\n",
       "      <td>https://api.congress.gov/v3/member/Y000033?for...</td>\n",
       "    </tr>\n",
       "    <tr>\n",
       "      <th>8</th>\n",
       "      <td>L000174</td>\n",
       "      <td>NaN</td>\n",
       "      <td>Leahy, Patrick J.</td>\n",
       "      <td>Democratic</td>\n",
       "      <td>Vermont</td>\n",
       "      <td>Senate</td>\n",
       "      <td>1975</td>\n",
       "      <td>2023.0</td>\n",
       "      <td>https://api.congress.gov/v3/member/L000174?for...</td>\n",
       "    </tr>\n",
       "    <tr>\n",
       "      <th>9</th>\n",
       "      <td>H000874</td>\n",
       "      <td>5.0</td>\n",
       "      <td>Hoyer, Steny H.</td>\n",
       "      <td>Democratic</td>\n",
       "      <td>Maryland</td>\n",
       "      <td>House of Representatives</td>\n",
       "      <td>1981</td>\n",
       "      <td>NaN</td>\n",
       "      <td>https://api.congress.gov/v3/member/H000874?for...</td>\n",
       "    </tr>\n",
       "    <tr>\n",
       "      <th>19</th>\n",
       "      <td>R000395</td>\n",
       "      <td>5.0</td>\n",
       "      <td>Rogers, Harold</td>\n",
       "      <td>Republican</td>\n",
       "      <td>Kentucky</td>\n",
       "      <td>House of Representatives</td>\n",
       "      <td>1981</td>\n",
       "      <td>NaN</td>\n",
       "      <td>https://api.congress.gov/v3/member/R000395?for...</td>\n",
       "    </tr>\n",
       "    <tr>\n",
       "      <th>0</th>\n",
       "      <td>G000386</td>\n",
       "      <td>NaN</td>\n",
       "      <td>Grassley, Chuck</td>\n",
       "      <td>Republican</td>\n",
       "      <td>Iowa</td>\n",
       "      <td>Senate</td>\n",
       "      <td>1981</td>\n",
       "      <td>NaN</td>\n",
       "      <td>https://api.congress.gov/v3/member/G000386?for...</td>\n",
       "    </tr>\n",
       "    <tr>\n",
       "      <th>18</th>\n",
       "      <td>S000522</td>\n",
       "      <td>4.0</td>\n",
       "      <td>Smith, Christopher H.</td>\n",
       "      <td>Republican</td>\n",
       "      <td>New Jersey</td>\n",
       "      <td>House of Representatives</td>\n",
       "      <td>1981</td>\n",
       "      <td>NaN</td>\n",
       "      <td>https://api.congress.gov/v3/member/S000522?for...</td>\n",
       "    </tr>\n",
       "    <tr>\n",
       "      <th>12</th>\n",
       "      <td>K000009</td>\n",
       "      <td>9.0</td>\n",
       "      <td>Kaptur, Marcy</td>\n",
       "      <td>Democratic</td>\n",
       "      <td>Ohio</td>\n",
       "      <td>House of Representatives</td>\n",
       "      <td>1983</td>\n",
       "      <td>NaN</td>\n",
       "      <td>https://api.congress.gov/v3/member/K000009?for...</td>\n",
       "    </tr>\n",
       "    <tr>\n",
       "      <th>2</th>\n",
       "      <td>M000355</td>\n",
       "      <td>NaN</td>\n",
       "      <td>McConnell, Mitch</td>\n",
       "      <td>Republican</td>\n",
       "      <td>Kentucky</td>\n",
       "      <td>Senate</td>\n",
       "      <td>1985</td>\n",
       "      <td>NaN</td>\n",
       "      <td>https://api.congress.gov/v3/member/M000355?for...</td>\n",
       "    </tr>\n",
       "    <tr>\n",
       "      <th>17</th>\n",
       "      <td>D000191</td>\n",
       "      <td>4.0</td>\n",
       "      <td>DeFazio, Peter A.</td>\n",
       "      <td>Democratic</td>\n",
       "      <td>Oregon</td>\n",
       "      <td>House of Representatives</td>\n",
       "      <td>1987</td>\n",
       "      <td>2023.0</td>\n",
       "      <td>https://api.congress.gov/v3/member/D000191?for...</td>\n",
       "    </tr>\n",
       "    <tr>\n",
       "      <th>15</th>\n",
       "      <td>P000034</td>\n",
       "      <td>6.0</td>\n",
       "      <td>Pallone, Frank</td>\n",
       "      <td>Democratic</td>\n",
       "      <td>New Jersey</td>\n",
       "      <td>House of Representatives</td>\n",
       "      <td>1987</td>\n",
       "      <td>NaN</td>\n",
       "      <td>https://api.congress.gov/v3/member/P000034?for...</td>\n",
       "    </tr>\n",
       "  </tbody>\n",
       "</table>\n",
       "</div>"
      ],
      "text/plain": [
       "   bioguideId  district                   name   partyName       state  \\\n",
       "2     Y000033       0.0             Young, Don  Republican      Alaska   \n",
       "8     L000174       NaN      Leahy, Patrick J.  Democratic     Vermont   \n",
       "9     H000874       5.0        Hoyer, Steny H.  Democratic    Maryland   \n",
       "19    R000395       5.0         Rogers, Harold  Republican    Kentucky   \n",
       "0     G000386       NaN        Grassley, Chuck  Republican        Iowa   \n",
       "18    S000522       4.0  Smith, Christopher H.  Republican  New Jersey   \n",
       "12    K000009       9.0          Kaptur, Marcy  Democratic        Ohio   \n",
       "2     M000355       NaN       McConnell, Mitch  Republican    Kentucky   \n",
       "17    D000191       4.0      DeFazio, Peter A.  Democratic      Oregon   \n",
       "15    P000034       6.0         Pallone, Frank  Democratic  New Jersey   \n",
       "\n",
       "                     chamber  startYear  endYear  \\\n",
       "2   House of Representatives       1973   2022.0   \n",
       "8                     Senate       1975   2023.0   \n",
       "9   House of Representatives       1981      NaN   \n",
       "19  House of Representatives       1981      NaN   \n",
       "0                     Senate       1981      NaN   \n",
       "18  House of Representatives       1981      NaN   \n",
       "12  House of Representatives       1983      NaN   \n",
       "2                     Senate       1985      NaN   \n",
       "17  House of Representatives       1987   2023.0   \n",
       "15  House of Representatives       1987      NaN   \n",
       "\n",
       "                                                  url  \n",
       "2   https://api.congress.gov/v3/member/Y000033?for...  \n",
       "8   https://api.congress.gov/v3/member/L000174?for...  \n",
       "9   https://api.congress.gov/v3/member/H000874?for...  \n",
       "19  https://api.congress.gov/v3/member/R000395?for...  \n",
       "0   https://api.congress.gov/v3/member/G000386?for...  \n",
       "18  https://api.congress.gov/v3/member/S000522?for...  \n",
       "12  https://api.congress.gov/v3/member/K000009?for...  \n",
       "2   https://api.congress.gov/v3/member/M000355?for...  \n",
       "17  https://api.congress.gov/v3/member/D000191?for...  \n",
       "15  https://api.congress.gov/v3/member/P000034?for...  "
      ]
     },
     "execution_count": 83,
     "metadata": {},
     "output_type": "execute_result"
    }
   ],
   "source": [
    "members.sort_values(['startYear'])[:10]"
   ]
  }
 ],
 "metadata": {
  "kernelspec": {
   "display_name": "Python 3 (ipykernel)",
   "language": "python",
   "name": "python3"
  },
  "language_info": {
   "codemirror_mode": {
    "name": "ipython",
    "version": 3
   },
   "file_extension": ".py",
   "mimetype": "text/x-python",
   "name": "python",
   "nbconvert_exporter": "python",
   "pygments_lexer": "ipython3",
   "version": "3.12.2"
  }
 },
 "nbformat": 4,
 "nbformat_minor": 5
}
