{
 "cells": [
  {
   "cell_type": "markdown",
   "id": "e252fe33-814d-4e00-a0d7-a0f11160aff2",
   "metadata": {},
   "source": [
    "# APIs with Keys"
   ]
  },
  {
   "cell_type": "markdown",
   "id": "2db161cb",
   "metadata": {},
   "source": [
    "Install `python-dotenv` by uncommenting and running the line below:"
   ]
  },
  {
   "cell_type": "code",
   "execution_count": null,
   "id": "297a9953-0b8d-44dd-bd70-c305dca5c49a",
   "metadata": {},
   "outputs": [],
   "source": [
    "#%pip install python-dotenv\n"
   ]
  },
  {
   "cell_type": "code",
   "execution_count": 2,
   "id": "435cfba7-7378-4c71-8ff4-280657f87d10",
   "metadata": {},
   "outputs": [],
   "source": [
    "from requests import get \n",
    "import pandas as pd \n",
    "import numpy as np\n",
    "from dotenv import dotenv_values, find_dotenv"
   ]
  },
  {
   "cell_type": "markdown",
   "id": "88f2fad1-9ad5-4657-8976-487eeadee40f",
   "metadata": {
    "jp-MarkdownHeadingCollapsed": true
   },
   "source": [
    "# API Keys\n",
    "Many times, data providers don't want to provide access to their APIs to just anybody. In order to make sure that they control access and track usage of the API, they might require the use of an API key. An API key is basically like a password that is uniquely associated with your account that you use every time you want to use that API."
   ]
  },
  {
   "attachments": {
    "image.png": {
     "image/png": "[encoded data removed]"
    }
   },
   "cell_type": "markdown",
   "id": "38e196b2-8089-4384-99c1-e66766002799",
   "metadata": {},
   "source": [
    "# New York Times API\n",
    "\n",
    "One example of an API that requires a key is the New York Times API. We'll show an example of using the New York Times API to make the API call.\n",
    "<div class=\"alert alert-block alert-danger\">\n",
    "<b>NOTE: An API key is like a password</b>. So you should avoid sharing it with anyone else. Your key should never be readable in the text of a homework or classwork submission. \n",
    "\n",
    "Instead, we'll store keys in an external file, and then read them in to Python and store them in a variable. That way, we can use the API key in our code without having to include the text anywhere that might be visible to someone else. \n",
    "\n",
    "<small>(Admittedly, its unlikely that anyone would want to steal your completely free New York Times API key, but other API keys may grant access to sensitive data. We want to establish good security habits here, so go ahead and pretend this is a valuable piece of information even though it isn't)</small>\n",
    "</div>\n",
    "\n",
    "## Getting a key\n",
    "\n",
    "\n",
    "\n",
    "We need to get an API key from the New York Times first before we can access the API. You'll need to follow the steps below to get everything set up.\n",
    "\n",
    "1. Go to their Dev Portal to sign up and get access: https://developer.nytimes.com/apis. You'll need to make an account, then log in. \n",
    "2. Once you're logged in, go to `https://developer.nytimes.com/my-apps/new-app` (or just select your name at the top right and select \"Apps\"). Name your Application something like BSOS326APP, and give it a brief description (you can just say it's \"App for a class\"). Then scroll down and hit the \"enable\" buttons on all of the APIs listed. Finally, hit the \"Save\" button at the bottom of the page.\n",
    "3. You'll end up on a page that has some information on the app you created. Your key is in the section called \"API Keys\". It will just be a long string of letters and numbers:\n",
    "\n",
    "![image.png](attachment:image.png)\n",
    "\n",
    "4. Once you have your key, go to the top level directory for this class in Jupyter Hub and locate the file called `keys.env`. You'll put your NYT API key on the line that says `nyt_api_key = 'YOUR API KEY HERE.'`\n",
    " Your key should still be written in single quotes, so, if my key was `1231asd34##a12`, that line of my `keys.env` file would look like: `nyt_api_key = '1231asd34##a12'`\n",
    "\n",
    "\n",
    "\n",
    "Going forward, any time you need to use an API key in an assignment, you can access it by running something like the code below:\n",
    "\n",
    "\n",
    "``` python\n",
    "# after running: from dotenv import dotenv_values, find_dotenv\n",
    "keys = dotenv_values(find_dotenv('keys.env', usecwd=True)) # import the keys as a python dictionary\n",
    "\n",
    "my_example_api_key = keys['example_api_key'] # selecting a specific key from the dictionary\n",
    "\n",
    "```\n",
    "\n",
    "This will import a dictionary called `keys` that contains any of your stored API keys, which you can then access using the same methods you would normally use to access specific values from any other Python dictionary."
   ]
  },
  {
   "cell_type": "markdown",
   "id": "442eabe5-fe97-4b32-ace2-86c6cbe3f9a3",
   "metadata": {},
   "source": [
    "<h4 style=\"color:red;font-weight:bold\"> Question 1: Do the steps described above and write your api key in the <code>keys.env</code> file in the appropriate spot in the project directory. Then create a variable called <code>nyt_key</code> that contains your New York Times API key</h4>"
   ]
  },
  {
   "cell_type": "code",
   "execution_count": 3,
   "id": "39f7a31d-ab49-4476-8512-400141759a53",
   "metadata": {},
   "outputs": [],
   "source": [
    "keys = dotenv_values(find_dotenv('keys.env', usecwd=True))\n",
    "nyt_key = keys['nyt_api_key']\n",
    "\n"
   ]
  },
  {
   "cell_type": "markdown",
   "id": "5efdd0ca",
   "metadata": {},
   "source": [
    "Now you can just put the `nyt_key` variable anywhere you would normally need to input your API key."
   ]
  },
  {
   "cell_type": "markdown",
   "id": "d0113e43-9c10-4496-b527-606489e123dd",
   "metadata": {},
   "source": [
    "# NYT Archives\n",
    "After you do this, you can poke around on the API site a bit to get an idea of what data is available and how you might access that data. We'll start with the Archives API, for which the documentation can be found here: https://developer.nytimes.com/docs/archive-product/1/overview. The Archives API can be used to access article metadata (such as headline, byline, article URL, and so on) for a given month. Let's try getting the content for January 2019.\n",
    "\n",
    "Start with a base URL:"
   ]
  },
  {
   "cell_type": "code",
   "execution_count": 4,
   "id": "c4cf9526-c47a-4e63-8ded-72542481cb1f",
   "metadata": {},
   "outputs": [],
   "source": [
    "base_url = \"https://api.nytimes.com/svc/archive/v1/2019/1.json\""
   ]
  },
  {
   "cell_type": "markdown",
   "id": "9421b965",
   "metadata": {},
   "source": [
    "Then run the code below to send a get request that adds your API key as a parameter on the URL:"
   ]
  },
  {
   "cell_type": "code",
   "execution_count": 5,
   "id": "12bfb5b3-2dd6-469c-907c-3b5a591642e2",
   "metadata": {},
   "outputs": [],
   "source": [
    "r = get(base_url, params= {'api-key':nyt_key})"
   ]
  },
  {
   "cell_type": "markdown",
   "id": "eed3f095-c16a-4b86-8f10-266d971eeec2",
   "metadata": {},
   "source": [
    "Now we can check the status code. Remember that code 200 means everything is fine. When we're sending authentication information, a code of 401 will indicate that our request is not authorized. "
   ]
  },
  {
   "cell_type": "code",
   "execution_count": 6,
   "id": "3fbfa29e-a295-4ed5-841a-2b43245da461",
   "metadata": {},
   "outputs": [
    {
     "data": {
      "text/plain": [
       "200"
      ]
     },
     "execution_count": 6,
     "metadata": {},
     "output_type": "execute_result"
    }
   ],
   "source": [
    "r.status_code"
   ]
  },
  {
   "cell_type": "markdown",
   "id": "12fade6d-3661-4c44-8883-57104819e46e",
   "metadata": {},
   "source": [
    "We are good to go. Now let's get the content."
   ]
  },
  {
   "cell_type": "code",
   "execution_count": 7,
   "id": "89896794-beba-4003-bb4e-d37df8ea587b",
   "metadata": {},
   "outputs": [],
   "source": [
    "json = r.json()  # Convert response to JSON format"
   ]
  },
  {
   "cell_type": "markdown",
   "id": "b0ce814b-77a4-4752-92f5-c0a98cce2cc3",
   "metadata": {},
   "source": [
    "<h4 style=\"color:red;font-weight:bold\">Question 2: How many NYT articles were there in January 2019?</h4>\n",
    "\n"
   ]
  },
  {
   "cell_type": "code",
   "execution_count": 8,
   "id": "2f564cbf-6733-4faa-bc8b-d21e36480dfd",
   "metadata": {},
   "outputs": [
    {
     "data": {
      "text/plain": [
       "4482"
      ]
     },
     "execution_count": 8,
     "metadata": {},
     "output_type": "execute_result"
    }
   ],
   "source": [
    "response = r.json()  # Convert response to JSON format\n",
    "len(response['response']['docs'])\n",
    "\n",
    "# OR\n",
    "response['response']['meta']['hits']\n"
   ]
  },
  {
   "cell_type": "markdown",
   "id": "babdb256-2126-4424-aa44-adf2c38ac36a",
   "metadata": {},
   "source": [
    "<h4 style=\"color:red;font-weight:bold\">Question 3: What are the types of metadata that are available in the data from this API? Show the keys from one article to answer this question.</h4>"
   ]
  },
  {
   "cell_type": "code",
   "execution_count": 9,
   "id": "51be320b-855d-4d3c-8c37-661306b66639",
   "metadata": {},
   "outputs": [
    {
     "data": {
      "text/plain": [
       "dict_keys(['abstract', 'web_url', 'snippet', 'lead_paragraph', 'source', 'multimedia', 'headline', 'keywords', 'pub_date', 'document_type', 'news_desk', 'section_name', 'byline', 'type_of_material', '_id', 'word_count', 'uri'])"
      ]
     },
     "execution_count": 9,
     "metadata": {},
     "output_type": "execute_result"
    }
   ],
   "source": [
    "response['response']['docs'][0].keys()"
   ]
  },
  {
   "cell_type": "markdown",
   "id": "70af91e6-c7dc-4894-8342-c8d44276150e",
   "metadata": {},
   "source": [
    "<h4 style=\"color:red;font-weight:bold\">Question 4: Create a list called <code>abstracts</code> that contains the article abstract for each article in <code>`json`</code></h4>"
   ]
  },
  {
   "cell_type": "code",
   "execution_count": 10,
   "id": "274db2e6-3e60-471c-9ac0-43bc8b8e1aea",
   "metadata": {},
   "outputs": [
    {
     "data": {
      "text/plain": [
       "['Imagine what we could do with our money, and hours, if we set our phones aside for a year.',\n",
       " 'Wells was a deep threat for the vaunted Oakland offenses of the late 1960s, but his playing days ended after he served a seasonlong prison sentence.',\n",
       " 'Can the Constitution withstand the partisans?',\n",
       " 'The Christian right doesn’t like the president only for his judges. They like his style.']"
      ]
     },
     "execution_count": 10,
     "metadata": {},
     "output_type": "execute_result"
    }
   ],
   "source": [
    "abstracts = [i['abstract'] for i in response['response']['docs']]\n",
    "\n",
    "abstracts[1:5]"
   ]
  },
  {
   "cell_type": "markdown",
   "id": "3477b659-1923-4629-be17-808d4c891442",
   "metadata": {},
   "source": [
    "## URL Paths and f-strings\n",
    "\n",
    "\n",
    "We just retrieved some data for 2019 from the archives API, but what if we wanted to access data from a different time period? Looking back on the code we just ran, the full URL looks something like this:\n",
    "Following the instructions given on their site, they give an example of a URL that looks something like this:\n",
    "\n",
    "> `https://api.nytimes.com/svc/archive/v1/2019/1.json?api-key=yourkey`\n",
    "\n",
    "We can think of this URL as having four different parts:\n",
    "\n",
    "* `https://` is the protocol or scheme. (This rarely changes)\n",
    "* `api.nytimes.com` is the domain. This part will be the same for all New York Times API calls.\n",
    "* `/svc/archive/v1/2019/1.json` is the path. The first part of the path just sends us to Version 1 of the Archive API. `/2019/1` is going to direct us to the data for January 2019. \n",
    "* `?api-key=yourkey` All the stuff after the `?` are URL parameters. They'll usually look something like `name = value`. When you're using `request.get` you'll pass these values using a dictionary to the `params` argument.\n",
    "\n",
    "We already know how to modify a URL parameter using the `params` argument in the `get` function, but getting data from a different time period in this API is going to require us to modify the URL path as well. \n",
    "\n",
    "The easiest way to do this is with \"formatted string literal\" or `f`-string, which is basically a way of referencing Python variables inside a string of text. To give an example of how this works, you can try running the code below:\n",
    "\n",
    "\n"
   ]
  },
  {
   "cell_type": "code",
   "execution_count": 11,
   "id": "071c27f1",
   "metadata": {},
   "outputs": [
    {
     "data": {
      "text/plain": [
       "'My name is Neil Lund'"
      ]
     },
     "execution_count": 11,
     "metadata": {},
     "output_type": "execute_result"
    }
   ],
   "source": [
    "name = \"Neil Lund\"\n",
    "\n",
    "f\"My name is {name}\""
   ]
  },
  {
   "cell_type": "markdown",
   "id": "e1be8495-3ee4-40a0-b22f-fd2787f5fadb",
   "metadata": {},
   "source": [
    "The `f` in front of the string indicates that it is an f-string, and the text inside of `{}` is replaced with whatever value we've assigned to the `name` variable in Python. Using that same basic logic, we can set up our New York Times API URL so that we can programmatically replace the the month and year values:"
   ]
  },
  {
   "cell_type": "code",
   "execution_count": 12,
   "id": "067d1246",
   "metadata": {},
   "outputs": [
    {
     "data": {
      "text/plain": [
       "'https://api.nytimes.com/svc/archive/v1/2020/10.json'"
      ]
     },
     "execution_count": 12,
     "metadata": {},
     "output_type": "execute_result"
    }
   ],
   "source": [
    "month = 10\n",
    "year = 2020\n",
    "\n",
    "url = f\"https://api.nytimes.com/svc/archive/v1/{year}/{month}.json\"\n",
    "\n",
    "url"
   ]
  },
  {
   "cell_type": "markdown",
   "id": "8b386236",
   "metadata": {},
   "source": [
    "<h4 style=\"color:red;font-weight:bold\">Question 5A: Use a f-string in a loop to create a list of separate URLs for each month in 2020</h4>\n",
    " \n",
    " <div class=\"alert alert-block alert-warning\"><strong>(Note: You don't need to send requests, just make the URL here!)</strong></div>\n"
   ]
  },
  {
   "cell_type": "code",
   "execution_count": null,
   "id": "ff740c11",
   "metadata": {},
   "outputs": [],
   "source": []
  },
  {
   "cell_type": "markdown",
   "id": "b5748599-9452-4d06-b605-45b5ec3451d6",
   "metadata": {},
   "source": [
    "<h4 style=\"color:red;font-weight:bold\">Question 5B: Write a function called <code>nyt_api</code> that has two arguments, month and year, and outputs the response from pulling from the NYT Archive API for that month and year.</h4>"
   ]
  },
  {
   "cell_type": "code",
   "execution_count": 13,
   "id": "a664321a-5ec1-48c4-83ad-7311b7e0a4bb",
   "metadata": {},
   "outputs": [],
   "source": [
    "def nyt_api(month, year):\n",
    "    url = f\"https://api.nytimes.com/svc/archive/v1/{year}/{month}.json\"\n",
    "    return get(url, params= {'api-key':nyt_key})\n",
    "res = nyt_api(1, 2020)"
   ]
  },
  {
   "cell_type": "markdown",
   "id": "2582c226-e5dc-4d76-88df-ab88da6704bf",
   "metadata": {},
   "source": [
    "<h4 style=\"color:red;font-weight:bold\">Question 6: Write a function called <code>nyt_headlines</code> that takes a single result from running your <code>nyt_api</code> function from the previous question and returns a list of only the headlines from that result</h4>"
   ]
  },
  {
   "cell_type": "code",
   "execution_count": null,
   "id": "7bb535ba-dc83-42b7-8a03-f33129700f2f",
   "metadata": {},
   "outputs": [],
   "source": [
    "\n",
    "\n"
   ]
  },
  {
   "cell_type": "markdown",
   "id": "983d166b-4423-4b5f-94df-3b42891eb109",
   "metadata": {},
   "source": [
    "## JSON to Pandas DataFrame\n",
    "\n",
    "If we have nicely formatted JSON data we can often convert it into a more useable pandas data frame with minimal effort by using `pd.DataFrame()`, but keep in mind you may have to do a little indexing first in order to get to the accessible part of the data:"
   ]
  },
  {
   "cell_type": "code",
   "execution_count": null,
   "id": "ba71adb0-f18f-49cb-abfa-addd27e9359d",
   "metadata": {},
   "outputs": [],
   "source": [
    "pd.DataFrame(data.json()['response']['docs']).head()"
   ]
  },
  {
   "cell_type": "markdown",
   "id": "bb597b21-1978-453a-a766-c67c19326c66",
   "metadata": {},
   "source": [
    "### Article Search\n",
    "\n",
    "If you are looking into the New York Times archives, most of the time, you are trying to find articles about a certain topic. That is, you usually don't want to try to sift through all of the articles that the NYT has published. But, you might be interested in how they are covering the election, for example. In that case, you might not want to grab every single article published. Instead, you'd want to do a search on some keywords. To do this, you can use the Article Search API instead.\n",
    "\n",
    "You can look at the documentation at https://developer.nytimes.com/docs/articlesearch-product/1/overview for more information on how this might work. It is very similar to the Archive API, except we use a slightly different base URL, as well as different parameters. "
   ]
  },
  {
   "cell_type": "code",
   "execution_count": 20,
   "id": "b8780477-dc31-43ba-b9d6-53e675da9e61",
   "metadata": {},
   "outputs": [],
   "source": [
    "article_base = 'https://api.nytimes.com/svc/search/v2/articlesearch.json'"
   ]
  },
  {
   "cell_type": "markdown",
   "id": "081bda8d-1756-47b1-8b67-9a51fa05966f",
   "metadata": {},
   "source": [
    "We can specify the keywords using `q` in our parameters. Let's look for articles with the keyword \"election\"."
   ]
  },
  {
   "cell_type": "code",
   "execution_count": 21,
   "id": "2ae6a691-69de-4621-8607-f4b43ca2ccad",
   "metadata": {},
   "outputs": [],
   "source": [
    "r = get(article_base, params= {'q':'election','api-key':nyt_key}) "
   ]
  },
  {
   "cell_type": "code",
   "execution_count": 22,
   "id": "dc2665bd-d261-45ce-a3a8-865019b20fc3",
   "metadata": {},
   "outputs": [
    {
     "data": {
      "text/plain": [
       "dict_keys(['status', 'copyright', 'response'])"
      ]
     },
     "execution_count": 22,
     "metadata": {},
     "output_type": "execute_result"
    }
   ],
   "source": [
    "response_dict =  r.json()\n",
    "response_dict.keys()"
   ]
  },
  {
   "cell_type": "code",
   "execution_count": 23,
   "id": "0646f614-42d4-4286-bb7a-3df4346da949",
   "metadata": {},
   "outputs": [
    {
     "data": {
      "text/plain": [
       "10"
      ]
     },
     "execution_count": 23,
     "metadata": {},
     "output_type": "execute_result"
    }
   ],
   "source": [
    "election_articles = r.json()['response']['docs']\n",
    "len(election_articles)"
   ]
  },
  {
   "cell_type": "code",
   "execution_count": null,
   "id": "c57ad946-5101-481b-9a15-9ca7aff87248",
   "metadata": {},
   "outputs": [],
   "source": [
    "election_articles[0]"
   ]
  },
  {
   "cell_type": "markdown",
   "id": "9a563fe8-a28c-4021-ab45-150d025692a9",
   "metadata": {},
   "source": [
    "<h4 style=\"color:red;font-weight:bold\">Question 7: Use the NYT Article Search to look for articles about mental health in January 2024. How many articles were there? How does this compare to January 2014?</h4>"
   ]
  },
  {
   "cell_type": "code",
   "execution_count": 27,
   "id": "1fd9b7a9",
   "metadata": {},
   "outputs": [],
   "source": [
    "r = get(article_base, params= {'q':'mental health','api-key':nyt_key})\n",
    "mhealth = r.json()"
   ]
  },
  {
   "cell_type": "markdown",
   "id": "c3610720-1376-4100-9ff1-0ac2f5bc45ec",
   "metadata": {},
   "source": [
    "Note that the search only returns 10 articles at a time, but we can increment the `page` parameter to return additional results:"
   ]
  },
  {
   "cell_type": "code",
   "execution_count": 29,
   "id": "aeb21a39-346a-49b7-9574-aa85571a5c72",
   "metadata": {},
   "outputs": [
    {
     "name": "stdout",
     "output_type": "stream",
     "text": [
      "number of total articles:  10000 \n",
      "number of articles retrieved:  10\n"
     ]
    }
   ],
   "source": [
    "i = 1\n",
    "\n",
    "article_base = 'https://api.nytimes.com/svc/search/v2/articlesearch.json'\n",
    "election_parameters = {'q':'election',\n",
    "                       'page':i,\n",
    "                       'api-key':nyt_key}\n",
    "\n",
    "response_page = get(article_base, params= election_parameters).json()\n",
    "election_articles = response_page['response']['docs']\n",
    "\n",
    "print(\"number of total articles: \", response_page['response']['metadata']['hits'],\n",
    "      \"\\nnumber of articles retrieved: \", len(election_articles)\n",
    "      )\n"
   ]
  },
  {
   "cell_type": "markdown",
   "id": "243d07f5-9c55-4e70-8512-9b9d8e70b1e3",
   "metadata": {},
   "source": [
    "To narrow our search, we can add filters. For example, you can adjust the begin and end dates of your search to look at specific time periods. Let's take a look at the month of January in 2020. Note that the dates use \"YYYYMMDD\" formatting. So, January 1, 2020 will be `20200101`. "
   ]
  },
  {
   "cell_type": "code",
   "execution_count": 30,
   "id": "b121f31e-1cab-43cb-a988-2ce165120426",
   "metadata": {},
   "outputs": [
    {
     "data": {
      "text/plain": [
       "'https://www.nytimes.com/2020/01/10/technology/facebook-election.html'"
      ]
     },
     "execution_count": 30,
     "metadata": {},
     "output_type": "execute_result"
    }
   ],
   "source": [
    "election_parameters = {'q':'election',\n",
    "                       'begin_date':'20200101',\n",
    "                       'end_date':'20200201',\n",
    "                       'api-key':nyt_key}\n",
    "\n",
    "response_jan1 = get(article_base, params= election_parameters).json()\n",
    "election_articles_jan1 = response_jan1['response']['docs']\n",
    "election_articles_jan1[0]['web_url']"
   ]
  },
  {
   "cell_type": "markdown",
   "id": "c4a6bcc9-0564-4310-99d5-692c325f02c4",
   "metadata": {
    "editable": true,
    "slideshow": {
     "slide_type": ""
    },
    "tags": []
   },
   "source": [
    "## Census API\n",
    "\n",
    "One extremely useful API in social science research is the **Census API**. This API provides access to a wide variety of data sources on demographics and characteristics of people in the US. It contains data from the Decennial Census, but also from many other sources, such as the American Community Survey (ACS). Information about the Census API can be found at: https://www.census.gov/data/developers/data-sets.html.\n",
    "\n",
    "As with the New York Times API, you will need to request an API key in order to access it. You can request an API key here: https://api.census.gov/data/key_signup.html. You will need to provide your email address and organization (you can just put University of Maryland), and you should get an email with your census key shortly after that. As with the previous case, you'll want to add it in the appropriate location in your `keys.env` file, then run the code below to assing the census key to a python variable\n",
    "\n"
   ]
  },
  {
   "cell_type": "code",
   "execution_count": 31,
   "id": "a0d5f721-4ea8-4c75-8804-9e75217ac2b8",
   "metadata": {},
   "outputs": [],
   "source": [
    "keys = dotenv_values(find_dotenv('keys.env', usecwd=True))\n",
    "census_key = keys['census_api_key']"
   ]
  },
  {
   "cell_type": "markdown",
   "id": "81d8c3af-90af-407a-8cf4-c6b1c59e3b37",
   "metadata": {},
   "source": [
    "Even within just one data source like the ACS, there are lots of different variables and groupings that you can pull data about. We'll start with the 1-year ACS estimates. Information about this data can be found by navigating to the American Community Survey 1-Year Data page (https://www.census.gov/data/developers/data-sets/acs-1year.html). \n",
    "\n",
    "The webpage documentation shows how to access their data as well example code and a list of variables. For example, if you scroll down to the Detailed Tables section, you can find a link to the detailed tables variables (https://api.census.gov/data/2022/acs/acs1/variables.html). The Examples and Supported Geographies page (https://api.census.gov/data/2022/acs/acs1.html) can also be helpful in identifying the data that you want.\n",
    "\n",
    "To start, let's find something basic: the total number of people in each state. Looking at the variables table, we can see that this is called `B01001_001E` (not very intuitive, I know). Since we want this for every state, we use `state:*` as our `for` parameter. We include `NAME` as a variable we want to get since we want to know what the state names are for each of the counts. Finally, we make sure to include our key."
   ]
  },
  {
   "cell_type": "code",
   "execution_count": 32,
   "id": "3cc0a77d-4b6e-48e6-9fca-adbdd69546c6",
   "metadata": {},
   "outputs": [
    {
     "data": {
      "text/plain": [
       "200"
      ]
     },
     "execution_count": 32,
     "metadata": {},
     "output_type": "execute_result"
    }
   ],
   "source": [
    "census_base_url = 'https://api.census.gov/data/2022/acs/acs1'\n",
    "\n",
    "census_params = {'get':'NAME,B01001_001E', \n",
    "                 'for':'state:*',\n",
    "                 'key':census_key}\n",
    "\n",
    "r = get(census_base_url, params = census_params)\n",
    "r.status_code"
   ]
  },
  {
   "cell_type": "code",
   "execution_count": 33,
   "id": "88e83621-5a76-42bd-a8a2-d4b372f298bc",
   "metadata": {},
   "outputs": [],
   "source": [
    "people_by_state = r.json()\n"
   ]
  },
  {
   "cell_type": "markdown",
   "id": "1df19650",
   "metadata": {},
   "source": [
    "Note that the structure of our data here is quite different from what we got from the NYT API. Take a minute to see if you can make sense of the structure of the response."
   ]
  },
  {
   "cell_type": "markdown",
   "id": "0b764357-b165-44c8-bd3e-d6f078c9e0a7",
   "metadata": {},
   "source": [
    "<h4 style=\"color:red;font-weight:bold\">Question 8: Which states had more than 10,000,000 people in 2022? Create a list that contains the names of these states.</h4>"
   ]
  },
  {
   "cell_type": "code",
   "execution_count": 34,
   "id": "bdbc523c-443b-4be4-926b-acfc34e22225",
   "metadata": {},
   "outputs": [],
   "source": [
    "\n",
    "\n",
    "states_over_10mil = [i[0] for i in people_by_state[1:] if int(i[1])>=10000000]"
   ]
  },
  {
   "cell_type": "code",
   "execution_count": 35,
   "id": "98e7cc3f-16ac-40a9-8d7c-20cf8e3fa77e",
   "metadata": {},
   "outputs": [],
   "source": [
    "popdata =[{'state': i[0], \n",
    "           'population':int(i[1]), \n",
    "           'statecode':i[2]} for i in people_by_state[1:]]"
   ]
  },
  {
   "cell_type": "markdown",
   "id": "6f27c6fc",
   "metadata": {},
   "source": [
    "## Using groups in the Census API\n",
    "\n",
    "If you look at some of the examples provided, you'll notice that they use the `groups` syntax. For example, on the ACS 1-Year estimates page (https://www.census.gov/data/developers/data-sets/acs-1year.html), you can see an example shown as:\n",
    "\n",
    "    api.census.gov/data/2022/acs/acs1?get=NAME,group(B01001)&for=us:1&key=YOUR_KEY_GOES_HERE\n",
    "\n",
    "This grabs all of the variables in that group. Variable groups might be something like all Race categories, or Age categories, or combinations thereof. These are helpful if you want to get every breakdown for a certain characteristic.\n",
    "\n"
   ]
  },
  {
   "cell_type": "code",
   "execution_count": 36,
   "id": "527bfb6c",
   "metadata": {},
   "outputs": [
    {
     "data": {
      "text/plain": [
       "200"
      ]
     },
     "execution_count": 36,
     "metadata": {},
     "output_type": "execute_result"
    }
   ],
   "source": [
    "census_base_url = 'https://api.census.gov/data/2022/acs/acs1'\n",
    "\n",
    "census_params = {'get':'NAME,group(B02001)', \n",
    "                 'for':'state:*',\n",
    "                 'key':census_key}\n",
    "\n",
    "r = get(census_base_url, params = census_params)\n",
    "r.status_code"
   ]
  },
  {
   "cell_type": "markdown",
   "id": "ae0e4092",
   "metadata": {},
   "source": [
    "There are a lot of variables here! Note that this includes both estimates as well as the margin of error and any annotations about there. The variables ending in E are the estimates and the ones ending in M are the margin of error, with EA and MA representing annotations on those values. For more information about these annotations, see this page: https://www.census.gov/data/developers/data-sets/acs-1year/notes-on-acs-estimate-and-annotation-values.htmlb"
   ]
  },
  {
   "cell_type": "markdown",
   "id": "21014fad",
   "metadata": {},
   "source": [
    "<h4 style=\"color:red;font-weight:bold\">Question 9: Find the breakdown of the number of people by race in Maryland in 2014. Create a dictionary with the race category as the key and the counts as integers for the value.</h4>"
   ]
  },
  {
   "cell_type": "markdown",
   "id": "b6471672-488b-4942-ad63-a9c08064bde4",
   "metadata": {},
   "source": [
    "Step 1 here would be to find the result for Maryland. One way to do this would be to just change part of `census_params` to only retrieve data for Maryland: changing `'for':'state:*'` to `'for':'state:24'` would accomplish this.\n",
    "\n",
    "But we've already got the Maryland data in the response we got by running the code chunk above, so we can just work with that. Recall that the first element of the data we get from the census API is a list of variable names. Looking at this, I can see that the first element of the list contains the state name. So, I just need to write a list comprehension, loop, or some other statement that will check this element in each list:"
   ]
  },
  {
   "cell_type": "code",
   "execution_count": 61,
   "id": "9dcdbcd4-0bab-4154-931d-e8ea430942a9",
   "metadata": {},
   "outputs": [
    {
     "name": "stdout",
     "output_type": "stream",
     "text": [
      "NAME :  Alabama\n"
     ]
    }
   ],
   "source": [
    "result = r.json()\n",
    "\n",
    "varnames = result[0]\n",
    "\n",
    "# verifying: \n",
    "print(varnames[0], \": \", result[1][0])\n"
   ]
  },
  {
   "cell_type": "markdown",
   "id": "24f4ca4c-21aa-44b4-a210-02348cf0b279",
   "metadata": {},
   "source": [
    "Here's how you might use a list comprehension to get the data for Maryland:"
   ]
  },
  {
   "cell_type": "code",
   "execution_count": 62,
   "id": "5f8e9968-bcc2-43e5-b436-e90df42c7de7",
   "metadata": {},
   "outputs": [
    {
     "name": "stdout",
     "output_type": "stream",
     "text": [
      "['Maryland', '6164660', None, '-555555555', '*****', '2983674', None, '13090', None, '1823687', None, '11781', None, '26649', None, '5861', None, '404207', None, '6449', None, '3088', None, '1376', None, '420119', None, '17677', None, '503236', None, '19559', None, '233923', None, '14757', None, '269313', None, '14166', None, '0400000US24', 'Maryland', '24']\n"
     ]
    }
   ],
   "source": [
    "# OR try using a filter expression with lambda:\n",
    "# md_data = list(filter(lambda x: x[0]==\"Maryland\", result))[0]\n",
    "\n",
    "md_data = [i for i in result if i[0]==\"Maryland\"][0]\n",
    "print(md_data)"
   ]
  },
  {
   "cell_type": "markdown",
   "id": "9ff8edb2-1d28-4537-8c82-b26a497aa994",
   "metadata": {},
   "source": [
    "Step 2 would be to look at the list of variable names to figure out what each of these values correspond to, and then consult the census documentation (or the table posted on ELMS) to identify what each code means. \n",
    "\n",
    "I can use the `zip` function to create a dictionary from the list of variable names and the list of values for Maryland. `zip` will take two equal length lists and turn them into a dictionary where the keys come from list one and the values come from list 2:\n"
   ]
  },
  {
   "cell_type": "code",
   "execution_count": 69,
   "id": "9d0d652f-ebca-4570-8134-8556f9b0abee",
   "metadata": {},
   "outputs": [
    {
     "name": "stdout",
     "output_type": "stream",
     "text": [
      "{'NAME': 'Maryland', 'B02001_001E': '6164660', 'B02001_001EA': None, 'B02001_001M': '-555555555', 'B02001_001MA': '*****', 'B02001_002E': '2983674', 'B02001_002EA': None, 'B02001_002M': '13090', 'B02001_002MA': None, 'B02001_003E': '1823687', 'B02001_003EA': None, 'B02001_003M': '11781', 'B02001_003MA': None, 'B02001_004E': '26649', 'B02001_004EA': None, 'B02001_004M': '5861', 'B02001_004MA': None, 'B02001_005E': '404207', 'B02001_005EA': None, 'B02001_005M': '6449', 'B02001_005MA': None, 'B02001_006E': '3088', 'B02001_006EA': None, 'B02001_006M': '1376', 'B02001_006MA': None, 'B02001_007E': '420119', 'B02001_007EA': None, 'B02001_007M': '17677', 'B02001_007MA': None, 'B02001_008E': '503236', 'B02001_008EA': None, 'B02001_008M': '19559', 'B02001_008MA': None, 'B02001_009E': '233923', 'B02001_009EA': None, 'B02001_009M': '14757', 'B02001_009MA': None, 'B02001_010E': '269313', 'B02001_010EA': None, 'B02001_010M': '14166', 'B02001_010MA': None, 'GEO_ID': '0400000US24', 'state': '24'}\n"
     ]
    }
   ],
   "source": [
    "md_dict = dict(zip(varnames, md_data))\n",
    "print(md_dict)"
   ]
  },
  {
   "cell_type": "markdown",
   "id": "5ec7af8a-e74c-4ebe-804a-1334681475c2",
   "metadata": {},
   "source": [
    "From here, we could do something like the code below to create a new dictionary with the correct names and values:"
   ]
  },
  {
   "cell_type": "code",
   "execution_count": 147,
   "id": "1855c18f-381b-4d15-a96d-a9fb237769f7",
   "metadata": {},
   "outputs": [
    {
     "data": {
      "text/plain": [
       "{'state': 'Maryland',\n",
       " 'White only': 2983674,\n",
       " 'Black or African American': 1823687}"
      ]
     },
     "execution_count": 147,
     "metadata": {},
     "output_type": "execute_result"
    }
   ],
   "source": [
    "{\n",
    " 'state' : md_dict[\"NAME\"],\n",
    " 'White only' : int(md_dict['B02001_002E']),\n",
    " 'Black or African American' : int(md_dict['B02001_003E'])\n",
    "     #... repeat for all of the other variables\n",
    "}"
   ]
  },
  {
   "cell_type": "markdown",
   "id": "400c5f69-7819-466d-871f-e86524d47ae4",
   "metadata": {},
   "source": [
    "Better yet, we could set up a simple lookup dictionary and then use a loop or dictionary comprehension to extract the elements we want and give them an appropriate name:"
   ]
  },
  {
   "cell_type": "code",
   "execution_count": 121,
   "id": "f0860756-778b-4c5c-ad27-cd46518e284b",
   "metadata": {},
   "outputs": [
    {
     "data": {
      "text/plain": [
       "{'White only': 2983674,\n",
       " 'Black or African American': 1823687,\n",
       " 'American Indian and Alaska Native': 26649,\n",
       " 'Asian Alone': 404207,\n",
       " 'Native Hawaiian and Other Pacific Islander Alone': 3088,\n",
       " 'Some Other Race Alone': 420119,\n",
       " 'Two or More Races': 503236,\n",
       " 'Two races including Some Other Race': 233923,\n",
       " 'Two races excluding Some Other Race, and three or more races': 269313}"
      ]
     },
     "execution_count": 121,
     "metadata": {},
     "output_type": "execute_result"
    }
   ],
   "source": [
    "census_vars = {\n",
    "'B02001_002E':'White only',\n",
    "'B02001_003E':'Black or African American',\n",
    "'B02001_004E':'American Indian and Alaska Native',\n",
    "'B02001_005E':'Asian Alone',\n",
    "'B02001_006E':'Native Hawaiian and Other Pacific Islander Alone',\n",
    "'B02001_007E':'Some Other Race Alone',\n",
    "'B02001_008E':'Two or More Races',\n",
    "'B02001_009E':'Two races including Some Other Race',\n",
    "'B02001_010E':'Two races excluding Some Other Race, and three or more races'}\n",
    "\n",
    "{value:int(md_dict[key]) for key, value in census_vars.items()}"
   ]
  },
  {
   "cell_type": "markdown",
   "id": "bdceeffa-ca8c-4c66-ba7f-56f1ec4fac6d",
   "metadata": {},
   "source": [
    "And once you know how to do this for a single case, it should be feasible to figure out a way to do it for all of the data using a loop or list comprehension:"
   ]
  },
  {
   "cell_type": "code",
   "execution_count": 129,
   "id": "1939c3e7-2885-4fa6-a2f1-18ab8385d0dd",
   "metadata": {},
   "outputs": [
    {
     "data": {
      "text/plain": [
       "{'state': 'Maryland',\n",
       " 'White only': 2983674,\n",
       " 'Black or African American': 1823687,\n",
       " 'American Indian and Alaska Native': 26649,\n",
       " 'Asian Alone': 404207,\n",
       " 'Native Hawaiian and Other Pacific Islander Alone': 3088,\n",
       " 'Some Other Race Alone': 420119,\n",
       " 'Two or More Races': 503236,\n",
       " 'Two races including Some Other Race': 233923,\n",
       " 'Two races excluding Some Other Race, and three or more races': 269313}"
      ]
     },
     "execution_count": 129,
     "metadata": {},
     "output_type": "execute_result"
    }
   ],
   "source": [
    "\n",
    "census_data = []\n",
    "for i in result[1:]:\n",
    "    state_dict = dict(zip(result[0], i))\n",
    "    state_data = {}\n",
    "    state_data['state'] = state_dict['NAME']\n",
    "    for key, value in census_vars.items():\n",
    "        state_data[value]  = int(state_dict[key])\n",
    "    census_data.append(state_data)\n",
    "\n",
    "# looking at result for Maryland only:\n",
    "census_data[20]\n"
   ]
  },
  {
   "cell_type": "markdown",
   "id": "10ead83e-db03-4857-9f26-7aab9b98a26c",
   "metadata": {},
   "source": [
    "Or I could define a function and use that in a list comprehension"
   ]
  },
  {
   "cell_type": "code",
   "execution_count": 156,
   "id": "02d83993-c115-4393-8e3c-20f131b205a0",
   "metadata": {},
   "outputs": [
    {
     "data": {
      "text/plain": [
       "{'White only': 2983674,\n",
       " 'Black or African American': 1823687,\n",
       " 'American Indian and Alaska Native': 26649,\n",
       " 'Asian Alone': 404207,\n",
       " 'Native Hawaiian and Other Pacific Islander Alone': 3088,\n",
       " 'Some Other Race Alone': 420119,\n",
       " 'Two or More Races': 503236,\n",
       " 'Two races including Some Other Race': 233923,\n",
       " 'Two races excluding Some Other Race, and three or more races': 269313,\n",
       " 'state': 'Maryland'}"
      ]
     },
     "execution_count": 156,
     "metadata": {},
     "output_type": "execute_result"
    }
   ],
   "source": [
    "# make the dictionaries:\n",
    "all_dict = [dict(zip(result[0],i)) for i in result[1:]]\n",
    "\n",
    "def state_demographic(state_dict, var_dict):\n",
    "    # apply the dictionary comprehension\n",
    "    state_data = {value:int(state_dict[key]) for key, value in var_dict.items()}\n",
    "    # add the state name as a string\n",
    "    state_data['state'] = state_dict['NAME']\n",
    "    return state_data\n",
    "\n",
    "\n",
    "\n",
    "# comprehension over each one:\n",
    "census_data = [state_demographic(i, census_vars) for i in all_dict]\n",
    "census_data[20]\n"
   ]
  },
  {
   "cell_type": "markdown",
   "id": "5fa204ea-782a-4b47-b634-00792cd2e698",
   "metadata": {},
   "source": [
    "In any case, once you have your data in a list of dictionaries like this, its easy to transform it into a data frame, which will be important for later on:"
   ]
  },
  {
   "cell_type": "code",
   "execution_count": 157,
   "id": "20a3a28d-89d1-4127-9840-d3baf5479e39",
   "metadata": {},
   "outputs": [
    {
     "data": {
      "text/html": [
       "<div>\n",
       "<style scoped>\n",
       "    .dataframe tbody tr th:only-of-type {\n",
       "        vertical-align: middle;\n",
       "    }\n",
       "\n",
       "    .dataframe tbody tr th {\n",
       "        vertical-align: top;\n",
       "    }\n",
       "\n",
       "    .dataframe thead th {\n",
       "        text-align: right;\n",
       "    }\n",
       "</style>\n",
       "<table border=\"1\" class=\"dataframe\">\n",
       "  <thead>\n",
       "    <tr style=\"text-align: right;\">\n",
       "      <th></th>\n",
       "      <th>White only</th>\n",
       "      <th>Black or African American</th>\n",
       "      <th>American Indian and Alaska Native</th>\n",
       "      <th>Asian Alone</th>\n",
       "      <th>Native Hawaiian and Other Pacific Islander Alone</th>\n",
       "      <th>Some Other Race Alone</th>\n",
       "      <th>Two or More Races</th>\n",
       "      <th>Two races including Some Other Race</th>\n",
       "      <th>Two races excluding Some Other Race, and three or more races</th>\n",
       "      <th>state</th>\n",
       "    </tr>\n",
       "  </thead>\n",
       "  <tbody>\n",
       "    <tr>\n",
       "      <th>0</th>\n",
       "      <td>3302528</td>\n",
       "      <td>1302035</td>\n",
       "      <td>24400</td>\n",
       "      <td>78893</td>\n",
       "      <td>4977</td>\n",
       "      <td>102129</td>\n",
       "      <td>259334</td>\n",
       "      <td>98041</td>\n",
       "      <td>161293</td>\n",
       "      <td>Alabama</td>\n",
       "    </tr>\n",
       "    <tr>\n",
       "      <th>1</th>\n",
       "      <td>437533</td>\n",
       "      <td>22202</td>\n",
       "      <td>95268</td>\n",
       "      <td>46184</td>\n",
       "      <td>14724</td>\n",
       "      <td>13365</td>\n",
       "      <td>104307</td>\n",
       "      <td>25071</td>\n",
       "      <td>79236</td>\n",
       "      <td>Alaska</td>\n",
       "    </tr>\n",
       "    <tr>\n",
       "      <th>2</th>\n",
       "      <td>4254015</td>\n",
       "      <td>340760</td>\n",
       "      <td>301909</td>\n",
       "      <td>266441</td>\n",
       "      <td>15099</td>\n",
       "      <td>751130</td>\n",
       "      <td>1429843</td>\n",
       "      <td>1115009</td>\n",
       "      <td>314834</td>\n",
       "      <td>Arizona</td>\n",
       "    </tr>\n",
       "    <tr>\n",
       "      <th>3</th>\n",
       "      <td>2103849</td>\n",
       "      <td>437331</td>\n",
       "      <td>22250</td>\n",
       "      <td>48921</td>\n",
       "      <td>14229</td>\n",
       "      <td>91519</td>\n",
       "      <td>327538</td>\n",
       "      <td>198871</td>\n",
       "      <td>128667</td>\n",
       "      <td>Arkansas</td>\n",
       "    </tr>\n",
       "    <tr>\n",
       "      <th>4</th>\n",
       "      <td>15175598</td>\n",
       "      <td>2121422</td>\n",
       "      <td>504589</td>\n",
       "      <td>6054038</td>\n",
       "      <td>159920</td>\n",
       "      <td>7597084</td>\n",
       "      <td>7416691</td>\n",
       "      <td>5472315</td>\n",
       "      <td>1944376</td>\n",
       "      <td>California</td>\n",
       "    </tr>\n",
       "  </tbody>\n",
       "</table>\n",
       "</div>"
      ],
      "text/plain": [
       "   White only  Black or African American  American Indian and Alaska Native  \\\n",
       "0     3302528                    1302035                              24400   \n",
       "1      437533                      22202                              95268   \n",
       "2     4254015                     340760                             301909   \n",
       "3     2103849                     437331                              22250   \n",
       "4    15175598                    2121422                             504589   \n",
       "\n",
       "   Asian Alone  Native Hawaiian and Other Pacific Islander Alone  \\\n",
       "0        78893                                              4977   \n",
       "1        46184                                             14724   \n",
       "2       266441                                             15099   \n",
       "3        48921                                             14229   \n",
       "4      6054038                                            159920   \n",
       "\n",
       "   Some Other Race Alone  Two or More Races  \\\n",
       "0                 102129             259334   \n",
       "1                  13365             104307   \n",
       "2                 751130            1429843   \n",
       "3                  91519             327538   \n",
       "4                7597084            7416691   \n",
       "\n",
       "   Two races including Some Other Race  \\\n",
       "0                                98041   \n",
       "1                                25071   \n",
       "2                              1115009   \n",
       "3                               198871   \n",
       "4                              5472315   \n",
       "\n",
       "   Two races excluding Some Other Race, and three or more races       state  \n",
       "0                                             161293                Alabama  \n",
       "1                                              79236                 Alaska  \n",
       "2                                             314834                Arizona  \n",
       "3                                             128667               Arkansas  \n",
       "4                                            1944376             California  "
      ]
     },
     "execution_count": 157,
     "metadata": {},
     "output_type": "execute_result"
    }
   ],
   "source": [
    "df = pd.DataFrame(census_data)\n",
    "df.head()"
   ]
  }
 ],
 "metadata": {
  "kernelspec": {
   "display_name": "Python 3 (ipykernel)",
   "language": "python",
   "name": "python3"
  },
  "language_info": {
   "codemirror_mode": {
    "name": "ipython",
    "version": 3
   },
   "file_extension": ".py",
   "mimetype": "text/x-python",
   "name": "python",
   "nbconvert_exporter": "python",
   "pygments_lexer": "ipython3",
   "version": "3.8.10"
  }
 },
 "nbformat": 4,
 "nbformat_minor": 5
}
