{
 "cells": [
  {
   "cell_type": "markdown",
   "id": "149abb4d-9b95-4c79-929d-db294302ec5a",
   "metadata": {},
   "source": [
    "# Saving to a SQL data base"
   ]
  },
  {
   "cell_type": "markdown",
   "id": "8f54edca-ba88-48ce-8c6b-54d2112fd8bd",
   "metadata": {},
   "source": [
    "This is an example of using a SQL database to store results from webscraping or API queries. \n",
    "\n",
    "A SQL database is an ideal way to store data that might become too large to fit into working memory, and setting things up this way makes it easy to continuously update a large data base with new information."
   ]
  },
  {
   "cell_type": "code",
   "execution_count": 246,
   "id": "f7342807-6987-4f7c-a131-2380588b2307",
   "metadata": {
    "editable": true,
    "slideshow": {
     "slide_type": ""
    },
    "tags": []
   },
   "outputs": [],
   "source": [
    "from requests import get\n",
    "import pandas as pd\n",
    "import time\n",
    "from bs4 import BeautifulSoup\n",
    "import os\n",
    "import re\n",
    "import sqlite3\n",
    "import json\n"
   ]
  },
  {
   "cell_type": "markdown",
   "id": "c8fabc0b",
   "metadata": {},
   "source": [
    "We'll start with a function that parses AP articles, along with a bit of code that conditionally creates a SQL database in the current directory if one doesn't exist."
   ]
  },
  {
   "cell_type": "code",
   "execution_count": 251,
   "id": "fe461b5a-ba2e-462b-8b78-fcd9b4131cfa",
   "metadata": {
    "editable": true,
    "slideshow": {
     "slide_type": ""
    },
    "tags": []
   },
   "outputs": [
    {
     "name": "stdout",
     "output_type": "stream",
     "text": [
      "table exists\n"
     ]
    }
   ],
   "source": [
    "def ap_parser(url):\n",
    "    site = get(url)\n",
    "    content = BeautifulSoup(site.content, \"html.parser\")\n",
    "    timestamp = int(content.select_one('.Page-content bsp-timestamp').get('data-timestamp'))\n",
    "    output = {\n",
    "        'url' : site.url,\n",
    "        'tags' : ', '.join([i.get('content') for i in content.select('meta[property=\"article:tag\"]')]),\n",
    "        'section' : ' '.join([i.get('content') for i in content.select('meta[property=\"article:section\"]')]),\n",
    "        'authors': ', '.join([i.get_text() for i in content.select('.Page-authors .Link')]),\n",
    "        'article_text' : ' '.join([i.get_text() for i in content.select('.Page-content .RichTextBody p')]),\n",
    "        'pubdate' : time.strftime('%Y-%m-%d %H:%M:%S', time.localtime(timestamp/1000)), # the timestamp on AP articles is a unix epoch\n",
    "        'headline' : ' '.join([i.get_text() for i in content.select('.Page-headline')])\n",
    "    }\n",
    "    return output\n",
    "\n",
    "# check if articles table exists, create it if not:\n",
    "conn = sqlite3.connect('./ap_articles.db')\n",
    "\n",
    "cur = conn.cursor()\n",
    "try: \n",
    "    cur.execute('SELECT * from articles limit 1')\n",
    "    print(\"table exists\")\n",
    "except sqlite3.OperationalError:\n",
    "    print(\"No articles table: creating\")\n",
    "    cur.execute('''\n",
    "                CREATE TABLE articles(\n",
    "                url text PRIMARY KEY,               \n",
    "                tags text,\n",
    "                section text,\n",
    "                authors text,\n",
    "                article_text text,\n",
    "                pubdate text,\n",
    "                headline text       \n",
    "                )''')\n",
    "\n"
   ]
  },
  {
   "cell_type": "markdown",
   "id": "af6018df-b9e0-4c28-8398-5acac127e171",
   "metadata": {},
   "source": [
    "From here, I'm just doing something similar to what we did in classwork 9-1: grabbing a sitemap, getting a list of articles and scraping each one. However, there are two key differences that make this script operate slightly differently from the code we've used elsewhere:\n",
    "\n",
    "1. When building the list of links, the URLs are stored in a dictionary and then written to a .json file. The looping process for creating this dictionary has some logic to skip sitemaps that have already been retrieved.\n",
    "2. When scraping articles, the results are placed in a SQL database called `ap_articles.db`. If an article was previously scraped, we'll skip it entirely.\n"
   ]
  },
  {
   "cell_type": "code",
   "execution_count": 259,
   "id": "4036fd30-85a4-4e67-b4d8-d70e244f36a2",
   "metadata": {
    "editable": true,
    "slideshow": {
     "slide_type": ""
    },
    "tags": []
   },
   "outputs": [],
   "source": [
    "sitemap = get('https://apnews.com/ap-sitemap.xml')\n",
    "\n",
    "\n",
    "overall_sitemap = BeautifulSoup(sitemap.content, features=\"xml\") \n",
    "# select all <loc> nodes\n",
    "overall_nodes = overall_sitemap.select('loc')\n",
    "# loop through the entire list and just get the link\n",
    "sitemap_urls = [i.get_text() for i in overall_nodes]\n",
    "sitemaps = [i for i in sitemap_urls if bool(re.search('2024|2025', i)) ]\n",
    "\n"
   ]
  },
  {
   "cell_type": "markdown",
   "id": "7fcfc0db",
   "metadata": {},
   "source": [
    "### Listing URLs"
   ]
  },
  {
   "cell_type": "code",
   "execution_count": 253,
   "id": "822ebdd2",
   "metadata": {},
   "outputs": [],
   "source": [
    "# either load the list of links or create a new empty dictionary\n",
    "if os.path.exists(\"ap_links.json\") == False:\n",
    "    article_urls = {}\n",
    "else:\n",
    "    with open('ap_links.json', 'r') as file:\n",
    "        article_urls = json.load(file)\n",
    "    for i in sitemaps:\n",
    "        if sitemaps[0] in article_urls.keys():\n",
    "            continue  # skip this iteration this key is already present in the links list\n",
    "        else:\n",
    "            # get the sitemap\n",
    "            response = get(i)\n",
    "            # parse the content as an XML document\n",
    "            sitemap= BeautifulSoup(response.content, features=\"xml\")\n",
    "            # select all <loc> nodes\n",
    "            url_nodes = sitemap.select('loc')\n",
    "            urls = [i.get_text() for i in url_nodes]\n",
    "            article_urls[i] = {\n",
    "                'link': [i for i in urls if bool(re.search(\"/article/\", i)) ]\n",
    "            \n",
    "                }\n",
    "            time.sleep(.1)\n",
    "\n",
    "# finally, write the results to a json file\n",
    "with open(\"ap_links.json\", \"w\") as f:\n",
    "        json.dump(article_urls, f, indent=4)"
   ]
  },
  {
   "cell_type": "markdown",
   "id": "d8c37d8d-0795-4eb8-80ff-4cc3895ad700",
   "metadata": {},
   "source": [
    "I'll search through the articles for URLs that contain the string \"inflation\" and only retrieve those"
   ]
  },
  {
   "cell_type": "code",
   "execution_count": 254,
   "id": "38e355d2",
   "metadata": {},
   "outputs": [
    {
     "data": {
      "text/plain": [
       "662"
      ]
     },
     "execution_count": 254,
     "metadata": {},
     "output_type": "execute_result"
    }
   ],
   "source": [
    "r = re.compile(\"inflation\")\n",
    "relevant_urls = []\n",
    "for v in article_urls.values():\n",
    "    relevant_urls.extend(list(filter(r.search, v['link'])))\n",
    "len(relevant_urls) # number of results"
   ]
  },
  {
   "cell_type": "markdown",
   "id": "005a9253",
   "metadata": {},
   "source": [
    "### Scraping articles"
   ]
  },
  {
   "cell_type": "markdown",
   "id": "82a6f3fb-ffce-45bf-8992-a35248acc398",
   "metadata": {},
   "source": [
    "Finally, I'll make a loop to scrape AP articles and add them to my SQL table. The loop below has built in logic to skip over a URL if it already exists in my SQL data base, so this code ensures that I won't have to scrape an article if I've already retrieved it (even if I were to restart my kernel and run this loop all over again)"
   ]
  },
  {
   "cell_type": "code",
   "execution_count": 255,
   "id": "2ae68ec7-b58a-4803-a14d-e88f52b7ee89",
   "metadata": {
    "editable": true,
    "slideshow": {
     "slide_type": ""
    },
    "tags": []
   },
   "outputs": [
    {
     "name": "stdout",
     "output_type": "stream",
     "text": [
      "article found\r"
     ]
    }
   ],
   "source": [
    "for url in relevant_urls:\n",
    "    article_count = pd.read_sql(f\"SELECT COUNT(*) as article_count from articles  where url = '{url}'\", con=conn)\n",
    "    if article_count['article_count'][0]==0:\n",
    "        print(\"not found, scraping article\", end='\\r')\n",
    "        try:\n",
    "            article = ap_parser(url)\n",
    "        except: \n",
    "            print(\"error encountered\")\n",
    "        finally:\n",
    "            pd.DataFrame(article, index=[0]).to_sql(con = conn, name='articles', if_exists='append', index=False)\n",
    "            time.sleep(.3)\n",
    "    else:\n",
    "        print('article found', end='\\r')"
   ]
  },
  {
   "cell_type": "markdown",
   "id": "5122c794-062f-4d68-80ba-35cfb399e09f",
   "metadata": {},
   "source": [
    "How many articles do we have now? We can use `read_sql` to send an SQL statement to our database. The statement below would simply count all of the articles in the list:"
   ]
  },
  {
   "cell_type": "code",
   "execution_count": 182,
   "id": "dc704b8d-833d-46ab-a25b-1ac59be65f88",
   "metadata": {
    "editable": true,
    "scrolled": true,
    "slideshow": {
     "slide_type": ""
    },
    "tags": []
   },
   "outputs": [
    {
     "data": {
      "text/html": [
       "<div>\n",
       "<style scoped>\n",
       "    .dataframe tbody tr th:only-of-type {\n",
       "        vertical-align: middle;\n",
       "    }\n",
       "\n",
       "    .dataframe tbody tr th {\n",
       "        vertical-align: top;\n",
       "    }\n",
       "\n",
       "    .dataframe thead th {\n",
       "        text-align: right;\n",
       "    }\n",
       "</style>\n",
       "<table border=\"1\" class=\"dataframe\">\n",
       "  <thead>\n",
       "    <tr style=\"text-align: right;\">\n",
       "      <th></th>\n",
       "      <th>COUNT(*)</th>\n",
       "    </tr>\n",
       "  </thead>\n",
       "  <tbody>\n",
       "    <tr>\n",
       "      <th>0</th>\n",
       "      <td>662</td>\n",
       "    </tr>\n",
       "  </tbody>\n",
       "</table>\n",
       "</div>"
      ],
      "text/plain": [
       "   COUNT(*)\n",
       "0       662"
      ]
     },
     "execution_count": 182,
     "metadata": {},
     "output_type": "execute_result"
    }
   ],
   "source": [
    "pd.read_sql(\"SELECT COUNT(*) from articles\", con=conn)"
   ]
  },
  {
   "cell_type": "markdown",
   "id": "312caa45",
   "metadata": {},
   "source": [
    "Alternatively, you can use a statement like this to retrieve all of the data from a SQL table:"
   ]
  },
  {
   "cell_type": "code",
   "execution_count": 256,
   "id": "4b3e4403",
   "metadata": {},
   "outputs": [],
   "source": [
    "inflation_articles = pd.read_sql(\"SELECT * from articles\", con=conn)\n",
    "conn.close() # close the connection to the database once you've got the information you need"
   ]
  },
  {
   "cell_type": "markdown",
   "id": "dd8b01a3",
   "metadata": {},
   "source": [
    "More importantly: if we were to revisit this table at a later point, re-running the script would only require us to update the data base for new articles. Otherwise, the steps above would just be skipped entirely. This setup allows me to incrementally build a very large database of articles."
   ]
  },
  {
   "cell_type": "markdown",
   "id": "8c53facc",
   "metadata": {},
   "source": [
    "From here, you could do something like make a plot of the total amount of inflation coverage from the AP for each month and then compare it to actual inflation rates. Or choose to scrape another outlet to see how coverage of economic news varies across sources, or use the text of individual articles for a text analysis."
   ]
  },
  {
   "cell_type": "code",
   "execution_count": 258,
   "id": "c273f2a3",
   "metadata": {},
   "outputs": [
    {
     "name": "stderr",
     "output_type": "stream",
     "text": [
      "C:\\Users\\neilb\\AppData\\Local\\Temp\\ipykernel_69332\\3069613688.py:4: FutureWarning: 'M' is deprecated and will be removed in a future version, please use 'ME' instead.\n",
      "  period_counts = inflation_articles.set_index('pubdate').resample('M').size().fillna(0)\n"
     ]
    },
    {
     "data": {
      "text/plain": [
       "<Axes: title={'center': 'AP Articles about inflation by month'}, xlabel='Month', ylabel='Number of articles'>"
      ]
     },
     "execution_count": 258,
     "metadata": {},
     "output_type": "execute_result"
    },
    {
     "data": {
      "image/png": "[encoded data removed]",
      "text/plain": [
       "<Figure size 640x480 with 1 Axes>"
      ]
     },
     "metadata": {},
     "output_type": "display_data"
    }
   ],
   "source": [
    "# count by month, and fill missing months with 0\n",
    "\n",
    "inflation_articles['pubdate'] = pd.to_datetime(inflation_articles['pubdate'])\n",
    "period_counts = inflation_articles.set_index('pubdate').resample('M').size().fillna(0)\n",
    "period_counts.plot.line(xlabel='Month', ylabel='Number of articles', title='AP Articles about inflation by month')"
   ]
  }
 ],
 "metadata": {
  "kernelspec": {
   "display_name": ".venv",
   "language": "python",
   "name": "python3"
  },
  "language_info": {
   "codemirror_mode": {
    "name": "ipython",
    "version": 3
   },
   "file_extension": ".py",
   "mimetype": "text/x-python",
   "name": "python",
   "nbconvert_exporter": "python",
   "pygments_lexer": "ipython3",
   "version": "3.13.3"
  }
 },
 "nbformat": 4,
 "nbformat_minor": 5
}
