{
 "cells": [
  {
   "cell_type": "code",
   "execution_count": 1,
   "id": "d484ac7f-c58f-4b34-be19-f9bb64e39fef",
   "metadata": {
    "editable": true,
    "slideshow": {
     "slide_type": ""
    },
    "tags": []
   },
   "outputs": [],
   "source": [
    "from requests import get\n",
    "import pandas as pd\n",
    "import time\n",
    "from bs4 import BeautifulSoup\n",
    "from urllib.parse import urljoin\n",
    "import re\n"
   ]
  },
  {
   "cell_type": "markdown",
   "id": "755e0d42-5183-4389-a941-e0902b09c527",
   "metadata": {},
   "source": [
    "# Using a sitemap\n",
    "\n",
    "Larger sites will usually have a sitemap that acts as a map of URLs to make it easier to web crawlers to index pages. If its available, you can usually locate a page's sitemap by navigating to `[domain name here]/robots.txt`. For instance, the `robots.txt` page for `apnews.com` is `https://apnews.com/robots.txt`. If you go to that URL, you'll see a section of sitemaps. If you go to that URL and then follow the first link to https://apnews.com/ap-sitemap.xml, you'll end up on a page that looks like this:"
   ]
  },
  {
   "cell_type": "raw",
   "id": "ebc7d167-ea38-42e2-a7bd-dbb458095b9e",
   "metadata": {},
   "source": [
    "<sitemapindex xsi:schemaLocation=\"http://www.sitemaps.org/schemas/sitemap/0.9 https://www.sitemaps.org/schemas/sitemap/0.9/siteindex.xsd\">\n",
    "    <sitemap>\n",
    "        <loc>https://apnews.com/ap-sitemap-200610.xml</loc>\n",
    "        <lastmod>2024-07-20T21:50:36-04:00</lastmod>\n",
    "    </sitemap>\n",
    "    <sitemap>\n",
    "        <loc>https://apnews.com/ap-sitemap-200706.xml</loc>\n",
    "        <lastmod>2024-06-29T00:36:03-04:00</lastmod>\n",
    "    </sitemap>\n",
    "</sitemapindex>"
   ]
  },
  {
   "cell_type": "markdown",
   "id": "8a17721a-8ecc-40a2-b0c9-049600ddccdd",
   "metadata": {},
   "source": [
    "This is a .xml formatted document, which you might notice looks pretty similar to the .html code we've viewed in the past. We won't be able to use the SelectorGadget on these pages, but we will be able to use BeautifulSoup to parse it and extract information using expressions that are very similar to the ones we use to parse an HTML document\n",
    "\n",
    "\n",
    "\n",
    "Following one of the links on this page will take you to another sitemap listing all of the AP articles published for a single month. So you can think of the structure of this site as sort of following a hierarchy sort of like this:"
   ]
  },
  {
   "attachments": {},
   "cell_type": "markdown",
   "id": "cf74f37a-e372-48b7-b15f-4fae772e46e2",
   "metadata": {},
   "source": [
    "![image.png](https://mermaid.ink/img/pako:eNpl0UFrwjAUB_CvEt7Ziu10sB4G1U5QcJftZnZ4tK820DQlfcUN8bsvRgkt5pT88s__kHeBwpQEKVSNORc1WhbfuWyFW_kRu6hXTBq7-a9ufkQUvYtspFGySJbx4s3f3h9lPvRxzCyroiERT3wbPHl4fuP1c-eo0kc2T5F4FFn79l1of5n4Pvjy4Rvvh-CriX8Gf3UOM9BkNarS_dLllpPANWmSkLptZSz1LEG2V5fEgc3XX1tAynagGVgznGpIK2x6dxq6EplyhSeLOiiVio093Mfgp3H9Bz2retE?type=png)"
   ]
  },
  {
   "cell_type": "markdown",
   "id": "756eedb4-faed-490d-a4d9-8114108b3053",
   "metadata": {},
   "source": [
    "The Associated Press is a massive website, but if we understand how to navigate its sitemap, we can gather pretty much anything we want from it very efficiently."
   ]
  },
  {
   "cell_type": "markdown",
   "id": "b68e2965-75f5-4829-b3f7-654e4b512502",
   "metadata": {},
   "source": [
    "We'll pull a single sitemap for a single month, but note that you could easily write a loop to navigate through every sitemap and extract every link. Go ahead and take a look at the map for <a href=https://apnews.com/ap-sitemap-202410.xml>stories from October 2024 here</a> (this will probably load slowly!)\n",
    "\n",
    "You should see some output that looks something like the output below:\n"
   ]
  },
  {
   "cell_type": "markdown",
   "id": "1c560c7f-a02d-4347-ac33-81ebd896134c",
   "metadata": {},
   "source": [
    "This is XML formatting. Its a close relative of HTML, and you might recognize some clear similarities - especially the use of nested `<tags>` to hold data - but XML doesn't provide any visual formatting. Its just a way to store and share data. \n",
    "\n",
    "Luckily, we can still parse XML data using BeautifulSoup, and this output is ultimately probably easier to navigate because its generally much simpler. We'll start by sending a get request to the URL for this sitemap, and then we'll parse the result in *almost* the same way we've been parsing HTML code. The only difference here is that we'll need to using the `features='xml'` optional argument for the `BeautifulSoup` function.\n"
   ]
  },
  {
   "cell_type": "code",
   "execution_count": 2,
   "id": "0405433b-a901-4ea5-a7d1-9a3aa9ebbaf7",
   "metadata": {},
   "outputs": [],
   "source": [
    "# get the sitemap\n",
    "october_sitemap = get('https://apnews.com/ap-sitemap-202410.xml')\n",
    "# parse the content as an XML document\n",
    "sitemap= BeautifulSoup(october_sitemap.content, features=\"xml\") # note the features = 'xml' option!"
   ]
  },
  {
   "cell_type": "markdown",
   "id": "05be36b8-263a-4ce6-a970-3b892cd57b33",
   "metadata": {},
   "source": [
    "The link to each article for this month is stored in a `loc` node. So we can get all of the URLs with a simple selector expression: "
   ]
  },
  {
   "cell_type": "code",
   "execution_count": 3,
   "id": "d4259e5d-cfab-40e4-9786-cfc2ebb3faee",
   "metadata": {},
   "outputs": [
    {
     "data": {
      "text/plain": [
       "['https://apnews.com/article/nba-paul-george-sixers-a732b5c52cbb2c2363a1205c3458bfa7',\n",
       " 'https://apnews.com/article/ap-top-photos-of-week-4c31f109609a1ca2aa5165387c875259',\n",
       " 'https://apnews.com/baltimore-orioles-mlb-playoffs-9d77cb92b2594884a73169f0e8ad7263',\n",
       " 'https://apnews.com/article/mexico-foreign-investment-amazon-natural-gas-cruise-ships-ac2476ac1d76c9ff6246ade660aa7882',\n",
       " 'https://apnews.com/article/fifa-israel-palestinian-soccer-5b78239c70c568877c89695e2dcd0721']"
      ]
     },
     "execution_count": 3,
     "metadata": {},
     "output_type": "execute_result"
    }
   ],
   "source": [
    "# select all <loc> nodes\n",
    "url_nodes = sitemap.select('loc')\n",
    "\n",
    "# loop through the entire list and just get the link\n",
    "urls = [i.get_text() for i in url_nodes]\n",
    "\n",
    "# print the last 5\n",
    "urls[-5:]\n"
   ]
  },
  {
   "cell_type": "markdown",
   "id": "85001f99-9b8a-4f82-9a13-1ed65e5b07bd",
   "metadata": {},
   "source": [
    "## Filtering with a regular expression"
   ]
  },
  {
   "cell_type": "markdown",
   "id": "03355214-5f5f-4501-abfe-b9fd3a233c2a",
   "metadata": {},
   "source": [
    "After inspecting the sitemap, you might notice that there are some slight differences in the structures of each URL. Links with `hub` in their path like https://apnews.com/hub/mideast-wars will take you to a landing page with links to additional articles about a topic, whereas links with `article` in the path take you to an actual news story. Lets assume for my project that I only want the **articles** and not any of the links to video links or 'hubs'. \n",
    "\n",
    "I can use a regular expression to detect the urls that have \"article\" as part of their path and create a list with exclusively \"article\" links. We'll talk a bit more about regular expressions at a later date, but for now its sufficient to say they're a way of flexibly identifying strings of text. The regular expression we need here is really simple, we just need something that catches the string \"/article/\". The code below searches for that string in a URL, and will return `True` if it's present, and `False` if it's absent:"
   ]
  },
  {
   "cell_type": "code",
   "execution_count": 11,
   "id": "5f4f8c3c-ee6b-4f4d-bea9-bde03fc363bd",
   "metadata": {},
   "outputs": [
    {
     "data": {
      "text/plain": [
       "True"
      ]
     },
     "execution_count": 11,
     "metadata": {},
     "output_type": "execute_result"
    }
   ],
   "source": [
    "url = \"https://apnews.com/article/fifa-israel-palestinian-soccer-5b78239c70c568877c89695e2dcd0721\"\n",
    "bool(re.search(\"/article/\", url))"
   ]
  },
  {
   "cell_type": "code",
   "execution_count": 12,
   "id": "619f3d2e-ec48-4718-af07-81c8ea7627f5",
   "metadata": {},
   "outputs": [
    {
     "data": {
      "text/plain": [
       "False"
      ]
     },
     "execution_count": 12,
     "metadata": {},
     "output_type": "execute_result"
    }
   ],
   "source": [
    "url = 'https://apnews.com/hub/mideast-wars'\n",
    "bool(re.search(\"/article/\", url))"
   ]
  },
  {
   "cell_type": "markdown",
   "id": "b82cf494-1c27-46cd-927a-ae1ee920c841",
   "metadata": {},
   "source": [
    "So, we can just use a list comprehension to filter out URLs that don't link to an article:"
   ]
  },
  {
   "cell_type": "code",
   "execution_count": 13,
   "id": "ae6c1564-ac7d-488c-be26-fe0a71c279d0",
   "metadata": {
    "scrolled": true
   },
   "outputs": [
    {
     "data": {
      "text/plain": [
       "8489"
      ]
     },
     "execution_count": 13,
     "metadata": {},
     "output_type": "execute_result"
    }
   ],
   "source": [
    "article_urls  = [i for i in urls if bool(re.search(\"/article/\", i)) ]\n",
    "\n",
    "len(article_urls) # a lot !"
   ]
  },
  {
   "cell_type": "markdown",
   "id": "ae1c7c6a-fc87-4616-a971-f20377989924",
   "metadata": {},
   "source": [
    "That's not an impossible number to scrape or anything, but we'll limit our results a little further by trying to identify links with text that relates to economic coverage. Since the AP link includes some description of the article's topic in the URL itself, we can use this to only get articles related to a particular topic. We'll use another regular expression, but now we'll only grab URLs if they include the string \"inflation\"."
   ]
  },
  {
   "cell_type": "code",
   "execution_count": 119,
   "id": "d73aeac9-ad9d-4762-9bce-051e3bee27ab",
   "metadata": {
    "editable": true,
    "slideshow": {
     "slide_type": ""
    },
    "tags": []
   },
   "outputs": [
    {
     "data": {
      "text/plain": [
       "26"
      ]
     },
     "execution_count": 119,
     "metadata": {},
     "output_type": "execute_result"
    }
   ],
   "source": [
    "inflation_urls = [i for i in article_urls if bool(re.search(\"inflation\", i)) ]\n",
    "len(inflation_urls) # much more reasonable"
   ]
  },
  {
   "cell_type": "markdown",
   "id": "320abd47-1960-4e90-ab7b-d6a1c5b17c03",
   "metadata": {},
   "source": [
    "Regular expressions offer a lot of additional flexibility for searching texts. For instance, we can use the \"|\" symbol in our expression as a logical OR operator. So \"this|that\" would search for the string \"this\" OR the string \"that\". So, if we wanted all the articles mentioning inflation OR unemployment, we could just write:"
   ]
  },
  {
   "cell_type": "code",
   "execution_count": 120,
   "id": "050a8612-7a13-4d5e-900a-19a2874655fa",
   "metadata": {},
   "outputs": [
    {
     "data": {
      "text/plain": [
       "34"
      ]
     },
     "execution_count": 120,
     "metadata": {},
     "output_type": "execute_result"
    }
   ],
   "source": [
    "inflation_or_unemployment = [i for i in article_urls if bool(re.search(\"inflation|unemployment\", i)) ]\n",
    "len(inflation_or_unemployment) # much more reasonable"
   ]
  },
  {
   "cell_type": "markdown",
   "id": "4cecc207-60c3-4550-8033-7e18662a0e28",
   "metadata": {},
   "source": [
    "Now, with our list of urls in hand, we just need a function that will take a URL and output a formatted dictionary from the response. I've gone ahead and written that function here. "
   ]
  },
  {
   "cell_type": "code",
   "execution_count": 122,
   "id": "4fa3d138-371c-4c37-8981-a45dd90c031f",
   "metadata": {
    "editable": true,
    "slideshow": {
     "slide_type": ""
    },
    "tags": []
   },
   "outputs": [],
   "source": [
    "def ap_parser(url):\n",
    "    site = get(url)\n",
    "    content = BeautifulSoup(site.content, \"html.parser\")\n",
    "    timestamp = int(content.select_one('.Page-content bsp-timestamp').get('data-timestamp'))\n",
    "    output = {\n",
    "        'url' : site.url,\n",
    "        'tags' : ', '.join([i.get('content') for i in content.select('meta[property=\"article:tag\"]')]),\n",
    "        'section' : ' '.join([i.get('content') for i in content.select('meta[property=\"article:section\"]')]),\n",
    "        'authors': ', '.join([i.get_text() for i in content.select('.Page-authors .Link')]),\n",
    "        'article_text' : ' '.join([i.get_text() for i in content.select('.Page-content .RichTextBody p')]),\n",
    "        'pubdate' : time.strftime('%Y-%m-%d %H:%M:%S', time.localtime(timestamp/1000)), # the timestamp on AP articles is a unix epoch\n",
    "        'headline' : ' '.join([i.get_text() for i in content.select('.Page-headline')])\n",
    "    }\n",
    "    return output"
   ]
  },
  {
   "cell_type": "markdown",
   "id": "79dc3f05-9c18-41ac-add4-7c9c2d9f7cf3",
   "metadata": {},
   "source": [
    "So the last step is just to loop through the list of URLs to collect our data."
   ]
  },
  {
   "cell_type": "code",
   "execution_count": 123,
   "id": "3775f174-2570-4eeb-aa92-1f6624e27834",
   "metadata": {
    "editable": true,
    "slideshow": {
     "slide_type": ""
    },
    "tags": []
   },
   "outputs": [
    {
     "name": "stdout",
     "output_type": "stream",
     "text": [
      "https://apnews.com/article/stocks-markets-china-inflation-rates-44ade1d46d9dc7ed714934238e810f65e55d81df459792a038ea9e321800\r"
     ]
    }
   ],
   "source": [
    "articles_list = []\n",
    "for i in inflation_urls:\n",
    "    print(i, end='\\r')\n",
    "    articles_list.append(ap_parser(i))\n",
    "    time.sleep(.3)\n",
    "\n"
   ]
  },
  {
   "cell_type": "markdown",
   "id": "7121168f-243a-4389-8b65-849027d77344",
   "metadata": {},
   "source": [
    "And finally, we'll put our results into a data frame:"
   ]
  },
  {
   "cell_type": "code",
   "execution_count": 124,
   "id": "7bea8e23-b174-4a41-a33a-6ac9c28cca1e",
   "metadata": {},
   "outputs": [
    {
     "data": {
      "text/html": [
       "<div>\n",
       "<style scoped>\n",
       "    .dataframe tbody tr th:only-of-type {\n",
       "        vertical-align: middle;\n",
       "    }\n",
       "\n",
       "    .dataframe tbody tr th {\n",
       "        vertical-align: top;\n",
       "    }\n",
       "\n",
       "    .dataframe thead th {\n",
       "        text-align: right;\n",
       "    }\n",
       "</style>\n",
       "<table border=\"1\" class=\"dataframe\">\n",
       "  <thead>\n",
       "    <tr style=\"text-align: right;\">\n",
       "      <th></th>\n",
       "      <th>url</th>\n",
       "      <th>tags</th>\n",
       "      <th>section</th>\n",
       "      <th>authors</th>\n",
       "      <th>article_text</th>\n",
       "      <th>pubdate</th>\n",
       "      <th>headline</th>\n",
       "    </tr>\n",
       "  </thead>\n",
       "  <tbody>\n",
       "    <tr>\n",
       "      <th>0</th>\n",
       "      <td>https://apnews.com/article/trump-economy-tarif...</td>\n",
       "      <td>Joe Biden, Paul Ashworth, General news, Inside...</td>\n",
       "      <td>Business</td>\n",
       "      <td>PAUL WISEMAN</td>\n",
       "      <td>WASHINGTON (AP) — President-elect Donald Trump...</td>\n",
       "      <td>2024-12-23 08:40:04</td>\n",
       "      <td>An analyst looks ahead to how the US economy m...</td>\n",
       "    </tr>\n",
       "    <tr>\n",
       "      <th>1</th>\n",
       "      <td>https://apnews.com/article/new-york-ny-inflati...</td>\n",
       "      <td>General news, Kathy Hochul, New York City Wire...</td>\n",
       "      <td>U.S. News</td>\n",
       "      <td>ANTHONY IZAGUIRRE</td>\n",
       "      <td>ALBANY, N.Y. (AP) — New Yorkers could get “Inf...</td>\n",
       "      <td>2024-12-09 17:42:51</td>\n",
       "      <td>New Yorkers could get ‘Inflation Refund’ check...</td>\n",
       "    </tr>\n",
       "    <tr>\n",
       "      <th>2</th>\n",
       "      <td>https://apnews.com/article/inflation-prices-ec...</td>\n",
       "      <td>Inflation, General news, Federal Reserve Syste...</td>\n",
       "      <td>Business</td>\n",
       "      <td>PAUL WISEMAN</td>\n",
       "      <td>WASHINGTON (AP) — Wholesale costs in the Unite...</td>\n",
       "      <td>2024-12-12 09:08:25</td>\n",
       "      <td>US wholesale inflation accelerated in November...</td>\n",
       "    </tr>\n",
       "    <tr>\n",
       "      <th>3</th>\n",
       "      <td>https://apnews.com/article/small-business-infl...</td>\n",
       "      <td>Inflation, Small business, U.S. Department of ...</td>\n",
       "      <td>Business</td>\n",
       "      <td>THE ASSOCIATED PRESS</td>\n",
       "      <td>A look at some of the key business events and ...</td>\n",
       "      <td>2024-12-06 14:00:39</td>\n",
       "      <td>Next Week: small business index, consumer pric...</td>\n",
       "    </tr>\n",
       "    <tr>\n",
       "      <th>4</th>\n",
       "      <td>https://apnews.com/article/stock-market-inflat...</td>\n",
       "      <td>National, Financial markets, Warren Buffett, G...</td>\n",
       "      <td>Business</td>\n",
       "      <td>ALEX VEIGA</td>\n",
       "      <td>Stock indexes closed mostly lower Tuesday as t...</td>\n",
       "      <td>2024-12-31 17:39:38</td>\n",
       "      <td>Stock market today: Wall Street indexes lose g...</td>\n",
       "    </tr>\n",
       "  </tbody>\n",
       "</table>\n",
       "</div>"
      ],
      "text/plain": [
       "                                                 url  \\\n",
       "0  https://apnews.com/article/trump-economy-tarif...   \n",
       "1  https://apnews.com/article/new-york-ny-inflati...   \n",
       "2  https://apnews.com/article/inflation-prices-ec...   \n",
       "3  https://apnews.com/article/small-business-infl...   \n",
       "4  https://apnews.com/article/stock-market-inflat...   \n",
       "\n",
       "                                                tags    section  \\\n",
       "0  Joe Biden, Paul Ashworth, General news, Inside...   Business   \n",
       "1  General news, Kathy Hochul, New York City Wire...  U.S. News   \n",
       "2  Inflation, General news, Federal Reserve Syste...   Business   \n",
       "3  Inflation, Small business, U.S. Department of ...   Business   \n",
       "4  National, Financial markets, Warren Buffett, G...   Business   \n",
       "\n",
       "                authors                                       article_text  \\\n",
       "0          PAUL WISEMAN  WASHINGTON (AP) — President-elect Donald Trump...   \n",
       "1     ANTHONY IZAGUIRRE  ALBANY, N.Y. (AP) — New Yorkers could get “Inf...   \n",
       "2          PAUL WISEMAN  WASHINGTON (AP) — Wholesale costs in the Unite...   \n",
       "3  THE ASSOCIATED PRESS  A look at some of the key business events and ...   \n",
       "4            ALEX VEIGA  Stock indexes closed mostly lower Tuesday as t...   \n",
       "\n",
       "               pubdate                                           headline  \n",
       "0  2024-12-23 08:40:04  An analyst looks ahead to how the US economy m...  \n",
       "1  2024-12-09 17:42:51  New Yorkers could get ‘Inflation Refund’ check...  \n",
       "2  2024-12-12 09:08:25  US wholesale inflation accelerated in November...  \n",
       "3  2024-12-06 14:00:39  Next Week: small business index, consumer pric...  \n",
       "4  2024-12-31 17:39:38  Stock market today: Wall Street indexes lose g...  "
      ]
     },
     "execution_count": 124,
     "metadata": {},
     "output_type": "execute_result"
    }
   ],
   "source": [
    "articles_df = pd.DataFrame(articles_list)\n",
    "articles_df.head()"
   ]
  },
  {
   "cell_type": "markdown",
   "id": "98c2f131-d949-4451-85e4-daa01ec8bfaf",
   "metadata": {},
   "source": [
    "## Scaling up\n",
    "\n",
    "We've got coverage of inflation for October 2024, but normally what we want to do is track coverage of a news story over a longer period of time. What if we wanted to track coverage of inflation through all of 2024? To start, we'd want to go back to that original sitemap at the top of the hierarchy. Then we would want to get a list of all monthly sitemaps for 2024, and then we'd want to visit each one, identify the relevant article urls, and then scrape all of the articles from each one.\n"
   ]
  },
  {
   "cell_type": "markdown",
   "id": "b1d14700-5137-4195-ae20-1c9dbda9f558",
   "metadata": {},
   "source": [
    "![image.png](https://mermaid.ink/img/pako:eNpl0UFrwjAUB_CvEt7Ziu10sB4G1U5QcJftZnZ4tK820DQlfcUN8bsvRgkt5pT88s__kHeBwpQEKVSNORc1WhbfuWyFW_kRu6hXTBq7-a9ufkQUvYtspFGySJbx4s3f3h9lPvRxzCyroiERT3wbPHl4fuP1c-eo0kc2T5F4FFn79l1of5n4Pvjy4Rvvh-CriX8Gf3UOM9BkNarS_dLllpPANWmSkLptZSz1LEG2V5fEgc3XX1tAynagGVgznGpIK2x6dxq6EplyhSeLOiiVio093Mfgp3H9Bz2retE?type=png)\n",
    "\n"
   ]
  },
  {
   "cell_type": "markdown",
   "id": "54976b30-ba7c-42c4-8749-401b41d24abb",
   "metadata": {},
   "source": [
    "So, to scrape articles from multiple months, we can start with `ap-sitemap.xml`, then use that to identify sitemaps for each month, then use those sitemaps to identify articles across multiple dates.\n",
    "\n",
    "We'll start by getting the entire list of sitemaps:"
   ]
  },
  {
   "cell_type": "code",
   "execution_count": 125,
   "id": "b45ed340-7e9b-46b0-b3ba-80b69cbe2a30",
   "metadata": {
    "editable": true,
    "slideshow": {
     "slide_type": ""
    },
    "tags": []
   },
   "outputs": [],
   "source": [
    "sitemap = get('https://apnews.com/ap-sitemap.xml')\n",
    "\n",
    "overall_sitemap = BeautifulSoup(sitemap.content, features=\"xml\") \n",
    "# select all <loc> nodes\n",
    "overall_nodes = overall_sitemap.select('loc')\n",
    "# loop through the entire list and just get the link\n",
    "sitemap_urls = [i.get_text() for i in overall_nodes]"
   ]
  },
  {
   "cell_type": "markdown",
   "id": "a30a3dd0-42e1-4907-b19f-1432aedcf09b",
   "metadata": {
    "editable": true,
    "slideshow": {
     "slide_type": ""
    },
    "tags": []
   },
   "source": [
    "Now, we can use another regular expression. This time, we're going to identify all of the sitemaps for 2024:|"
   ]
  },
  {
   "cell_type": "code",
   "execution_count": null,
   "id": "6cbe67db-5448-4b3e-a32a-79d033fab4b2",
   "metadata": {
    "editable": true,
    "slideshow": {
     "slide_type": ""
    },
    "tags": []
   },
   "outputs": [],
   "source": [
    "sitemap = get('https://apnews.com/ap-sitemap.xml')\n",
    "\n",
    "overall_sitemap = BeautifulSoup(sitemap.content, features=\"xml\") \n",
    "# select all <loc> nodes\n",
    "overall_nodes = overall_sitemap.select('loc')\n",
    "# loop through the entire list and just get the link\n",
    "sitemap_urls = [i.get_text() for i in overall_nodes]\n",
    "year24_urls  = [i for i in sitemap_urls if bool(re.search('https://apnews.com/ap-sitemap-2024', i)) ]\n",
    "\n",
    "year24_urls # looking at the result:"
   ]
  },
  {
   "cell_type": "code",
   "execution_count": 127,
   "id": "f447744b-c3fe-403b-ab7e-4219d7bd904c",
   "metadata": {},
   "outputs": [],
   "source": [
    "all_article_urls = []\n",
    "\n",
    "for i in year24_urls:\n",
    "    monthly_sitemap = get(i)\n",
    "    sitemap = BeautifulSoup(monthly_sitemap.content, features=\"xml\")\n",
    "    url_nodes = sitemap.select('loc')\n",
    "    urls = [i.get_text() for i in url_nodes]\n",
    "    article_urls  = [i for i in urls if bool(re.search(\"/article/\", i)) ]\n",
    "    all_article_urls.extend(article_urls)\n",
    "\n",
    "    "
   ]
  },
  {
   "cell_type": "code",
   "execution_count": 128,
   "id": "5eaf7a7a-e202-4002-89e2-a00579db3528",
   "metadata": {
    "editable": true,
    "slideshow": {
     "slide_type": ""
    },
    "tags": []
   },
   "outputs": [
    {
     "data": {
      "text/plain": [
       "464"
      ]
     },
     "execution_count": 128,
     "metadata": {},
     "output_type": "execute_result"
    }
   ],
   "source": [
    "\n",
    "\n",
    "select_urls = [i for i in all_article_urls if bool(re.search(\"inflation\", i)) ]\n",
    "len(select_urls)"
   ]
  },
  {
   "cell_type": "markdown",
   "id": "7670d248-2570-4f8c-9048-f0699ca1cebb",
   "metadata": {},
   "source": [
    "Now, we can loop through this new list of articles and process the results (we'll just do the first twenty, but doing more is just a matter of removing the `[:20]` part of this code)"
   ]
  },
  {
   "cell_type": "code",
   "execution_count": 129,
   "id": "b1f05102-2539-47d8-a67f-bd42de3b8718",
   "metadata": {},
   "outputs": [
    {
     "name": "stdout",
     "output_type": "stream",
     "text": [
      "https://apnews.com/article/jobs-economy-unemployment-inflation-rates-federal-reserve-ad0fd064a35e8a93bc15eaf6ea982c1c9f\r"
     ]
    }
   ],
   "source": [
    "articles_list = []\n",
    "for i in select_urls[:20]:\n",
    "    print(i, end='\\r')\n",
    "    articles_list.append(ap_parser(i))\n",
    "    time.sleep(.1)\n",
    "\n",
    "\n",
    "articles24_df = pd.DataFrame(articles_list)"
   ]
  },
  {
   "cell_type": "code",
   "execution_count": 131,
   "id": "23c4e812-c2fa-4350-af5d-623917989d96",
   "metadata": {},
   "outputs": [
    {
     "data": {
      "text/html": [
       "<div>\n",
       "<style scoped>\n",
       "    .dataframe tbody tr th:only-of-type {\n",
       "        vertical-align: middle;\n",
       "    }\n",
       "\n",
       "    .dataframe tbody tr th {\n",
       "        vertical-align: top;\n",
       "    }\n",
       "\n",
       "    .dataframe thead th {\n",
       "        text-align: right;\n",
       "    }\n",
       "</style>\n",
       "<table border=\"1\" class=\"dataframe\">\n",
       "  <thead>\n",
       "    <tr style=\"text-align: right;\">\n",
       "      <th></th>\n",
       "      <th>url</th>\n",
       "      <th>tags</th>\n",
       "      <th>section</th>\n",
       "      <th>authors</th>\n",
       "      <th>article_text</th>\n",
       "      <th>pubdate</th>\n",
       "      <th>headline</th>\n",
       "    </tr>\n",
       "  </thead>\n",
       "  <tbody>\n",
       "    <tr>\n",
       "      <th>0</th>\n",
       "      <td>https://apnews.com/article/stock-market-tokyo-...</td>\n",
       "      <td>Government regulations, Federal Reserve System...</td>\n",
       "      <td>Business</td>\n",
       "      <td>STAN CHOE</td>\n",
       "      <td>NEW YORK (AP) — Wall Street closed its 10th wi...</td>\n",
       "      <td>2024-01-12 17:21:35</td>\n",
       "      <td>Stock market today: Wall Street closes out its...</td>\n",
       "    </tr>\n",
       "    <tr>\n",
       "      <th>1</th>\n",
       "      <td>https://apnews.com/article/federal-reserve-inf...</td>\n",
       "      <td>General news, Federal Reserve System, Inflation</td>\n",
       "      <td>Business</td>\n",
       "      <td>PAUL WISEMAN</td>\n",
       "      <td>WASHINGTON (AP) — The Federal Reserve’s policy...</td>\n",
       "      <td>2024-01-03 20:24:55</td>\n",
       "      <td>Federal Reserve minutes: Officials saw inflati...</td>\n",
       "    </tr>\n",
       "    <tr>\n",
       "      <th>2</th>\n",
       "      <td>https://apnews.com/article/federal-reserve-inf...</td>\n",
       "      <td>Government regulations, General news, AP Top N...</td>\n",
       "      <td>Business</td>\n",
       "      <td>CHRISTOPHER RUGABER</td>\n",
       "      <td>WASHINGTON (AP) — Chair Jerome Powell will ent...</td>\n",
       "      <td>2024-01-29 14:39:43</td>\n",
       "      <td>Inflation has slowed. Now the Federal Reserve ...</td>\n",
       "    </tr>\n",
       "    <tr>\n",
       "      <th>3</th>\n",
       "      <td>https://apnews.com/article/european-central-ba...</td>\n",
       "      <td>General news, Inflation, European Central Bank...</td>\n",
       "      <td>Business</td>\n",
       "      <td>DAVID MCHUGH</td>\n",
       "      <td>FRANKFURT, Germany (AP) — European Central Ban...</td>\n",
       "      <td>2024-01-25 11:28:04</td>\n",
       "      <td>Financial markets are jonesing for interest ra...</td>\n",
       "    </tr>\n",
       "    <tr>\n",
       "      <th>4</th>\n",
       "      <td>https://apnews.com/article/stock-market-today-...</td>\n",
       "      <td>Financial markets, General news, Financial/Bus...</td>\n",
       "      <td>Business</td>\n",
       "      <td>THE ASSOCIATED PRESS</td>\n",
       "      <td>Asian shares dropped Wednesday after Wall Stre...</td>\n",
       "      <td>2024-01-02 23:21:56</td>\n",
       "      <td>Stock market today: Asian markets track Wall S...</td>\n",
       "    </tr>\n",
       "    <tr>\n",
       "      <th>5</th>\n",
       "      <td>https://apnews.com/article/irs-tax-biden-infla...</td>\n",
       "      <td>Internal Revenue Service, General news</td>\n",
       "      <td>U.S. News</td>\n",
       "      <td>FATIMA HUSSEIN</td>\n",
       "      <td>WASHINGTON (AP) — The IRS says it has collecte...</td>\n",
       "      <td>2024-01-12 08:02:15</td>\n",
       "      <td>IRS says it collected $360 million more from r...</td>\n",
       "    </tr>\n",
       "    <tr>\n",
       "      <th>6</th>\n",
       "      <td>https://apnews.com/article/stock-markets-infla...</td>\n",
       "      <td>General news, Tokyo, International News, Inter...</td>\n",
       "      <td>Business</td>\n",
       "      <td>YURI KAGEYAMA</td>\n",
       "      <td>TOKYO (AP) — Asian shares were trading mostly ...</td>\n",
       "      <td>2024-01-16 22:03:12</td>\n",
       "      <td>Stock market today: Asian shares mostly fall a...</td>\n",
       "    </tr>\n",
       "    <tr>\n",
       "      <th>7</th>\n",
       "      <td>https://apnews.com/article/stock-market-rates-...</td>\n",
       "      <td>Financial markets, General news, Electric vehi...</td>\n",
       "      <td>Business</td>\n",
       "      <td>YURI KAGEYAMA</td>\n",
       "      <td>TOKYO (AP) — Asian stocks slipped on Thursday,...</td>\n",
       "      <td>2024-01-03 22:41:54</td>\n",
       "      <td>Stock market today: Asian shares slip, echoing...</td>\n",
       "    </tr>\n",
       "    <tr>\n",
       "      <th>8</th>\n",
       "      <td>https://apnews.com/article/imf-inflation-econo...</td>\n",
       "      <td>Economy, General news, Inflation, Internationa...</td>\n",
       "      <td>Business</td>\n",
       "      <td>PAUL WISEMAN</td>\n",
       "      <td>WASHINGTON (AP) — The International Monetary F...</td>\n",
       "      <td>2024-01-30 08:01:11</td>\n",
       "      <td>IMF sketches a brighter view of global economy...</td>\n",
       "    </tr>\n",
       "    <tr>\n",
       "      <th>9</th>\n",
       "      <td>https://apnews.com/article/argentina-inflation...</td>\n",
       "      <td>Latin America, General news, Inflation, Argentina</td>\n",
       "      <td>World News</td>\n",
       "      <td>DÉBORA REY</td>\n",
       "      <td>BUENOS AIRES, Argentina (AP) — Argentina’s ann...</td>\n",
       "      <td>2024-01-11 19:17:29</td>\n",
       "      <td>Argentina’s annual inflation soars to 211.4%, ...</td>\n",
       "    </tr>\n",
       "    <tr>\n",
       "      <th>10</th>\n",
       "      <td>https://apnews.com/article/britain-inflation-i...</td>\n",
       "      <td>General news, Inflation</td>\n",
       "      <td>Business</td>\n",
       "      <td>PAN PYLAS</td>\n",
       "      <td>LONDON (AP) — Inflation across the United King...</td>\n",
       "      <td>2024-01-17 08:40:38</td>\n",
       "      <td>Britain’s unexpected inflation increase in Dec...</td>\n",
       "    </tr>\n",
       "    <tr>\n",
       "      <th>11</th>\n",
       "      <td>https://apnews.com/article/biden-inflation-ele...</td>\n",
       "      <td>General news, Joe Biden, Inflation</td>\n",
       "      <td>Washington News</td>\n",
       "      <td>JOSH BOAK</td>\n",
       "      <td>WASHINGTON (AP) — President Joe Biden can make...</td>\n",
       "      <td>2024-01-13 11:15:09</td>\n",
       "      <td>Slowing inflation suggests that Biden’s polici...</td>\n",
       "    </tr>\n",
       "    <tr>\n",
       "      <th>12</th>\n",
       "      <td>https://apnews.com/article/inflation-wholesale...</td>\n",
       "      <td>Inflation, General news</td>\n",
       "      <td>Business</td>\n",
       "      <td>PAUL WISEMAN</td>\n",
       "      <td>WASHINGTON (AP) — Wholesale inflation in the U...</td>\n",
       "      <td>2024-01-12 11:33:16</td>\n",
       "      <td>Wholesale inflation in US declined last month,...</td>\n",
       "    </tr>\n",
       "    <tr>\n",
       "      <th>13</th>\n",
       "      <td>https://apnews.com/article/federal-reserve-inf...</td>\n",
       "      <td>General news, Government regulations, Federal ...</td>\n",
       "      <td>Business</td>\n",
       "      <td>CHRISTOPHER RUGABER</td>\n",
       "      <td>WASHINGTON (AP) — Interest rate cuts are comin...</td>\n",
       "      <td>2024-01-31 17:13:27</td>\n",
       "      <td>Powell: Federal Reserve is on track to cut rat...</td>\n",
       "    </tr>\n",
       "    <tr>\n",
       "      <th>14</th>\n",
       "      <td>https://apnews.com/article/stockmarkets-inflat...</td>\n",
       "      <td>General news, Federal Reserve System, Financia...</td>\n",
       "      <td>Business</td>\n",
       "      <td>YURI KAGEYAMA</td>\n",
       "      <td>TOKYO (AP) — Asian shares traded mixed Thursda...</td>\n",
       "      <td>2024-01-17 23:14:41</td>\n",
       "      <td>Stock market today: Asian shares trade mixed a...</td>\n",
       "    </tr>\n",
       "    <tr>\n",
       "      <th>15</th>\n",
       "      <td>https://apnews.com/article/new-zealand-inflati...</td>\n",
       "      <td>Asia, Asia Pacific, General news, New Zealand,...</td>\n",
       "      <td>World News</td>\n",
       "      <td></td>\n",
       "      <td>WELLINGTON, New Zealand (AP) — Inflation in Ne...</td>\n",
       "      <td>2024-01-23 22:58:24</td>\n",
       "      <td>Inflation slows in New Zealand to its lowest r...</td>\n",
       "    </tr>\n",
       "    <tr>\n",
       "      <th>16</th>\n",
       "      <td>https://apnews.com/article/inflation-europe-in...</td>\n",
       "      <td>General news, Europe, Inflation, European Cent...</td>\n",
       "      <td>Business</td>\n",
       "      <td>DAVID MCHUGH</td>\n",
       "      <td>FRANKFURT, Germany (AP) — Inflation plaguing E...</td>\n",
       "      <td>2024-01-05 07:22:22</td>\n",
       "      <td>Europe’s inflation is up after months of decli...</td>\n",
       "    </tr>\n",
       "    <tr>\n",
       "      <th>17</th>\n",
       "      <td>https://apnews.com/article/inflation-prices-in...</td>\n",
       "      <td>Federal Reserve System, General news, Inflation</td>\n",
       "      <td>Business</td>\n",
       "      <td>PAUL WISEMAN</td>\n",
       "      <td>WASHINGTON (AP) — Higher energy and housing pr...</td>\n",
       "      <td>2024-01-11 17:47:07</td>\n",
       "      <td>From housing to energy to food, US inflation p...</td>\n",
       "    </tr>\n",
       "    <tr>\n",
       "      <th>18</th>\n",
       "      <td>https://apnews.com/article/national-debt-defic...</td>\n",
       "      <td>Joe Biden, United States, General news, Nation...</td>\n",
       "      <td>Washington News</td>\n",
       "      <td>FATIMA HUSSEIN, JOSH BOAK</td>\n",
       "      <td>WASHINGTON (AP) — The federal government’s gro...</td>\n",
       "      <td>2024-01-02 19:12:02</td>\n",
       "      <td>US national debt hits record $34 trillion as C...</td>\n",
       "    </tr>\n",
       "    <tr>\n",
       "      <th>19</th>\n",
       "      <td>https://apnews.com/article/jobs-economy-unempl...</td>\n",
       "      <td>Government regulations, Inflation, General new...</td>\n",
       "      <td>Business</td>\n",
       "      <td>PAUL WISEMAN</td>\n",
       "      <td>WASHINGTON (AP) — The nation’s employers added...</td>\n",
       "      <td>2024-01-05 12:03:37</td>\n",
       "      <td>US employers add a surprisingly strong 216,000...</td>\n",
       "    </tr>\n",
       "  </tbody>\n",
       "</table>\n",
       "</div>"
      ],
      "text/plain": [
       "                                                  url  \\\n",
       "0   https://apnews.com/article/stock-market-tokyo-...   \n",
       "1   https://apnews.com/article/federal-reserve-inf...   \n",
       "2   https://apnews.com/article/federal-reserve-inf...   \n",
       "3   https://apnews.com/article/european-central-ba...   \n",
       "4   https://apnews.com/article/stock-market-today-...   \n",
       "5   https://apnews.com/article/irs-tax-biden-infla...   \n",
       "6   https://apnews.com/article/stock-markets-infla...   \n",
       "7   https://apnews.com/article/stock-market-rates-...   \n",
       "8   https://apnews.com/article/imf-inflation-econo...   \n",
       "9   https://apnews.com/article/argentina-inflation...   \n",
       "10  https://apnews.com/article/britain-inflation-i...   \n",
       "11  https://apnews.com/article/biden-inflation-ele...   \n",
       "12  https://apnews.com/article/inflation-wholesale...   \n",
       "13  https://apnews.com/article/federal-reserve-inf...   \n",
       "14  https://apnews.com/article/stockmarkets-inflat...   \n",
       "15  https://apnews.com/article/new-zealand-inflati...   \n",
       "16  https://apnews.com/article/inflation-europe-in...   \n",
       "17  https://apnews.com/article/inflation-prices-in...   \n",
       "18  https://apnews.com/article/national-debt-defic...   \n",
       "19  https://apnews.com/article/jobs-economy-unempl...   \n",
       "\n",
       "                                                 tags          section  \\\n",
       "0   Government regulations, Federal Reserve System...         Business   \n",
       "1     General news, Federal Reserve System, Inflation         Business   \n",
       "2   Government regulations, General news, AP Top N...         Business   \n",
       "3   General news, Inflation, European Central Bank...         Business   \n",
       "4   Financial markets, General news, Financial/Bus...         Business   \n",
       "5              Internal Revenue Service, General news        U.S. News   \n",
       "6   General news, Tokyo, International News, Inter...         Business   \n",
       "7   Financial markets, General news, Electric vehi...         Business   \n",
       "8   Economy, General news, Inflation, Internationa...         Business   \n",
       "9   Latin America, General news, Inflation, Argentina       World News   \n",
       "10                            General news, Inflation         Business   \n",
       "11                 General news, Joe Biden, Inflation  Washington News   \n",
       "12                            Inflation, General news         Business   \n",
       "13  General news, Government regulations, Federal ...         Business   \n",
       "14  General news, Federal Reserve System, Financia...         Business   \n",
       "15  Asia, Asia Pacific, General news, New Zealand,...       World News   \n",
       "16  General news, Europe, Inflation, European Cent...         Business   \n",
       "17    Federal Reserve System, General news, Inflation         Business   \n",
       "18  Joe Biden, United States, General news, Nation...  Washington News   \n",
       "19  Government regulations, Inflation, General new...         Business   \n",
       "\n",
       "                      authors  \\\n",
       "0                   STAN CHOE   \n",
       "1                PAUL WISEMAN   \n",
       "2         CHRISTOPHER RUGABER   \n",
       "3                DAVID MCHUGH   \n",
       "4        THE ASSOCIATED PRESS   \n",
       "5              FATIMA HUSSEIN   \n",
       "6              YURI KAGEYAMA    \n",
       "7              YURI KAGEYAMA    \n",
       "8                PAUL WISEMAN   \n",
       "9                  DÉBORA REY   \n",
       "10                  PAN PYLAS   \n",
       "11                  JOSH BOAK   \n",
       "12               PAUL WISEMAN   \n",
       "13        CHRISTOPHER RUGABER   \n",
       "14             YURI KAGEYAMA    \n",
       "15                              \n",
       "16               DAVID MCHUGH   \n",
       "17               PAUL WISEMAN   \n",
       "18  FATIMA HUSSEIN, JOSH BOAK   \n",
       "19               PAUL WISEMAN   \n",
       "\n",
       "                                         article_text              pubdate  \\\n",
       "0   NEW YORK (AP) — Wall Street closed its 10th wi...  2024-01-12 17:21:35   \n",
       "1   WASHINGTON (AP) — The Federal Reserve’s policy...  2024-01-03 20:24:55   \n",
       "2   WASHINGTON (AP) — Chair Jerome Powell will ent...  2024-01-29 14:39:43   \n",
       "3   FRANKFURT, Germany (AP) — European Central Ban...  2024-01-25 11:28:04   \n",
       "4   Asian shares dropped Wednesday after Wall Stre...  2024-01-02 23:21:56   \n",
       "5   WASHINGTON (AP) — The IRS says it has collecte...  2024-01-12 08:02:15   \n",
       "6   TOKYO (AP) — Asian shares were trading mostly ...  2024-01-16 22:03:12   \n",
       "7   TOKYO (AP) — Asian stocks slipped on Thursday,...  2024-01-03 22:41:54   \n",
       "8   WASHINGTON (AP) — The International Monetary F...  2024-01-30 08:01:11   \n",
       "9   BUENOS AIRES, Argentina (AP) — Argentina’s ann...  2024-01-11 19:17:29   \n",
       "10  LONDON (AP) — Inflation across the United King...  2024-01-17 08:40:38   \n",
       "11  WASHINGTON (AP) — President Joe Biden can make...  2024-01-13 11:15:09   \n",
       "12  WASHINGTON (AP) — Wholesale inflation in the U...  2024-01-12 11:33:16   \n",
       "13  WASHINGTON (AP) — Interest rate cuts are comin...  2024-01-31 17:13:27   \n",
       "14  TOKYO (AP) — Asian shares traded mixed Thursda...  2024-01-17 23:14:41   \n",
       "15  WELLINGTON, New Zealand (AP) — Inflation in Ne...  2024-01-23 22:58:24   \n",
       "16  FRANKFURT, Germany (AP) — Inflation plaguing E...  2024-01-05 07:22:22   \n",
       "17  WASHINGTON (AP) — Higher energy and housing pr...  2024-01-11 17:47:07   \n",
       "18  WASHINGTON (AP) — The federal government’s gro...  2024-01-02 19:12:02   \n",
       "19  WASHINGTON (AP) — The nation’s employers added...  2024-01-05 12:03:37   \n",
       "\n",
       "                                             headline  \n",
       "0   Stock market today: Wall Street closes out its...  \n",
       "1   Federal Reserve minutes: Officials saw inflati...  \n",
       "2   Inflation has slowed. Now the Federal Reserve ...  \n",
       "3   Financial markets are jonesing for interest ra...  \n",
       "4   Stock market today: Asian markets track Wall S...  \n",
       "5   IRS says it collected $360 million more from r...  \n",
       "6   Stock market today: Asian shares mostly fall a...  \n",
       "7   Stock market today: Asian shares slip, echoing...  \n",
       "8   IMF sketches a brighter view of global economy...  \n",
       "9   Argentina’s annual inflation soars to 211.4%, ...  \n",
       "10  Britain’s unexpected inflation increase in Dec...  \n",
       "11  Slowing inflation suggests that Biden’s polici...  \n",
       "12  Wholesale inflation in US declined last month,...  \n",
       "13  Powell: Federal Reserve is on track to cut rat...  \n",
       "14  Stock market today: Asian shares trade mixed a...  \n",
       "15  Inflation slows in New Zealand to its lowest r...  \n",
       "16  Europe’s inflation is up after months of decli...  \n",
       "17  From housing to energy to food, US inflation p...  \n",
       "18  US national debt hits record $34 trillion as C...  \n",
       "19  US employers add a surprisingly strong 216,000...  "
      ]
     },
     "execution_count": 131,
     "metadata": {},
     "output_type": "execute_result"
    }
   ],
   "source": [
    "articles24_df"
   ]
  },
  {
   "cell_type": "markdown",
   "id": "91017ac2-ed60-4ebf-abef-fcc02274b578",
   "metadata": {},
   "source": [
    "## Saving the results"
   ]
  },
  {
   "cell_type": "markdown",
   "id": "96d3605e-dbcf-4444-ade2-4ca0c084f691",
   "metadata": {},
   "source": [
    "Finally, we just did a pretty time-consuming scrape of a lot of articles. We don't want to have to do this again, so it probably makes sense to store our results permanently. We can use a .csv file to save our data: "
   ]
  },
  {
   "cell_type": "code",
   "execution_count": 132,
   "id": "f2a32e2e-3d42-4bb4-a360-13c5b9d77f10",
   "metadata": {},
   "outputs": [],
   "source": [
    "articles24_df.to_csv('inflation_articles.csv', index=False)"
   ]
  },
  {
   "cell_type": "markdown",
   "id": "2d052917-c7e0-4079-ac92-9edb128f111e",
   "metadata": {},
   "source": [
    "Then when we want to read this back in later, we can just use:"
   ]
  },
  {
   "cell_type": "code",
   "execution_count": 133,
   "id": "e67b0927-9250-4e6d-af33-9cf8bfb97717",
   "metadata": {},
   "outputs": [
    {
     "data": {
      "text/html": [
       "<div>\n",
       "<style scoped>\n",
       "    .dataframe tbody tr th:only-of-type {\n",
       "        vertical-align: middle;\n",
       "    }\n",
       "\n",
       "    .dataframe tbody tr th {\n",
       "        vertical-align: top;\n",
       "    }\n",
       "\n",
       "    .dataframe thead th {\n",
       "        text-align: right;\n",
       "    }\n",
       "</style>\n",
       "<table border=\"1\" class=\"dataframe\">\n",
       "  <thead>\n",
       "    <tr style=\"text-align: right;\">\n",
       "      <th></th>\n",
       "      <th>url</th>\n",
       "      <th>tags</th>\n",
       "      <th>section</th>\n",
       "      <th>authors</th>\n",
       "      <th>article_text</th>\n",
       "      <th>pubdate</th>\n",
       "      <th>headline</th>\n",
       "    </tr>\n",
       "  </thead>\n",
       "  <tbody>\n",
       "    <tr>\n",
       "      <th>0</th>\n",
       "      <td>https://apnews.com/article/stock-market-tokyo-...</td>\n",
       "      <td>Government regulations, Federal Reserve System...</td>\n",
       "      <td>Business</td>\n",
       "      <td>STAN CHOE</td>\n",
       "      <td>NEW YORK (AP) — Wall Street closed its 10th wi...</td>\n",
       "      <td>2024-01-12 17:21:35</td>\n",
       "      <td>Stock market today: Wall Street closes out its...</td>\n",
       "    </tr>\n",
       "    <tr>\n",
       "      <th>1</th>\n",
       "      <td>https://apnews.com/article/federal-reserve-inf...</td>\n",
       "      <td>General news, Federal Reserve System, Inflation</td>\n",
       "      <td>Business</td>\n",
       "      <td>PAUL WISEMAN</td>\n",
       "      <td>WASHINGTON (AP) — The Federal Reserve’s policy...</td>\n",
       "      <td>2024-01-03 20:24:55</td>\n",
       "      <td>Federal Reserve minutes: Officials saw inflati...</td>\n",
       "    </tr>\n",
       "    <tr>\n",
       "      <th>2</th>\n",
       "      <td>https://apnews.com/article/federal-reserve-inf...</td>\n",
       "      <td>Government regulations, General news, AP Top N...</td>\n",
       "      <td>Business</td>\n",
       "      <td>CHRISTOPHER RUGABER</td>\n",
       "      <td>WASHINGTON (AP) — Chair Jerome Powell will ent...</td>\n",
       "      <td>2024-01-29 14:39:43</td>\n",
       "      <td>Inflation has slowed. Now the Federal Reserve ...</td>\n",
       "    </tr>\n",
       "    <tr>\n",
       "      <th>3</th>\n",
       "      <td>https://apnews.com/article/european-central-ba...</td>\n",
       "      <td>General news, Inflation, European Central Bank...</td>\n",
       "      <td>Business</td>\n",
       "      <td>DAVID MCHUGH</td>\n",
       "      <td>FRANKFURT, Germany (AP) — European Central Ban...</td>\n",
       "      <td>2024-01-25 11:28:04</td>\n",
       "      <td>Financial markets are jonesing for interest ra...</td>\n",
       "    </tr>\n",
       "    <tr>\n",
       "      <th>4</th>\n",
       "      <td>https://apnews.com/article/stock-market-today-...</td>\n",
       "      <td>Financial markets, General news, Financial/Bus...</td>\n",
       "      <td>Business</td>\n",
       "      <td>THE ASSOCIATED PRESS</td>\n",
       "      <td>Asian shares dropped Wednesday after Wall Stre...</td>\n",
       "      <td>2024-01-02 23:21:56</td>\n",
       "      <td>Stock market today: Asian markets track Wall S...</td>\n",
       "    </tr>\n",
       "  </tbody>\n",
       "</table>\n",
       "</div>"
      ],
      "text/plain": [
       "                                                 url  \\\n",
       "0  https://apnews.com/article/stock-market-tokyo-...   \n",
       "1  https://apnews.com/article/federal-reserve-inf...   \n",
       "2  https://apnews.com/article/federal-reserve-inf...   \n",
       "3  https://apnews.com/article/european-central-ba...   \n",
       "4  https://apnews.com/article/stock-market-today-...   \n",
       "\n",
       "                                                tags   section  \\\n",
       "0  Government regulations, Federal Reserve System...  Business   \n",
       "1    General news, Federal Reserve System, Inflation  Business   \n",
       "2  Government regulations, General news, AP Top N...  Business   \n",
       "3  General news, Inflation, European Central Bank...  Business   \n",
       "4  Financial markets, General news, Financial/Bus...  Business   \n",
       "\n",
       "                authors                                       article_text  \\\n",
       "0             STAN CHOE  NEW YORK (AP) — Wall Street closed its 10th wi...   \n",
       "1          PAUL WISEMAN  WASHINGTON (AP) — The Federal Reserve’s policy...   \n",
       "2   CHRISTOPHER RUGABER  WASHINGTON (AP) — Chair Jerome Powell will ent...   \n",
       "3          DAVID MCHUGH  FRANKFURT, Germany (AP) — European Central Ban...   \n",
       "4  THE ASSOCIATED PRESS  Asian shares dropped Wednesday after Wall Stre...   \n",
       "\n",
       "               pubdate                                           headline  \n",
       "0  2024-01-12 17:21:35  Stock market today: Wall Street closes out its...  \n",
       "1  2024-01-03 20:24:55  Federal Reserve minutes: Officials saw inflati...  \n",
       "2  2024-01-29 14:39:43  Inflation has slowed. Now the Federal Reserve ...  \n",
       "3  2024-01-25 11:28:04  Financial markets are jonesing for interest ra...  \n",
       "4  2024-01-02 23:21:56  Stock market today: Asian markets track Wall S...  "
      ]
     },
     "execution_count": 133,
     "metadata": {},
     "output_type": "execute_result"
    }
   ],
   "source": [
    "articles = pd.read_csv('inflation_articles.csv')\n",
    "articles.head()"
   ]
  },
  {
   "cell_type": "markdown",
   "id": "4d9d8251-e247-4ffb-a1b2-d74cb5a19ded",
   "metadata": {},
   "source": [
    "(In cases where you need to scrape a lot of pages or send a lot of API calls, it might make sense to separate the data collection code from the analysis code so that you can avoid accidentally overwriting data or re-running a time consuming chunk of code.)"
   ]
  },
  {
   "cell_type": "markdown",
   "id": "e0c788fe-9fa0-4531-b06d-1bacbe1b1ee5",
   "metadata": {},
   "source": [
    "### Time permitting: Locate the sitemap for `dkbnews.com` and use it to scrape the text of 20 articles from this month.\n",
    "\n",
    "The basic steps here are:\n",
    "1. Check for a robots.txt page by going to `[website_name]/robots.txt`. i.e. dbknews.com/robots.txt\n",
    "2. If a sitemap is listed, copy that URL and send a get request to retrieve the data\n",
    "3. Parse the sitemap with BeautifulSoup (remember, you'll generally want to use the XML parser) and extract the links\n",
    "4. Filter the links (if necessary) and then write a loop that sends a get request to each one and downloads/processes the result into a dictionary, then places that dictionary in a list\n",
    "5. Use `pd.DataFrame()` to turn your list into a pandas dataframe and then save the result as a .csv file."
   ]
  },
  {
   "cell_type": "code",
   "execution_count": null,
   "id": "73262561-95a5-4481-aa2f-f839794742b5",
   "metadata": {},
   "outputs": [],
   "source": []
  }
 ],
 "metadata": {
  "kernelspec": {
   "display_name": "Python 3 (ipykernel)",
   "language": "python",
   "name": "python3"
  },
  "language_info": {
   "codemirror_mode": {
    "name": "ipython",
    "version": 3
   },
   "file_extension": ".py",
   "mimetype": "text/x-python",
   "name": "python",
   "nbconvert_exporter": "python",
   "pygments_lexer": "ipython3",
   "version": "3.12.2"
  }
 },
 "nbformat": 4,
 "nbformat_minor": 5
}
