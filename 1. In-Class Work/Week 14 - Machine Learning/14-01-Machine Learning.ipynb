{
 "cells": [
  {
   "cell_type": "code",
   "execution_count": null,
   "id": "621a1c9f-e3f4-4c25-bc36-c7fb17ca8ade",
   "metadata": {},
   "outputs": [],
   "source": [
    "import pandas as pd\n",
    "import seaborn as sns\n",
    "import matplotlib.pyplot as plt"
   ]
  },
  {
   "cell_type": "code",
   "execution_count": 3,
   "id": "f037e667-96a1-4e71-9d88-ed5f29155590",
   "metadata": {},
   "outputs": [],
   "source": [
    "# importing sklearn models and metrics\n",
    "from sklearn.metrics import mean_squared_error, r2_score, accuracy_score, cohen_kappa_score, f1_score, classification_report, balanced_accuracy_score\n",
    "from sklearn.model_selection import train_test_split\n",
    "from sklearn.linear_model import LinearRegression, LogisticRegression\n",
    "from sklearn.metrics import confusion_matrix, ConfusionMatrixDisplay\n",
    "from sklearn.preprocessing import StandardScaler\n"
   ]
  },
  {
   "cell_type": "markdown",
   "id": "6280a043-b08f-48d7-aca8-e9a75f062937",
   "metadata": {},
   "source": [
    "# Supervised Machine Learning\n"
   ]
  },
  {
   "cell_type": "markdown",
   "id": "29d6559c-a402-4ae9-9e2b-8624258d4cd6",
   "metadata": {},
   "source": [
    "This section will give a brief overview of a couple of supervised machine learning methods.\n",
    "\n",
    "You are not required to use any particular tool. If a ML model makes sense for your analysis, then its a good way to do something cool, but you can do a good project that relies more on basic descriptive tools like graphs and tables."
   ]
  },
  {
   "cell_type": "markdown",
   "id": "98593c10-784f-4bc3-980a-64135d7d786e",
   "metadata": {},
   "source": [
    "(You'll want to look at the slides for additional information on how to approach these questions.)"
   ]
  },
  {
   "cell_type": "markdown",
   "id": "bf656a07-eabc-4763-8e11-814863e32b13",
   "metadata": {},
   "source": [
    "<h2 style=\"color:red;font-weight:bold\">Question 1 </h2>\n",
    "\n",
    "<span style=\"color:red;font-weight:bold\">See if you can create a model that predicts the Democratic party vote share in a county in the 2024 election. Assess the results using the `mean_squared_error` and `r2_score`</span>"
   ]
  },
  {
   "cell_type": "code",
   "execution_count": 1,
   "id": "1921a750-8f0c-4ed2-94f8-a8579ee329a5",
   "metadata": {},
   "outputs": [],
   "source": [
    "election_data = pd.read_csv(\"election_data.csv\")\n"
   ]
  },
  {
   "cell_type": "code",
   "execution_count": null,
   "id": "ebd8b381-b820-4f84-9b38-045ca2028267",
   "metadata": {},
   "outputs": [],
   "source": []
  },
  {
   "cell_type": "markdown",
   "id": "55d8a561-4e80-4d51-a667-b4bba7d16897",
   "metadata": {},
   "source": [
    "<h2 style=\"color:red;font-weight:bold\"> Question 2 </h2>\n",
    "\n",
    "<span style='color:red;font-weight:bold'>See if you can create a model that predicts whether a country experienced a terrorist attack in 2020. Examine the confusion matrix, and use `cohens_kappa_score`, `balanced_accuracy_score` to compare your results.</span>"
   ]
  },
  {
   "cell_type": "code",
   "execution_count": null,
   "id": "7b874a7d-165f-418b-86b4-4220db27f24a",
   "metadata": {},
   "outputs": [],
   "source": [
    "gtd = pd.read_csv(\"gtd_data.csv\")\n"
   ]
  },
  {
   "cell_type": "code",
   "execution_count": null,
   "id": "70830145-5ea4-4052-a25e-4c30e2cb6595",
   "metadata": {},
   "outputs": [],
   "source": []
  }
 ],
 "metadata": {
  "kernelspec": {
   "display_name": "Python 3 (ipykernel)",
   "language": "python",
   "name": "python3"
  },
  "language_info": {
   "codemirror_mode": {
    "name": "ipython",
    "version": 3
   },
   "file_extension": ".py",
   "mimetype": "text/x-python",
   "name": "python",
   "nbconvert_exporter": "python",
   "pygments_lexer": "ipython3",
   "version": "3.12.2"
  }
 },
 "nbformat": 4,
 "nbformat_minor": 5
}
