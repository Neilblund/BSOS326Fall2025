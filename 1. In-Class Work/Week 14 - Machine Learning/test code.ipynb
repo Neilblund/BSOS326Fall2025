{
 "cells": [
  {
   "cell_type": "code",
   "execution_count": null,
   "id": "6898adb0-111e-44b4-b777-73934d7d640d",
   "metadata": {
    "tags": []
   },
   "outputs": [],
   "source": [
    "%pip install keras_nlp\n",
    "%pip install tensorflow_datasets\n",
    "%pip install transformers\n",
    "%pip install tensorflow-hub"
   ]
  },
  {
   "cell_type": "code",
   "execution_count": null,
   "id": "b2f54e14-b2d1-4cb9-99a7-c395eb8c3119",
   "metadata": {
    "tags": []
   },
   "outputs": [],
   "source": [
    "from transformers import pipeline\n",
    "lst = [\"This is an angry sentence\", \n",
    "       \"I'm very afraid\",\n",
    "       \"I'm depressed!\"\n",
    "]\n",
    "classifier = pipeline(\"text-classification\",\n",
    "                      model='bhadresh-savani/distilbert-base-uncased-emotion', \n",
    "                      top_k=None)\n",
    "prediction = classifier(lst, truncation=True, max_length=120)\n",
    "prediction"
   ]
  }
 ],
 "metadata": {
  "kernelspec": {
   "display_name": "Python 3 (ipykernel)",
   "language": "python",
   "name": "python3"
  },
  "language_info": {
   "codemirror_mode": {
    "name": "ipython",
    "version": 3
   },
   "file_extension": ".py",
   "mimetype": "text/x-python",
   "name": "python",
   "nbconvert_exporter": "python",
   "pygments_lexer": "ipython3",
   "version": "3.12.2"
  }
 },
 "nbformat": 4,
 "nbformat_minor": 5
}
