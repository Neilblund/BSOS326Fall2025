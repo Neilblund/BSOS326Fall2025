{
 "cells": [
  {
   "cell_type": "markdown",
   "metadata": {
    "tags": []
   },
   "source": [
    "# Data cleaning\n",
    "\n",
    "\n",
    "Use **Code** cells to write and run any code you need to answer the question and **Markdown** cells to write out answers in words. After you are finished with the assignment, remember to download it as an **HTML file** and submit it in **ELMS**."
   ]
  },
  {
   "cell_type": "code",
   "execution_count": 248,
   "metadata": {},
   "outputs": [],
   "source": [
    "from requests import get\n",
    "import re\n",
    "\n",
    "import numpy as np \n",
    "import pandas as pd "
   ]
  },
  {
   "cell_type": "markdown",
   "metadata": {},
   "source": [
    "The following sections will look at some strategies for cleaning real world data. We'll use some selected variables from the 2024 round of the <a href=\"https://electionstudies.org/data-center/2024-time-series-study/\">American National Election Study</a> which surveys eligible voters before and after each presidential election.\n",
    "\n",
    "This subset of the data contains the following variables: "
   ]
  },
  {
   "cell_type": "markdown",
   "metadata": {},
   "source": [
    "\n",
    "| variable          | description                                                   |\n",
    "|-------------------|---------------------------------------------------------------|\n",
    "| id                | Person ID                                                     |\n",
    "| age               | Age                                                           |\n",
    "| age_group         | Age (5 categories)                                            |\n",
    "| gender            | Gender                                                        |\n",
    "| race              | Race                                                          |\n",
    "| education         | Highest level of education achieved (5-category)              |\n",
    "| partyid           | Party ID (7 category)                                         |\n",
    "| libcon            | 7pt scale liberal-conservative self-placement                 |\n",
    "| fo_dei            |  Approve/disapprove Diversity,   Equity, and Inclusion (DEI)  |\n",
    "| fo_jus_soli       | Favor or oppose ending birthright citizenship                 |\n",
    "| fo_ukraine_mil    | Favor/oppose U.S. giving weapons to help Ukraine fight Russia |\n",
    "| fo_israel_mil     | Favor/oppose U.S. giving military assistance to Israel        |\n",
    "| fo_reduce_unequal | Favor/oppose government trying to reduce income inequality    |\n",
    "| fo_schoolvax      | Favor/oppose requiring vaccines in schools                    |\n",
    "| fo_trans_mil      | Favor/oppose transgender people serve in military             |\n",
    "| harris_likes      | Open ended: what does R like about Kamala Harris?             |\n",
    "| harris_dislikes   | Open ended: what does R dislike about Kamala Harris?          |\n",
    "| trump_likes       | Open ended: what does R like about Donald Trump?              |\n",
    "| trump_dislikes    | Open ended: what does R dislike about Donald Trump?           |\n",
    "| mipp_1            | Open ended: most important problem facing the country         |\n",
    "| harris_therm      | 0 to 100 scale: feelings towards Kamala Harris                |\n",
    "| trump_therm       | 0 to 100 scale: feelings towards Donald Trump                 |"
   ]
  },
  {
   "cell_type": "markdown",
   "metadata": {},
   "source": [
    "<div class=\"alert alert-block alert-info\">\n",
    "        <b>Note:</b> Ordinarily, we would want to use weighting to make the results from this survey more closely resemble the U.S. adult population. I've left these out for the sake simplicity, but keep in mind that any statistics we calculate here may be a bit skewed by their omission.\n",
    "    </div>"
   ]
  },
  {
   "cell_type": "code",
   "execution_count": 249,
   "metadata": {
    "scrolled": true
   },
   "outputs": [
    {
     "data": {
      "text/html": [
       "<div>\n",
       "<style scoped>\n",
       "    .dataframe tbody tr th:only-of-type {\n",
       "        vertical-align: middle;\n",
       "    }\n",
       "\n",
       "    .dataframe tbody tr th {\n",
       "        vertical-align: top;\n",
       "    }\n",
       "\n",
       "    .dataframe thead th {\n",
       "        text-align: right;\n",
       "    }\n",
       "</style>\n",
       "<table border=\"1\" class=\"dataframe\">\n",
       "  <thead>\n",
       "    <tr style=\"text-align: right;\">\n",
       "      <th></th>\n",
       "      <th>id</th>\n",
       "      <th>age</th>\n",
       "      <th>age_group</th>\n",
       "      <th>gender</th>\n",
       "      <th>race</th>\n",
       "      <th>education</th>\n",
       "      <th>partyid</th>\n",
       "      <th>libcon</th>\n",
       "      <th>fo_dei</th>\n",
       "      <th>fo_jus_soli</th>\n",
       "      <th>...</th>\n",
       "      <th>fo_reduce_unequal</th>\n",
       "      <th>fo_schoolvax</th>\n",
       "      <th>fo_trans_mil</th>\n",
       "      <th>harris_likes</th>\n",
       "      <th>harris_dislikes</th>\n",
       "      <th>trump_likes</th>\n",
       "      <th>trump_dislikes</th>\n",
       "      <th>mipp_1</th>\n",
       "      <th>harris_therm</th>\n",
       "      <th>trump_therm</th>\n",
       "    </tr>\n",
       "  </thead>\n",
       "  <tbody>\n",
       "    <tr>\n",
       "      <th>0</th>\n",
       "      <td>140001</td>\n",
       "      <td>50</td>\n",
       "      <td>45-54</td>\n",
       "      <td>1. Man</td>\n",
       "      <td>3. Hispanic</td>\n",
       "      <td>4. Bachelor's degree</td>\n",
       "      <td>7. Strong Republican</td>\n",
       "      <td>6. Conservative</td>\n",
       "      <td>7. Oppose a great deal</td>\n",
       "      <td>6. Oppose moderately</td>\n",
       "      <td>...</td>\n",
       "      <td>7. Oppose a great deal</td>\n",
       "      <td>7. Oppose a great deal</td>\n",
       "      <td>4. Neither favor nor oppose</td>\n",
       "      <td>NaN</td>\n",
       "      <td>She has had 3 1/2 yrs to make things better an...</td>\n",
       "      <td>look at the cost of everything I stated before...</td>\n",
       "      <td>NaN</td>\n",
       "      <td>immigration we can't take care of our own peop...</td>\n",
       "      <td>0.0</td>\n",
       "      <td>85.0</td>\n",
       "    </tr>\n",
       "    <tr>\n",
       "      <th>1</th>\n",
       "      <td>140002</td>\n",
       "      <td>41</td>\n",
       "      <td>35-44</td>\n",
       "      <td>2. Woman</td>\n",
       "      <td>4. Asian or Native Hawaiian/other Pacific Isla...</td>\n",
       "      <td>3. Some post-high school, no bachelor's degree</td>\n",
       "      <td>4. Independent</td>\n",
       "      <td>4. Moderate; middle of the road</td>\n",
       "      <td>4. Neither favor nor oppose</td>\n",
       "      <td>4. Neither favor nor oppose</td>\n",
       "      <td>...</td>\n",
       "      <td>2. Favor a moderate amount</td>\n",
       "      <td>1. Favor a great deal</td>\n",
       "      <td>4. Neither favor nor oppose</td>\n",
       "      <td>NaN</td>\n",
       "      <td>NaN</td>\n",
       "      <td>NaN</td>\n",
       "      <td>NaN</td>\n",
       "      <td>The cost of everything, people can not afford ...</td>\n",
       "      <td>50.0</td>\n",
       "      <td>50.0</td>\n",
       "    </tr>\n",
       "    <tr>\n",
       "      <th>2</th>\n",
       "      <td>140003</td>\n",
       "      <td>44</td>\n",
       "      <td>35-44</td>\n",
       "      <td>2. Woman</td>\n",
       "      <td>1. White, non-Hispanic</td>\n",
       "      <td>3. Some post-high school, no bachelor's degree</td>\n",
       "      <td>1. Strong Democrat</td>\n",
       "      <td>2. Liberal</td>\n",
       "      <td>4. Neither favor nor oppose</td>\n",
       "      <td>7. Oppose a great deal</td>\n",
       "      <td>...</td>\n",
       "      <td>2. Favor a moderate amount</td>\n",
       "      <td>1. Favor a great deal</td>\n",
       "      <td>1. Favor a great deal</td>\n",
       "      <td>She is a woman who advocates for reproductive ...</td>\n",
       "      <td>NaN</td>\n",
       "      <td>NaN</td>\n",
       "      <td>I disagree with him on literally EVERYTHING. H...</td>\n",
       "      <td>threats to democracy</td>\n",
       "      <td>85.0</td>\n",
       "      <td>0.0</td>\n",
       "    </tr>\n",
       "    <tr>\n",
       "      <th>3</th>\n",
       "      <td>140004</td>\n",
       "      <td>45</td>\n",
       "      <td>45-54</td>\n",
       "      <td>1. Man</td>\n",
       "      <td>4. Asian or Native Hawaiian/other Pacific Isla...</td>\n",
       "      <td>3. Some post-high school, no bachelor's degree</td>\n",
       "      <td>6. Not very strong Republican</td>\n",
       "      <td>99. Haven't thought much about this</td>\n",
       "      <td>6. Oppose a moderate amount</td>\n",
       "      <td>6. Oppose moderately</td>\n",
       "      <td>...</td>\n",
       "      <td>4. Neither favor nor oppose</td>\n",
       "      <td>1. Favor a great deal</td>\n",
       "      <td>4. Neither favor nor oppose</td>\n",
       "      <td>NaN</td>\n",
       "      <td>NaN</td>\n",
       "      <td>strong personality</td>\n",
       "      <td>NaN</td>\n",
       "      <td>economy and leadership.</td>\n",
       "      <td>85.0</td>\n",
       "      <td>NaN</td>\n",
       "    </tr>\n",
       "    <tr>\n",
       "      <th>4</th>\n",
       "      <td>140005</td>\n",
       "      <td>80</td>\n",
       "      <td>NaN</td>\n",
       "      <td>1. Man</td>\n",
       "      <td>1. White, non-Hispanic</td>\n",
       "      <td>5. Graduate degree</td>\n",
       "      <td>5. Independent-Republican</td>\n",
       "      <td>4. Moderate; middle of the road</td>\n",
       "      <td>6. Oppose a moderate amount</td>\n",
       "      <td>2. Favor moderately</td>\n",
       "      <td>...</td>\n",
       "      <td>4. Neither favor nor oppose</td>\n",
       "      <td>7. Oppose a great deal</td>\n",
       "      <td>7. Oppose a great deal</td>\n",
       "      <td>NaN</td>\n",
       "      <td>Economy, border security, killing private insu...</td>\n",
       "      <td>economy, border security, keep my insurance, g...</td>\n",
       "      <td>bio weapon injections, spending,</td>\n",
       "      <td>Economy, Border,</td>\n",
       "      <td>0.0</td>\n",
       "      <td>60.0</td>\n",
       "    </tr>\n",
       "  </tbody>\n",
       "</table>\n",
       "<p>5 rows × 22 columns</p>\n",
       "</div>"
      ],
      "text/plain": [
       "       id  age age_group    gender  \\\n",
       "0  140001   50     45-54    1. Man   \n",
       "1  140002   41     35-44  2. Woman   \n",
       "2  140003   44     35-44  2. Woman   \n",
       "3  140004   45     45-54    1. Man   \n",
       "4  140005   80       NaN    1. Man   \n",
       "\n",
       "                                                race  \\\n",
       "0                                        3. Hispanic   \n",
       "1  4. Asian or Native Hawaiian/other Pacific Isla...   \n",
       "2                             1. White, non-Hispanic   \n",
       "3  4. Asian or Native Hawaiian/other Pacific Isla...   \n",
       "4                             1. White, non-Hispanic   \n",
       "\n",
       "                                        education  \\\n",
       "0                            4. Bachelor's degree   \n",
       "1  3. Some post-high school, no bachelor's degree   \n",
       "2  3. Some post-high school, no bachelor's degree   \n",
       "3  3. Some post-high school, no bachelor's degree   \n",
       "4                              5. Graduate degree   \n",
       "\n",
       "                         partyid                               libcon  \\\n",
       "0           7. Strong Republican                      6. Conservative   \n",
       "1                 4. Independent      4. Moderate; middle of the road   \n",
       "2             1. Strong Democrat                           2. Liberal   \n",
       "3  6. Not very strong Republican  99. Haven't thought much about this   \n",
       "4      5. Independent-Republican      4. Moderate; middle of the road   \n",
       "\n",
       "                        fo_dei                  fo_jus_soli  ...  \\\n",
       "0       7. Oppose a great deal         6. Oppose moderately  ...   \n",
       "1  4. Neither favor nor oppose  4. Neither favor nor oppose  ...   \n",
       "2  4. Neither favor nor oppose       7. Oppose a great deal  ...   \n",
       "3  6. Oppose a moderate amount         6. Oppose moderately  ...   \n",
       "4  6. Oppose a moderate amount          2. Favor moderately  ...   \n",
       "\n",
       "             fo_reduce_unequal            fo_schoolvax  \\\n",
       "0       7. Oppose a great deal  7. Oppose a great deal   \n",
       "1   2. Favor a moderate amount   1. Favor a great deal   \n",
       "2   2. Favor a moderate amount   1. Favor a great deal   \n",
       "3  4. Neither favor nor oppose   1. Favor a great deal   \n",
       "4  4. Neither favor nor oppose  7. Oppose a great deal   \n",
       "\n",
       "                  fo_trans_mil  \\\n",
       "0  4. Neither favor nor oppose   \n",
       "1  4. Neither favor nor oppose   \n",
       "2        1. Favor a great deal   \n",
       "3  4. Neither favor nor oppose   \n",
       "4       7. Oppose a great deal   \n",
       "\n",
       "                                        harris_likes  \\\n",
       "0                                                NaN   \n",
       "1                                                NaN   \n",
       "2  She is a woman who advocates for reproductive ...   \n",
       "3                                                NaN   \n",
       "4                                                NaN   \n",
       "\n",
       "                                     harris_dislikes  \\\n",
       "0  She has had 3 1/2 yrs to make things better an...   \n",
       "1                                                NaN   \n",
       "2                                                NaN   \n",
       "3                                                NaN   \n",
       "4  Economy, border security, killing private insu...   \n",
       "\n",
       "                                         trump_likes  \\\n",
       "0  look at the cost of everything I stated before...   \n",
       "1                                                NaN   \n",
       "2                                                NaN   \n",
       "3                                 strong personality   \n",
       "4  economy, border security, keep my insurance, g...   \n",
       "\n",
       "                                      trump_dislikes  \\\n",
       "0                                                NaN   \n",
       "1                                                NaN   \n",
       "2  I disagree with him on literally EVERYTHING. H...   \n",
       "3                                                NaN   \n",
       "4                   bio weapon injections, spending,   \n",
       "\n",
       "                                              mipp_1 harris_therm trump_therm  \n",
       "0  immigration we can't take care of our own peop...          0.0        85.0  \n",
       "1  The cost of everything, people can not afford ...         50.0        50.0  \n",
       "2                               threats to democracy         85.0         0.0  \n",
       "3                            economy and leadership.         85.0         NaN  \n",
       "4                                   Economy, Border,          0.0        60.0  \n",
       "\n",
       "[5 rows x 22 columns]"
      ]
     },
     "execution_count": 249,
     "metadata": {},
     "output_type": "execute_result"
    }
   ],
   "source": [
    "data_file = \"anes24_sample.csv\"\n",
    "df = pd.read_csv(data_file)\n",
    "df.head()"
   ]
  },
  {
   "cell_type": "markdown",
   "metadata": {},
   "source": [
    "The first thing you might notice here is that many of the responses have `NaN`, which indicates missing or invalid responses. This is pretty common with survey data: some questions aren't asked because they're not relevant to all respondents, or respondents might hang up the phone, or just refuse to give a valid answer."
   ]
  },
  {
   "cell_type": "markdown",
   "metadata": {},
   "source": [
    "You can get a sense of the number of `NaN` values using the `.info` method: "
   ]
  },
  {
   "cell_type": "code",
   "execution_count": 211,
   "metadata": {
    "scrolled": true
   },
   "outputs": [
    {
     "name": "stdout",
     "output_type": "stream",
     "text": [
      "<class 'pandas.core.frame.DataFrame'>\n",
      "RangeIndex: 5521 entries, 0 to 5520\n",
      "Data columns (total 22 columns):\n",
      " #   Column             Non-Null Count  Dtype  \n",
      "---  ------             --------------  -----  \n",
      " 0   id                 5521 non-null   int64  \n",
      " 1   age                5521 non-null   int64  \n",
      " 2   age_group          3651 non-null   object \n",
      " 3   gender             5521 non-null   object \n",
      " 4   race               5521 non-null   object \n",
      " 5   education          5521 non-null   object \n",
      " 6   partyid            5521 non-null   object \n",
      " 7   libcon             5521 non-null   object \n",
      " 8   fo_dei             5521 non-null   object \n",
      " 9   fo_jus_soli        5521 non-null   object \n",
      " 10  fo_ukraine_mil     5521 non-null   object \n",
      " 11  fo_israel_mil      5521 non-null   object \n",
      " 12  fo_reduce_unequal  5521 non-null   object \n",
      " 13  fo_schoolvax       5521 non-null   object \n",
      " 14  fo_trans_mil       5521 non-null   object \n",
      " 15  harris_likes       2581 non-null   object \n",
      " 16  harris_dislikes    2428 non-null   object \n",
      " 17  trump_likes        2401 non-null   object \n",
      " 18  trump_dislikes     3286 non-null   object \n",
      " 19  mipp_1             4945 non-null   object \n",
      " 20  harris_therm       4889 non-null   float64\n",
      " 21  trump_therm        4889 non-null   float64\n",
      "dtypes: float64(2), int64(2), object(18)\n",
      "memory usage: 949.1+ KB\n"
     ]
    }
   ],
   "source": [
    "df.info()"
   ]
  },
  {
   "cell_type": "markdown",
   "metadata": {},
   "source": [
    "Alternatively, using `isnull()` gives us a data frame of the same size with `True` and `False` values depending on whether it was a missing value or not. Then, `mean()` calculates the arithmetic mean for each column. Since Python treats `True` as `1` and `False` as `0`, the mean of all of these values is the same as the proportion of missing data for each column:"
   ]
  },
  {
   "cell_type": "code",
   "execution_count": 149,
   "metadata": {},
   "outputs": [
    {
     "data": {
      "text/plain": [
       "id                   0.000000\n",
       "age                  0.000000\n",
       "age_group            0.338707\n",
       "gender               0.000000\n",
       "race                 0.000000\n",
       "education            0.000000\n",
       "partyid              0.000000\n",
       "libcon               0.000000\n",
       "fo_dei               0.000000\n",
       "fo_jus_soli          0.000000\n",
       "fo_ukraine_mil       0.000000\n",
       "fo_israel_mil        0.000000\n",
       "fo_reduce_unequal    0.000000\n",
       "fo_schoolvax         0.000000\n",
       "fo_trans_mil         0.000000\n",
       "harris_likes         0.532512\n",
       "harris_dislikes      0.560225\n",
       "trump_likes          0.565115\n",
       "trump_dislikes       0.404818\n",
       "mipp_1               0.104329\n",
       "harris_therm         0.114472\n",
       "trump_therm          0.114472\n",
       "dtype: float64"
      ]
     },
     "execution_count": 149,
     "metadata": {},
     "output_type": "execute_result"
    }
   ],
   "source": [
    "df.isnull().mean()\n"
   ]
  },
  {
   "cell_type": "markdown",
   "metadata": {},
   "source": [
    "<font color ='red'>**Question 1: the \"like/dislikes\" questions were left blank if a respondent said they couldn't identify anything they liked about a candidate. How would you show the relationship between party ID and being able to say anything positive about Trump?**</font>"
   ]
  },
  {
   "cell_type": "code",
   "execution_count": null,
   "metadata": {},
   "outputs": [],
   "source": []
  },
  {
   "cell_type": "markdown",
   "metadata": {},
   "source": [
    "You might notice that there were no `NaN` values reported for the `partyid` and `libcon` variables, but, in reality, there are still non-responses for these questions, they're just given text labels instead of being left blank. We can see this by using the `value_counts` method. \n",
    "\n",
    "(note: we can use the `sort_index` method to sort these alphabetically instead of in order of the most frequent category. For ordinal variables like this one that have a clear ordering, that may often be a better option, but we'll look at an even more flexible way to handle this kind of data in the next section)"
   ]
  },
  {
   "cell_type": "code",
   "execution_count": 150,
   "metadata": {},
   "outputs": [
    {
     "data": {
      "text/plain": [
       "partyid\n",
       "-4. Error                           2\n",
       "-8. Don't know                      5\n",
       "-9. Refused                        31\n",
       "1. Strong Democrat               1314\n",
       "2. Not very strong Democrat       616\n",
       "3. Independent-Democrat           714\n",
       "4. Independent                    380\n",
       "5. Independent-Republican         716\n",
       "6. Not very strong Republican     577\n",
       "7. Strong Republican             1166\n",
       "Name: count, dtype: int64"
      ]
     },
     "execution_count": 150,
     "metadata": {},
     "output_type": "execute_result"
    }
   ],
   "source": [
    "df.partyid.value_counts().sort_index()"
   ]
  },
  {
   "cell_type": "code",
   "execution_count": 151,
   "metadata": {
    "scrolled": true
   },
   "outputs": [
    {
     "data": {
      "text/plain": [
       "libcon\n",
       "-4. Error                                 3\n",
       "-9. Refused                              67\n",
       "1. Extremely liberal                    250\n",
       "2. Liberal                              819\n",
       "3. Slightly liberal                     543\n",
       "4. Moderate; middle of the road        1187\n",
       "5. Slightly conservative                594\n",
       "6. Conservative                        1030\n",
       "7. Extremely conservative               309\n",
       "99. Haven't thought much about this     719\n",
       "Name: count, dtype: int64"
      ]
     },
     "execution_count": 151,
     "metadata": {},
     "output_type": "execute_result"
    }
   ],
   "source": [
    "df.libcon.value_counts().sort_index()"
   ]
  },
  {
   "cell_type": "markdown",
   "metadata": {},
   "source": [
    "In many cases, we will want to convert this kind of labelled missing data to an explicit `NaN` instead. This will prevent these responses from showing up in our tables and graphs. We can replace a value with an `NaN` like the `replace` function:"
   ]
  },
  {
   "cell_type": "code",
   "execution_count": 153,
   "metadata": {
    "scrolled": true
   },
   "outputs": [],
   "source": [
    "missing_values = [\"-9. Refused\", '-4. Error', \"99. Haven't thought much about this\", \"-8. Don't know\"]\n",
    "\n",
    "df['libcon_replaced'] = df['libcon'].replace(missing_values, np.nan)"
   ]
  },
  {
   "cell_type": "markdown",
   "metadata": {},
   "source": [
    "Now check the results:"
   ]
  },
  {
   "cell_type": "code",
   "execution_count": 154,
   "metadata": {
    "scrolled": true
   },
   "outputs": [
    {
     "data": {
      "text/plain": [
       "libcon_replaced\n",
       "1. Extremely liberal                250\n",
       "2. Liberal                          819\n",
       "3. Slightly liberal                 543\n",
       "4. Moderate; middle of the road    1187\n",
       "5. Slightly conservative            594\n",
       "6. Conservative                    1030\n",
       "7. Extremely conservative           309\n",
       "Name: count, dtype: int64"
      ]
     },
     "execution_count": 154,
     "metadata": {},
     "output_type": "execute_result"
    }
   ],
   "source": [
    "df.libcon_replaced.value_counts().sort_index(ascending=True)"
   ]
  },
  {
   "cell_type": "markdown",
   "metadata": {},
   "source": [
    "<font color ='red'>**Question 2: Replace the refused/don't know values in the party ID variable with `NaN`**</font>"
   ]
  },
  {
   "cell_type": "code",
   "execution_count": null,
   "metadata": {
    "scrolled": true
   },
   "outputs": [],
   "source": []
  },
  {
   "cell_type": "code",
   "execution_count": 155,
   "metadata": {},
   "outputs": [
    {
     "data": {
      "text/plain": [
       "id                   0.000000\n",
       "age                  0.000000\n",
       "age_group            0.338707\n",
       "gender               0.000000\n",
       "race                 0.000000\n",
       "education            0.000000\n",
       "partyid              0.000000\n",
       "libcon               0.000000\n",
       "fo_dei               0.000000\n",
       "fo_jus_soli          0.000000\n",
       "fo_ukraine_mil       0.000000\n",
       "fo_israel_mil        0.000000\n",
       "fo_reduce_unequal    0.000000\n",
       "fo_schoolvax         0.000000\n",
       "fo_trans_mil         0.000000\n",
       "harris_likes         0.532512\n",
       "harris_dislikes      0.560225\n",
       "trump_likes          0.565115\n",
       "trump_dislikes       0.404818\n",
       "mipp_1               0.104329\n",
       "harris_therm         0.114472\n",
       "trump_therm          0.114472\n",
       "libcon_replaced      0.142909\n",
       "dtype: float64"
      ]
     },
     "execution_count": 155,
     "metadata": {},
     "output_type": "execute_result"
    }
   ],
   "source": [
    "# when you're done, re-run the function to count nulls to make sure your code worked:\n",
    "df.isnull().mean()\n"
   ]
  },
  {
   "cell_type": "markdown",
   "metadata": {},
   "source": [
    "### Recoding data\n",
    "\n",
    "In some cases it can make sense to collapse or rearrange one or more categories to simplify our data or capture a particular subset of respondents.  For instance, \"independents\" who lean towards on party or another are often more similar to regular partisans than they are to independents who don't lean either direction:\n"
   ]
  },
  {
   "cell_type": "code",
   "execution_count": 254,
   "metadata": {},
   "outputs": [
    {
     "data": {
      "text/html": [
       "<div>\n",
       "<style scoped>\n",
       "    .dataframe tbody tr th:only-of-type {\n",
       "        vertical-align: middle;\n",
       "    }\n",
       "\n",
       "    .dataframe tbody tr th {\n",
       "        vertical-align: top;\n",
       "    }\n",
       "\n",
       "    .dataframe thead th {\n",
       "        text-align: right;\n",
       "    }\n",
       "</style>\n",
       "<table border=\"1\" class=\"dataframe\">\n",
       "  <thead>\n",
       "    <tr style=\"text-align: right;\">\n",
       "      <th></th>\n",
       "      <th>harris_therm</th>\n",
       "      <th>trump_therm</th>\n",
       "    </tr>\n",
       "    <tr>\n",
       "      <th>partyid</th>\n",
       "      <th></th>\n",
       "      <th></th>\n",
       "    </tr>\n",
       "  </thead>\n",
       "  <tbody>\n",
       "    <tr>\n",
       "      <th>-8. Don't know</th>\n",
       "      <td>63.333333</td>\n",
       "      <td>43.333333</td>\n",
       "    </tr>\n",
       "    <tr>\n",
       "      <th>-9. Refused</th>\n",
       "      <td>36.650000</td>\n",
       "      <td>51.388889</td>\n",
       "    </tr>\n",
       "    <tr>\n",
       "      <th>1. Strong Democrat</th>\n",
       "      <td>83.925125</td>\n",
       "      <td>7.300752</td>\n",
       "    </tr>\n",
       "    <tr>\n",
       "      <th>2. Not very strong Democrat</th>\n",
       "      <td>70.251366</td>\n",
       "      <td>15.400000</td>\n",
       "    </tr>\n",
       "    <tr>\n",
       "      <th>3. Independent-Democrat</th>\n",
       "      <td>66.360502</td>\n",
       "      <td>15.690852</td>\n",
       "    </tr>\n",
       "    <tr>\n",
       "      <th>4. Independent</th>\n",
       "      <td>38.623003</td>\n",
       "      <td>41.072327</td>\n",
       "    </tr>\n",
       "    <tr>\n",
       "      <th>5. Independent-Republican</th>\n",
       "      <td>22.574163</td>\n",
       "      <td>66.448657</td>\n",
       "    </tr>\n",
       "    <tr>\n",
       "      <th>6. Not very strong Republican</th>\n",
       "      <td>25.252988</td>\n",
       "      <td>65.708583</td>\n",
       "    </tr>\n",
       "    <tr>\n",
       "      <th>7. Strong Republican</th>\n",
       "      <td>9.273521</td>\n",
       "      <td>87.435453</td>\n",
       "    </tr>\n",
       "  </tbody>\n",
       "</table>\n",
       "</div>"
      ],
      "text/plain": [
       "                               harris_therm  trump_therm\n",
       "partyid                                                 \n",
       "-8. Don't know                    63.333333    43.333333\n",
       "-9. Refused                       36.650000    51.388889\n",
       "1. Strong Democrat                83.925125     7.300752\n",
       "2. Not very strong Democrat       70.251366    15.400000\n",
       "3. Independent-Democrat           66.360502    15.690852\n",
       "4. Independent                    38.623003    41.072327\n",
       "5. Independent-Republican         22.574163    66.448657\n",
       "6. Not very strong Republican     25.252988    65.708583\n",
       "7. Strong Republican               9.273521    87.435453"
      ]
     },
     "execution_count": 254,
     "metadata": {},
     "output_type": "execute_result"
    }
   ],
   "source": [
    "df.pivot_table(values=['harris_therm','trump_therm'], \n",
    "               index = 'partyid',\n",
    "               aggfunc = 'mean'\n",
    "               )"
   ]
  },
  {
   "cell_type": "markdown",
   "metadata": {},
   "source": [
    "...so for the sake of simplify we sometimes collapse these categories into \"Democrats\", \"Independents\" and \"Republicans\". \n",
    "\n",
    "When we want to take an existing variable and combine responses to create something new, we can use the `map` method to apply a dictionary object that will re-map our original values onto new ones. The dictionary should take the form of `{[oldvalue]:[newvalue]}`"
   ]
  },
  {
   "cell_type": "code",
   "execution_count": 269,
   "metadata": {},
   "outputs": [
    {
     "data": {
      "text/plain": [
       "partyid_3cat\n",
       "Democrat       2644\n",
       "Republican     2459\n",
       "Independent     380\n",
       "Name: count, dtype: int64"
      ]
     },
     "execution_count": 269,
     "metadata": {},
     "output_type": "execute_result"
    }
   ],
   "source": [
    "partyid_map = {\"1. Strong Democrat\": \"Democrat\",\n",
    "               \"2. Not very strong Democrat\": \"Democrat\",\n",
    "               \"3. Independent-Democrat\": \"Democrat\",\n",
    "               \"4. Independent\": \"Independent\", \n",
    "               \"5. Independent-Republican\": \"Republican\",\n",
    "               \"6. Not very strong Republican\": \"Republican\",\n",
    "               \"7. Strong Republican\": \"Republican\"\n",
    "}\n",
    "\n",
    "# using the assign function to create a new variable:\n",
    "df['partyid_3cat'] = df['partyid'].map(partyid_map)\n",
    "\n",
    "# viewing the results\n",
    "df.partyid_3cat.value_counts()"
   ]
  },
  {
   "cell_type": "markdown",
   "metadata": {},
   "source": [
    "You'll notice that the results here are sorted with Democrats, Republicans and then Independents. For the purposes of making a plot or table, that ordering might not make a lot of sense. In many cases, alphabetizing these categories with `sort_index` won't make much sense either. Fortunately, Pandas has a special \"categorical\" data type that can give us more fine-grained control over this kind of variable."
   ]
  },
  {
   "cell_type": "code",
   "execution_count": 157,
   "metadata": {},
   "outputs": [
    {
     "data": {
      "text/plain": [
       "<Axes: xlabel='partyid_3cat'>"
      ]
     },
     "execution_count": 157,
     "metadata": {},
     "output_type": "execute_result"
    },
    {
     "data": {
      "image/png": "[encoded data removed]",
      "text/plain": [
       "<Figure size 640x480 with 1 Axes>"
      ]
     },
     "metadata": {},
     "output_type": "display_data"
    }
   ],
   "source": [
    "df.partyid_3cat.value_counts().plot.bar()"
   ]
  },
  {
   "cell_type": "markdown",
   "metadata": {},
   "source": [
    "You can convert a string column to categorical using `astype('category)`:"
   ]
  },
  {
   "cell_type": "code",
   "execution_count": 270,
   "metadata": {},
   "outputs": [
    {
     "data": {
      "text/plain": [
       "partyid_3cat\n",
       "Democrat       2644\n",
       "Republican     2459\n",
       "Independent     380\n",
       "Name: count, dtype: int64"
      ]
     },
     "execution_count": 270,
     "metadata": {},
     "output_type": "execute_result"
    }
   ],
   "source": [
    "df['partyid_3cat']  = df.partyid_3cat.astype('category')\n",
    "\n",
    "df['partyid_3cat'].value_counts()\n"
   ]
  },
  {
   "cell_type": "markdown",
   "metadata": {},
   "source": [
    "Once we have a categorical variable, we can use `cat.reorder_categories` to create a fixed ordering for our categorical variables:"
   ]
  },
  {
   "cell_type": "code",
   "execution_count": 160,
   "metadata": {},
   "outputs": [],
   "source": [
    "df['partyid_3cat'] = df['partyid_3cat'].cat.reorder_categories([  \"Republican\" ,  \"Independent\", 'Democrat'], ordered=True)"
   ]
  },
  {
   "cell_type": "markdown",
   "metadata": {},
   "source": [
    "Once we've done this, using `value_counts` with `sort_index` will always sort the data in the order specified by `reorder_categories`:"
   ]
  },
  {
   "cell_type": "code",
   "execution_count": 161,
   "metadata": {},
   "outputs": [
    {
     "data": {
      "text/plain": [
       "<Axes: xlabel='partyid_3cat'>"
      ]
     },
     "execution_count": 161,
     "metadata": {},
     "output_type": "execute_result"
    },
    {
     "data": {
      "image/png": "[encoded data removed]",
      "text/plain": [
       "<Figure size 640x480 with 1 Axes>"
      ]
     },
     "metadata": {},
     "output_type": "display_data"
    }
   ],
   "source": [
    "df.partyid_3cat.value_counts().sort_index().plot.bar()"
   ]
  },
  {
   "cell_type": "markdown",
   "metadata": {},
   "source": [
    "Since recoding is easy to mess up, I think its always a good idea to always:\n",
    "1. Preserve the old variable and give your new variable a different name\n",
    "2. Check your results by comparing the old variable to the new one.\n",
    "\n",
    "You can check your results by selecting the old values and the new values, dropping duplicates, and then checking to see how the unique labels match up:"
   ]
  },
  {
   "cell_type": "code",
   "execution_count": 271,
   "metadata": {},
   "outputs": [
    {
     "data": {
      "text/html": [
       "<div>\n",
       "<style scoped>\n",
       "    .dataframe tbody tr th:only-of-type {\n",
       "        vertical-align: middle;\n",
       "    }\n",
       "\n",
       "    .dataframe tbody tr th {\n",
       "        vertical-align: top;\n",
       "    }\n",
       "\n",
       "    .dataframe thead th {\n",
       "        text-align: right;\n",
       "    }\n",
       "</style>\n",
       "<table border=\"1\" class=\"dataframe\">\n",
       "  <thead>\n",
       "    <tr style=\"text-align: right;\">\n",
       "      <th></th>\n",
       "      <th>partyid</th>\n",
       "      <th>partyid_3cat</th>\n",
       "    </tr>\n",
       "  </thead>\n",
       "  <tbody>\n",
       "    <tr>\n",
       "      <th>2717</th>\n",
       "      <td>-4. Error</td>\n",
       "      <td>NaN</td>\n",
       "    </tr>\n",
       "    <tr>\n",
       "      <th>4577</th>\n",
       "      <td>-8. Don't know</td>\n",
       "      <td>NaN</td>\n",
       "    </tr>\n",
       "    <tr>\n",
       "      <th>113</th>\n",
       "      <td>-9. Refused</td>\n",
       "      <td>NaN</td>\n",
       "    </tr>\n",
       "    <tr>\n",
       "      <th>2</th>\n",
       "      <td>1. Strong Democrat</td>\n",
       "      <td>Democrat</td>\n",
       "    </tr>\n",
       "    <tr>\n",
       "      <th>10</th>\n",
       "      <td>2. Not very strong Democrat</td>\n",
       "      <td>Democrat</td>\n",
       "    </tr>\n",
       "    <tr>\n",
       "      <th>5</th>\n",
       "      <td>3. Independent-Democrat</td>\n",
       "      <td>Democrat</td>\n",
       "    </tr>\n",
       "    <tr>\n",
       "      <th>1</th>\n",
       "      <td>4. Independent</td>\n",
       "      <td>Independent</td>\n",
       "    </tr>\n",
       "    <tr>\n",
       "      <th>4</th>\n",
       "      <td>5. Independent-Republican</td>\n",
       "      <td>Republican</td>\n",
       "    </tr>\n",
       "    <tr>\n",
       "      <th>3</th>\n",
       "      <td>6. Not very strong Republican</td>\n",
       "      <td>Republican</td>\n",
       "    </tr>\n",
       "    <tr>\n",
       "      <th>0</th>\n",
       "      <td>7. Strong Republican</td>\n",
       "      <td>Republican</td>\n",
       "    </tr>\n",
       "  </tbody>\n",
       "</table>\n",
       "</div>"
      ],
      "text/plain": [
       "                            partyid partyid_3cat\n",
       "2717                      -4. Error          NaN\n",
       "4577                 -8. Don't know          NaN\n",
       "113                     -9. Refused          NaN\n",
       "2                1. Strong Democrat     Democrat\n",
       "10      2. Not very strong Democrat     Democrat\n",
       "5           3. Independent-Democrat     Democrat\n",
       "1                    4. Independent  Independent\n",
       "4         5. Independent-Republican   Republican\n",
       "3     6. Not very strong Republican   Republican\n",
       "0              7. Strong Republican   Republican"
      ]
     },
     "execution_count": 271,
     "metadata": {},
     "output_type": "execute_result"
    }
   ],
   "source": [
    "df[['partyid', 'partyid_3cat']].drop_duplicates().sort_values('partyid')"
   ]
  },
  {
   "cell_type": "markdown",
   "metadata": {},
   "source": [
    "In some cases, you might have several variables that have the same set of response options, in which case it might be convenient to apply the same categorical ordering to all of them. One way you can do this is by creating a separate `categoricalDtype` and then applying it to multiple variables in a loop. For instance, all of the variables whose names start with `fo_` come from questions asking whether the respondent favors or opposes a particular policy:"
   ]
  },
  {
   "cell_type": "code",
   "execution_count": 242,
   "metadata": {},
   "outputs": [
    {
     "data": {
      "text/html": [
       "<div>\n",
       "<style scoped>\n",
       "    .dataframe tbody tr th:only-of-type {\n",
       "        vertical-align: middle;\n",
       "    }\n",
       "\n",
       "    .dataframe tbody tr th {\n",
       "        vertical-align: top;\n",
       "    }\n",
       "\n",
       "    .dataframe thead th {\n",
       "        text-align: right;\n",
       "    }\n",
       "</style>\n",
       "<table border=\"1\" class=\"dataframe\">\n",
       "  <thead>\n",
       "    <tr style=\"text-align: right;\">\n",
       "      <th></th>\n",
       "      <th>fo_dei</th>\n",
       "      <th>fo_jus_soli</th>\n",
       "      <th>fo_ukraine_mil</th>\n",
       "      <th>fo_israel_mil</th>\n",
       "      <th>fo_reduce_unequal</th>\n",
       "      <th>fo_schoolvax</th>\n",
       "      <th>fo_trans_mil</th>\n",
       "    </tr>\n",
       "  </thead>\n",
       "  <tbody>\n",
       "    <tr>\n",
       "      <th>0</th>\n",
       "      <td>7. Oppose a great deal</td>\n",
       "      <td>6. Oppose moderately</td>\n",
       "      <td>1. Favor a great deal</td>\n",
       "      <td>1. Favor a great deal</td>\n",
       "      <td>7. Oppose a great deal</td>\n",
       "      <td>7. Oppose a great deal</td>\n",
       "      <td>4. Neither favor nor oppose</td>\n",
       "    </tr>\n",
       "    <tr>\n",
       "      <th>1</th>\n",
       "      <td>4. Neither favor nor oppose</td>\n",
       "      <td>4. Neither favor nor oppose</td>\n",
       "      <td>4. Neither favor nor oppose</td>\n",
       "      <td>4. Neither favor nor oppose</td>\n",
       "      <td>2. Favor a moderate amount</td>\n",
       "      <td>1. Favor a great deal</td>\n",
       "      <td>4. Neither favor nor oppose</td>\n",
       "    </tr>\n",
       "    <tr>\n",
       "      <th>2</th>\n",
       "      <td>4. Neither favor nor oppose</td>\n",
       "      <td>7. Oppose a great deal</td>\n",
       "      <td>1. Favor a great deal</td>\n",
       "      <td>7. Oppose a great deal</td>\n",
       "      <td>2. Favor a moderate amount</td>\n",
       "      <td>1. Favor a great deal</td>\n",
       "      <td>1. Favor a great deal</td>\n",
       "    </tr>\n",
       "    <tr>\n",
       "      <th>3</th>\n",
       "      <td>6. Oppose a moderate amount</td>\n",
       "      <td>6. Oppose moderately</td>\n",
       "      <td>6. Oppose moderately</td>\n",
       "      <td>7. Oppose a great deal</td>\n",
       "      <td>4. Neither favor nor oppose</td>\n",
       "      <td>1. Favor a great deal</td>\n",
       "      <td>4. Neither favor nor oppose</td>\n",
       "    </tr>\n",
       "    <tr>\n",
       "      <th>4</th>\n",
       "      <td>6. Oppose a moderate amount</td>\n",
       "      <td>2. Favor moderately</td>\n",
       "      <td>4. Neither favor nor oppose</td>\n",
       "      <td>6. Oppose moderately</td>\n",
       "      <td>4. Neither favor nor oppose</td>\n",
       "      <td>7. Oppose a great deal</td>\n",
       "      <td>7. Oppose a great deal</td>\n",
       "    </tr>\n",
       "    <tr>\n",
       "      <th>...</th>\n",
       "      <td>...</td>\n",
       "      <td>...</td>\n",
       "      <td>...</td>\n",
       "      <td>...</td>\n",
       "      <td>...</td>\n",
       "      <td>...</td>\n",
       "      <td>...</td>\n",
       "    </tr>\n",
       "    <tr>\n",
       "      <th>5516</th>\n",
       "      <td>4. Neither favor nor oppose</td>\n",
       "      <td>4. Neither favor nor oppose</td>\n",
       "      <td>4. Neither favor nor oppose</td>\n",
       "      <td>7. Oppose a great deal</td>\n",
       "      <td>-6. No post interview</td>\n",
       "      <td>-6. No post interview</td>\n",
       "      <td>-6. No post interview</td>\n",
       "    </tr>\n",
       "    <tr>\n",
       "      <th>5517</th>\n",
       "      <td>4. Neither favor nor oppose</td>\n",
       "      <td>4. Neither favor nor oppose</td>\n",
       "      <td>2. Favor moderately</td>\n",
       "      <td>2. Favor moderately</td>\n",
       "      <td>4. Neither favor nor oppose</td>\n",
       "      <td>1. Favor a great deal</td>\n",
       "      <td>2. Favor a moderate amount</td>\n",
       "    </tr>\n",
       "    <tr>\n",
       "      <th>5518</th>\n",
       "      <td>2. Favor a moderate amount</td>\n",
       "      <td>7. Oppose a great deal</td>\n",
       "      <td>4. Neither favor nor oppose</td>\n",
       "      <td>4. Neither favor nor oppose</td>\n",
       "      <td>-6. No post interview</td>\n",
       "      <td>-6. No post interview</td>\n",
       "      <td>-6. No post interview</td>\n",
       "    </tr>\n",
       "    <tr>\n",
       "      <th>5519</th>\n",
       "      <td>1. Favor a great deal</td>\n",
       "      <td>7. Oppose a great deal</td>\n",
       "      <td>4. Neither favor nor oppose</td>\n",
       "      <td>7. Oppose a great deal</td>\n",
       "      <td>1. Favor a great deal</td>\n",
       "      <td>1. Favor a great deal</td>\n",
       "      <td>1. Favor a great deal</td>\n",
       "    </tr>\n",
       "    <tr>\n",
       "      <th>5520</th>\n",
       "      <td>6. Oppose a moderate amount</td>\n",
       "      <td>7. Oppose a great deal</td>\n",
       "      <td>2. Favor moderately</td>\n",
       "      <td>1. Favor a great deal</td>\n",
       "      <td>4. Neither favor nor oppose</td>\n",
       "      <td>2. Favor a moderate amount</td>\n",
       "      <td>4. Neither favor nor oppose</td>\n",
       "    </tr>\n",
       "  </tbody>\n",
       "</table>\n",
       "<p>5521 rows × 7 columns</p>\n",
       "</div>"
      ],
      "text/plain": [
       "                           fo_dei                  fo_jus_soli  \\\n",
       "0          7. Oppose a great deal         6. Oppose moderately   \n",
       "1     4. Neither favor nor oppose  4. Neither favor nor oppose   \n",
       "2     4. Neither favor nor oppose       7. Oppose a great deal   \n",
       "3     6. Oppose a moderate amount         6. Oppose moderately   \n",
       "4     6. Oppose a moderate amount          2. Favor moderately   \n",
       "...                           ...                          ...   \n",
       "5516  4. Neither favor nor oppose  4. Neither favor nor oppose   \n",
       "5517  4. Neither favor nor oppose  4. Neither favor nor oppose   \n",
       "5518   2. Favor a moderate amount       7. Oppose a great deal   \n",
       "5519        1. Favor a great deal       7. Oppose a great deal   \n",
       "5520  6. Oppose a moderate amount       7. Oppose a great deal   \n",
       "\n",
       "                   fo_ukraine_mil                fo_israel_mil  \\\n",
       "0           1. Favor a great deal        1. Favor a great deal   \n",
       "1     4. Neither favor nor oppose  4. Neither favor nor oppose   \n",
       "2           1. Favor a great deal       7. Oppose a great deal   \n",
       "3            6. Oppose moderately       7. Oppose a great deal   \n",
       "4     4. Neither favor nor oppose         6. Oppose moderately   \n",
       "...                           ...                          ...   \n",
       "5516  4. Neither favor nor oppose       7. Oppose a great deal   \n",
       "5517          2. Favor moderately          2. Favor moderately   \n",
       "5518  4. Neither favor nor oppose  4. Neither favor nor oppose   \n",
       "5519  4. Neither favor nor oppose       7. Oppose a great deal   \n",
       "5520          2. Favor moderately        1. Favor a great deal   \n",
       "\n",
       "                fo_reduce_unequal                fo_schoolvax  \\\n",
       "0          7. Oppose a great deal      7. Oppose a great deal   \n",
       "1      2. Favor a moderate amount       1. Favor a great deal   \n",
       "2      2. Favor a moderate amount       1. Favor a great deal   \n",
       "3     4. Neither favor nor oppose       1. Favor a great deal   \n",
       "4     4. Neither favor nor oppose      7. Oppose a great deal   \n",
       "...                           ...                         ...   \n",
       "5516        -6. No post interview       -6. No post interview   \n",
       "5517  4. Neither favor nor oppose       1. Favor a great deal   \n",
       "5518        -6. No post interview       -6. No post interview   \n",
       "5519        1. Favor a great deal       1. Favor a great deal   \n",
       "5520  4. Neither favor nor oppose  2. Favor a moderate amount   \n",
       "\n",
       "                     fo_trans_mil  \n",
       "0     4. Neither favor nor oppose  \n",
       "1     4. Neither favor nor oppose  \n",
       "2           1. Favor a great deal  \n",
       "3     4. Neither favor nor oppose  \n",
       "4          7. Oppose a great deal  \n",
       "...                           ...  \n",
       "5516        -6. No post interview  \n",
       "5517   2. Favor a moderate amount  \n",
       "5518        -6. No post interview  \n",
       "5519        1. Favor a great deal  \n",
       "5520  4. Neither favor nor oppose  \n",
       "\n",
       "[5521 rows x 7 columns]"
      ]
     },
     "execution_count": 242,
     "metadata": {},
     "output_type": "execute_result"
    }
   ],
   "source": [
    "df.loc[:, df.columns.str.startswith(\"fo_\")]"
   ]
  },
  {
   "cell_type": "markdown",
   "metadata": {},
   "source": [
    "If we wanted to give all of these variables a short hand label, we might do something like this:"
   ]
  },
  {
   "cell_type": "code",
   "execution_count": 343,
   "metadata": {},
   "outputs": [],
   "source": [
    "favor_oppose = {'1. Favor a great deal': 'Favor', \n",
    "                '2. Favor a moderate amount' : 'Favor', \n",
    "                '2. Favor moderately' : 'Favor', \n",
    "                '3. Favor a little' : 'Favor', \n",
    "                '4. Neither favor nor oppose' : 'Neither', \n",
    "                '5. Oppose a little': 'Oppose', \n",
    "                '6. Oppose a moderate amount' : 'Oppose',\n",
    "                '6. Oppose moderately' : 'Oppose',\n",
    "                '7. Oppose a great deal' :'Oppose'\n",
    "}\n",
    "fo_categories = pd.CategoricalDtype(categories=['Oppose', \"Neither\", \"Favor\"], ordered=True)\n",
    "\n"
   ]
  },
  {
   "cell_type": "code",
   "execution_count": 344,
   "metadata": {},
   "outputs": [
    {
     "data": {
      "text/html": [
       "<div>\n",
       "<style scoped>\n",
       "    .dataframe tbody tr th:only-of-type {\n",
       "        vertical-align: middle;\n",
       "    }\n",
       "\n",
       "    .dataframe tbody tr th {\n",
       "        vertical-align: top;\n",
       "    }\n",
       "\n",
       "    .dataframe thead th {\n",
       "        text-align: right;\n",
       "    }\n",
       "</style>\n",
       "<table border=\"1\" class=\"dataframe\">\n",
       "  <thead>\n",
       "    <tr style=\"text-align: right;\">\n",
       "      <th></th>\n",
       "      <th>fo_dei</th>\n",
       "      <th>fo_jus_soli</th>\n",
       "      <th>fo_ukraine_mil</th>\n",
       "      <th>fo_israel_mil</th>\n",
       "      <th>fo_reduce_unequal</th>\n",
       "      <th>fo_schoolvax</th>\n",
       "      <th>fo_trans_mil</th>\n",
       "    </tr>\n",
       "  </thead>\n",
       "  <tbody>\n",
       "    <tr>\n",
       "      <th>0</th>\n",
       "      <td>Oppose</td>\n",
       "      <td>Oppose</td>\n",
       "      <td>Favor</td>\n",
       "      <td>Favor</td>\n",
       "      <td>Oppose</td>\n",
       "      <td>Oppose</td>\n",
       "      <td>Neither</td>\n",
       "    </tr>\n",
       "    <tr>\n",
       "      <th>1</th>\n",
       "      <td>Neither</td>\n",
       "      <td>Neither</td>\n",
       "      <td>Neither</td>\n",
       "      <td>Neither</td>\n",
       "      <td>Favor</td>\n",
       "      <td>Favor</td>\n",
       "      <td>Neither</td>\n",
       "    </tr>\n",
       "    <tr>\n",
       "      <th>2</th>\n",
       "      <td>Neither</td>\n",
       "      <td>Oppose</td>\n",
       "      <td>Favor</td>\n",
       "      <td>Oppose</td>\n",
       "      <td>Favor</td>\n",
       "      <td>Favor</td>\n",
       "      <td>Favor</td>\n",
       "    </tr>\n",
       "    <tr>\n",
       "      <th>3</th>\n",
       "      <td>Oppose</td>\n",
       "      <td>Oppose</td>\n",
       "      <td>Oppose</td>\n",
       "      <td>Oppose</td>\n",
       "      <td>Neither</td>\n",
       "      <td>Favor</td>\n",
       "      <td>Neither</td>\n",
       "    </tr>\n",
       "    <tr>\n",
       "      <th>4</th>\n",
       "      <td>Oppose</td>\n",
       "      <td>Favor</td>\n",
       "      <td>Neither</td>\n",
       "      <td>Oppose</td>\n",
       "      <td>Neither</td>\n",
       "      <td>Oppose</td>\n",
       "      <td>Oppose</td>\n",
       "    </tr>\n",
       "    <tr>\n",
       "      <th>...</th>\n",
       "      <td>...</td>\n",
       "      <td>...</td>\n",
       "      <td>...</td>\n",
       "      <td>...</td>\n",
       "      <td>...</td>\n",
       "      <td>...</td>\n",
       "      <td>...</td>\n",
       "    </tr>\n",
       "    <tr>\n",
       "      <th>5516</th>\n",
       "      <td>Neither</td>\n",
       "      <td>Neither</td>\n",
       "      <td>Neither</td>\n",
       "      <td>Oppose</td>\n",
       "      <td>NaN</td>\n",
       "      <td>NaN</td>\n",
       "      <td>NaN</td>\n",
       "    </tr>\n",
       "    <tr>\n",
       "      <th>5517</th>\n",
       "      <td>Neither</td>\n",
       "      <td>Neither</td>\n",
       "      <td>Favor</td>\n",
       "      <td>Favor</td>\n",
       "      <td>Neither</td>\n",
       "      <td>Favor</td>\n",
       "      <td>Favor</td>\n",
       "    </tr>\n",
       "    <tr>\n",
       "      <th>5518</th>\n",
       "      <td>Favor</td>\n",
       "      <td>Oppose</td>\n",
       "      <td>Neither</td>\n",
       "      <td>Neither</td>\n",
       "      <td>NaN</td>\n",
       "      <td>NaN</td>\n",
       "      <td>NaN</td>\n",
       "    </tr>\n",
       "    <tr>\n",
       "      <th>5519</th>\n",
       "      <td>Favor</td>\n",
       "      <td>Oppose</td>\n",
       "      <td>Neither</td>\n",
       "      <td>Oppose</td>\n",
       "      <td>Favor</td>\n",
       "      <td>Favor</td>\n",
       "      <td>Favor</td>\n",
       "    </tr>\n",
       "    <tr>\n",
       "      <th>5520</th>\n",
       "      <td>Oppose</td>\n",
       "      <td>Oppose</td>\n",
       "      <td>Favor</td>\n",
       "      <td>Favor</td>\n",
       "      <td>Neither</td>\n",
       "      <td>Favor</td>\n",
       "      <td>Neither</td>\n",
       "    </tr>\n",
       "  </tbody>\n",
       "</table>\n",
       "<p>5521 rows × 7 columns</p>\n",
       "</div>"
      ],
      "text/plain": [
       "       fo_dei fo_jus_soli fo_ukraine_mil fo_israel_mil fo_reduce_unequal  \\\n",
       "0      Oppose      Oppose          Favor         Favor            Oppose   \n",
       "1     Neither     Neither        Neither       Neither             Favor   \n",
       "2     Neither      Oppose          Favor        Oppose             Favor   \n",
       "3      Oppose      Oppose         Oppose        Oppose           Neither   \n",
       "4      Oppose       Favor        Neither        Oppose           Neither   \n",
       "...       ...         ...            ...           ...               ...   \n",
       "5516  Neither     Neither        Neither        Oppose               NaN   \n",
       "5517  Neither     Neither          Favor         Favor           Neither   \n",
       "5518    Favor      Oppose        Neither       Neither               NaN   \n",
       "5519    Favor      Oppose        Neither        Oppose             Favor   \n",
       "5520   Oppose      Oppose          Favor         Favor           Neither   \n",
       "\n",
       "     fo_schoolvax fo_trans_mil  \n",
       "0          Oppose      Neither  \n",
       "1           Favor      Neither  \n",
       "2           Favor        Favor  \n",
       "3           Favor      Neither  \n",
       "4          Oppose       Oppose  \n",
       "...           ...          ...  \n",
       "5516          NaN          NaN  \n",
       "5517        Favor        Favor  \n",
       "5518          NaN          NaN  \n",
       "5519        Favor        Favor  \n",
       "5520        Favor      Neither  \n",
       "\n",
       "[5521 rows x 7 columns]"
      ]
     },
     "execution_count": 344,
     "metadata": {},
     "output_type": "execute_result"
    }
   ],
   "source": [
    "renamed_fo = df.loc[:, df.columns.str.startswith(\"fo_\")].apply(lambda x: x.map(favor_oppose).astype(fo_categories))\n",
    "renamed_fo"
   ]
  },
  {
   "cell_type": "code",
   "execution_count": 345,
   "metadata": {},
   "outputs": [
    {
     "data": {
      "text/html": [
       "<div>\n",
       "<style scoped>\n",
       "    .dataframe tbody tr th:only-of-type {\n",
       "        vertical-align: middle;\n",
       "    }\n",
       "\n",
       "    .dataframe tbody tr th {\n",
       "        vertical-align: top;\n",
       "    }\n",
       "\n",
       "    .dataframe thead th {\n",
       "        text-align: right;\n",
       "    }\n",
       "</style>\n",
       "<table border=\"1\" class=\"dataframe\">\n",
       "  <thead>\n",
       "    <tr style=\"text-align: right;\">\n",
       "      <th>Favor/Oppose Israel military aid</th>\n",
       "      <th>Oppose</th>\n",
       "      <th>Neither</th>\n",
       "      <th>Favor</th>\n",
       "    </tr>\n",
       "    <tr>\n",
       "      <th>Favor/Oppose Ukraine military aid</th>\n",
       "      <th></th>\n",
       "      <th></th>\n",
       "      <th></th>\n",
       "    </tr>\n",
       "  </thead>\n",
       "  <tbody>\n",
       "    <tr>\n",
       "      <th>Oppose</th>\n",
       "      <td>51.9%</td>\n",
       "      <td>13.3%</td>\n",
       "      <td>34.8%</td>\n",
       "    </tr>\n",
       "    <tr>\n",
       "      <th>Neither</th>\n",
       "      <td>11.2%</td>\n",
       "      <td>64.9%</td>\n",
       "      <td>23.8%</td>\n",
       "    </tr>\n",
       "    <tr>\n",
       "      <th>Favor</th>\n",
       "      <td>23.0%</td>\n",
       "      <td>21.9%</td>\n",
       "      <td>55.1%</td>\n",
       "    </tr>\n",
       "  </tbody>\n",
       "</table>\n",
       "</div>"
      ],
      "text/plain": [
       "Favor/Oppose Israel military aid  Oppose Neither  Favor\n",
       "Favor/Oppose Ukraine military aid                      \n",
       "Oppose                             51.9%   13.3%  34.8%\n",
       "Neither                            11.2%   64.9%  23.8%\n",
       "Favor                              23.0%   21.9%  55.1%"
      ]
     },
     "execution_count": 345,
     "metadata": {},
     "output_type": "execute_result"
    }
   ],
   "source": [
    "crosstab = pd.crosstab(\n",
    "    index =  renamed_fo['fo_ukraine_mil'],\n",
    "    columns = renamed_fo['fo_israel_mil'],\n",
    "    normalize='index',\n",
    "    rownames = ['Favor/Oppose Ukraine military aid'],\n",
    "    colnames = ['Favor/Oppose Israel military aid']\n",
    "            )\n",
    "\n",
    "ct = (crosstab * 100).round(1).astype(str) + '%'\n",
    "ct"
   ]
  },
  {
   "cell_type": "code",
   "execution_count": 346,
   "metadata": {},
   "outputs": [
    {
     "data": {
      "text/html": [
       "<div>\n",
       "<style scoped>\n",
       "    .dataframe tbody tr th:only-of-type {\n",
       "        vertical-align: middle;\n",
       "    }\n",
       "\n",
       "    .dataframe tbody tr th {\n",
       "        vertical-align: top;\n",
       "    }\n",
       "\n",
       "    .dataframe thead th {\n",
       "        text-align: right;\n",
       "    }\n",
       "</style>\n",
       "<table border=\"1\" class=\"dataframe\">\n",
       "  <thead>\n",
       "    <tr style=\"text-align: right;\">\n",
       "      <th>Party ID</th>\n",
       "      <th>Democrat</th>\n",
       "      <th>Independent</th>\n",
       "      <th>Republican</th>\n",
       "    </tr>\n",
       "    <tr>\n",
       "      <th>Favor/Oppose DEI</th>\n",
       "      <th></th>\n",
       "      <th></th>\n",
       "      <th></th>\n",
       "    </tr>\n",
       "  </thead>\n",
       "  <tbody>\n",
       "    <tr>\n",
       "      <th>Oppose</th>\n",
       "      <td>10.1%</td>\n",
       "      <td>21.5%</td>\n",
       "      <td>56.0%</td>\n",
       "    </tr>\n",
       "    <tr>\n",
       "      <th>Neither</th>\n",
       "      <td>37.1%</td>\n",
       "      <td>60.7%</td>\n",
       "      <td>33.4%</td>\n",
       "    </tr>\n",
       "    <tr>\n",
       "      <th>Favor</th>\n",
       "      <td>52.8%</td>\n",
       "      <td>17.8%</td>\n",
       "      <td>10.6%</td>\n",
       "    </tr>\n",
       "  </tbody>\n",
       "</table>\n",
       "</div>"
      ],
      "text/plain": [
       "Party ID         Democrat Independent Republican\n",
       "Favor/Oppose DEI                                \n",
       "Oppose              10.1%       21.5%      56.0%\n",
       "Neither             37.1%       60.7%      33.4%\n",
       "Favor               52.8%       17.8%      10.6%"
      ]
     },
     "execution_count": 346,
     "metadata": {},
     "output_type": "execute_result"
    }
   ],
   "source": [
    "crosstab = pd.crosstab(index =  renamed_fo['fo_dei'],\n",
    "            columns = df['partyid_3cat'],\n",
    "            normalize='columns',\n",
    "            rownames = ['Favor/Oppose DEI'],\n",
    "            colnames = ['Party ID']\n",
    "            )\n",
    "\n",
    "ct = (crosstab * 100).round(1).astype(str) + '%'\n",
    "ct"
   ]
  },
  {
   "cell_type": "markdown",
   "metadata": {},
   "source": [
    "### Dropping missing data\n",
    "\n",
    "In some cases, we will want to just drop rows that have missing data, we can use this with the Pandas `.dropna()` method. `axis=1` will drop columns with missing information:"
   ]
  },
  {
   "cell_type": "code",
   "execution_count": 163,
   "metadata": {},
   "outputs": [
    {
     "data": {
      "text/plain": [
       "(5521, 14)"
      ]
     },
     "execution_count": 163,
     "metadata": {},
     "output_type": "execute_result"
    }
   ],
   "source": [
    "df_no_missing_cols = df.dropna(axis = 1)\n",
    "df_no_missing_cols.shape"
   ]
  },
  {
   "cell_type": "markdown",
   "metadata": {},
   "source": [
    "`axis=0` will drop all rows with missing information:"
   ]
  },
  {
   "cell_type": "code",
   "execution_count": null,
   "metadata": {
    "scrolled": true
   },
   "outputs": [
    {
     "data": {
      "text/plain": [
       "(171, 24)"
      ]
     },
     "execution_count": 164,
     "metadata": {},
     "output_type": "execute_result"
    }
   ],
   "source": [
    "df_no_missing_rows = df.dropna(axis = 0) \n",
    "df_no_missing_rows.shape"
   ]
  },
  {
   "cell_type": "markdown",
   "metadata": {},
   "source": [
    "We want to be careful here: surveys like the ANES will rarely ask every respondent to answer every single question, and some respondents will invariably skip or refuse to answer certain items. If we drop any rows with any missing data, we end up tossing out a huge amount of information: from 8280 responses to just 312. This is probably not a great idea. So more often we'll want only drop rows when some crucial bit of information is missing. For instance, we could do something like this to only drop rows where the `age_group` and `partyid_3cat` variables are missing:"
   ]
  },
  {
   "cell_type": "code",
   "execution_count": 165,
   "metadata": {},
   "outputs": [
    {
     "data": {
      "text/plain": [
       "(3632, 24)"
      ]
     },
     "execution_count": 165,
     "metadata": {},
     "output_type": "execute_result"
    }
   ],
   "source": [
    "df_no_missing_pid_or_age = df.dropna(axis=0, subset=[\"partyid_3cat\", \"age_group\"])\n",
    "\n",
    "df_no_missing_pid_or_age.shape"
   ]
  },
  {
   "cell_type": "markdown",
   "metadata": {},
   "source": [
    "Or we could only drop cases where there is non-missing data for at least twenty columns:"
   ]
  },
  {
   "cell_type": "code",
   "execution_count": 170,
   "metadata": {},
   "outputs": [
    {
     "data": {
      "text/plain": [
       "(4700, 24)"
      ]
     },
     "execution_count": 170,
     "metadata": {},
     "output_type": "execute_result"
    }
   ],
   "source": [
    "df_min_2 = df.dropna(thresh=20, axis=0)\n",
    "\n",
    "df_min_2.shape"
   ]
  },
  {
   "cell_type": "markdown",
   "metadata": {},
   "source": [
    "As with the previous examples, you should always be careful to avoid throwing out useful data if possible. "
   ]
  },
  {
   "cell_type": "markdown",
   "metadata": {},
   "source": [
    "## String Data\n",
    "\n",
    "String data and needing to clean up string data are very common in social science research. Whether it's coding open response questions in surveys or parsing social media posts, lots of data in the social sciences are text data, and it's important to understand how to deal with them. This is particularly true when using web scraping techniques. The data that you get from web scraping will generally at least start out as string data, which you can then transform into numerical variables as needed.\n",
    "\n"
   ]
  },
  {
   "cell_type": "markdown",
   "metadata": {},
   "source": [
    "### Regular Expressions\n",
    "\n",
    "A **regular expression, or regex**, is a sequence of characters that are used to match patterns within text. These can be extremely useful for searching and matching complicated string patterns. Regexes use specific rules and formatting guidelines to specify various patterns and are implemented in Python via the `re` package. Let's take a look at a quick example."
   ]
  },
  {
   "cell_type": "code",
   "execution_count": null,
   "metadata": {
    "tags": []
   },
   "outputs": [],
   "source": [
    "text = 'this is some text'\n",
    "re.split(r\"\\s+\", text)"
   ]
  },
  {
   "cell_type": "markdown",
   "metadata": {},
   "source": [
    "The regular expression `\\s+` refers to one of more whitespace characters. This uses `\\s` as the regex formatting for a whitespace character, as well as the `+` to indicate one or more. Note that `\\s` is used because `s` by itself would refer to the letter `s`. The backslash `\\` is an escape character that allows Python to interpret it as a pattern that it is trying to match.\n",
    "\n",
    "We could have done this without the `+` but that would try to separate on individual spaces instead. In the above example, there would be no difference, but if we were to add additional spaces, we'd see a big change."
   ]
  },
  {
   "cell_type": "code",
   "execution_count": null,
   "metadata": {
    "tags": []
   },
   "outputs": [],
   "source": [
    "text = 'this is some    text'\n",
    "re.split(r\"\\s\", text)"
   ]
  },
  {
   "cell_type": "markdown",
   "metadata": {},
   "source": [
    "You can also first compile a regular expression, then use it multiple times. "
   ]
  },
  {
   "cell_type": "code",
   "execution_count": null,
   "metadata": {
    "tags": []
   },
   "outputs": [],
   "source": [
    "regex = re.compile(r\"\\s+\")\n",
    "regex.split(text)"
   ]
  },
  {
   "cell_type": "code",
   "execution_count": null,
   "metadata": {
    "tags": []
   },
   "outputs": [],
   "source": [
    "regex.split('some other  text')"
   ]
  },
  {
   "cell_type": "markdown",
   "metadata": {},
   "source": [
    "Other regex functions, like `findall` can be used to extract bits of text that matches some pattern. This is an example of a pattern that could be used to identify and capture a price from a string of text."
   ]
  },
  {
   "cell_type": "code",
   "execution_count": null,
   "metadata": {},
   "outputs": [],
   "source": [
    "text = \"33lbs of bananas cost $90.00\" \n",
    "\n",
    "re.findall(r\"(\\$[0-9]+[\\.0-9]{0,2})\", text)"
   ]
  },
  {
   "cell_type": "markdown",
   "metadata": {},
   "source": [
    "### Regex methods\n",
    "\n",
    "|Method|Description|\n",
    "|-|-|\n",
    "|`findall`|Return all nonoverlapping matching patterns in a string as a list|\n",
    "|`match`|Match pattern at start of string and optionally segment pattern components into groups; if the pattern matches, return a match object, and otherwise None|\n",
    "|`search`|Scan string for match to pattern, returning a match object if so; unlike match, the match can be anywhere in the string as opposed to only at the beginning|\n",
    "|`split`|Break string into pieces at each occurrence of pattern|\n",
    "|`sub`|Replace all occurrences of pattern in string with replacement expression|"
   ]
  },
  {
   "cell_type": "markdown",
   "metadata": {},
   "source": [
    "### Working with regex\n",
    "\n",
    "Unless you work with regular expressions frequently, it will be very hard to get good enough at regex to write it out on the fly. Most of the time, you only need regex occasionally for one or two tasks, and it can be hard to remember what all of the patterns and syntax are. **You do not need to try to memorize all of the regex syntax!** There are plenty of tools available to help you out whenever you need to come back to it. Understanding some of the basics should help you get started, and you can use existing cheatsheets as well as online regex builder tools to do the rest. \n",
    "\n",
    "Regex 101 (https://regex101.com) is a website that helps you build your regexes. This website allows you to paste in the text you want to search, as well as type in a regex that you want to build. The text selected by the regex will be highlighted as you go, helping you build the exact regex that you need to get what you want. "
   ]
  },
  {
   "cell_type": "markdown",
   "metadata": {
    "jp-MarkdownHeadingCollapsed": true
   },
   "source": [
    "### Regex Cheatsheet\n",
    "\n",
    "There's a regex cheatsheet in this folder that you can use as a reference (its also downloadable through ELMS)"
   ]
  },
  {
   "cell_type": "markdown",
   "metadata": {},
   "source": [
    "## Strings in DataFrames\n",
    "\n",
    "Many times, we'll have to work with strings that are in DataFrames. These are a bit trickier than individual strings, because we want to be efficient about how we do this. Luckily for us, the creators of the pandas DataFrames recognized that string manipulation would be fairly common and included tools to help make it easier.\n",
    "\n",
    "\n",
    "We can use the `extract` method to capture text that fits a regex pattern. The parentheses in the expression below are the \"capture group\" for our regex, this is the part of the pattern that we want to extract, so the code below will extract the portion of the text that matches the string \"liberal\", \"conservative\", or \"moderate\", so this is a way to recode the `libcon` variable to a 3-category measure without using the `map` function:\n"
   ]
  },
  {
   "cell_type": "code",
   "execution_count": 171,
   "metadata": {},
   "outputs": [],
   "source": [
    "# first lower case, then match: \n",
    "libcon_lowercase = df.libcon.str.lower()\n",
    "\n",
    "df['libcon_3cat'] = libcon_lowercase.str.extract('(liberal|conservative|moderate)')\n"
   ]
  },
  {
   "cell_type": "markdown",
   "metadata": {},
   "source": [
    "We can compare our new variables against the old ones like this: "
   ]
  },
  {
   "cell_type": "code",
   "execution_count": 172,
   "metadata": {},
   "outputs": [
    {
     "data": {
      "text/html": [
       "<div>\n",
       "<style scoped>\n",
       "    .dataframe tbody tr th:only-of-type {\n",
       "        vertical-align: middle;\n",
       "    }\n",
       "\n",
       "    .dataframe tbody tr th {\n",
       "        vertical-align: top;\n",
       "    }\n",
       "\n",
       "    .dataframe thead th {\n",
       "        text-align: right;\n",
       "    }\n",
       "</style>\n",
       "<table border=\"1\" class=\"dataframe\">\n",
       "  <thead>\n",
       "    <tr style=\"text-align: right;\">\n",
       "      <th></th>\n",
       "      <th>libcon</th>\n",
       "      <th>libcon_3cat</th>\n",
       "    </tr>\n",
       "  </thead>\n",
       "  <tbody>\n",
       "    <tr>\n",
       "      <th>2658</th>\n",
       "      <td>-4. Error</td>\n",
       "      <td>NaN</td>\n",
       "    </tr>\n",
       "    <tr>\n",
       "      <th>98</th>\n",
       "      <td>-9. Refused</td>\n",
       "      <td>NaN</td>\n",
       "    </tr>\n",
       "    <tr>\n",
       "      <th>30</th>\n",
       "      <td>1. Extremely liberal</td>\n",
       "      <td>liberal</td>\n",
       "    </tr>\n",
       "    <tr>\n",
       "      <th>2</th>\n",
       "      <td>2. Liberal</td>\n",
       "      <td>liberal</td>\n",
       "    </tr>\n",
       "    <tr>\n",
       "      <th>14</th>\n",
       "      <td>3. Slightly liberal</td>\n",
       "      <td>liberal</td>\n",
       "    </tr>\n",
       "    <tr>\n",
       "      <th>1</th>\n",
       "      <td>4. Moderate; middle of the road</td>\n",
       "      <td>moderate</td>\n",
       "    </tr>\n",
       "    <tr>\n",
       "      <th>11</th>\n",
       "      <td>5. Slightly conservative</td>\n",
       "      <td>conservative</td>\n",
       "    </tr>\n",
       "    <tr>\n",
       "      <th>0</th>\n",
       "      <td>6. Conservative</td>\n",
       "      <td>conservative</td>\n",
       "    </tr>\n",
       "    <tr>\n",
       "      <th>33</th>\n",
       "      <td>7. Extremely conservative</td>\n",
       "      <td>conservative</td>\n",
       "    </tr>\n",
       "    <tr>\n",
       "      <th>3</th>\n",
       "      <td>99. Haven't thought much about this</td>\n",
       "      <td>NaN</td>\n",
       "    </tr>\n",
       "  </tbody>\n",
       "</table>\n",
       "</div>"
      ],
      "text/plain": [
       "                                   libcon   libcon_3cat\n",
       "2658                            -4. Error           NaN\n",
       "98                            -9. Refused           NaN\n",
       "30                   1. Extremely liberal       liberal\n",
       "2                              2. Liberal       liberal\n",
       "14                    3. Slightly liberal       liberal\n",
       "1         4. Moderate; middle of the road      moderate\n",
       "11               5. Slightly conservative  conservative\n",
       "0                         6. Conservative  conservative\n",
       "33              7. Extremely conservative  conservative\n",
       "3     99. Haven't thought much about this           NaN"
      ]
     },
     "execution_count": 172,
     "metadata": {},
     "output_type": "execute_result"
    }
   ],
   "source": [
    "df[['libcon', 'libcon_3cat']].drop_duplicates().sort_values('libcon')"
   ]
  },
  {
   "cell_type": "markdown",
   "metadata": {},
   "source": [
    "`str.contains` returns a `True` if the string contains the pattern given as its argument and `False` otherwise. One use for the `contains` function is to identify cases where a piece of text shows up so that you can filter or count the number of occurrences of that string. So if we wanted to know how many people mentioned climate change or global warming in their response to the \"most important political problem\" question, we could use a regular expression like `\"climate change|global warming\"` to count these cases:"
   ]
  },
  {
   "cell_type": "code",
   "execution_count": 173,
   "metadata": {},
   "outputs": [
    {
     "data": {
      "text/plain": [
       "np.float64(0.023255813953488372)"
      ]
     },
     "execution_count": 173,
     "metadata": {},
     "output_type": "execute_result"
    }
   ],
   "source": [
    "df =df.assign(climate_change = df['mipp_1'].str.contains('climate change|global warming',\n",
    "                                                         case=False, regex=True))\n",
    "\n",
    "# get the proportion who mentioned this: \n",
    "df.climate_change.mean()\n"
   ]
  },
  {
   "cell_type": "markdown",
   "metadata": {},
   "source": [
    "Then we can use this indicator to get the average proportion of people giving this response across different levels of some variable like party ID:"
   ]
  },
  {
   "cell_type": "code",
   "execution_count": 174,
   "metadata": {
    "scrolled": true
   },
   "outputs": [
    {
     "name": "stderr",
     "output_type": "stream",
     "text": [
      "C:\\Users\\neilb\\AppData\\Local\\Temp\\ipykernel_98772\\3516713050.py:1: FutureWarning: The default value of observed=False is deprecated and will change to observed=True in a future version of pandas. Specify observed=False to silence this warning and retain the current behavior\n",
      "  df.pivot_table(index='partyid_3cat', values='climate_change', aggfunc='mean')\n"
     ]
    },
    {
     "data": {
      "text/html": [
       "<div>\n",
       "<style scoped>\n",
       "    .dataframe tbody tr th:only-of-type {\n",
       "        vertical-align: middle;\n",
       "    }\n",
       "\n",
       "    .dataframe tbody tr th {\n",
       "        vertical-align: top;\n",
       "    }\n",
       "\n",
       "    .dataframe thead th {\n",
       "        text-align: right;\n",
       "    }\n",
       "</style>\n",
       "<table border=\"1\" class=\"dataframe\">\n",
       "  <thead>\n",
       "    <tr style=\"text-align: right;\">\n",
       "      <th></th>\n",
       "      <th>climate_change</th>\n",
       "    </tr>\n",
       "    <tr>\n",
       "      <th>partyid_3cat</th>\n",
       "      <th></th>\n",
       "    </tr>\n",
       "  </thead>\n",
       "  <tbody>\n",
       "    <tr>\n",
       "      <th>Republican</th>\n",
       "      <td>0.003205</td>\n",
       "    </tr>\n",
       "    <tr>\n",
       "      <th>Independent</th>\n",
       "      <td>0.006211</td>\n",
       "    </tr>\n",
       "    <tr>\n",
       "      <th>Democrat</th>\n",
       "      <td>0.043983</td>\n",
       "    </tr>\n",
       "  </tbody>\n",
       "</table>\n",
       "</div>"
      ],
      "text/plain": [
       "             climate_change\n",
       "partyid_3cat               \n",
       "Republican         0.003205\n",
       "Independent        0.006211\n",
       "Democrat           0.043983"
      ]
     },
     "execution_count": 174,
     "metadata": {},
     "output_type": "execute_result"
    }
   ],
   "source": [
    "df.pivot_table(index='partyid_3cat', values='climate_change', aggfunc='mean')\n",
    "# or : \n",
    "# df.groupby('partyid_3cat')['climate_change'].mean()"
   ]
  },
  {
   "cell_type": "markdown",
   "metadata": {},
   "source": [
    "<font color ='red'>**Question 3: How would I show the relationship between `age_group` and the likelihood of mentioning issues related to gun-violence as a response to the `mipp_1` question? What about issues related to abortion rights? Can you write your expression in a way that allows you to capture differences in spelling or punctuation?**</font>"
   ]
  },
  {
   "cell_type": "code",
   "execution_count": null,
   "metadata": {
    "tags": []
   },
   "outputs": [],
   "source": []
  },
  {
   "cell_type": "markdown",
   "metadata": {},
   "source": [
    "Another common use for the `str.contains` function is to subset a data set. Since it returns a boolean value, we can use it with `.loc` to get rows where a pattern is matched. For instance, here's how I would get a data frame containing only people who mentioned age, dementia, or cognitive ability in their reasons for disliking Donald Trump. (the `\\b` in this expression represents a word boundary, so this avoids capturing terms that just happen to begin or end with \"age\" like \"baggage\", or \"mortgage\". "
   ]
  },
  {
   "cell_type": "code",
   "execution_count": 177,
   "metadata": {},
   "outputs": [
    {
     "data": {
      "text/plain": [
       "105"
      ]
     },
     "execution_count": 177,
     "metadata": {},
     "output_type": "execute_result"
    }
   ],
   "source": [
    "df_age = df.loc[df.trump_dislikes.str.contains(r'\\bold\\b|\\bage\\b|dementia|cogniti*',\n",
    "                                               case=False,\n",
    "                                               na=False)]\n",
    "\n",
    "# how many rows?\n",
    "df_age.shape[0]"
   ]
  },
  {
   "cell_type": "markdown",
   "metadata": {},
   "source": [
    "<font color ='red'>**Question 4: How many Democrats mentioned Donald Trump when asked to name a thing they liked about Kamala Harris? How many Republicans mentioned Kamala Harris when asked to list something they liked about Trump?**</font>"
   ]
  },
  {
   "cell_type": "code",
   "execution_count": null,
   "metadata": {},
   "outputs": [],
   "source": []
  }
 ],
 "metadata": {
  "kernelspec": {
   "display_name": ".venv",
   "language": "python",
   "name": "python3"
  },
  "language_info": {
   "codemirror_mode": {
    "name": "ipython",
    "version": 3
   },
   "file_extension": ".py",
   "mimetype": "text/x-python",
   "name": "python",
   "nbconvert_exporter": "python",
   "pygments_lexer": "ipython3",
   "version": "3.13.3"
  },
  "toc": {
   "base_numbering": 1,
   "nav_menu": {},
   "number_sections": false,
   "sideBar": false,
   "skip_h1_title": false,
   "title_cell": "Table of Contents",
   "title_sidebar": "Contents",
   "toc_cell": false,
   "toc_position": {},
   "toc_section_display": false,
   "toc_window_display": false
  }
 },
 "nbformat": 4,
 "nbformat_minor": 4
}
