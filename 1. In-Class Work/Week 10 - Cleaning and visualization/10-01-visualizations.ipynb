{
 "cells": [
  {
   "cell_type": "markdown",
   "metadata": {
    "tags": []
   },
   "source": [
    "# Visualizations\n",
    "\n",
    "Use **Code** cells to write and run any code you need to answer the question and **Markdown** cells to write out answers in words. After you are finished with the assignment, remember to download it as an **HTML file** and submit it in **ELMS**."
   ]
  },
  {
   "cell_type": "code",
   "execution_count": 2,
   "metadata": {},
   "outputs": [],
   "source": [
    "from requests import get\n",
    "import numpy as np \n",
    "import pandas as pd\n",
    "import matplotlib.pyplot as plt\n",
    "%matplotlib inline"
   ]
  },
  {
   "cell_type": "code",
   "execution_count": null,
   "metadata": {},
   "outputs": [],
   "source": []
  },
  {
   "cell_type": "markdown",
   "metadata": {},
   "source": [
    "# Basic Visualizations\n",
    "\n",
    "Visualizations can help us look at summaries of the data. They can also aid in providing good presentation aids.\n",
    "\n",
    "In this section, we'll look at a few basic types of visualizations such as histograms and bar plots. In practice, there are many more types of visualizations. Furthermore, there are many different packages that can help you create these different visualizations. While we'll focus only on the basics here with the `matplotlib` package, keep in mind that there are many tools available.\n",
    "\n",
    "Let's start by bringing in some data that we can make plots with."
   ]
  },
  {
   "cell_type": "code",
   "execution_count": 3,
   "metadata": {},
   "outputs": [
    {
     "data": {
      "text/html": [
       "<div>\n",
       "<style scoped>\n",
       "    .dataframe tbody tr th:only-of-type {\n",
       "        vertical-align: middle;\n",
       "    }\n",
       "\n",
       "    .dataframe tbody tr th {\n",
       "        vertical-align: top;\n",
       "    }\n",
       "\n",
       "    .dataframe thead th {\n",
       "        text-align: right;\n",
       "    }\n",
       "</style>\n",
       "<table border=\"1\" class=\"dataframe\">\n",
       "  <thead>\n",
       "    <tr style=\"text-align: right;\">\n",
       "      <th></th>\n",
       "      <th>gender</th>\n",
       "      <th>age</th>\n",
       "      <th>age_range</th>\n",
       "      <th>political_party</th>\n",
       "      <th>rep_change</th>\n",
       "      <th>dem_change</th>\n",
       "      <th>political_leaning</th>\n",
       "      <th>education</th>\n",
       "      <th>race</th>\n",
       "      <th>race_other</th>\n",
       "      <th>...</th>\n",
       "      <th>stereotypes</th>\n",
       "      <th>respect_for_authority</th>\n",
       "      <th>handout</th>\n",
       "      <th>climate_change</th>\n",
       "      <th>epa</th>\n",
       "      <th>biz_regulations</th>\n",
       "      <th>nuclear_emissions</th>\n",
       "      <th>voter_turnout_help</th>\n",
       "      <th>american_heartland</th>\n",
       "      <th>south_racist</th>\n",
       "    </tr>\n",
       "  </thead>\n",
       "  <tbody>\n",
       "    <tr>\n",
       "      <th>0</th>\n",
       "      <td>Female</td>\n",
       "      <td>55</td>\n",
       "      <td>55-64</td>\n",
       "      <td>Independent</td>\n",
       "      <td>NaN</td>\n",
       "      <td>NaN</td>\n",
       "      <td>Moderate</td>\n",
       "      <td>Some college</td>\n",
       "      <td>White</td>\n",
       "      <td>NaN</td>\n",
       "      <td>...</td>\n",
       "      <td>Yes</td>\n",
       "      <td>Strongly Agree</td>\n",
       "      <td>Strongly Disagree</td>\n",
       "      <td>Well-informed</td>\n",
       "      <td>No</td>\n",
       "      <td>Yes</td>\n",
       "      <td>Yes</td>\n",
       "      <td>Help Democrats more</td>\n",
       "      <td>Yes</td>\n",
       "      <td>Yes</td>\n",
       "    </tr>\n",
       "    <tr>\n",
       "      <th>1</th>\n",
       "      <td>Female</td>\n",
       "      <td>34</td>\n",
       "      <td>25-34</td>\n",
       "      <td>Strong Democrat</td>\n",
       "      <td>NaN</td>\n",
       "      <td>No</td>\n",
       "      <td>Strong Liberal</td>\n",
       "      <td>Graduate degree</td>\n",
       "      <td>White</td>\n",
       "      <td>NaN</td>\n",
       "      <td>...</td>\n",
       "      <td>Yes</td>\n",
       "      <td>Strongly Disagree</td>\n",
       "      <td>Strongly Disagree</td>\n",
       "      <td>Well-informed</td>\n",
       "      <td>No</td>\n",
       "      <td>No</td>\n",
       "      <td>Yes</td>\n",
       "      <td>Help Democrats more</td>\n",
       "      <td>No</td>\n",
       "      <td>DK/REF</td>\n",
       "    </tr>\n",
       "    <tr>\n",
       "      <th>2</th>\n",
       "      <td>Male</td>\n",
       "      <td>49</td>\n",
       "      <td>45-54</td>\n",
       "      <td>DK/REF</td>\n",
       "      <td>NaN</td>\n",
       "      <td>NaN</td>\n",
       "      <td>Moderate</td>\n",
       "      <td>College degree</td>\n",
       "      <td>White</td>\n",
       "      <td>NaN</td>\n",
       "      <td>...</td>\n",
       "      <td>DK/REF</td>\n",
       "      <td>Strongly Agree</td>\n",
       "      <td>Somewhat Agree</td>\n",
       "      <td>Well-informed</td>\n",
       "      <td>No</td>\n",
       "      <td>No</td>\n",
       "      <td>Yes</td>\n",
       "      <td>DK/REF</td>\n",
       "      <td>Yes</td>\n",
       "      <td>No</td>\n",
       "    </tr>\n",
       "    <tr>\n",
       "      <th>3</th>\n",
       "      <td>Male</td>\n",
       "      <td>41</td>\n",
       "      <td>35-44</td>\n",
       "      <td>Independent</td>\n",
       "      <td>NaN</td>\n",
       "      <td>NaN</td>\n",
       "      <td>Strong Conservative</td>\n",
       "      <td>High school or less</td>\n",
       "      <td>White</td>\n",
       "      <td>NaN</td>\n",
       "      <td>...</td>\n",
       "      <td>Yes</td>\n",
       "      <td>Strongly Agree</td>\n",
       "      <td>Strongly Agree</td>\n",
       "      <td>Not Very Well-informed</td>\n",
       "      <td>Yes</td>\n",
       "      <td>Yes</td>\n",
       "      <td>DK/REF</td>\n",
       "      <td>Make no Difference</td>\n",
       "      <td>Yes</td>\n",
       "      <td>No</td>\n",
       "    </tr>\n",
       "    <tr>\n",
       "      <th>4</th>\n",
       "      <td>Female</td>\n",
       "      <td>65</td>\n",
       "      <td>65+</td>\n",
       "      <td>Independent</td>\n",
       "      <td>NaN</td>\n",
       "      <td>NaN</td>\n",
       "      <td>Moderate</td>\n",
       "      <td>Graduate degree</td>\n",
       "      <td>White</td>\n",
       "      <td>NaN</td>\n",
       "      <td>...</td>\n",
       "      <td>Yes</td>\n",
       "      <td>Somewhat Disagree</td>\n",
       "      <td>Somewhat Disagree</td>\n",
       "      <td>Well-informed</td>\n",
       "      <td>No</td>\n",
       "      <td>No</td>\n",
       "      <td>Yes</td>\n",
       "      <td>Help Democrats more</td>\n",
       "      <td>Yes</td>\n",
       "      <td>Yes</td>\n",
       "    </tr>\n",
       "  </tbody>\n",
       "</table>\n",
       "<p>5 rows × 23 columns</p>\n",
       "</div>"
      ],
      "text/plain": [
       "   gender  age age_range  political_party rep_change dem_change  \\\n",
       "0  Female   55     55-64      Independent        NaN        NaN   \n",
       "1  Female   34     25-34  Strong Democrat        NaN         No   \n",
       "2    Male   49     45-54           DK/REF        NaN        NaN   \n",
       "3    Male   41     35-44      Independent        NaN        NaN   \n",
       "4  Female   65       65+      Independent        NaN        NaN   \n",
       "\n",
       "     political_leaning            education   race race_other  ...  \\\n",
       "0             Moderate         Some college  White        NaN  ...   \n",
       "1       Strong Liberal      Graduate degree  White        NaN  ...   \n",
       "2             Moderate       College degree  White        NaN  ...   \n",
       "3  Strong Conservative  High school or less  White        NaN  ...   \n",
       "4             Moderate      Graduate degree  White        NaN  ...   \n",
       "\n",
       "  stereotypes respect_for_authority            handout  \\\n",
       "0         Yes        Strongly Agree  Strongly Disagree   \n",
       "1         Yes     Strongly Disagree  Strongly Disagree   \n",
       "2      DK/REF        Strongly Agree     Somewhat Agree   \n",
       "3         Yes        Strongly Agree     Strongly Agree   \n",
       "4         Yes     Somewhat Disagree  Somewhat Disagree   \n",
       "\n",
       "           climate_change  epa biz_regulations nuclear_emissions  \\\n",
       "0           Well-informed   No             Yes               Yes   \n",
       "1           Well-informed   No              No               Yes   \n",
       "2           Well-informed   No              No               Yes   \n",
       "3  Not Very Well-informed  Yes             Yes            DK/REF   \n",
       "4           Well-informed   No              No               Yes   \n",
       "\n",
       "    voter_turnout_help american_heartland south_racist  \n",
       "0  Help Democrats more                Yes          Yes  \n",
       "1  Help Democrats more                 No       DK/REF  \n",
       "2               DK/REF                Yes           No  \n",
       "3   Make no Difference                Yes           No  \n",
       "4  Help Democrats more                Yes          Yes  \n",
       "\n",
       "[5 rows x 23 columns]"
      ]
     },
     "execution_count": 3,
     "metadata": {},
     "output_type": "execute_result"
    }
   ],
   "source": [
    "data_file = '201807-CAH_PulseOfTheNation_Raw.csv'\n",
    "df = pd.read_csv(data_file)\n",
    "df.head()"
   ]
  },
  {
   "cell_type": "markdown",
   "metadata": {
    "tags": []
   },
   "source": [
    "## Review: Making a Histogram\n",
    "We'll start with a basic histogram. A histogram is useful for looking at the distribution of a numerical variable (that is, a variable that takes numbers as its values as opposed to categories). They can visually represent the spread and center of the variable, as well as provide insights to the shape of the distribution. For example, we can look at the number of **modes**, or peaks, in the data, which wouldn't be captured in numerical summaries such as mean or variance. We can also get a better idea of the **skew** of the data, determining whether most units are grouped on the left or right side (lower or higher values), or whether it's mostly symmetrical. "
   ]
  },
  {
   "cell_type": "markdown",
   "metadata": {},
   "source": [
    "<font color ='red'>**Question 1: Create a basic histogram of the `age` variable using the `.hist()` method.**</font>"
   ]
  },
  {
   "cell_type": "code",
   "execution_count": 4,
   "metadata": {
    "tags": []
   },
   "outputs": [
    {
     "data": {
      "text/plain": [
       "<Axes: >"
      ]
     },
     "execution_count": 4,
     "metadata": {},
     "output_type": "execute_result"
    },
    {
     "data": {
      "image/png": "[encoded data removed]",
      "text/plain": [
       "<Figure size 640x480 with 1 Axes>"
      ]
     },
     "metadata": {},
     "output_type": "display_data"
    }
   ],
   "source": [
    "df.age.hist()"
   ]
  },
  {
   "cell_type": "markdown",
   "metadata": {},
   "source": [
    "Thus far, we have only made histograms with the default values. For example, we used just the default number of bins. We can adjust these using some additional parameters."
   ]
  },
  {
   "cell_type": "code",
   "execution_count": 5,
   "metadata": {
    "tags": []
   },
   "outputs": [
    {
     "data": {
      "text/plain": [
       "<Axes: >"
      ]
     },
     "execution_count": 5,
     "metadata": {},
     "output_type": "execute_result"
    },
    {
     "data": {
      "image/png": "[encoded data removed]",
      "text/plain": [
       "<Figure size 640x480 with 1 Axes>"
      ]
     },
     "metadata": {},
     "output_type": "display_data"
    }
   ],
   "source": [
    "df.age.hist(bins = 20)"
   ]
  },
  {
   "cell_type": "markdown",
   "metadata": {},
   "source": [
    "We can also make other adjustments, such as the figure size using the `figsize` argument. We use a tuple to indicate the dimensions of the figure in inches."
   ]
  },
  {
   "cell_type": "code",
   "execution_count": 6,
   "metadata": {
    "tags": []
   },
   "outputs": [
    {
     "data": {
      "text/plain": [
       "<Axes: >"
      ]
     },
     "execution_count": 6,
     "metadata": {},
     "output_type": "execute_result"
    },
    {
     "data": {
      "image/png": "[encoded data removed]",
      "text/plain": [
       "<Figure size 800x600 with 1 Axes>"
      ]
     },
     "metadata": {},
     "output_type": "display_data"
    }
   ],
   "source": [
    "df.age.hist(bins = 20, figsize = (8, 6))"
   ]
  },
  {
   "cell_type": "markdown",
   "metadata": {
    "tags": []
   },
   "source": [
    "### Other Graphs\n",
    "\n",
    "Here is a table of other graphs we have used so far, along with the situations you would want to use them in. \n",
    "\n",
    "|Graph|Method|When to Use|\n",
    "|-|-|-|\n",
    "|Histogram|`.hist()`|One numerical variable|\n",
    "|Boxplot|`.plot.box()`|One numerical variable|\n",
    "|Bar Plot|`.plot.bar()` or `.plot.barh()`|One or more categorical variable(s)|\n",
    "|Line Plot|`.plot.line()`|One numerical variable with one sequential variable (like time)|\n",
    "|Scatter Plot|`.plot.scatter()`|Two numerical variables|"
   ]
  },
  {
   "cell_type": "markdown",
   "metadata": {},
   "source": [
    "<font color ='red'>**Question 2: Use a visualization to describe the `age_range` variable. What age range had the most respondents?**</font>"
   ]
  },
  {
   "cell_type": "code",
   "execution_count": null,
   "metadata": {
    "tags": []
   },
   "outputs": [],
   "source": [
    "\n",
    "\n",
    "\n",
    "\n"
   ]
  },
  {
   "cell_type": "markdown",
   "metadata": {},
   "source": [
    "## Using matplotlib\n",
    "\n",
    "These figures are generally quite quick to make, but aren't necessarily always \"presentation-ready\". That is, though they might be useful to look at distributions or get an idea of what the data looks like, they aren't quite polished enough to use in a report or presentation to other people. Look back at the histograms that we created. There are no labels on the axes, nor is there a title. If we had just shown this graph to someone, they would not know what it was about. Furthermore, there might be other cosmetic changes we might want to make, such as resizing, adding more descriptive text, and so on.\n",
    "\n",
    "The matplotlib package is the primary tool for data visualization in Python. It allows for lots of customizability, and though there are many other packages that can create visualizations, it is still very commonly used. \n",
    "\n",
    "Now, what if we want to make this look nicer using matplotlib, maybe by adding some labels or adjusting the visualization in other ways? We can do that using the Figure and Axes objects. Let's look an example."
   ]
  },
  {
   "cell_type": "code",
   "execution_count": 14,
   "metadata": {},
   "outputs": [
    {
     "data": {
      "image/png": "[encoded data removed]",
      "text/plain": [
       "<Figure size 800x600 with 1 Axes>"
      ]
     },
     "metadata": {},
     "output_type": "display_data"
    }
   ],
   "source": [
    "fig, axes = plt.subplots(figsize=(8,6))\n",
    "df.age.hist(bins=20, range=[0,100])\n",
    "axes.set_xlabel(\"Age\")\n",
    "axes.set_ylabel(\"Frequency\")\n",
    "axes.set_title(\"Age of Pulse of the Nation Respondents\")\n",
    "plt.show()"
   ]
  },
  {
   "cell_type": "markdown",
   "metadata": {},
   "source": [
    "Let's break down each line of the code. First, we used the command \n",
    "\n",
    "`fig, axes = plt.subplots(figsize=(8,6))`.\n",
    "\n",
    "This is where we intialize our plot, essentially setting up the space that we'll be working in. It creates a **Figure** object (`fig`) and an **Axes** object (`axes`). The Figure is the window in which we'll create our plot. In this case, we use the `figsize` argument to set the length and height to 8 and 6 inches, respectively. The Axes are the area around the figure, where the tick labels and titles are. \n",
    "\n",
    "Then, we plot the figure by taking the pandas Series and using the `plot()` method. We limit the number of bins as well as set the range of the x-axis. \n",
    "\n",
    "After that, we use the `ax` object to add labels around the figure, using the `set_xlabel()` and `set_title()` methods. These methods change the axes and add the labels so that they will be displayed. In other worrds, we are able to adjust things about the graph by using the Figure and Axes objects. "
   ]
  },
  {
   "cell_type": "markdown",
   "metadata": {},
   "source": [
    "<font color ='red'>**Question 3: Use a visualization to describe the `age_range` variable again. Add x-axis and y-axis labels, as well as a title.**</font>"
   ]
  },
  {
   "cell_type": "code",
   "execution_count": null,
   "metadata": {},
   "outputs": [],
   "source": [
    "\n",
    "\n",
    "\n"
   ]
  },
  {
   "cell_type": "markdown",
   "metadata": {},
   "source": [
    "## Saving Figures\n",
    "\n",
    "You can use the `.savefig()` method to save any figures that you create as well. This can be useful if you are using the figures elsewhere. "
   ]
  },
  {
   "cell_type": "code",
   "execution_count": 8,
   "metadata": {},
   "outputs": [],
   "source": [
    "fig.savefig(\"age.png\", dpi=400)"
   ]
  },
  {
   "cell_type": "markdown",
   "metadata": {},
   "source": [
    "<font color ='red'>**Question 4: Save the figure from Question 3.**</font>"
   ]
  },
  {
   "cell_type": "code",
   "execution_count": null,
   "metadata": {},
   "outputs": [],
   "source": [
    "\n",
    "\n",
    "\n"
   ]
  },
  {
   "cell_type": "markdown",
   "metadata": {
    "tags": []
   },
   "source": [
    "## Multiple Graphs\n",
    "\n",
    "Suppose you wanted to compare the age distribution for liberals and for conservatives. It seems to be generally accepted that older people tend to be more conservative, but this might not hold for the people in this survey. To see what it looks like for our dataset, we can use histograms split by group. \n",
    "\n",
    "To do this, we'll first create the two subsets of data. Remember that the `political_leaning` variable doesn't quite split by \"Liberal\" and \"Conservative\", so we need to make sure we catch people who answered various types of \"Liberal\" or \"Conservative\"."
   ]
  },
  {
   "cell_type": "code",
   "execution_count": 9,
   "metadata": {
    "tags": []
   },
   "outputs": [
    {
     "data": {
      "text/plain": [
       "political_leaning\n",
       "Moderate                        327\n",
       "Strong Conservative             184\n",
       "Strong Liberal                  107\n",
       "DK/REF                           84\n",
       "Not Very Strong Conservative     50\n",
       "Not Very Strong Liberal          48\n",
       "Name: count, dtype: int64"
      ]
     },
     "execution_count": 9,
     "metadata": {},
     "output_type": "execute_result"
    }
   ],
   "source": [
    "df.political_leaning.value_counts()"
   ]
  },
  {
   "cell_type": "markdown",
   "metadata": {},
   "source": [
    "We use the `str.contains` method to catch all who answered some form of \"Liberal\" and all who answered some form of \"Conservative\". "
   ]
  },
  {
   "cell_type": "code",
   "execution_count": 10,
   "metadata": {
    "tags": []
   },
   "outputs": [],
   "source": [
    "liberal = df[df.political_leaning.str.contains('Liberal')]\n",
    "conservative = df[df.political_leaning.str.contains('Conservative')]"
   ]
  },
  {
   "cell_type": "code",
   "execution_count": 11,
   "metadata": {
    "tags": []
   },
   "outputs": [
    {
     "data": {
      "text/plain": [
       "(155, 23)"
      ]
     },
     "execution_count": 11,
     "metadata": {},
     "output_type": "execute_result"
    }
   ],
   "source": [
    "liberal.shape"
   ]
  },
  {
   "cell_type": "code",
   "execution_count": 12,
   "metadata": {
    "tags": []
   },
   "outputs": [
    {
     "data": {
      "text/plain": [
       "(234, 23)"
      ]
     },
     "execution_count": 12,
     "metadata": {},
     "output_type": "execute_result"
    }
   ],
   "source": [
    "conservative.shape"
   ]
  },
  {
   "cell_type": "markdown",
   "metadata": {},
   "source": [
    "Next, we start by creating the `fig` and `axes` objects, then adding the histograms for each **on the same axes.** This is done by specifying the same Axes for the `ax` argument in each histogram. "
   ]
  },
  {
   "cell_type": "code",
   "execution_count": 13,
   "metadata": {
    "tags": []
   },
   "outputs": [
    {
     "data": {
      "text/plain": [
       "<Axes: >"
      ]
     },
     "execution_count": 13,
     "metadata": {},
     "output_type": "execute_result"
    },
    {
     "data": {
      "image/png": "[encoded data removed]",
      "text/plain": [
       "<Figure size 800x600 with 1 Axes>"
      ]
     },
     "metadata": {},
     "output_type": "display_data"
    }
   ],
   "source": [
    "fig, axes = plt.subplots(figsize=(8,6))\n",
    "liberal.age.hist(ax = axes)\n",
    "conservative.age.hist(ax = axes)"
   ]
  },
  {
   "cell_type": "markdown",
   "metadata": {},
   "source": [
    "Let's try making this look nicer. For one, the histograms layer on top of each other, so it's hard to see what each distribution looks like. Let's make each graph slightly transparent using the `alpha` argument (this is a value from 0 to 1 which sets how transparent it is). Additionally, we'll add the `label` argument for each graph, which will allow us to add a legend at the end. Finally, as before, we'll add a title and axes labels so that it is easier to see what is going on."
   ]
  },
  {
   "cell_type": "code",
   "execution_count": null,
   "metadata": {
    "tags": []
   },
   "outputs": [],
   "source": [
    "fig, axes = plt.subplots(figsize=(8,6))\n",
    "liberal.age.hist(ax = axes, alpha = 0.7, label = \"Liberal\")\n",
    "conservative.age.hist(ax = axes, alpha = 0.7, label = \"Conservative\")\n",
    "axes.set_ylabel(\"Frequency\")\n",
    "axes.set_xlabel(\"Age\")\n",
    "axes.set_title('Age of Liberals vs Conservatives in Pulse of the Nation survey')\n",
    "axes.legend()"
   ]
  },
  {
   "cell_type": "markdown",
   "metadata": {},
   "source": [
    "This makes it much easier to see which graph corresponds to which group, and compare the age distributions for the two groups. However, we are using the default bins and bin widths, meaning we don't quite have the bins lining up between the two graphs. We can fix this by using the same bins for each of these two graphs. Instead of providing the numbers of bins, we can instead provide a range of numbers that indicate the limits of each of the bins. We'll provide that range of numbers as an argument to `bins` for both histograms."
   ]
  },
  {
   "cell_type": "code",
   "execution_count": null,
   "metadata": {
    "tags": []
   },
   "outputs": [],
   "source": [
    "fig, axes = plt.subplots(figsize=(8,6))\n",
    "bins = range(0,100,5)\n",
    "liberal.age.hist(ax = axes, alpha = 0.7,bins=bins, label = \"Liberal\")\n",
    "conservative.age.hist(ax = axes, alpha = 0.7,bins=bins, label = \"Conservative\")\n",
    "axes.set_ylabel(\"Frequency\")\n",
    "axes.set_xlabel(\"Age\")\n",
    "axes.set_title('Age of Liberals vs Conservatives in Pulse of the Nation survey')\n",
    "axes.legend()"
   ]
  },
  {
   "cell_type": "markdown",
   "metadata": {
    "tags": []
   },
   "source": [
    "## Plotting Multiples\n",
    "\n",
    "If we wanted to look at multiple graphs at the same time, we can create multiple `subplots` with matplotlib to put them together. This creates different axes that you can then add graphs to. Here, we show an example with two graphs. "
   ]
  },
  {
   "cell_type": "code",
   "execution_count": null,
   "metadata": {
    "tags": []
   },
   "outputs": [],
   "source": [
    "fig, axes = plt.subplots(1, 2, figsize = (9,3))\n",
    "df.age.hist(ax = axes[0], bins = 25)\n",
    "df.gender.value_counts().plot.bar(ax=axes[1])"
   ]
  },
  {
   "cell_type": "markdown",
   "metadata": {},
   "source": [
    "Note that we use `1` for the first argument to indicate number of rows, and `2` for the second argument to indicate number of columns. If we had swapped them, we'd see two graphs stacked on top of each other. This might be useful for comparing two distributions, for example."
   ]
  },
  {
   "cell_type": "code",
   "execution_count": null,
   "metadata": {
    "tags": []
   },
   "outputs": [],
   "source": [
    "fig, axes = plt.subplots(2, 1, figsize = (9,7))\n",
    "liberal.age.hist(ax = axes[0])\n",
    "axes[0].set_title('Ages of Liberal Respondents')\n",
    "conservative.age.hist(ax = axes[1])\n",
    "axes[1].set_title('Ages of Conservative Respondents')"
   ]
  },
  {
   "cell_type": "markdown",
   "metadata": {},
   "source": [
    "<font color ='red'>**Question 5: Create side by side boxplots of the age distribution of liberals vs conservatives.**</font>"
   ]
  },
  {
   "cell_type": "code",
   "execution_count": null,
   "metadata": {},
   "outputs": [],
   "source": [
    "\n",
    "\n",
    "\n"
   ]
  },
  {
   "cell_type": "markdown",
   "metadata": {},
   "source": [
    "You can also use a 2 by 2 grid. This means you need to use two sets of brackets to access each of the Axes objects. Here, we show an example of combining multiple graphs of the demographic information from the Pulse of the Nation dataset. It combines numerical and categorical data into multiple graphs that are put into one overall image that can then be downloaded and put into other documents. \n",
    "\n",
    "Note that the `tick_params` method is used to rotate the labels for the bar graphs so that they are more readable. In addition, we use the `set_title` method with each of the axes objects to add titles for each individual plot, then add an overall title to the Figure by using the `suptitle` method. "
   ]
  },
  {
   "cell_type": "code",
   "execution_count": null,
   "metadata": {
    "tags": []
   },
   "outputs": [],
   "source": [
    "fig, axes = plt.subplots(2, 2, figsize = (10,8))\n",
    "\n",
    "df.age.hist(ax = axes[0][0], bins = 25)\n",
    "axes[0][0].set_title('Age of Respondents')\n",
    "\n",
    "df.gender.value_counts().plot.bar(ax=axes[0][1])\n",
    "axes[0][1].tick_params(axis='x', labelrotation = 0)\n",
    "axes[0][1].set_title('Gender of Respondents')\n",
    "\n",
    "df.race.value_counts().plot.bar(ax=axes[1][0])\n",
    "axes[1][0].tick_params(axis='x', labelrotation = 45)\n",
    "axes[1][0].set_title('Race of Respondents')\n",
    "\n",
    "df.education.value_counts().plot.bar(ax=axes[1][1])\n",
    "axes[1][1].tick_params(axis='x', labelrotation = 45)\n",
    "axes[1][1].set_title('Education Level of Respondents')\n",
    "\n",
    "fig.suptitle('Demographics for the Pulse of the Nation dataset')"
   ]
  },
  {
   "cell_type": "markdown",
   "metadata": {},
   "source": [
    "Note that there's a lot of code here! We did put it together piece by piece, but the level of customization that matplotlib provides means that we can quickly accumulate lots of lines of code to get exactly the type of figure that we want. There's many more settings than this that you can play with too. We'll go over some more in the next few weeks, but as long as you understand the general structure of how Figure and Axis objects work, you should be well-prepared to navigate how to work with and adjust your graphs as needed."
   ]
  }
 ],
 "metadata": {
  "kernelspec": {
   "display_name": "Python 3 (ipykernel)",
   "language": "python",
   "name": "python3"
  },
  "language_info": {
   "codemirror_mode": {
    "name": "ipython",
    "version": 3
   },
   "file_extension": ".py",
   "mimetype": "text/x-python",
   "name": "python",
   "nbconvert_exporter": "python",
   "pygments_lexer": "ipython3",
   "version": "3.12.2"
  },
  "toc": {
   "base_numbering": 1,
   "nav_menu": {},
   "number_sections": false,
   "sideBar": false,
   "skip_h1_title": false,
   "title_cell": "Table of Contents",
   "title_sidebar": "Contents",
   "toc_cell": false,
   "toc_position": {},
   "toc_section_display": false,
   "toc_window_display": false
  }
 },
 "nbformat": 4,
 "nbformat_minor": 4
}
