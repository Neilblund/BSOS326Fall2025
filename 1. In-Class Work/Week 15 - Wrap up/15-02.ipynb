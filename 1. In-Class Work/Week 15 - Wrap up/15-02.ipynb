{
 "cells": [
  {
   "cell_type": "markdown",
   "id": "99f3ac4f-775a-4b1a-856c-d658550721f2",
   "metadata": {},
   "source": [
    "# Reproducible Research\n",
    "\n",
    "## What is reproducibility?\n",
    "\n",
    "As the name suggests, reproducibility, or reproducible research, means that the work that you have done can be reproduced by others. Though the idea might seem simple, it can actually take quite a bit of work. However, it is well worth doing, because the benefits of reproducible research can be vast. \n",
    "\n",
    "## Why reproducibility?\n",
    "\n",
    "The first and foremost reason that we want to emphasize reproducibility in science is because that's simply how science should be done. It is important that the work that you do be verifiable so that others can confirm your work. It lends much more credibility to your work to have all of your code easily accessible, because it isn't being obfuscated or hidden. The overall practice of reproducible research also means that you can go in and see what others have done to confirm and refute their findings. It also helps others build on the work that you've done and allows for more efficient collaboration.\n",
    "\n",
    "Making sure that your work is reproducible can be very helpful for you too. Going back to your work after a break is much easier if you practice reproducible research strategies. Code is much easier to read and the workflow is much clearer when you follow these strategies."
   ]
  },
  {
   "cell_type": "markdown",
   "id": "83f5240a-c3ed-4bf7-8c42-70fe55cfe096",
   "metadata": {},
   "source": [
    "## How do you *practice* reproducible research?\n",
    "\n",
    "One of the easiest ways to make sure that your work is reproducible is something we have already been doing throughout this class already: using Jupyter notebooks! More specifically, using Jupyter notebooks in conjunction with the cloud environment means that we can share our work and know that someone else can run the code we used and get the same result. In our classes, this is useful for me to be able to share code and show step by step what is going on within a specific process. Jupyter also allows me to provide descriptions in narrative text in Markdown cells along with the code in code cells.\n",
    "\n",
    "> **NOTE FOR FINAL PROJECT**: These are all techniques you should be employing in your final projects as well! Make sure you describe what is going on within your code, and follow the proper practice of making sure that I can reproduce what you are doing if I were to run your code!\n",
    "\n",
    "### Describing Code\n",
    "\n",
    "However, just using Jupyter notebooks isn't enough. We need to make sure that the code we write is readable and accessible by others. As an example, let's take a look at a block of code that we've used before. "
   ]
  },
  {
   "cell_type": "code",
   "execution_count": 1,
   "id": "5f2dbcfc-b5a6-4ecf-9c30-7c23804d04cc",
   "metadata": {},
   "outputs": [],
   "source": [
    "def data_function(year, census_key):\n",
    "    census_base_url = f'https://api.census.gov/data/{year}/acs/acs1/profile'\n",
    "    census_params = {'get':'NAME,DP02_0001E,DP03_0087E,DP03_0002PE,DP02_0068PE,DP02_0066PE',\n",
    "                     'for':'county:*',\n",
    "                     'key': census_key}\n",
    "    r = get(census_base_url, params = census_params)\n",
    "    people_by_county = r.json()\n",
    "    keys = ['county', 'num_households','mean_income','percent_employed','percent_bachelors','percent_graduate']\n",
    "    census_dict = {key:[county[keys.index(key)] for county in people_by_county[1:]] for key in keys}\n",
    "    census_df = pd.DataFrame(census_dict)\n",
    "    census_df[keys[1:]] = census_df[keys[1:]].apply(pd.to_numeric)\n",
    "    county_state = census_df.county.str.split(', ', expand = True).rename({0:'county', 1:'state'}, axis = 1)\n",
    "    return county_state.merge(census_df.iloc[:,1:], right_index = True, left_index = True)"
   ]
  },
  {
   "cell_type": "markdown",
   "id": "f34bfe4b-b3b7-46d4-aa17-93b1c6c45ca5",
   "metadata": {},
   "source": [
    "There's a lot going on here! You might be able to piece together what is going on eventually, but it might be difficult at first glance. Not only that, it might be easy to make a mistake in interpreting what is going on. One of the most important steps in writing replicable code is making sure that the comments and descriptions of the code make it easy to decipher and understand what is going on. For example, let's take a look at the same code, except with more descriptions."
   ]
  },
  {
   "cell_type": "code",
   "execution_count": 2,
   "id": "5965ae78-3e03-4494-a75c-b67ff07bfca3",
   "metadata": {},
   "outputs": [],
   "source": [
    "def get_county_data(year, census_key):\n",
    "    '''\n",
    "    Gets county-level data from the ACS using the Census API\n",
    "    \n",
    "    Arguments:\n",
    "        year: Year for which the data should be pulled\n",
    "        census_key: str, the Census key to use to pull from the API\n",
    "        \n",
    "    Returns:\n",
    "        A DataFrame\n",
    "    '''\n",
    "    census_base_url = f'https://api.census.gov/data/{year}/acs/acs1/profile'\n",
    "    census_params = {'get':'NAME,DP02_0001E,DP03_0087E,DP03_0002PE,DP02_0068PE,DP02_0066PE',\n",
    "                     'for':'county:*',\n",
    "                     'key': census_key}\n",
    "    # Pull from the API\n",
    "    r = get(census_base_url, params = census_params)\n",
    "    people_by_county = r.json()\n",
    "    \n",
    "    # Get the data into dictionary format\n",
    "    keys = ['county', \n",
    "            'num_households',\n",
    "            'mean_income',\n",
    "            'percent_employed',\n",
    "            'percent_bachelors',\n",
    "            'percent_graduate']\n",
    "    census_dict = {key:[county[keys.index(key)] for county in people_by_county[1:]] for key in keys}\n",
    "    \n",
    "    # Convert to DataFrame\n",
    "    census_df = pd.DataFrame(census_dict)\n",
    "    \n",
    "    # Change numeric values to numeric\n",
    "    census_df[keys[1:]] = census_df[keys[1:]].apply(pd.to_numeric)\n",
    "    county_state = census_df.county.str.split(', ', expand = True).rename({0:'county', 1:'state'}, axis = 1)\n",
    "    \n",
    "    return county_state.merge(census_df.iloc[:,1:], right_index = True, left_index = True)"
   ]
  },
  {
   "cell_type": "code",
   "execution_count": 4,
   "id": "b3b19887-048e-47ab-b4f9-ea8f0543fcf5",
   "metadata": {},
   "outputs": [
    {
     "name": "stdout",
     "output_type": "stream",
     "text": [
      "Help on function get_county_data in module __main__:\n",
      "\n",
      "get_county_data(year, census_key)\n",
      "    Gets county-level data from the ACS using the Census API\n",
      "\n",
      "    Arguments:\n",
      "        year: Year for which the data should be pulled\n",
      "        census_key: str, the Census key to use to pull from the API\n",
      "\n",
      "    Returns:\n",
      "        A DataFrame\n",
      "\n"
     ]
    }
   ],
   "source": [
    "help(get_county_data)"
   ]
  },
  {
   "cell_type": "markdown",
   "id": "84adb3cc-35eb-439e-be2c-8241aa66186e",
   "metadata": {},
   "source": [
    "This function does the exact same thing, but it's much more descriptive and easier to follow. \n",
    "\n",
    "- **The function name is more descriptive.** It is closer to what the actual function is doing, making it easier to follow code that uses this function as well.\n",
    "- **There is a doc string.** This provides a summary of what the function does, not allowing allowing you to follow what is going on when defining the function, but also giving you a way to look it up while using the functino later on.\n",
    "- **There are comments throughout the function.** These comments notably outline each step of the process in digestible chunks, making it much easier to see what each step does. "
   ]
  },
  {
   "cell_type": "markdown",
   "id": "be1b762c-b815-4084-88de-e73291653241",
   "metadata": {},
   "source": [
    "#### Tips for making sure that your code is readable\n",
    "\n",
    "After you have written the code to do the analysis you need to do, ask yourself these questions:\n",
    "- **Has every step of the process been explained in words rather than just the code?** That is, if you were to remove the code, can you follow what is happening?\n",
    "- **Is the code easy to read?** Are there parts that you can make easier to follow by adding spaces, giving helpful names, etc.?\n"
   ]
  },
  {
   "cell_type": "markdown",
   "id": "28b80ff0-30a3-4a29-b079-87a59aabc086",
   "metadata": {},
   "source": [
    "## Making generalizable code"
   ]
  },
  {
   "cell_type": "markdown",
   "id": "c9390139-95da-4804-a4d8-677df925fdaa",
   "metadata": {},
   "source": [
    "Another key feature of reproducible code is generalizability: we want to avoid writing code that makes too many assumptions about where it's running, what data are available, or what code might have run before. One common place this issue might show up would be when we have code that needs to reference a file in a specific directory. For instance, if I need to load a file in my documents folder, I might write something like this:"
   ]
  },
  {
   "cell_type": "code",
   "execution_count": 19,
   "id": "71168215-14ea-469b-9b46-2b8d8748d159",
   "metadata": {},
   "outputs": [],
   "source": [
    "import pandas as pd\n",
    "\n",
    "cah_data = pd.read_csv('/home/nlund/BSOS326-Spring25/1. In-Class Work/Week 04 - Pandas/201807-CAH_PulseOfTheNation_Raw.csv')"
   ]
  },
  {
   "cell_type": "markdown",
   "id": "8d48ebcc-35f8-4fba-89db-9c8d1bbca338",
   "metadata": {},
   "source": [
    "...but obviously this is going to pose problems because, barring a truly lucky coincidence, another user presumably won't have a directory path called `C:/Users/neilb/`. \n",
    "\n",
    "Instead if writing an absolute path, I'll want to try to write file paths to be **relative to the directory where my code is running.** My directory is structured something like this:"
   ]
  },
  {
   "cell_type": "raw",
   "id": "c7a64d3b-8669-44f5-bd7f-9b709c683a6d",
   "metadata": {},
   "source": [
    "├── C:/Users/neilb/Documents/GitHub/\n",
    "│   ├── BSOS326-Spring25/\n",
    "│   │   ├── 1. In-Class Work/\n",
    "│   │   ├───── Week 04 - Pandas/\n",
    "|   |   |         |───── 201807-CAH_PulseOfTheNation_Raw.csv   < I want to get this file\n",
    "|   |   ├───── ....\n",
    "│   │   |───── Week 15 - Wrap-up/\n",
    "|   |   |         |───── 15-02.ipynb                           < The code is here\n"
   ]
  },
  {
   "cell_type": "markdown",
   "id": "89720f21-71ac-4eeb-9c79-ed2bac74509b",
   "metadata": {},
   "source": [
    "So I'll need to essentially go \"up\" one level to get to the parent directory `1. In-Class Work/` and then go back down two levels to get to `Week 04 - Pandas/` so I can access the relevant file. In python, you can use the double-dots \"..\" to indicate going up one level from the current directory. So my correct relative path would be:"
   ]
  },
  {
   "cell_type": "code",
   "execution_count": 32,
   "id": "d21a056d-00c5-4526-a8a0-de7e51237113",
   "metadata": {},
   "outputs": [],
   "source": [
    "path = '../Week 04 - Pandas/201807-CAH_PulseOfTheNation_Raw.csv'\n",
    "cah_data = pd.read_csv(path)"
   ]
  },
  {
   "cell_type": "markdown",
   "id": "2d8c72b5-b50a-46ae-a93f-177b17066241",
   "metadata": {},
   "source": [
    "I know this will work because we're all sharing `BSOS326-Spring25/`, even if that folder might be located in a different place on your computer.\n",
    "\n",
    "If you're not sure how to specify the relative path for a file, you can use `os.path.relpath` from the `os` module to turn an absolute file location into a relative one:"
   ]
  },
  {
   "cell_type": "code",
   "execution_count": 34,
   "id": "1ad39c46-8935-43a8-9027-7ddabaed80ad",
   "metadata": {},
   "outputs": [
    {
     "name": "stdout",
     "output_type": "stream",
     "text": [
      "The absolute location is:  C:\\Users\\neilb/BSOS326-Spring25/1. In-Class Work/Week 04 - Pandas/201807-CAH_PulseOfTheNation_Raw.csv\n",
      "The relative location is:  ..\\..\\..\\..\\..\\BSOS326-Spring25\\1. In-Class Work\\Week 04 - Pandas\\201807-CAH_PulseOfTheNation_Raw.csv\n"
     ]
    }
   ],
   "source": [
    "import os\n",
    "# getting the abosolute location (this depends on your username)\n",
    "abspath = os.path.expanduser(\"~\") + '/BSOS326-Spring25/1. In-Class Work/Week 04 - Pandas/201807-CAH_PulseOfTheNation_Raw.csv'\n",
    "print(\"The absolute location is: \", abspath)\n",
    "# turning the absolute path to a relative path\n",
    "print(\"The relative location is: \" , os.path.relpath(abspath))"
   ]
  },
  {
   "cell_type": "markdown",
   "id": "c682f52c-cca4-4b84-9229-7f29773b285a",
   "metadata": {},
   "source": [
    "Other ways to make code generalizable are:\n",
    "\n",
    "- Store use-specific parameters like API keys in a separate file, then import them as variables. (we've done a version of this with the `keys.yaml` file already)\n",
    "- Parameterize commands that might need to change at some later date. If you want to make a function that always queries data from the last 2 weeks, then do something like:"
   ]
  },
  {
   "cell_type": "code",
   "execution_count": 39,
   "id": "e8c03b3a-9b0b-4ce1-a683-e7abc2d02846",
   "metadata": {},
   "outputs": [
    {
     "data": {
      "text/plain": [
       "datetime.date(2025, 4, 23)"
      ]
     },
     "execution_count": 39,
     "metadata": {},
     "output_type": "execute_result"
    }
   ],
   "source": [
    "from datetime import datetime, timedelta\n",
    "# Get the current date and time\n",
    "today = date.today()\n",
    "two_weeks_ago = today- timedelta(days=14)\n",
    "two_weeks_ago"
   ]
  },
  {
   "cell_type": "markdown",
   "id": "132a8d9a-7652-47b0-91d2-a80b1c950d16",
   "metadata": {},
   "source": [
    "## Version Control with Git\n",
    "\n",
    "One common method for implementing transparency and improving workflows in coding projects is **version control**. Version control is the practice of tracking changes to code over time. You can think of it similar to how Google Docs keeps track of any changes that you make within its history. With version control, you can look back at previous version of your work, see the progress as you add or change things, and even revert back if a change wasn't desirable.\n",
    "\n",
    "**Git** is a version control system that is widely used for coding projects. Working with Git involves setting up a **repository** and tracking files within that repository as you make changes. You can then easily make updates or revert changes within that repository with a few commands. It's like saving multiple versions of the same file, except you don't need to have different files for each of them. \n",
    "\n",
    "### GitHub\n",
    "\n",
    "GitHub (https://github.com) is a commonly used as the **remote repository**. A remote repository is just a repository that is stored somewhere else besides your own local computer or workspace. Typically, a remote repository like GitHub is used to share your work with others and/or make it publicly available. This is most helpful when you are collaborating with others, because you can make changes to a project and others who have access to the remote repository would then be able to see those changes without needing to have access to what you have on your own workspace.\n",
    "\n",
    "### How Git Works\n",
    "\n",
    "**Step 1: Initialize a git repository** This creates a git repository so that you can start tracking files in the repository.\n",
    "\n",
    "    git init \n",
    "    \n",
    "    git clone <remote repo>\n",
    "\n",
    "**Step 2: Make changes and/or add files** Just adding files or making changes to files in the repository folder isn't enough to track them! You need to add the changes or files so that they are tracked. \n",
    "\n",
    "    git add <filename>\n",
    "    \n",
    "**Step 3: Commit changes** This creates a checkpoint of all the changes you have made so far. Typically, you add, then commit any adds you have made. \n",
    "\n",
    "    git commit\n",
    "    \n",
    "**Step 4: Push changes to remote repository** If you have a remote repository, you then push those changes so that the remote repository is the same as your local repository.\n",
    "\n",
    "    git push"
   ]
  },
  {
   "cell_type": "markdown",
   "id": "97d01886-df06-4127-a043-e67b3c23c4b8",
   "metadata": {},
   "source": [
    "![Git](git.png)"
   ]
  },
  {
   "cell_type": "markdown",
   "id": "3703b2d5-0d77-42f2-bfad-36e8b51938df",
   "metadata": {},
   "source": [
    "## Using GitHub\n",
    "\n",
    "You can make a free account at GitHub and create repositories that track that work that you do and use it as a way to share the work that you do.  \n",
    "\n",
    "> **Note:** This is particularly useful for resumes! Put coding projects that you want to showcase on your GitHub page and link to it on your resume!\n",
    "\n",
    "GitHub also offers a lot of integrations and functionalities that make sharing your work easier. For example, we have been using the integration with Git and GitHub to share the material throughout the course with you! The link that you click automatically pulls from a GitHub repository, which is what brings in the latest material into your space. "
   ]
  },
  {
   "cell_type": "markdown",
   "id": "17618f34-27b0-40df-a894-cde5f1f5be32",
   "metadata": {},
   "source": [
    "If you have a working repository with some files, you can import it into jupyterlab automatically with a URL. The basic structure will be:\n",
    "\n",
    "`https://jupyter.umd.edu/hub/user-redirect/git-pull?repo=<URL OF REPO>&urlpath=lab/tree/<REPO NAME>&branch=main`\n",
    "\n",
    "\n",
    "You can try importing [this repo](https://github.com/Neilblund/example_git/tree/main) by clicking the link below:\n",
    "\n",
    "https://jupyter.umd.edu/hub/user-redirect/git-pull?repo=https://github.com/Neilblund/example_git&urlpath=lab/tree/example_git&branch=main\n",
    "\n",
    "\n"
   ]
  },
  {
   "cell_type": "markdown",
   "id": "9ddc315c-1510-471e-8bd7-ae0f9579553c",
   "metadata": {},
   "source": [
    "## Git Resources\n",
    "\n",
    "- Pro Git Book: https://git-scm.com/book/en/v2\n",
    "- Git and GitHub Cheatsheet: https://training.github.com/downloads/github-git-cheat-sheet.pdf\n",
    "- Git and GitHub Resources: https://docs.github.com/en/get-started/start-your-journey/git-and-github-learning-resources"
   ]
  },
  {
   "cell_type": "code",
   "execution_count": null,
   "id": "b5de8c52-37d9-49ff-83ca-085b66ccfe0b",
   "metadata": {},
   "outputs": [],
   "source": []
  }
 ],
 "metadata": {
  "kernelspec": {
   "display_name": "Python 3 (ipykernel)",
   "language": "python",
   "name": "python3"
  },
  "language_info": {
   "codemirror_mode": {
    "name": "ipython",
    "version": 3
   },
   "file_extension": ".py",
   "mimetype": "text/x-python",
   "name": "python",
   "nbconvert_exporter": "python",
   "pygments_lexer": "ipython3",
   "version": "3.12.2"
  }
 },
 "nbformat": 4,
 "nbformat_minor": 5
}
