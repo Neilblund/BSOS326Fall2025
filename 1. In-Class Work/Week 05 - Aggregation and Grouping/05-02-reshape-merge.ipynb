{
 "cells": [
  {
   "cell_type": "markdown",
   "metadata": {
    "tags": []
   },
   "source": [
    "# More Data Wrangling\n",
    "\n",
    "Use **Code** cells to write and run any code you need to answer the question and **Markdown** cells to write out answers in words. After you are finished with the assignment, remember to download it as an **HTML file** and submit it in **ELMS**."
   ]
  },
  {
   "cell_type": "code",
   "execution_count": 1,
   "metadata": {},
   "outputs": [],
   "source": [
    "from requests import get\n",
    "from datetime import datetime\n",
    "import yaml\n",
    "import numpy as np \n",
    "import pandas as pd "
   ]
  },
  {
   "cell_type": "markdown",
   "metadata": {},
   "source": [
    "## Working with Data\n",
    "\n",
    "Many times, when we are working with Data Frames and tabular data, each row represents a person or entity. That is, the **unit of observation** is a person and the variables all describe that person. We've also looked at data where the unit of observation was a US state. However, this is not always the case. You need to be careful and think through exactly what each row represents, and transform your data if it needs to be in another form. Let's take the merged anxiety and Census data as an example. This is available in the `anxiety_census_data.csv` file, and contains the proportion of people who reported feeling anxious all or most of the last 7 days within each state for a series of days from May 1, 2022 to June 25, 2022. "
   ]
  },
  {
   "cell_type": "code",
   "execution_count": 2,
   "metadata": {
    "tags": []
   },
   "outputs": [
    {
     "data": {
      "text/html": [
       "<div>\n",
       "<style scoped>\n",
       "    .dataframe tbody tr th:only-of-type {\n",
       "        vertical-align: middle;\n",
       "    }\n",
       "\n",
       "    .dataframe tbody tr th {\n",
       "        vertical-align: top;\n",
       "    }\n",
       "\n",
       "    .dataframe thead th {\n",
       "        text-align: right;\n",
       "    }\n",
       "</style>\n",
       "<table border=\"1\" class=\"dataframe\">\n",
       "  <thead>\n",
       "    <tr style=\"text-align: right;\">\n",
       "      <th></th>\n",
       "      <th>num_households</th>\n",
       "      <th>mean_income</th>\n",
       "      <th>percent_employed</th>\n",
       "      <th>percent_bachelors</th>\n",
       "      <th>percent_graduate</th>\n",
       "      <th>state</th>\n",
       "      <th>Abbreviation</th>\n",
       "      <th>Region</th>\n",
       "      <th>time_value</th>\n",
       "      <th>value</th>\n",
       "      <th>stderr</th>\n",
       "    </tr>\n",
       "  </thead>\n",
       "  <tbody>\n",
       "    <tr>\n",
       "      <th>0</th>\n",
       "      <td>2016448.0</td>\n",
       "      <td>100785.0</td>\n",
       "      <td>58.6</td>\n",
       "      <td>28.8</td>\n",
       "      <td>11.3</td>\n",
       "      <td>Alabama</td>\n",
       "      <td>al</td>\n",
       "      <td>South</td>\n",
       "      <td>2022-05-01</td>\n",
       "      <td>18.068456</td>\n",
       "      <td>1.422070</td>\n",
       "    </tr>\n",
       "    <tr>\n",
       "      <th>1</th>\n",
       "      <td>2016448.0</td>\n",
       "      <td>100785.0</td>\n",
       "      <td>58.6</td>\n",
       "      <td>28.8</td>\n",
       "      <td>11.3</td>\n",
       "      <td>Alabama</td>\n",
       "      <td>al</td>\n",
       "      <td>South</td>\n",
       "      <td>2022-05-02</td>\n",
       "      <td>16.767083</td>\n",
       "      <td>1.393164</td>\n",
       "    </tr>\n",
       "    <tr>\n",
       "      <th>2</th>\n",
       "      <td>2016448.0</td>\n",
       "      <td>100785.0</td>\n",
       "      <td>58.6</td>\n",
       "      <td>28.8</td>\n",
       "      <td>11.3</td>\n",
       "      <td>Alabama</td>\n",
       "      <td>al</td>\n",
       "      <td>South</td>\n",
       "      <td>2022-05-03</td>\n",
       "      <td>17.299152</td>\n",
       "      <td>1.426524</td>\n",
       "    </tr>\n",
       "    <tr>\n",
       "      <th>3</th>\n",
       "      <td>2016448.0</td>\n",
       "      <td>100785.0</td>\n",
       "      <td>58.6</td>\n",
       "      <td>28.8</td>\n",
       "      <td>11.3</td>\n",
       "      <td>Alabama</td>\n",
       "      <td>al</td>\n",
       "      <td>South</td>\n",
       "      <td>2022-05-04</td>\n",
       "      <td>19.152474</td>\n",
       "      <td>1.502354</td>\n",
       "    </tr>\n",
       "    <tr>\n",
       "      <th>4</th>\n",
       "      <td>2016448.0</td>\n",
       "      <td>100785.0</td>\n",
       "      <td>58.6</td>\n",
       "      <td>28.8</td>\n",
       "      <td>11.3</td>\n",
       "      <td>Alabama</td>\n",
       "      <td>al</td>\n",
       "      <td>South</td>\n",
       "      <td>2022-05-05</td>\n",
       "      <td>17.460357</td>\n",
       "      <td>1.453635</td>\n",
       "    </tr>\n",
       "  </tbody>\n",
       "</table>\n",
       "</div>"
      ],
      "text/plain": [
       "   num_households  mean_income  percent_employed  percent_bachelors  \\\n",
       "0       2016448.0     100785.0              58.6               28.8   \n",
       "1       2016448.0     100785.0              58.6               28.8   \n",
       "2       2016448.0     100785.0              58.6               28.8   \n",
       "3       2016448.0     100785.0              58.6               28.8   \n",
       "4       2016448.0     100785.0              58.6               28.8   \n",
       "\n",
       "   percent_graduate    state Abbreviation Region  time_value      value  \\\n",
       "0              11.3  Alabama           al  South  2022-05-01  18.068456   \n",
       "1              11.3  Alabama           al  South  2022-05-02  16.767083   \n",
       "2              11.3  Alabama           al  South  2022-05-03  17.299152   \n",
       "3              11.3  Alabama           al  South  2022-05-04  19.152474   \n",
       "4              11.3  Alabama           al  South  2022-05-05  17.460357   \n",
       "\n",
       "     stderr  \n",
       "0  1.422070  \n",
       "1  1.393164  \n",
       "2  1.426524  \n",
       "3  1.502354  \n",
       "4  1.453635  "
      ]
     },
     "execution_count": 2,
     "metadata": {},
     "output_type": "execute_result"
    }
   ],
   "source": [
    "anxiety_census = pd.read_csv('anxiety_census_data.csv')\n",
    "anxiety_census.head()"
   ]
  },
  {
   "cell_type": "markdown",
   "metadata": {},
   "source": [
    "In this dataset, the unit of observation is a **state-date** combination. A unique row is represented by a state on a particular date. "
   ]
  },
  {
   "cell_type": "markdown",
   "metadata": {},
   "source": [
    "<font color ='red'>**Question 1: Create a subset of the `anxiety_census` so that it only contains Maryland and Virginia. Include only the variables `state`, `time_value`, and `value`. Call this new DataFrame `md_va`.**</font>"
   ]
  },
  {
   "cell_type": "code",
   "execution_count": 3,
   "metadata": {
    "tags": []
   },
   "outputs": [],
   "source": [
    "\n"
   ]
  },
  {
   "cell_type": "markdown",
   "metadata": {},
   "source": [
    "## Reshaping Data\n",
    "\n",
    "Suppose we want to graph the data for these two states together, so that we can see how the trends differ between them. In order to use the `plot.line` method and use both, we actually need them in two different columns. That is, we need one variable to be the value for Maryland on a given day and one variable to be the value for Virginia on that day. \n",
    "\n",
    "In other words, right now, each row represents a **state-date pair**. For example, the first row is Maryland on May 1, 2022, the second row is Maryland on May 2, 2022, and so on eventually going to Virginia on May 1, 2022, then Virginia on May 2, 2022, and so on. Instead, we want data that has each row represent a **date**, with separate columns for the values of Maryland and Virigina on that day. "
   ]
  },
  {
   "cell_type": "code",
   "execution_count": 4,
   "metadata": {
    "tags": []
   },
   "outputs": [
    {
     "data": {
      "text/html": [
       "<div>\n",
       "<style scoped>\n",
       "    .dataframe tbody tr th:only-of-type {\n",
       "        vertical-align: middle;\n",
       "    }\n",
       "\n",
       "    .dataframe tbody tr th {\n",
       "        vertical-align: top;\n",
       "    }\n",
       "\n",
       "    .dataframe thead th {\n",
       "        text-align: right;\n",
       "    }\n",
       "</style>\n",
       "<table border=\"1\" class=\"dataframe\">\n",
       "  <thead>\n",
       "    <tr style=\"text-align: right;\">\n",
       "      <th>state</th>\n",
       "      <th>Maryland</th>\n",
       "      <th>Virginia</th>\n",
       "    </tr>\n",
       "    <tr>\n",
       "      <th>time_value</th>\n",
       "      <th></th>\n",
       "      <th></th>\n",
       "    </tr>\n",
       "  </thead>\n",
       "  <tbody>\n",
       "    <tr>\n",
       "      <th>2022-05-01</th>\n",
       "      <td>18.445571</td>\n",
       "      <td>13.477643</td>\n",
       "    </tr>\n",
       "    <tr>\n",
       "      <th>2022-05-02</th>\n",
       "      <td>17.348098</td>\n",
       "      <td>13.749526</td>\n",
       "    </tr>\n",
       "    <tr>\n",
       "      <th>2022-05-03</th>\n",
       "      <td>18.411396</td>\n",
       "      <td>14.036378</td>\n",
       "    </tr>\n",
       "    <tr>\n",
       "      <th>2022-05-04</th>\n",
       "      <td>16.618852</td>\n",
       "      <td>13.561209</td>\n",
       "    </tr>\n",
       "    <tr>\n",
       "      <th>2022-05-05</th>\n",
       "      <td>15.175465</td>\n",
       "      <td>12.893021</td>\n",
       "    </tr>\n",
       "  </tbody>\n",
       "</table>\n",
       "</div>"
      ],
      "text/plain": [
       "state        Maryland   Virginia\n",
       "time_value                      \n",
       "2022-05-01  18.445571  13.477643\n",
       "2022-05-02  17.348098  13.749526\n",
       "2022-05-03  18.411396  14.036378\n",
       "2022-05-04  16.618852  13.561209\n",
       "2022-05-05  15.175465  12.893021"
      ]
     },
     "execution_count": 4,
     "metadata": {},
     "output_type": "execute_result"
    }
   ],
   "source": [
    "wide_data = md_va.pivot(index = 'time_value', columns = 'state', values = 'value')\n",
    "wide_data.head()\n"
   ]
  },
  {
   "cell_type": "markdown",
   "metadata": {},
   "source": [
    "Note that the dates have been turned into the indices. If we wanted to include them as a variable instead, we could have used `reset_index` to reset the index back to incrementing up from 0, but we'll leave it as it is for now because it is useful for graphing purposes."
   ]
  },
  {
   "cell_type": "code",
   "execution_count": 5,
   "metadata": {
    "tags": []
   },
   "outputs": [
    {
     "data": {
      "text/html": [
       "<div>\n",
       "<style scoped>\n",
       "    .dataframe tbody tr th:only-of-type {\n",
       "        vertical-align: middle;\n",
       "    }\n",
       "\n",
       "    .dataframe tbody tr th {\n",
       "        vertical-align: top;\n",
       "    }\n",
       "\n",
       "    .dataframe thead th {\n",
       "        text-align: right;\n",
       "    }\n",
       "</style>\n",
       "<table border=\"1\" class=\"dataframe\">\n",
       "  <thead>\n",
       "    <tr style=\"text-align: right;\">\n",
       "      <th>state</th>\n",
       "      <th>time_value</th>\n",
       "      <th>Maryland</th>\n",
       "      <th>Virginia</th>\n",
       "    </tr>\n",
       "  </thead>\n",
       "  <tbody>\n",
       "    <tr>\n",
       "      <th>0</th>\n",
       "      <td>2022-05-01</td>\n",
       "      <td>18.445571</td>\n",
       "      <td>13.477643</td>\n",
       "    </tr>\n",
       "    <tr>\n",
       "      <th>1</th>\n",
       "      <td>2022-05-02</td>\n",
       "      <td>17.348098</td>\n",
       "      <td>13.749526</td>\n",
       "    </tr>\n",
       "    <tr>\n",
       "      <th>2</th>\n",
       "      <td>2022-05-03</td>\n",
       "      <td>18.411396</td>\n",
       "      <td>14.036378</td>\n",
       "    </tr>\n",
       "    <tr>\n",
       "      <th>3</th>\n",
       "      <td>2022-05-04</td>\n",
       "      <td>16.618852</td>\n",
       "      <td>13.561209</td>\n",
       "    </tr>\n",
       "    <tr>\n",
       "      <th>4</th>\n",
       "      <td>2022-05-05</td>\n",
       "      <td>15.175465</td>\n",
       "      <td>12.893021</td>\n",
       "    </tr>\n",
       "  </tbody>\n",
       "</table>\n",
       "</div>"
      ],
      "text/plain": [
       "state  time_value   Maryland   Virginia\n",
       "0      2022-05-01  18.445571  13.477643\n",
       "1      2022-05-02  17.348098  13.749526\n",
       "2      2022-05-03  18.411396  14.036378\n",
       "3      2022-05-04  16.618852  13.561209\n",
       "4      2022-05-05  15.175465  12.893021"
      ]
     },
     "execution_count": 5,
     "metadata": {},
     "output_type": "execute_result"
    }
   ],
   "source": [
    "# If we had wanted to reset the index.\n",
    "wide_data.reset_index().head()"
   ]
  },
  {
   "cell_type": "markdown",
   "metadata": {},
   "source": [
    "Now that we've gotten our data into this format, we can create our line plot by indicating color. We use a dictionary to specify which column corresponds to which color."
   ]
  },
  {
   "cell_type": "code",
   "execution_count": 6,
   "metadata": {
    "tags": []
   },
   "outputs": [
    {
     "data": {
      "text/plain": [
       "<Axes: xlabel='time_value'>"
      ]
     },
     "execution_count": 6,
     "metadata": {},
     "output_type": "execute_result"
    },
    {
     "data": {
      "image/png": "[encoded data removed]",
      "text/plain": [
       "<Figure size 640x480 with 1 Axes>"
      ]
     },
     "metadata": {},
     "output_type": "display_data"
    }
   ],
   "source": [
    "wide_data.plot.line(color = {'Maryland':'red', 'Virginia':'blue'})"
   ]
  },
  {
   "cell_type": "markdown",
   "metadata": {},
   "source": [
    "<font color ='red'>**Question 2: Create a line graph comparing the trends for Maryland, Virginia, and New York.**</font>"
   ]
  },
  {
   "cell_type": "code",
   "execution_count": null,
   "metadata": {},
   "outputs": [],
   "source": [
    "\n",
    "\n",
    "\n"
   ]
  },
  {
   "cell_type": "markdown",
   "metadata": {},
   "source": [
    "## Going from Wide to Long\n",
    "\n",
    "We can also go the opposite way for data that might require long format."
   ]
  },
  {
   "cell_type": "code",
   "execution_count": 71,
   "metadata": {
    "tags": []
   },
   "outputs": [
    {
     "data": {
      "text/html": [
       "<div>\n",
       "<style scoped>\n",
       "    .dataframe tbody tr th:only-of-type {\n",
       "        vertical-align: middle;\n",
       "    }\n",
       "\n",
       "    .dataframe tbody tr th {\n",
       "        vertical-align: top;\n",
       "    }\n",
       "\n",
       "    .dataframe thead th {\n",
       "        text-align: right;\n",
       "    }\n",
       "</style>\n",
       "<table border=\"1\" class=\"dataframe\">\n",
       "  <thead>\n",
       "    <tr style=\"text-align: right;\">\n",
       "      <th></th>\n",
       "      <th>time_value</th>\n",
       "      <th>state</th>\n",
       "      <th>value</th>\n",
       "    </tr>\n",
       "  </thead>\n",
       "  <tbody>\n",
       "    <tr>\n",
       "      <th>0</th>\n",
       "      <td>2022-05-01</td>\n",
       "      <td>Maryland</td>\n",
       "      <td>18.445571</td>\n",
       "    </tr>\n",
       "    <tr>\n",
       "      <th>1</th>\n",
       "      <td>2022-05-02</td>\n",
       "      <td>Maryland</td>\n",
       "      <td>17.348098</td>\n",
       "    </tr>\n",
       "    <tr>\n",
       "      <th>2</th>\n",
       "      <td>2022-05-03</td>\n",
       "      <td>Maryland</td>\n",
       "      <td>18.411396</td>\n",
       "    </tr>\n",
       "    <tr>\n",
       "      <th>3</th>\n",
       "      <td>2022-05-04</td>\n",
       "      <td>Maryland</td>\n",
       "      <td>16.618852</td>\n",
       "    </tr>\n",
       "    <tr>\n",
       "      <th>4</th>\n",
       "      <td>2022-05-05</td>\n",
       "      <td>Maryland</td>\n",
       "      <td>15.175465</td>\n",
       "    </tr>\n",
       "    <tr>\n",
       "      <th>...</th>\n",
       "      <td>...</td>\n",
       "      <td>...</td>\n",
       "      <td>...</td>\n",
       "    </tr>\n",
       "    <tr>\n",
       "      <th>107</th>\n",
       "      <td>2022-06-21</td>\n",
       "      <td>Virginia</td>\n",
       "      <td>11.736808</td>\n",
       "    </tr>\n",
       "    <tr>\n",
       "      <th>108</th>\n",
       "      <td>2022-06-22</td>\n",
       "      <td>Virginia</td>\n",
       "      <td>12.326627</td>\n",
       "    </tr>\n",
       "    <tr>\n",
       "      <th>109</th>\n",
       "      <td>2022-06-23</td>\n",
       "      <td>Virginia</td>\n",
       "      <td>12.665318</td>\n",
       "    </tr>\n",
       "    <tr>\n",
       "      <th>110</th>\n",
       "      <td>2022-06-24</td>\n",
       "      <td>Virginia</td>\n",
       "      <td>13.247298</td>\n",
       "    </tr>\n",
       "    <tr>\n",
       "      <th>111</th>\n",
       "      <td>2022-06-25</td>\n",
       "      <td>Virginia</td>\n",
       "      <td>13.115577</td>\n",
       "    </tr>\n",
       "  </tbody>\n",
       "</table>\n",
       "<p>112 rows × 3 columns</p>\n",
       "</div>"
      ],
      "text/plain": [
       "     time_value     state      value\n",
       "0    2022-05-01  Maryland  18.445571\n",
       "1    2022-05-02  Maryland  17.348098\n",
       "2    2022-05-03  Maryland  18.411396\n",
       "3    2022-05-04  Maryland  16.618852\n",
       "4    2022-05-05  Maryland  15.175465\n",
       "..          ...       ...        ...\n",
       "107  2022-06-21  Virginia  11.736808\n",
       "108  2022-06-22  Virginia  12.326627\n",
       "109  2022-06-23  Virginia  12.665318\n",
       "110  2022-06-24  Virginia  13.247298\n",
       "111  2022-06-25  Virginia  13.115577\n",
       "\n",
       "[112 rows x 3 columns]"
      ]
     },
     "execution_count": 71,
     "metadata": {},
     "output_type": "execute_result"
    }
   ],
   "source": [
    "wide_data.melt(ignore_index = False).reset_index()"
   ]
  },
  {
   "cell_type": "markdown",
   "metadata": {},
   "source": [
    "## More Merging Practice\n",
    "\n",
    "Let's try doing another merge. Let's say we want to take a look at anxiety trends for the month of May 2022, and try to see if there's any current events that may correlate with any changes as the month goes on. In order to look at this, we might want to combine data from the NYT Archives with the data on anxiety trends.\n",
    "\n",
    "Recall that we can pull all articles from the NYT Archives API for a given month. So, we'll start by getting all articles from May 2022."
   ]
  },
  {
   "cell_type": "code",
   "execution_count": 9,
   "metadata": {},
   "outputs": [],
   "source": [
    "# reading in our keys\n",
    "with open('../../keys.yml', 'r') as file:\n",
    "    keys = yaml.safe_load(file)\n",
    "nyt_key = keys['nyt_api_key']"
   ]
  },
  {
   "cell_type": "code",
   "execution_count": 10,
   "metadata": {
    "tags": []
   },
   "outputs": [],
   "source": [
    "\n",
    "\n",
    "base_url = \"https://api.nytimes.com/svc/archive/v1/2022/5.json\"\n",
    "r = get(base_url, params= {'api-key':nyt_key}) \n",
    "archive_2022_05 = r.json()['response']['docs']\n"
   ]
  },
  {
   "cell_type": "code",
   "execution_count": 14,
   "metadata": {
    "scrolled": true,
    "tags": []
   },
   "outputs": [
    {
     "data": {
      "text/plain": [
       "dict_keys(['abstract', 'web_url', 'snippet', 'lead_paragraph', 'source', 'multimedia', 'headline', 'keywords', 'pub_date', 'document_type', 'news_desk', 'section_name', 'byline', 'type_of_material', '_id', 'word_count', 'uri'])"
      ]
     },
     "execution_count": 14,
     "metadata": {},
     "output_type": "execute_result"
    }
   ],
   "source": [
    "archive_2022_05[0].keys()"
   ]
  },
  {
   "cell_type": "markdown",
   "metadata": {},
   "source": [
    "Next, we'll get the data that we want as a DataFrame. We want to retain some basic information like abstract and type of material and word count, as well as the publication date so that we can match on the anxiety data. "
   ]
  },
  {
   "cell_type": "code",
   "execution_count": null,
   "metadata": {
    "tags": []
   },
   "outputs": [],
   "source": [
    "variables = ['abstract', 'web_url','pub_date', 'type_of_material','word_count']\n",
    "nyt_dict = {var:[article[var] for article in archive_2022_05] for var in variables}\n",
    "nyt_df = pd.DataFrame(nyt_dict)\n",
    "nyt_df.head()"
   ]
  },
  {
   "cell_type": "markdown",
   "metadata": {},
   "source": [
    "Note that the `pub_date` variable is not the same format as the one in the anxiety data. Notably, it has a lot more specific time associated with that article. Let's add a new variable called `date` that contains just the date information in the same format as is in the anxiety dataset (namely, YYYY-MM-DD)."
   ]
  },
  {
   "cell_type": "markdown",
   "metadata": {},
   "source": [
    "<font color ='red'>**Question 3: Add a column to `nyt_df` called `date` that contains the date in the same format as it is in the anxiety dataset. That is, it should have be in YYYY-MM-DD format.**</font>\n",
    "\n",
    "*Hint:* This is just the first 10 characters of the string"
   ]
  },
  {
   "cell_type": "code",
   "execution_count": null,
   "metadata": {
    "tags": []
   },
   "outputs": [],
   "source": []
  },
  {
   "cell_type": "markdown",
   "metadata": {},
   "source": [
    "<font color ='red'>**Question 4: What does each row in the `nyt_df` DataFrame represent?**</font>"
   ]
  },
  {
   "cell_type": "markdown",
   "metadata": {},
   "source": [
    "Answer:"
   ]
  },
  {
   "cell_type": "markdown",
   "metadata": {},
   "source": [
    "Next, let's get the relevant data for just New York and in the month of May. "
   ]
  },
  {
   "cell_type": "markdown",
   "metadata": {},
   "source": [
    "<font color ='red'>**Question 5: Create a DataFrame called `ny_anxiety_census` that contains just the rows of `anxiety_census` that are for New York state.**</font>"
   ]
  },
  {
   "cell_type": "code",
   "execution_count": null,
   "metadata": {
    "tags": []
   },
   "outputs": [],
   "source": [
    "\n",
    "\n",
    "\n"
   ]
  },
  {
   "cell_type": "markdown",
   "metadata": {},
   "source": [
    "Now that we've gotten a dataset with only values from New York, we'll further subset the data to only include the dates in May. "
   ]
  },
  {
   "cell_type": "code",
   "execution_count": null,
   "metadata": {
    "tags": []
   },
   "outputs": [],
   "source": [
    "ny_may = ny_anxiety_census[ny_anxiety_census.time_value <= '2022-05-31']\n",
    "ny_may.head()"
   ]
  },
  {
   "cell_type": "markdown",
   "metadata": {},
   "source": [
    "> Note: This works because the format of the date in the string organizes it alphabetically already. If we wanted to be more careful or wanted to make sure that it would work for all different types of date formats, we would actually convert this into a date object first because doing a comparison. You can try using code such as `datetime.strptime('2022-05-30', '%Y-%m-%d').date()` to get the date. This converts the string into a datetime format, then extracts the date."
   ]
  },
  {
   "cell_type": "code",
   "execution_count": null,
   "metadata": {
    "tags": []
   },
   "outputs": [],
   "source": [
    "ny_may.shape"
   ]
  },
  {
   "cell_type": "markdown",
   "metadata": {},
   "source": [
    "<font color ='red'>**Question 6: What does each row in the `ny_may` DataFrame represent?**</font>"
   ]
  },
  {
   "cell_type": "markdown",
   "metadata": {},
   "source": [
    "Answer: "
   ]
  },
  {
   "cell_type": "markdown",
   "metadata": {},
   "source": [
    "The `nyt_df` DataFrame and the `ny_may` DataFrame have different **units of observation**. So, if we want to combine them together, we have to be careful about how to do it. For example, if we want to make sure we only have one row per day (since we want to look at the change over the days), then we might want to first make sure that both DataFrames have the day as the unit of observation. To do this, we'll aggregate using `groupby` to get some summary measures that we'll track over the course of the month."
   ]
  },
  {
   "cell_type": "markdown",
   "metadata": {},
   "source": [
    "<font color ='red'>**Question 7: Using `apply`, find the total number of News articles there were in each day of May.**</font>"
   ]
  },
  {
   "cell_type": "code",
   "execution_count": null,
   "metadata": {
    "tags": []
   },
   "outputs": [],
   "source": [
    "\n",
    "\n",
    "\n"
   ]
  },
  {
   "cell_type": "markdown",
   "metadata": {},
   "source": [
    "We can create a custom function to do more than computation with a group at once as well."
   ]
  },
  {
   "cell_type": "code",
   "execution_count": null,
   "metadata": {
    "tags": []
   },
   "outputs": [],
   "source": [
    "def nyt_summary(x):\n",
    "    return pd.Series([sum(x['type_of_material'] == 'News'), x.count()[0]])\n",
    "\n",
    "nyt_by_day = nyt_df.groupby('date').apply(nyt_summary).reset_index()\n",
    "nyt_by_day.columns = ['time_value', 'news', 'total']"
   ]
  },
  {
   "cell_type": "markdown",
   "metadata": {},
   "source": [
    "Note that we use `reset_index()` to make it so that the date is a column in the DataFrame. We also change the column names, making it so that the column name for the date is the same name as it is in the `ny_may` DataFrame. This is because if we have the same column name for what we want to merge on, then we don't need to specify `left_on` and `right_on`. Using `merge` will automatically merge on the common column name."
   ]
  },
  {
   "cell_type": "code",
   "execution_count": null,
   "metadata": {
    "tags": []
   },
   "outputs": [],
   "source": [
    "ny_merged = nyt_by_day.merge(ny_may)\n",
    "ny_merged.head()\n"
   ]
  },
  {
   "cell_type": "markdown",
   "metadata": {},
   "source": [
    "<font color ='red'>**Question 8: In the month of May, did the number of News articles each day in the New York Times have any relationship with the reported anxiety on that day? Use a scatterplot to show the relationship.**</font>\n",
    "\n",
    "*Note:* Remember, the method to create a scatterplot from a DataFrame is `.scatter.plot()` with two arguments: the x variable and y variable for the scatterplot."
   ]
  },
  {
   "cell_type": "code",
   "execution_count": null,
   "metadata": {
    "tags": []
   },
   "outputs": [],
   "source": [
    "\n",
    "\n",
    "\n",
    "\n"
   ]
  },
  {
   "cell_type": "markdown",
   "metadata": {},
   "source": [
    "> This isn't exactly a particularly interesting thing to look at because we wouldn't necessarily expect there to be a relationship on that day. Remember, the question asked whether the respondent had felt anxious in the past 7 days. We also aren't looking at the topics of the News articles. To do more sophisticated analyses, we would want to do some more cleaning and try thinking about extracting more information from things like the abstract."
   ]
  },
  {
   "cell_type": "markdown",
   "metadata": {},
   "source": [
    "## Overview\n",
    "\n",
    "Steps to preparing data for analysis (particularly from APIs).\n",
    "\n",
    "1. Obtain data using API or reading in from a CSV file. Helpful functions: `pd.read_csv`, `get`. \n",
    "2. Identify the type of data that you have. Is it a dictionary? A list? What does each item within the list or dictionary represent?\n",
    "3. Develop a plan to extract the data that you want. Try getting just one, then think about how you might generalize it to be able to use list comprehension or dictionary comprehension. \n",
    "4. Create a DataFrame and do some cleanup of the data. Make sure the column names are meaningful and the types of variables are what you need them to be (e.g., numeric if they are numeric variables). Make sure you know what the unit of observation is.\n",
    "5. Identify any additional data wrangling steps you might need to take. Do you need to join datasets together? Do you need to group and aggregate data?"
   ]
  },
  {
   "cell_type": "markdown",
   "metadata": {},
   "source": [
    "# Extra code\n",
    "\n",
    "Here's an example of reshaping the FiveThirtyEight's state level presidential election data.\n",
    "\n",
    "The original data is in long format, with one row per candidate per state per cycle. We want to use this to just calculate Trump and Biden's share of the two party vote in 2020. "
   ]
  },
  {
   "cell_type": "code",
   "execution_count": 20,
   "metadata": {},
   "outputs": [],
   "source": [
    "data = pd.read_csv('https://raw.githubusercontent.com/fivethirtyeight/election-results/refs/heads/main/election_results_presidential.csv')"
   ]
  },
  {
   "cell_type": "markdown",
   "metadata": {},
   "source": [
    "After reading in the data, our first step is to filter it to remove the following:\n",
    "\n",
    "- rows other than the 2020 election\n",
    "- any data on primary races\n",
    "- data for candidates other than Trump or Biden\n",
    "- any cases where `state_abbrev` is null (these are results for the entire country)\n",
    "- Maine and Nebraska's weird system of allocating electoral votes based on congressional district.  \n"
   ]
  },
  {
   "cell_type": "code",
   "execution_count": 30,
   "metadata": {},
   "outputs": [],
   "source": [
    "data_2020 = data[(data['cycle'] == 2020) &  # 2020 cycle only\n",
    "                 (data['stage'] == 'general') &  # general election only\n",
    "                 (data['candidate_name'].isin([\"Donald Trump\", \"Joe Biden\"])) &\n",
    "                 (data['state_abbrev'].notnull()) & # only state level results\n",
    "                 (data['state_abbrev'].str.contains('[0-9]')==False) # removing special Maine and Nebraska district-level results\n",
    "                        ]"
   ]
  },
  {
   "cell_type": "markdown",
   "metadata": {},
   "source": [
    "Next, we'll remove some extraneous columns:"
   ]
  },
  {
   "cell_type": "code",
   "execution_count": 31,
   "metadata": {},
   "outputs": [],
   "source": [
    "pres_vote = data_2020.loc[:, ['state','state_abbrev', 'candidate_name', 'votes']]"
   ]
  },
  {
   "cell_type": "code",
   "execution_count": 32,
   "metadata": {},
   "outputs": [
    {
     "data": {
      "text/html": [
       "<div>\n",
       "<style scoped>\n",
       "    .dataframe tbody tr th:only-of-type {\n",
       "        vertical-align: middle;\n",
       "    }\n",
       "\n",
       "    .dataframe tbody tr th {\n",
       "        vertical-align: top;\n",
       "    }\n",
       "\n",
       "    .dataframe thead th {\n",
       "        text-align: right;\n",
       "    }\n",
       "</style>\n",
       "<table border=\"1\" class=\"dataframe\">\n",
       "  <thead>\n",
       "    <tr style=\"text-align: right;\">\n",
       "      <th></th>\n",
       "      <th>state</th>\n",
       "      <th>state_abbrev</th>\n",
       "      <th>candidate_name</th>\n",
       "      <th>votes</th>\n",
       "    </tr>\n",
       "  </thead>\n",
       "  <tbody>\n",
       "    <tr>\n",
       "      <th>1780</th>\n",
       "      <td>Indiana</td>\n",
       "      <td>IN</td>\n",
       "      <td>Joe Biden</td>\n",
       "      <td>1242416.0</td>\n",
       "    </tr>\n",
       "    <tr>\n",
       "      <th>1783</th>\n",
       "      <td>Indiana</td>\n",
       "      <td>IN</td>\n",
       "      <td>Donald Trump</td>\n",
       "      <td>1729519.0</td>\n",
       "    </tr>\n",
       "    <tr>\n",
       "      <th>1803</th>\n",
       "      <td>New York</td>\n",
       "      <td>NY</td>\n",
       "      <td>Joe Biden</td>\n",
       "      <td>4844975.0</td>\n",
       "    </tr>\n",
       "    <tr>\n",
       "      <th>1804</th>\n",
       "      <td>New York</td>\n",
       "      <td>NY</td>\n",
       "      <td>Joe Biden</td>\n",
       "      <td>386010.0</td>\n",
       "    </tr>\n",
       "    <tr>\n",
       "      <th>1809</th>\n",
       "      <td>New York</td>\n",
       "      <td>NY</td>\n",
       "      <td>Donald Trump</td>\n",
       "      <td>295657.0</td>\n",
       "    </tr>\n",
       "  </tbody>\n",
       "</table>\n",
       "</div>"
      ],
      "text/plain": [
       "         state state_abbrev candidate_name      votes\n",
       "1780   Indiana           IN      Joe Biden  1242416.0\n",
       "1783   Indiana           IN   Donald Trump  1729519.0\n",
       "1803  New York           NY      Joe Biden  4844975.0\n",
       "1804  New York           NY      Joe Biden   386010.0\n",
       "1809  New York           NY   Donald Trump   295657.0"
      ]
     },
     "execution_count": 32,
     "metadata": {},
     "output_type": "execute_result"
    }
   ],
   "source": [
    "pres_vote.head()"
   ]
  },
  {
   "cell_type": "markdown",
   "metadata": {},
   "source": [
    "Next, we'll want to get the total votes for each state. We can do this using groupby and `sum`:"
   ]
  },
  {
   "cell_type": "code",
   "execution_count": 38,
   "metadata": {},
   "outputs": [
    {
     "data": {
      "text/html": [
       "<div>\n",
       "<style scoped>\n",
       "    .dataframe tbody tr th:only-of-type {\n",
       "        vertical-align: middle;\n",
       "    }\n",
       "\n",
       "    .dataframe tbody tr th {\n",
       "        vertical-align: top;\n",
       "    }\n",
       "\n",
       "    .dataframe thead th {\n",
       "        text-align: right;\n",
       "    }\n",
       "</style>\n",
       "<table border=\"1\" class=\"dataframe\">\n",
       "  <thead>\n",
       "    <tr style=\"text-align: right;\">\n",
       "      <th></th>\n",
       "      <th></th>\n",
       "      <th></th>\n",
       "      <th>votes</th>\n",
       "    </tr>\n",
       "    <tr>\n",
       "      <th>candidate_name</th>\n",
       "      <th>state</th>\n",
       "      <th>state_abbrev</th>\n",
       "      <th></th>\n",
       "    </tr>\n",
       "  </thead>\n",
       "  <tbody>\n",
       "    <tr>\n",
       "      <th rowspan=\"5\" valign=\"top\">Donald Trump</th>\n",
       "      <th>Alabama</th>\n",
       "      <th>AL</th>\n",
       "      <td>1441170.0</td>\n",
       "    </tr>\n",
       "    <tr>\n",
       "      <th>Alaska</th>\n",
       "      <th>AK</th>\n",
       "      <td>189951.0</td>\n",
       "    </tr>\n",
       "    <tr>\n",
       "      <th>Arizona</th>\n",
       "      <th>AZ</th>\n",
       "      <td>1661686.0</td>\n",
       "    </tr>\n",
       "    <tr>\n",
       "      <th>Arkansas</th>\n",
       "      <th>AR</th>\n",
       "      <td>760647.0</td>\n",
       "    </tr>\n",
       "    <tr>\n",
       "      <th>California</th>\n",
       "      <th>CA</th>\n",
       "      <td>6006429.0</td>\n",
       "    </tr>\n",
       "  </tbody>\n",
       "</table>\n",
       "</div>"
      ],
      "text/plain": [
       "                                            votes\n",
       "candidate_name state      state_abbrev           \n",
       "Donald Trump   Alabama    AL            1441170.0\n",
       "               Alaska     AK             189951.0\n",
       "               Arizona    AZ            1661686.0\n",
       "               Arkansas   AR             760647.0\n",
       "               California CA            6006429.0"
      ]
     },
     "execution_count": 38,
     "metadata": {},
     "output_type": "execute_result"
    }
   ],
   "source": [
    "pres_vote_total = pres_vote.groupby(['candidate_name', 'state', 'state_abbrev']).sum()\n",
    "\n",
    "\n",
    "pres_vote_total.head()"
   ]
  },
  {
   "cell_type": "markdown",
   "metadata": {},
   "source": [
    "Next, we'll pivot the results from long to wide:"
   ]
  },
  {
   "cell_type": "code",
   "execution_count": 40,
   "metadata": {},
   "outputs": [
    {
     "data": {
      "text/html": [
       "<div>\n",
       "<style scoped>\n",
       "    .dataframe tbody tr th:only-of-type {\n",
       "        vertical-align: middle;\n",
       "    }\n",
       "\n",
       "    .dataframe tbody tr th {\n",
       "        vertical-align: top;\n",
       "    }\n",
       "\n",
       "    .dataframe thead th {\n",
       "        text-align: right;\n",
       "    }\n",
       "</style>\n",
       "<table border=\"1\" class=\"dataframe\">\n",
       "  <thead>\n",
       "    <tr style=\"text-align: right;\">\n",
       "      <th>candidate_name</th>\n",
       "      <th>Donald Trump</th>\n",
       "      <th>Joe Biden</th>\n",
       "    </tr>\n",
       "    <tr>\n",
       "      <th>state</th>\n",
       "      <th></th>\n",
       "      <th></th>\n",
       "    </tr>\n",
       "  </thead>\n",
       "  <tbody>\n",
       "    <tr>\n",
       "      <th>Alabama</th>\n",
       "      <td>1441170.0</td>\n",
       "      <td>849624.0</td>\n",
       "    </tr>\n",
       "    <tr>\n",
       "      <th>Alaska</th>\n",
       "      <td>189951.0</td>\n",
       "      <td>153778.0</td>\n",
       "    </tr>\n",
       "    <tr>\n",
       "      <th>Arizona</th>\n",
       "      <td>1661686.0</td>\n",
       "      <td>1672143.0</td>\n",
       "    </tr>\n",
       "    <tr>\n",
       "      <th>Arkansas</th>\n",
       "      <td>760647.0</td>\n",
       "      <td>423932.0</td>\n",
       "    </tr>\n",
       "    <tr>\n",
       "      <th>California</th>\n",
       "      <td>6006429.0</td>\n",
       "      <td>11110250.0</td>\n",
       "    </tr>\n",
       "  </tbody>\n",
       "</table>\n",
       "</div>"
      ],
      "text/plain": [
       "candidate_name  Donald Trump   Joe Biden\n",
       "state                                   \n",
       "Alabama            1441170.0    849624.0\n",
       "Alaska              189951.0    153778.0\n",
       "Arizona            1661686.0   1672143.0\n",
       "Arkansas            760647.0    423932.0\n",
       "California         6006429.0  11110250.0"
      ]
     },
     "execution_count": 40,
     "metadata": {},
     "output_type": "execute_result"
    }
   ],
   "source": [
    "presvote_wide =pres_vote_total.reset_index().pivot(index = 'state', columns = 'candidate_name', values = 'votes')\n",
    "presvote_wide.head()"
   ]
  },
  {
   "cell_type": "markdown",
   "metadata": {},
   "source": [
    "Finally, we'll calculate the total number of votes cast in each state by `sum`-ing along the row axis, then we'll create a variable called `trumpshare` that contains Donald Trumps proportion of the two party vote in each state:"
   ]
  },
  {
   "cell_type": "code",
   "execution_count": 48,
   "metadata": {},
   "outputs": [],
   "source": [
    "presvote_wide.loc[:, 'total'] = presvote_wide[[\"Donald Trump\", \"Joe Biden\"]].sum(axis=1)\n",
    "presvote_wide.loc[:, 'trumpshare'] = presvote_wide['Donald Trump'].div(presvote_wide['total'])"
   ]
  },
  {
   "cell_type": "code",
   "execution_count": 52,
   "metadata": {},
   "outputs": [
    {
     "data": {
      "text/html": [
       "<div>\n",
       "<style scoped>\n",
       "    .dataframe tbody tr th:only-of-type {\n",
       "        vertical-align: middle;\n",
       "    }\n",
       "\n",
       "    .dataframe tbody tr th {\n",
       "        vertical-align: top;\n",
       "    }\n",
       "\n",
       "    .dataframe thead th {\n",
       "        text-align: right;\n",
       "    }\n",
       "</style>\n",
       "<table border=\"1\" class=\"dataframe\">\n",
       "  <thead>\n",
       "    <tr style=\"text-align: right;\">\n",
       "      <th>candidate_name</th>\n",
       "      <th>Donald Trump</th>\n",
       "      <th>Joe Biden</th>\n",
       "      <th>total</th>\n",
       "      <th>trumpshare</th>\n",
       "    </tr>\n",
       "    <tr>\n",
       "      <th>state</th>\n",
       "      <th></th>\n",
       "      <th></th>\n",
       "      <th></th>\n",
       "      <th></th>\n",
       "    </tr>\n",
       "  </thead>\n",
       "  <tbody>\n",
       "    <tr>\n",
       "      <th>Alabama</th>\n",
       "      <td>1441170.0</td>\n",
       "      <td>849624.0</td>\n",
       "      <td>2290794.0</td>\n",
       "      <td>0.629114</td>\n",
       "    </tr>\n",
       "    <tr>\n",
       "      <th>Alaska</th>\n",
       "      <td>189951.0</td>\n",
       "      <td>153778.0</td>\n",
       "      <td>343729.0</td>\n",
       "      <td>0.552618</td>\n",
       "    </tr>\n",
       "    <tr>\n",
       "      <th>Arizona</th>\n",
       "      <td>1661686.0</td>\n",
       "      <td>1672143.0</td>\n",
       "      <td>3333829.0</td>\n",
       "      <td>0.498432</td>\n",
       "    </tr>\n",
       "    <tr>\n",
       "      <th>Arkansas</th>\n",
       "      <td>760647.0</td>\n",
       "      <td>423932.0</td>\n",
       "      <td>1184579.0</td>\n",
       "      <td>0.642124</td>\n",
       "    </tr>\n",
       "    <tr>\n",
       "      <th>California</th>\n",
       "      <td>6006429.0</td>\n",
       "      <td>11110250.0</td>\n",
       "      <td>17116679.0</td>\n",
       "      <td>0.350911</td>\n",
       "    </tr>\n",
       "  </tbody>\n",
       "</table>\n",
       "</div>"
      ],
      "text/plain": [
       "candidate_name  Donald Trump   Joe Biden       total  trumpshare\n",
       "state                                                           \n",
       "Alabama            1441170.0    849624.0   2290794.0    0.629114\n",
       "Alaska              189951.0    153778.0    343729.0    0.552618\n",
       "Arizona            1661686.0   1672143.0   3333829.0    0.498432\n",
       "Arkansas            760647.0    423932.0   1184579.0    0.642124\n",
       "California         6006429.0  11110250.0  17116679.0    0.350911"
      ]
     },
     "execution_count": 52,
     "metadata": {},
     "output_type": "execute_result"
    }
   ],
   "source": [
    "presvote_wide.head()"
   ]
  }
 ],
 "metadata": {
  "kernelspec": {
   "display_name": "Python 3 (ipykernel)",
   "language": "python",
   "name": "python3"
  },
  "language_info": {
   "codemirror_mode": {
    "name": "ipython",
    "version": 3
   },
   "file_extension": ".py",
   "mimetype": "text/x-python",
   "name": "python",
   "nbconvert_exporter": "python",
   "pygments_lexer": "ipython3",
   "version": "3.12.2"
  },
  "toc": {
   "base_numbering": 1,
   "nav_menu": {},
   "number_sections": false,
   "sideBar": false,
   "skip_h1_title": false,
   "title_cell": "Table of Contents",
   "title_sidebar": "Contents",
   "toc_cell": false,
   "toc_position": {},
   "toc_section_display": false,
   "toc_window_display": false
  }
 },
 "nbformat": 4,
 "nbformat_minor": 4
}
