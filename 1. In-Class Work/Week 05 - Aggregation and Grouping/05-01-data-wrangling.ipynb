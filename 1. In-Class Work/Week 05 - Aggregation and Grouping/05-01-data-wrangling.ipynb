{
 "cells": [
  {
   "cell_type": "markdown",
   "metadata": {
    "tags": []
   },
   "source": [
    "# Data Wrangling\n",
    "\n",
    "Use **Code** cells to write and run any code you need to answer the question and **Markdown** cells to write out answers in words. After you are finished with the assignment, remember to download it as an **HTML file** and submit it in **ELMS**."
   ]
  },
  {
   "cell_type": "markdown",
   "metadata": {},
   "source": [
    "## Merging Data\n",
    "\n",
    "Suppose we had data from two different sources and wanted to combine them to look at relationships between variables and overall create a more comprehensive dataset. To do this, we'd have to **merge** the two datasets together. That is, we would need to make sure that the observations match on certain characteristics to make sure that it's the same entity (such as individual, county, state, etc.). Then, we'd need to get the variables from both datasets and make sure they are included in the full combined table for each observation.\n",
    "\n",
    "With all the different methods of data collection available nowadays, this is becoming more and more common. In this section, we'll go over how to handle data from multiple sources, and why we might want to use them together. "
   ]
  },
  {
   "cell_type": "code",
   "execution_count": null,
   "metadata": {},
   "outputs": [],
   "source": [
    "from requests import get\n",
    "import numpy as np \n",
    "import pandas as pd \n",
    "import yaml"
   ]
  },
  {
   "cell_type": "code",
   "execution_count": null,
   "metadata": {},
   "outputs": [],
   "source": [
    "# reading in our keys\n",
    "with open('../../keys.yml', 'r') as file:\n",
    "    keys = yaml.safe_load(file)\n",
    "\n",
    "census_key = keys['census_api_key']"
   ]
  },
  {
   "cell_type": "markdown",
   "metadata": {
    "tags": []
   },
   "source": [
    "# Data\n",
    "\n",
    "We want to combine two different data sources to explore the relationship between Trump's vote share in 2024 and other state-level demographic variables. To do this, we need to combine the following:\n",
    "- State-level demographic data from the U.S. Census API.\n",
    "- Data on the 2024 election from FiveThirtyEight.com. This data source has already been provided for you in the `pres_2024.csv` file\n",
    "\n",
    "Let's first use the Census API to get some data to analyze:"
   ]
  },
  {
   "cell_type": "markdown",
   "metadata": {},
   "source": [
    "Let's start by bringing in a set of variables from the 2022 American Community Survey (ACS) Data Profiles tables. We'll look at some employment and education characteristics of people by state. The variables we'll want to pull are:\n",
    "- `NAME`: State name\n",
    "- `DP02_0001E`: Total number of households in the state\n",
    "- `DP03_0087E`: Mean income of people in the state\n",
    "- `DP03_0002PE`: Percent of people 16 years and older in labor force\n",
    "- `DP02_0068PE`: Percent of people 25 years and older with a Bachelor's Degree or higher\n",
    "- `DP02_0066PE`: Percent of people 25 years and older with a Graduate or Professional degree\n",
    "\n",
    "Note that we are going to be using the Data Profile table (note the DP at the beginning of each variable name) so the base url needs to be for that particular type of table. "
   ]
  },
  {
   "cell_type": "code",
   "execution_count": null,
   "metadata": {
    "tags": []
   },
   "outputs": [],
   "source": [
    "year = 2023\n",
    "census_base_url = f'https://api.census.gov/data/{year}/acs/acs1/profile'\n",
    "\n",
    "census_params = {'get':'NAME,DP02_0001E,DP03_0087E,DP03_0002PE,DP02_0068PE,DP02_0066PE',\n",
    "                 'for':'state:*',\n",
    "                 'key':census_key}\n",
    "\n",
    "r = get(census_base_url, params = census_params)\n",
    "# Removing Puerto Rico due to lack of data.\n",
    "people_by_state = r.json()[:-1]"
   ]
  },
  {
   "cell_type": "code",
   "execution_count": null,
   "metadata": {},
   "outputs": [],
   "source": [
    "#(make a data frame and then convert the appropriate columns to numeric): \n",
    "colnames = ['state', 'num_households','mean_income','percent_employed','percent_bachelors','percent_graduate', \"stateid\"]\n",
    "census_df = pd.DataFrame(people_by_state[1:],  columns = colnames)\n",
    "census_df[colnames[1:]] =  census_df[colnames[1:]].apply(pd.to_numeric)\n"
   ]
  },
  {
   "cell_type": "code",
   "execution_count": null,
   "metadata": {},
   "outputs": [],
   "source": [
    "#  Alternative method for the same result : \n",
    "# keycols = ['state', 'num_households','mean_income','percent_employed','percent_bachelors','percent_graduate', 'stateid']\n",
    "# census_dict = {keycols:[float(state[keys.index(keycols)]) for state in people_by_state[1:]] for key in keycols[1:]}\n",
    "# census_dict['state'] = [state[0] for state in people_by_state[1:]]\n",
    "# census_df = pd.DataFrame(census_dict)"
   ]
  },
  {
   "cell_type": "markdown",
   "metadata": {},
   "source": [
    "Now we'll import the state data and the election data."
   ]
  },
  {
   "cell_type": "code",
   "execution_count": null,
   "metadata": {},
   "outputs": [],
   "source": [
    "states = pd.read_csv('states.csv')\n",
    "pres_2024 = pd.read_csv(\"pres_2024.csv\")\n"
   ]
  },
  {
   "cell_type": "markdown",
   "metadata": {},
   "source": [
    "And take a peak at our three data sets:"
   ]
  },
  {
   "cell_type": "code",
   "execution_count": null,
   "metadata": {},
   "outputs": [],
   "source": [
    "states.head()"
   ]
  },
  {
   "cell_type": "code",
   "execution_count": null,
   "metadata": {},
   "outputs": [],
   "source": [
    "pres_2024.head()\n"
   ]
  },
  {
   "cell_type": "code",
   "execution_count": null,
   "metadata": {},
   "outputs": [],
   "source": [
    "census_df.head()"
   ]
  },
  {
   "cell_type": "markdown",
   "metadata": {},
   "source": [
    "Note here that our end goal is to combine the `pres_2024` data and the `census_df` data, but the `pres_2024` dataset has a state abbreviation instead of the full name of each state. In order to combine these data sets, we'll need to merge one of the tables with the `states` data first and then merge using the abbreviation. So our steps are:\n",
    "\n",
    "1. Create a merged data frame by combining `census_df` with `states` using the full name of each state.\n",
    "2. Merge the data from step 1 with `pres_2024` using the state abbreviation."
   ]
  },
  {
   "cell_type": "markdown",
   "metadata": {},
   "source": [
    "## Merging Data\n",
    "\n",
    "To use the information in these data sets together, we need to **merge** them using the shared values from each data frame.\n",
    "\n",
    "The basic syntax here will be:\n"
   ]
  },
  {
   "cell_type": "raw",
   "metadata": {},
   "source": [
    "merged_data = pd.merge(\n",
    "         left = x,         # the left hand side data\n",
    "         right = y,        # the right hand side data\n",
    "         left_on ='xkey',  # the name of the key column for x\n",
    "         right_on='ykey',  # the name of the matching key column in y\n",
    "         how = 'inner'     # the method of merging (default is an inner join)\n",
    ")"
   ]
  },
  {
   "cell_type": "code",
   "execution_count": null,
   "metadata": {
    "tags": []
   },
   "outputs": [],
   "source": []
  },
  {
   "cell_type": "markdown",
   "metadata": {},
   "source": [
    "<font color ='red'>**Q1: Use an inner join to combine `states` and `census_df` to create a new data frame called `merged_data`**</font>"
   ]
  },
  {
   "cell_type": "code",
   "execution_count": null,
   "metadata": {},
   "outputs": [],
   "source": []
  },
  {
   "cell_type": "markdown",
   "metadata": {},
   "source": [
    "<font color ='red'>**Q2: merge the `pres_2024` data with `merged_data` to create a new data frame called `pres_merged`**</font>"
   ]
  },
  {
   "cell_type": "code",
   "execution_count": null,
   "metadata": {},
   "outputs": [],
   "source": []
  },
  {
   "cell_type": "markdown",
   "metadata": {},
   "source": [
    "<font color ='red'>**Q3: Use `senate_merged` to create a scatter plot showing the relationship between `percent_bachelors` and `percent_trump2024`**</font>\n",
    "\n",
    "[The syntax for a scatter plot is](https://pandas.pydata.org/docs/reference/api/pandas.DataFrame.plot.scatter.html):"
   ]
  },
  {
   "cell_type": "code",
   "execution_count": null,
   "metadata": {},
   "outputs": [],
   "source": [
    "\n"
   ]
  },
  {
   "cell_type": "markdown",
   "metadata": {},
   "source": [
    "<font color ='red'>**Q4: Do the same merging process you did in Q1 and Q2, but this time use an `outer` join. Call your results `pres_full`. How does this change the resulting data set?**</font>\n",
    "> remember you can use `dataframe.shape` to print the dimensions of a pandas dataframe"
   ]
  },
  {
   "cell_type": "code",
   "execution_count": null,
   "metadata": {},
   "outputs": [],
   "source": []
  },
  {
   "cell_type": "markdown",
   "metadata": {},
   "source": [
    "### Group Operations\n",
    "\n",
    "We'll use `groupby` to create a grouped data frame. Note that grouping by a variable will cause the aggregate operations like `describe` and `mean` to be performed across groups instead of over the entire data frame"
   ]
  },
  {
   "cell_type": "code",
   "execution_count": null,
   "metadata": {},
   "outputs": [],
   "source": [
    "pres_group_regions = pres_full.groupby('Region')"
   ]
  },
  {
   "cell_type": "markdown",
   "metadata": {},
   "source": [
    "So this will give me descriptive statistics on the 2024 % Trump vote across each major geographic region:"
   ]
  },
  {
   "cell_type": "code",
   "execution_count": 124,
   "metadata": {},
   "outputs": [
    {
     "data": {
      "text/html": [
       "<div>\n",
       "<style scoped>\n",
       "    .dataframe tbody tr th:only-of-type {\n",
       "        vertical-align: middle;\n",
       "    }\n",
       "\n",
       "    .dataframe tbody tr th {\n",
       "        vertical-align: top;\n",
       "    }\n",
       "\n",
       "    .dataframe thead th {\n",
       "        text-align: right;\n",
       "    }\n",
       "</style>\n",
       "<table border=\"1\" class=\"dataframe\">\n",
       "  <thead>\n",
       "    <tr style=\"text-align: right;\">\n",
       "      <th></th>\n",
       "      <th>count</th>\n",
       "      <th>mean</th>\n",
       "      <th>std</th>\n",
       "      <th>min</th>\n",
       "      <th>25%</th>\n",
       "      <th>50%</th>\n",
       "      <th>75%</th>\n",
       "      <th>max</th>\n",
       "    </tr>\n",
       "    <tr>\n",
       "      <th>Region</th>\n",
       "      <th></th>\n",
       "      <th></th>\n",
       "      <th></th>\n",
       "      <th></th>\n",
       "      <th></th>\n",
       "      <th></th>\n",
       "      <th></th>\n",
       "      <th></th>\n",
       "    </tr>\n",
       "  </thead>\n",
       "  <tbody>\n",
       "    <tr>\n",
       "      <th>North Central</th>\n",
       "      <td>12.0</td>\n",
       "      <td>55.356722</td>\n",
       "      <td>6.878321</td>\n",
       "      <td>43.474955</td>\n",
       "      <td>49.694300</td>\n",
       "      <td>56.441564</td>\n",
       "      <td>58.765581</td>\n",
       "      <td>66.956852</td>\n",
       "    </tr>\n",
       "    <tr>\n",
       "      <th>Northeast</th>\n",
       "      <td>9.0</td>\n",
       "      <td>42.787636</td>\n",
       "      <td>5.687365</td>\n",
       "      <td>32.319407</td>\n",
       "      <td>41.763118</td>\n",
       "      <td>43.314991</td>\n",
       "      <td>46.064631</td>\n",
       "      <td>50.372537</td>\n",
       "    </tr>\n",
       "    <tr>\n",
       "      <th>South</th>\n",
       "      <td>16.0</td>\n",
       "      <td>56.791832</td>\n",
       "      <td>9.833829</td>\n",
       "      <td>34.082823</td>\n",
       "      <td>50.822217</td>\n",
       "      <td>59.221939</td>\n",
       "      <td>64.265691</td>\n",
       "      <td>69.966850</td>\n",
       "    </tr>\n",
       "    <tr>\n",
       "      <th>West</th>\n",
       "      <td>13.0</td>\n",
       "      <td>50.644301</td>\n",
       "      <td>11.141164</td>\n",
       "      <td>37.480284</td>\n",
       "      <td>40.966044</td>\n",
       "      <td>50.591646</td>\n",
       "      <td>58.389443</td>\n",
       "      <td>71.598005</td>\n",
       "    </tr>\n",
       "  </tbody>\n",
       "</table>\n",
       "</div>"
      ],
      "text/plain": [
       "               count       mean        std        min        25%        50%  \\\n",
       "Region                                                                        \n",
       "North Central   12.0  55.356722   6.878321  43.474955  49.694300  56.441564   \n",
       "Northeast        9.0  42.787636   5.687365  32.319407  41.763118  43.314991   \n",
       "South           16.0  56.791832   9.833829  34.082823  50.822217  59.221939   \n",
       "West            13.0  50.644301  11.141164  37.480284  40.966044  50.591646   \n",
       "\n",
       "                     75%        max  \n",
       "Region                               \n",
       "North Central  58.765581  66.956852  \n",
       "Northeast      46.064631  50.372537  \n",
       "South          64.265691  69.966850  \n",
       "West           58.389443  71.598005  "
      ]
     },
     "execution_count": 124,
     "metadata": {},
     "output_type": "execute_result"
    }
   ],
   "source": [
    "pres_group_regions['percent_trump2024'].describe()"
   ]
  },
  {
   "cell_type": "markdown",
   "metadata": {},
   "source": [
    "<font color ='red'>**Q5. Use `groupby` and `describe` to compare the `percent_bachelors` variable in states that Trump won in 2024 compared to states he lost.**</font>\n",
    "> Note that you might need to create a new column to indicate Trump winning in 2024 before you can use `groupby` here"
   ]
  },
  {
   "cell_type": "code",
   "execution_count": null,
   "metadata": {},
   "outputs": [],
   "source": []
  },
  {
   "cell_type": "markdown",
   "metadata": {},
   "source": [
    "<font color ='red'>**Q6. Which party had a harder Senate map in 2024? Use the `senate_races_2024.csv` file to compare the states that had seats up for re-election to states that didn't have seats up for re-election.**</font>\n",
    "\n",
    "> Note that the `senate_races_2024.csv` file just has a list of states where there was a senate race, so think carefully about how you should join this with your existing data."
   ]
  },
  {
   "cell_type": "code",
   "execution_count": null,
   "metadata": {},
   "outputs": [],
   "source": [
    "senate = pd.read_csv('senate_races_2024.csv')\n",
    "senate.head()"
   ]
  },
  {
   "cell_type": "code",
   "execution_count": null,
   "metadata": {},
   "outputs": [],
   "source": []
  }
 ],
 "metadata": {
  "kernelspec": {
   "display_name": "Python 3 (ipykernel)",
   "language": "python",
   "name": "python3"
  },
  "language_info": {
   "codemirror_mode": {
    "name": "ipython",
    "version": 3
   },
   "file_extension": ".py",
   "mimetype": "text/x-python",
   "name": "python",
   "nbconvert_exporter": "python",
   "pygments_lexer": "ipython3",
   "version": "3.12.2"
  },
  "toc": {
   "base_numbering": 1,
   "nav_menu": {},
   "number_sections": false,
   "sideBar": false,
   "skip_h1_title": false,
   "title_cell": "Table of Contents",
   "title_sidebar": "Contents",
   "toc_cell": false,
   "toc_position": {},
   "toc_section_display": false,
   "toc_window_display": false
  }
 },
 "nbformat": 4,
 "nbformat_minor": 4
}
